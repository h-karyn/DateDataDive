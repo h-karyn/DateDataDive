{
 "cells": [
  {
   "cell_type": "markdown",
   "source": [
    "# Using Embedding to Study the Latent Space of the Dating Profiles"
   ],
   "metadata": {
    "collapsed": false
   },
   "id": "15796fdef2f87dfd"
  },
  {
   "cell_type": "markdown",
   "source": [
    "## Data Preprocessing"
   ],
   "metadata": {
    "collapsed": false
   },
   "id": "e70c7d9ac41cb62d"
  },
  {
   "cell_type": "code",
   "outputs": [
    {
     "data": {
      "text/plain": "   age  status sex orientation       body_type               diet    drinks  \\\n0   22  single   m    straight  a little extra  strictly anything  socially   \n1   35  single   m    straight         average       mostly other     often   \n2   29  single   m    straight         average    mostly anything  socially   \n3   31  single   f    straight         average    mostly anything  socially   \n4   24  single   f    straight             NaN  strictly anything  socially   \n\n       drugs                          education     ethnicity  ...  \\\n0      never      working on college/university  asian, white  ...   \n1  sometimes              working on space camp         white  ...   \n2        NaN  graduated from college/university         white  ...   \n3      never  graduated from college/university         white  ...   \n4        NaN  graduated from college/university         white  ...   \n\n       Favorite books, movies, show, music, and food  \\\n0  books: absurdistan, the republic, of mice and ...   \n1  i am die hard christopher moore fan. i don't r...   \n2  books: to kill a mockingbird, lord of the ring...   \n3  i like: alphabetized lists, aquariums, autobio...   \n4  i am always willing to try new foods and am no...   \n\n             The six things I could never do without  \\\n0                  food. water. cell phone. shelter.   \n1  delicious porkness in all of its glories. my b...   \n2  like everyone else, i love my friends and fami...   \n3  friends, family, notebook/pen, books, music, t...   \n4  sports/my softball glove coffee. because nobod...   \n\n                I spend a lot of time thinking about  \\\n0                        duality and humorous things   \n1                                                NaN   \n2  what my contribution to the world is going to ...   \n3                   things that amuse and inspire me   \n4                                                NaN   \n\n                      On a typical Friday night I am  \\\n0  trying to find someone to hang out with. i am ...   \n1                                                NaN   \n2                               out with my friends!   \n3  out and about or relaxing at home with a good ...   \n4  in or out... drinking with friends, maybe a ba...   \n\n        The most private thing I am willing to admit  \\\n0  i am new to california and looking for someone...   \n1  i am very open and will share just about anyth...   \n2  i cried on my first day at school because a bi...   \n3                                                NaN   \n4  potential friends/lovers/people who come in co...   \n\n                           You should message me if…  \\\n0  you want to be swept off your feet! you are ti...   \n1                                                NaN   \n2                                    you're awesome.   \n3                                                NaN   \n4  http://www.youtube.com/watch?v=4dxbwzuwsxk let...   \n\n                                      merged_profile cleaned_religion  \\\n0  about me:  i would love to think that i was so...      agnosticism   \n1  i am a chef: this is what that means. 1. i am ...      agnosticism   \n2  i'm an australian living in san francisco, but...          atheism   \n3   writing. meeting new people, spending time wi...     christianity   \n4   oh goodness. at the moment i have 4 jobs, so ...     christianity   \n\n  seriousness_degree       belief  \n0                4.0  agnosticism  \n1                2.0  agnosticism  \n2                0.0      atheism  \n3                0.0       theism  \n4                2.0       theism  \n\n[5 rows x 33 columns]",
      "text/html": "<div>\n<style scoped>\n    .dataframe tbody tr th:only-of-type {\n        vertical-align: middle;\n    }\n\n    .dataframe tbody tr th {\n        vertical-align: top;\n    }\n\n    .dataframe thead th {\n        text-align: right;\n    }\n</style>\n<table border=\"1\" class=\"dataframe\">\n  <thead>\n    <tr style=\"text-align: right;\">\n      <th></th>\n      <th>age</th>\n      <th>status</th>\n      <th>sex</th>\n      <th>orientation</th>\n      <th>body_type</th>\n      <th>diet</th>\n      <th>drinks</th>\n      <th>drugs</th>\n      <th>education</th>\n      <th>ethnicity</th>\n      <th>...</th>\n      <th>Favorite books, movies, show, music, and food</th>\n      <th>The six things I could never do without</th>\n      <th>I spend a lot of time thinking about</th>\n      <th>On a typical Friday night I am</th>\n      <th>The most private thing I am willing to admit</th>\n      <th>You should message me if…</th>\n      <th>merged_profile</th>\n      <th>cleaned_religion</th>\n      <th>seriousness_degree</th>\n      <th>belief</th>\n    </tr>\n  </thead>\n  <tbody>\n    <tr>\n      <th>0</th>\n      <td>22</td>\n      <td>single</td>\n      <td>m</td>\n      <td>straight</td>\n      <td>a little extra</td>\n      <td>strictly anything</td>\n      <td>socially</td>\n      <td>never</td>\n      <td>working on college/university</td>\n      <td>asian, white</td>\n      <td>...</td>\n      <td>books: absurdistan, the republic, of mice and ...</td>\n      <td>food. water. cell phone. shelter.</td>\n      <td>duality and humorous things</td>\n      <td>trying to find someone to hang out with. i am ...</td>\n      <td>i am new to california and looking for someone...</td>\n      <td>you want to be swept off your feet! you are ti...</td>\n      <td>about me:  i would love to think that i was so...</td>\n      <td>agnosticism</td>\n      <td>4.0</td>\n      <td>agnosticism</td>\n    </tr>\n    <tr>\n      <th>1</th>\n      <td>35</td>\n      <td>single</td>\n      <td>m</td>\n      <td>straight</td>\n      <td>average</td>\n      <td>mostly other</td>\n      <td>often</td>\n      <td>sometimes</td>\n      <td>working on space camp</td>\n      <td>white</td>\n      <td>...</td>\n      <td>i am die hard christopher moore fan. i don't r...</td>\n      <td>delicious porkness in all of its glories. my b...</td>\n      <td>NaN</td>\n      <td>NaN</td>\n      <td>i am very open and will share just about anyth...</td>\n      <td>NaN</td>\n      <td>i am a chef: this is what that means. 1. i am ...</td>\n      <td>agnosticism</td>\n      <td>2.0</td>\n      <td>agnosticism</td>\n    </tr>\n    <tr>\n      <th>2</th>\n      <td>29</td>\n      <td>single</td>\n      <td>m</td>\n      <td>straight</td>\n      <td>average</td>\n      <td>mostly anything</td>\n      <td>socially</td>\n      <td>NaN</td>\n      <td>graduated from college/university</td>\n      <td>white</td>\n      <td>...</td>\n      <td>books: to kill a mockingbird, lord of the ring...</td>\n      <td>like everyone else, i love my friends and fami...</td>\n      <td>what my contribution to the world is going to ...</td>\n      <td>out with my friends!</td>\n      <td>i cried on my first day at school because a bi...</td>\n      <td>you're awesome.</td>\n      <td>i'm an australian living in san francisco, but...</td>\n      <td>atheism</td>\n      <td>0.0</td>\n      <td>atheism</td>\n    </tr>\n    <tr>\n      <th>3</th>\n      <td>31</td>\n      <td>single</td>\n      <td>f</td>\n      <td>straight</td>\n      <td>average</td>\n      <td>mostly anything</td>\n      <td>socially</td>\n      <td>never</td>\n      <td>graduated from college/university</td>\n      <td>white</td>\n      <td>...</td>\n      <td>i like: alphabetized lists, aquariums, autobio...</td>\n      <td>friends, family, notebook/pen, books, music, t...</td>\n      <td>things that amuse and inspire me</td>\n      <td>out and about or relaxing at home with a good ...</td>\n      <td>NaN</td>\n      <td>NaN</td>\n      <td>writing. meeting new people, spending time wi...</td>\n      <td>christianity</td>\n      <td>0.0</td>\n      <td>theism</td>\n    </tr>\n    <tr>\n      <th>4</th>\n      <td>24</td>\n      <td>single</td>\n      <td>f</td>\n      <td>straight</td>\n      <td>NaN</td>\n      <td>strictly anything</td>\n      <td>socially</td>\n      <td>NaN</td>\n      <td>graduated from college/university</td>\n      <td>white</td>\n      <td>...</td>\n      <td>i am always willing to try new foods and am no...</td>\n      <td>sports/my softball glove coffee. because nobod...</td>\n      <td>NaN</td>\n      <td>in or out... drinking with friends, maybe a ba...</td>\n      <td>potential friends/lovers/people who come in co...</td>\n      <td>http://www.youtube.com/watch?v=4dxbwzuwsxk let...</td>\n      <td>oh goodness. at the moment i have 4 jobs, so ...</td>\n      <td>christianity</td>\n      <td>2.0</td>\n      <td>theism</td>\n    </tr>\n  </tbody>\n</table>\n<p>5 rows × 33 columns</p>\n</div>"
     },
     "execution_count": 1,
     "metadata": {},
     "output_type": "execute_result"
    }
   ],
   "source": [
    "import os\n",
    "import pandas as pd\n",
    "import numpy as np\n",
    "\n",
    "# load cleaned_okc.csv\n",
    "df = pd.read_csv('../cleaned_okc.csv')\n",
    "\n",
    "# preview the data\n",
    "df.head()"
   ],
   "metadata": {
    "collapsed": false,
    "ExecuteTime": {
     "end_time": "2024-03-01T03:36:30.262745Z",
     "start_time": "2024-03-01T03:36:28.006660Z"
    }
   },
   "id": "f8cc518f8540a22a",
   "execution_count": 1
  },
  {
   "cell_type": "code",
   "outputs": [
    {
     "data": {
      "text/plain": "cleaned_religion\natheism         554\nchristianity    543\nother           508\nagnosticism     311\ncatholicism      93\nbuddhism         66\njudaism          20\nhinduism         14\nislam            11\nName: count, dtype: int64"
     },
     "execution_count": 2,
     "metadata": {},
     "output_type": "execute_result"
    }
   ],
   "source": [
    "# get individuals whose seriousness_degree is 4.0 \n",
    "serious_df = df[df.seriousness_degree == 4.0]\n",
    "\n",
    "serious_df.columns = serious_df.columns.str.replace('[^\\w\\s]', '', regex=True)\n",
    "\n",
    "# see the number of beliefs in serious_df\n",
    "serious_df.cleaned_religion.value_counts()"
   ],
   "metadata": {
    "collapsed": false,
    "ExecuteTime": {
     "end_time": "2024-03-01T03:36:30.268991Z",
     "start_time": "2024-03-01T03:36:30.262649Z"
    }
   },
   "id": "1bf695753547350a",
   "execution_count": 2
  },
  {
   "cell_type": "code",
   "outputs": [
    {
     "data": {
      "text/plain": "    age          status sex orientation       body_type               diet  \\\n0    22          single   m    straight  a little extra  strictly anything   \n6    28  seeing someone   m    straight         average    mostly anything   \n46   31          single   f    bisexual         average  strictly anything   \n48   35          single   m    straight        athletic    mostly anything   \n59   29          single   m    straight             fit    mostly anything   \n\n      drinks      drugs                          education  \\\n0   socially      never      working on college/university   \n6   socially      never  graduated from college/university   \n46  socially        NaN                                NaN   \n48  socially  sometimes          graduated from space camp   \n59  socially  sometimes  graduated from college/university   \n\n                 ethnicity  ...  \\\n0             asian, white  ...   \n6                    white  ...   \n46   middle eastern, other  ...   \n48  native american, white  ...   \n59                   white  ...   \n\n            favorite_books_movies_show_music_and_food  \\\n0   books: absurdistan, the republic, of mice and ...   \n6   books = yes. avid reader. moves = eternal suns...   \n46  \"wings of desire\" (german film by wim wenders)...   \n48                                                NaN   \n59  -books: anything joseph campbell - osho - terr...   \n\n              the_six_things_i_could_never_do_without  \\\n0                   food. water. cell phone. shelter.   \n6   guitar - even if i don't play it all the time,...   \n46  i can do without.  i value: 1. my hands. 2. ot...   \n48  my camera, aviation, amazing food, touch, lear...   \n59                                   invalid question   \n\n                 i_spend_a_lot_of_time_thinking_about  \\\n0                         duality and humorous things   \n6   a little bit of everything. but mostly social ...   \n46                i rarely think, it's over-rated ; )   \n48  travel, food, photography, sensual fun, aviati...   \n59                                          the world   \n\n                       on_a_typical_friday_night_i_am  \\\n0   trying to find someone to hang out with. i am ...   \n6   hanging out with a small group of friends--sta...   \n46             the answer to each moment must be yes.   \n48  often working a party. lights, sound, managing...   \n59                                               out.   \n\n         the_most_private_thing_i_am_willing_to_admit  \\\n0   i am new to california and looking for someone...   \n6   i'm picky when it comes to dating. i know what...   \n46  i am an open book, i do not like secrets. if i...   \n48                                                NaN   \n59                                                 no   \n\n                             you_should_message_me_if  \\\n0   you want to be swept off your feet! you are ti...   \n6   if you know who you are, who you want, where y...   \n46                                you feel compelled.   \n48  you can make me laugh or turn me on. teach me ...   \n59                                    you're curious.   \n\n                                       merged_profile cleaned_religion  \\\n0   about me:  i would love to think that i was so...      agnosticism   \n6   i was born in wisconsin, grew up in iowa, and ...     christianity   \n46  i slept and dreamt that life was joy. i awoke ...            other   \n48  i'm an adventurer first, i take calculated ris...      agnosticism   \n59  my names josh, and i create art for a living. ...      agnosticism   \n\n   seriousness_degree       belief  \n0                 4.0  agnosticism  \n6                 4.0       theism  \n46                4.0        other  \n48                4.0  agnosticism  \n59                4.0  agnosticism  \n\n[5 rows x 33 columns]",
      "text/html": "<div>\n<style scoped>\n    .dataframe tbody tr th:only-of-type {\n        vertical-align: middle;\n    }\n\n    .dataframe tbody tr th {\n        vertical-align: top;\n    }\n\n    .dataframe thead th {\n        text-align: right;\n    }\n</style>\n<table border=\"1\" class=\"dataframe\">\n  <thead>\n    <tr style=\"text-align: right;\">\n      <th></th>\n      <th>age</th>\n      <th>status</th>\n      <th>sex</th>\n      <th>orientation</th>\n      <th>body_type</th>\n      <th>diet</th>\n      <th>drinks</th>\n      <th>drugs</th>\n      <th>education</th>\n      <th>ethnicity</th>\n      <th>...</th>\n      <th>favorite_books_movies_show_music_and_food</th>\n      <th>the_six_things_i_could_never_do_without</th>\n      <th>i_spend_a_lot_of_time_thinking_about</th>\n      <th>on_a_typical_friday_night_i_am</th>\n      <th>the_most_private_thing_i_am_willing_to_admit</th>\n      <th>you_should_message_me_if</th>\n      <th>merged_profile</th>\n      <th>cleaned_religion</th>\n      <th>seriousness_degree</th>\n      <th>belief</th>\n    </tr>\n  </thead>\n  <tbody>\n    <tr>\n      <th>0</th>\n      <td>22</td>\n      <td>single</td>\n      <td>m</td>\n      <td>straight</td>\n      <td>a little extra</td>\n      <td>strictly anything</td>\n      <td>socially</td>\n      <td>never</td>\n      <td>working on college/university</td>\n      <td>asian, white</td>\n      <td>...</td>\n      <td>books: absurdistan, the republic, of mice and ...</td>\n      <td>food. water. cell phone. shelter.</td>\n      <td>duality and humorous things</td>\n      <td>trying to find someone to hang out with. i am ...</td>\n      <td>i am new to california and looking for someone...</td>\n      <td>you want to be swept off your feet! you are ti...</td>\n      <td>about me:  i would love to think that i was so...</td>\n      <td>agnosticism</td>\n      <td>4.0</td>\n      <td>agnosticism</td>\n    </tr>\n    <tr>\n      <th>6</th>\n      <td>28</td>\n      <td>seeing someone</td>\n      <td>m</td>\n      <td>straight</td>\n      <td>average</td>\n      <td>mostly anything</td>\n      <td>socially</td>\n      <td>never</td>\n      <td>graduated from college/university</td>\n      <td>white</td>\n      <td>...</td>\n      <td>books = yes. avid reader. moves = eternal suns...</td>\n      <td>guitar - even if i don't play it all the time,...</td>\n      <td>a little bit of everything. but mostly social ...</td>\n      <td>hanging out with a small group of friends--sta...</td>\n      <td>i'm picky when it comes to dating. i know what...</td>\n      <td>if you know who you are, who you want, where y...</td>\n      <td>i was born in wisconsin, grew up in iowa, and ...</td>\n      <td>christianity</td>\n      <td>4.0</td>\n      <td>theism</td>\n    </tr>\n    <tr>\n      <th>46</th>\n      <td>31</td>\n      <td>single</td>\n      <td>f</td>\n      <td>bisexual</td>\n      <td>average</td>\n      <td>strictly anything</td>\n      <td>socially</td>\n      <td>NaN</td>\n      <td>NaN</td>\n      <td>middle eastern, other</td>\n      <td>...</td>\n      <td>\"wings of desire\" (german film by wim wenders)...</td>\n      <td>i can do without.  i value: 1. my hands. 2. ot...</td>\n      <td>i rarely think, it's over-rated ; )</td>\n      <td>the answer to each moment must be yes.</td>\n      <td>i am an open book, i do not like secrets. if i...</td>\n      <td>you feel compelled.</td>\n      <td>i slept and dreamt that life was joy. i awoke ...</td>\n      <td>other</td>\n      <td>4.0</td>\n      <td>other</td>\n    </tr>\n    <tr>\n      <th>48</th>\n      <td>35</td>\n      <td>single</td>\n      <td>m</td>\n      <td>straight</td>\n      <td>athletic</td>\n      <td>mostly anything</td>\n      <td>socially</td>\n      <td>sometimes</td>\n      <td>graduated from space camp</td>\n      <td>native american, white</td>\n      <td>...</td>\n      <td>NaN</td>\n      <td>my camera, aviation, amazing food, touch, lear...</td>\n      <td>travel, food, photography, sensual fun, aviati...</td>\n      <td>often working a party. lights, sound, managing...</td>\n      <td>NaN</td>\n      <td>you can make me laugh or turn me on. teach me ...</td>\n      <td>i'm an adventurer first, i take calculated ris...</td>\n      <td>agnosticism</td>\n      <td>4.0</td>\n      <td>agnosticism</td>\n    </tr>\n    <tr>\n      <th>59</th>\n      <td>29</td>\n      <td>single</td>\n      <td>m</td>\n      <td>straight</td>\n      <td>fit</td>\n      <td>mostly anything</td>\n      <td>socially</td>\n      <td>sometimes</td>\n      <td>graduated from college/university</td>\n      <td>white</td>\n      <td>...</td>\n      <td>-books: anything joseph campbell - osho - terr...</td>\n      <td>invalid question</td>\n      <td>the world</td>\n      <td>out.</td>\n      <td>no</td>\n      <td>you're curious.</td>\n      <td>my names josh, and i create art for a living. ...</td>\n      <td>agnosticism</td>\n      <td>4.0</td>\n      <td>agnosticism</td>\n    </tr>\n  </tbody>\n</table>\n<p>5 rows × 33 columns</p>\n</div>"
     },
     "execution_count": 3,
     "metadata": {},
     "output_type": "execute_result"
    }
   ],
   "source": [
    "# replace the space in the column name with underscore\n",
    "serious_df.columns = serious_df.columns.str.replace(' ', '_')\n",
    "\n",
    "# column names to lower case\n",
    "serious_df.columns = serious_df.columns.str.lower()\n",
    "\n",
    "# preview the data\n",
    "serious_df.head()"
   ],
   "metadata": {
    "collapsed": false,
    "ExecuteTime": {
     "end_time": "2024-03-01T03:36:30.278164Z",
     "start_time": "2024-03-01T03:36:30.274119Z"
    }
   },
   "id": "79065e5c150ca6d7",
   "execution_count": 3
  },
  {
   "cell_type": "code",
   "outputs": [],
   "source": [
    "# filter out NA entries in 'you_should_message_me_if...'\n",
    "serious_df = serious_df[serious_df.you_should_message_me_if.notna()]\n",
    "\n",
    "# filter out string with less than 25 characters (super short and careless responses)\n",
    "serious_df = serious_df[serious_df.you_should_message_me_if.str.len() > 30]"
   ],
   "metadata": {
    "collapsed": false,
    "ExecuteTime": {
     "end_time": "2024-03-01T03:36:30.282224Z",
     "start_time": "2024-03-01T03:36:30.278078Z"
    }
   },
   "id": "86bacf1b99d432c8",
   "execution_count": 4
  },
  {
   "cell_type": "code",
   "outputs": [],
   "source": [
    "serious_df_male = serious_df[serious_df['sex'] == 'm']\n",
    "serious_df_female = serious_df[serious_df['sex'] == 'f']"
   ],
   "metadata": {
    "collapsed": false,
    "ExecuteTime": {
     "end_time": "2024-03-01T03:36:30.306971Z",
     "start_time": "2024-03-01T03:36:30.282395Z"
    }
   },
   "id": "59b17b2bbe366901",
   "execution_count": 5
  },
  {
   "cell_type": "code",
   "outputs": [],
   "source": [
    "from numpy.random import choice\n",
    "\n",
    "# List of religions to include, excluding 'other'\n",
    "religions = ['atheism', 'christianity', 'agnosticism', 'catholicism', 'buddhism', 'judaism', 'hinduism', 'islam']"
   ],
   "metadata": {
    "collapsed": false,
    "ExecuteTime": {
     "end_time": "2024-03-01T03:36:30.308005Z",
     "start_time": "2024-03-01T03:36:30.285887Z"
    }
   },
   "id": "c2cc2209e5714852",
   "execution_count": 6
  },
  {
   "cell_type": "code",
   "outputs": [
    {
     "data": {
      "text/plain": "       age          status sex orientation   body_type               diet  \\\n36900   33          single   m    straight     average              vegan   \n8612    29          single   m    straight    athletic                NaN   \n15295   20          single   m    straight     average    mostly anything   \n34628   38  seeing someone   m    straight         NaN                NaN   \n4115    30          single   m    straight    athletic           anything   \n...    ...             ...  ..         ...         ...                ...   \n229     39          single   m    straight    athletic  strictly anything   \n8143    23          single   m    straight         fit    mostly anything   \n29225   27          single   m    straight  overweight  mostly vegetarian   \n21604   33          single   m    straight        thin    mostly anything   \n5473    21          single   m    straight     average       mostly other   \n\n           drinks      drugs                          education  \\\n36900    socially        NaN                                NaN   \n8612   not at all      never  graduated from college/university   \n15295    socially  sometimes        working on two-year college   \n34628      rarely      never                                NaN   \n4115     socially        NaN  graduated from college/university   \n...           ...        ...                                ...   \n229           NaN        NaN          graduated from space camp   \n8143     socially      never     graduated from masters program   \n29225  not at all      never     graduated from masters program   \n21604    socially      never     graduated from masters program   \n5473     socially      often         graduated from high school   \n\n                          ethnicity  ...  \\\n36900       hispanic / latin, white  ...   \n8612                            NaN  ...   \n15295                         white  ...   \n34628                         white  ...   \n4115                          white  ...   \n...                             ...  ...   \n229                           white  ...   \n8143                          asian  ...   \n29225                         asian  ...   \n21604                middle eastern  ...   \n5473   middle eastern, black, white  ...   \n\n               favorite_books_movies_show_music_and_food  \\\n36900  magazines... xlr8r,fader,juxtapoz. movies...su...   \n8612   books: nabokov, updike, tolstoy, and proust, a...   \n15295  i really like black flag, my bloody valentine,...   \n34628  books: no short answer possible - i moved boxe...   \n4115   books: i am whittling through 100 classics at ...   \n...                                                  ...   \n229    holy shit, it's data mining! fuck you, okc!  m...   \n8143   john steinbeck is my fav writer.  the grapes o...   \n29225  books  the dummy line enders game 3 mistakes o...   \n21604  i'm a typical guy when it comes to movies: sca...   \n5473   ihave a broad view.big taste.iloike all type o...   \n\n                 the_six_things_i_could_never_do_without  \\\n36900  headphones ...saturdays...the perfect hoodie.....   \n8612   irony. servants. the languid contemplation of ...   \n15295                         food and watery type stuff   \n34628  1. my glasses - without them, i'm blind.  2. a...   \n4115   family, helmets, creative outlets, kitchen, fr...   \n...                                                  ...   \n229    water. a nitrox atmosphere. cerebral cortex. m...   \n8143   family allah, god, bhagwan or whatever you wan...   \n29225                                                NaN   \n21604  1) family and friends 2) music 3) passion (yes...   \n5473   computer. (in terms of career).weed. music.cho...   \n\n                    i_spend_a_lot_of_time_thinking_about  \\\n36900  how to get my on-line record/entertainment com...   \n8612   why this little news feed here sees fit to kee...   \n15295                                 all kinds of stuff   \n34628  new ideas. occasionally ones that i think migh...   \n4115   earthquakes. i have yet to experience one, and...   \n...                                                  ...   \n229              why riot grrls went extinct so quickly.   \n8143   *what the heck i want to accomplish with my li...   \n29225  about my family, friends and how can i make a ...   \n21604                         new business opportunities   \n5473   life. simple things. in and outside the box. t...   \n\n                          on_a_typical_friday_night_i_am  \\\n36900  typically i'm making dinner with my roommates ...   \n8612        being put in a corner and told not to speak.   \n15295  going to/playing a show, partying, keeping it ...   \n34628                                                NaN   \n4115   trying out some place new or trying to cook so...   \n...                                                  ...   \n229    wishing i had someone as passionate and decade...   \n8143   hanging out with friends and drink as much as ...   \n29225                                                NaN   \n21604  out with friends and sadly enough working...bu...   \n5473   in da hood trappin or at a party/kickbakk.or m...   \n\n            the_most_private_thing_i_am_willing_to_admit  \\\n36900                          i got nothing rite now...   \n8612   i once came to in the ice-filled bathtub of a ...   \n15295                                                NaN   \n34628  well actually a few but one is that while i am...   \n4115   i have been playing set! in my spare time, to ...   \n...                                                  ...   \n229    my 92-year-old grandma better like you, becaus...   \n8143                nooooooooo i am not going to tell :)   \n29225                     i got enrolled on this app :-)   \n21604  i smoke....you may not think this is private, ...   \n5473                     my tounge kan work wonders. ;-)   \n\n                                you_should_message_me_if  \\\n36900  everyday is an adventure. not a flake.not reli...   \n8612   you've been a very bad girl and need a stern t...   \n15295                   if you think we would get along.   \n34628  you are a geek - which doesn't just mean techn...   \n4115   you are looking for a good meal, a good conver...   \n...                                                  ...   \n229    you've never attended: a) sacred heart cathedr...   \n8143          you are funny and love to make friends. :)   \n29225  if you wanna have a good friend to have some g...   \n21604  you want to get to know me better....talk to y...   \n5473   your kinky,wett, and ready. dnt be shy ilike t...   \n\n                                          merged_profile cleaned_religion  \\\n36900  i'm generally a pretty laid back person when i...          atheism   \n8612   why does man kill? he kills for food. and not ...          atheism   \n15295  all the obvious stuff. i'm a cook. playing in ...          atheism   \n34628  my friends turn to me for restaurant recommend...          atheism   \n4115   my new year's resolution this year was to step...          atheism   \n...                                                  ...              ...   \n229    \"essay?\" fat fucking chance.  playwright. phot...            islam   \n8143   what to tell about myself. :) i am an ipad dev...            islam   \n29225      books  the dummy line enders game 3 mistak...            islam   \n21604  ambitious and passionate about life. i like to...            islam   \n5473   i'm creative.i'm a picses.i'm from east oaklan...            islam   \n\n      seriousness_degree   belief  \n36900                4.0  atheism  \n8612                 4.0  atheism  \n15295                4.0  atheism  \n34628                4.0  atheism  \n4115                 4.0  atheism  \n...                  ...      ...  \n229                  4.0   theism  \n8143                 4.0   theism  \n29225                4.0   theism  \n21604                4.0   theism  \n5473                 4.0   theism  \n\n[214 rows x 33 columns]",
      "text/html": "<div>\n<style scoped>\n    .dataframe tbody tr th:only-of-type {\n        vertical-align: middle;\n    }\n\n    .dataframe tbody tr th {\n        vertical-align: top;\n    }\n\n    .dataframe thead th {\n        text-align: right;\n    }\n</style>\n<table border=\"1\" class=\"dataframe\">\n  <thead>\n    <tr style=\"text-align: right;\">\n      <th></th>\n      <th>age</th>\n      <th>status</th>\n      <th>sex</th>\n      <th>orientation</th>\n      <th>body_type</th>\n      <th>diet</th>\n      <th>drinks</th>\n      <th>drugs</th>\n      <th>education</th>\n      <th>ethnicity</th>\n      <th>...</th>\n      <th>favorite_books_movies_show_music_and_food</th>\n      <th>the_six_things_i_could_never_do_without</th>\n      <th>i_spend_a_lot_of_time_thinking_about</th>\n      <th>on_a_typical_friday_night_i_am</th>\n      <th>the_most_private_thing_i_am_willing_to_admit</th>\n      <th>you_should_message_me_if</th>\n      <th>merged_profile</th>\n      <th>cleaned_religion</th>\n      <th>seriousness_degree</th>\n      <th>belief</th>\n    </tr>\n  </thead>\n  <tbody>\n    <tr>\n      <th>36900</th>\n      <td>33</td>\n      <td>single</td>\n      <td>m</td>\n      <td>straight</td>\n      <td>average</td>\n      <td>vegan</td>\n      <td>socially</td>\n      <td>NaN</td>\n      <td>NaN</td>\n      <td>hispanic / latin, white</td>\n      <td>...</td>\n      <td>magazines... xlr8r,fader,juxtapoz. movies...su...</td>\n      <td>headphones ...saturdays...the perfect hoodie.....</td>\n      <td>how to get my on-line record/entertainment com...</td>\n      <td>typically i'm making dinner with my roommates ...</td>\n      <td>i got nothing rite now...</td>\n      <td>everyday is an adventure. not a flake.not reli...</td>\n      <td>i'm generally a pretty laid back person when i...</td>\n      <td>atheism</td>\n      <td>4.0</td>\n      <td>atheism</td>\n    </tr>\n    <tr>\n      <th>8612</th>\n      <td>29</td>\n      <td>single</td>\n      <td>m</td>\n      <td>straight</td>\n      <td>athletic</td>\n      <td>NaN</td>\n      <td>not at all</td>\n      <td>never</td>\n      <td>graduated from college/university</td>\n      <td>NaN</td>\n      <td>...</td>\n      <td>books: nabokov, updike, tolstoy, and proust, a...</td>\n      <td>irony. servants. the languid contemplation of ...</td>\n      <td>why this little news feed here sees fit to kee...</td>\n      <td>being put in a corner and told not to speak.</td>\n      <td>i once came to in the ice-filled bathtub of a ...</td>\n      <td>you've been a very bad girl and need a stern t...</td>\n      <td>why does man kill? he kills for food. and not ...</td>\n      <td>atheism</td>\n      <td>4.0</td>\n      <td>atheism</td>\n    </tr>\n    <tr>\n      <th>15295</th>\n      <td>20</td>\n      <td>single</td>\n      <td>m</td>\n      <td>straight</td>\n      <td>average</td>\n      <td>mostly anything</td>\n      <td>socially</td>\n      <td>sometimes</td>\n      <td>working on two-year college</td>\n      <td>white</td>\n      <td>...</td>\n      <td>i really like black flag, my bloody valentine,...</td>\n      <td>food and watery type stuff</td>\n      <td>all kinds of stuff</td>\n      <td>going to/playing a show, partying, keeping it ...</td>\n      <td>NaN</td>\n      <td>if you think we would get along.</td>\n      <td>all the obvious stuff. i'm a cook. playing in ...</td>\n      <td>atheism</td>\n      <td>4.0</td>\n      <td>atheism</td>\n    </tr>\n    <tr>\n      <th>34628</th>\n      <td>38</td>\n      <td>seeing someone</td>\n      <td>m</td>\n      <td>straight</td>\n      <td>NaN</td>\n      <td>NaN</td>\n      <td>rarely</td>\n      <td>never</td>\n      <td>NaN</td>\n      <td>white</td>\n      <td>...</td>\n      <td>books: no short answer possible - i moved boxe...</td>\n      <td>1. my glasses - without them, i'm blind.  2. a...</td>\n      <td>new ideas. occasionally ones that i think migh...</td>\n      <td>NaN</td>\n      <td>well actually a few but one is that while i am...</td>\n      <td>you are a geek - which doesn't just mean techn...</td>\n      <td>my friends turn to me for restaurant recommend...</td>\n      <td>atheism</td>\n      <td>4.0</td>\n      <td>atheism</td>\n    </tr>\n    <tr>\n      <th>4115</th>\n      <td>30</td>\n      <td>single</td>\n      <td>m</td>\n      <td>straight</td>\n      <td>athletic</td>\n      <td>anything</td>\n      <td>socially</td>\n      <td>NaN</td>\n      <td>graduated from college/university</td>\n      <td>white</td>\n      <td>...</td>\n      <td>books: i am whittling through 100 classics at ...</td>\n      <td>family, helmets, creative outlets, kitchen, fr...</td>\n      <td>earthquakes. i have yet to experience one, and...</td>\n      <td>trying out some place new or trying to cook so...</td>\n      <td>i have been playing set! in my spare time, to ...</td>\n      <td>you are looking for a good meal, a good conver...</td>\n      <td>my new year's resolution this year was to step...</td>\n      <td>atheism</td>\n      <td>4.0</td>\n      <td>atheism</td>\n    </tr>\n    <tr>\n      <th>...</th>\n      <td>...</td>\n      <td>...</td>\n      <td>...</td>\n      <td>...</td>\n      <td>...</td>\n      <td>...</td>\n      <td>...</td>\n      <td>...</td>\n      <td>...</td>\n      <td>...</td>\n      <td>...</td>\n      <td>...</td>\n      <td>...</td>\n      <td>...</td>\n      <td>...</td>\n      <td>...</td>\n      <td>...</td>\n      <td>...</td>\n      <td>...</td>\n      <td>...</td>\n      <td>...</td>\n    </tr>\n    <tr>\n      <th>229</th>\n      <td>39</td>\n      <td>single</td>\n      <td>m</td>\n      <td>straight</td>\n      <td>athletic</td>\n      <td>strictly anything</td>\n      <td>NaN</td>\n      <td>NaN</td>\n      <td>graduated from space camp</td>\n      <td>white</td>\n      <td>...</td>\n      <td>holy shit, it's data mining! fuck you, okc!  m...</td>\n      <td>water. a nitrox atmosphere. cerebral cortex. m...</td>\n      <td>why riot grrls went extinct so quickly.</td>\n      <td>wishing i had someone as passionate and decade...</td>\n      <td>my 92-year-old grandma better like you, becaus...</td>\n      <td>you've never attended: a) sacred heart cathedr...</td>\n      <td>\"essay?\" fat fucking chance.  playwright. phot...</td>\n      <td>islam</td>\n      <td>4.0</td>\n      <td>theism</td>\n    </tr>\n    <tr>\n      <th>8143</th>\n      <td>23</td>\n      <td>single</td>\n      <td>m</td>\n      <td>straight</td>\n      <td>fit</td>\n      <td>mostly anything</td>\n      <td>socially</td>\n      <td>never</td>\n      <td>graduated from masters program</td>\n      <td>asian</td>\n      <td>...</td>\n      <td>john steinbeck is my fav writer.  the grapes o...</td>\n      <td>family allah, god, bhagwan or whatever you wan...</td>\n      <td>*what the heck i want to accomplish with my li...</td>\n      <td>hanging out with friends and drink as much as ...</td>\n      <td>nooooooooo i am not going to tell :)</td>\n      <td>you are funny and love to make friends. :)</td>\n      <td>what to tell about myself. :) i am an ipad dev...</td>\n      <td>islam</td>\n      <td>4.0</td>\n      <td>theism</td>\n    </tr>\n    <tr>\n      <th>29225</th>\n      <td>27</td>\n      <td>single</td>\n      <td>m</td>\n      <td>straight</td>\n      <td>overweight</td>\n      <td>mostly vegetarian</td>\n      <td>not at all</td>\n      <td>never</td>\n      <td>graduated from masters program</td>\n      <td>asian</td>\n      <td>...</td>\n      <td>books  the dummy line enders game 3 mistakes o...</td>\n      <td>NaN</td>\n      <td>about my family, friends and how can i make a ...</td>\n      <td>NaN</td>\n      <td>i got enrolled on this app :-)</td>\n      <td>if you wanna have a good friend to have some g...</td>\n      <td>books  the dummy line enders game 3 mistak...</td>\n      <td>islam</td>\n      <td>4.0</td>\n      <td>theism</td>\n    </tr>\n    <tr>\n      <th>21604</th>\n      <td>33</td>\n      <td>single</td>\n      <td>m</td>\n      <td>straight</td>\n      <td>thin</td>\n      <td>mostly anything</td>\n      <td>socially</td>\n      <td>never</td>\n      <td>graduated from masters program</td>\n      <td>middle eastern</td>\n      <td>...</td>\n      <td>i'm a typical guy when it comes to movies: sca...</td>\n      <td>1) family and friends 2) music 3) passion (yes...</td>\n      <td>new business opportunities</td>\n      <td>out with friends and sadly enough working...bu...</td>\n      <td>i smoke....you may not think this is private, ...</td>\n      <td>you want to get to know me better....talk to y...</td>\n      <td>ambitious and passionate about life. i like to...</td>\n      <td>islam</td>\n      <td>4.0</td>\n      <td>theism</td>\n    </tr>\n    <tr>\n      <th>5473</th>\n      <td>21</td>\n      <td>single</td>\n      <td>m</td>\n      <td>straight</td>\n      <td>average</td>\n      <td>mostly other</td>\n      <td>socially</td>\n      <td>often</td>\n      <td>graduated from high school</td>\n      <td>middle eastern, black, white</td>\n      <td>...</td>\n      <td>ihave a broad view.big taste.iloike all type o...</td>\n      <td>computer. (in terms of career).weed. music.cho...</td>\n      <td>life. simple things. in and outside the box. t...</td>\n      <td>in da hood trappin or at a party/kickbakk.or m...</td>\n      <td>my tounge kan work wonders. ;-)</td>\n      <td>your kinky,wett, and ready. dnt be shy ilike t...</td>\n      <td>i'm creative.i'm a picses.i'm from east oaklan...</td>\n      <td>islam</td>\n      <td>4.0</td>\n      <td>theism</td>\n    </tr>\n  </tbody>\n</table>\n<p>214 rows × 33 columns</p>\n</div>"
     },
     "execution_count": 7,
     "metadata": {},
     "output_type": "execute_result"
    }
   ],
   "source": [
    "# Dictionary to hold the sampled individuals from each religion\n",
    "sampled_individuals_male = {}\n",
    "\n",
    "# Loop through each religion and sample individuals\n",
    "for religion in religions:\n",
    "    # Filter the dataset for the current religion\n",
    "    religion_data = serious_df_male[serious_df_male['cleaned_religion'] == religion]\n",
    "    \n",
    "    # Number of individuals to sample: 15 or the size of the group if it has fewer than 15 members\n",
    "    n_samples = min(50, len(religion_data))\n",
    "    \n",
    "    # Randomly sample individuals without replacement\n",
    "    sampled_individuals_male[religion] = religion_data.sample(n=n_samples, replace=False)\n",
    "\n",
    "# Combine all sampled individuals into a single DataFrame\n",
    "male_sample = pd.concat(sampled_individuals_male.values())\n",
    "\n",
    "male_sample"
   ],
   "metadata": {
    "collapsed": false,
    "ExecuteTime": {
     "end_time": "2024-03-01T03:36:30.355578Z",
     "start_time": "2024-03-01T03:36:30.292144Z"
    }
   },
   "id": "9e355e6c5858d355",
   "execution_count": 7
  },
  {
   "cell_type": "code",
   "outputs": [
    {
     "data": {
      "text/plain": "cleaned_religion\natheism         50\nchristianity    50\nagnosticism     50\ncatholicism     28\nbuddhism        21\njudaism          5\nhinduism         5\nislam            5\nName: count, dtype: int64"
     },
     "execution_count": 8,
     "metadata": {},
     "output_type": "execute_result"
    }
   ],
   "source": [
    "# check count \n",
    "male_sample.cleaned_religion.value_counts()"
   ],
   "metadata": {
    "collapsed": false,
    "ExecuteTime": {
     "end_time": "2024-03-01T03:36:30.356608Z",
     "start_time": "2024-03-01T03:36:30.303266Z"
    }
   },
   "id": "e5ac09c92020f0e6",
   "execution_count": 8
  },
  {
   "cell_type": "code",
   "outputs": [
    {
     "data": {
      "text/plain": "       age  status sex orientation       body_type                 diet  \\\n38292   38  single   f    straight  a little extra                  NaN   \n2253    27  single   f    bisexual            thin             anything   \n7839    25  single   f    bisexual            thin  strictly vegetarian   \n35407   20  single   f    bisexual         average    mostly vegetarian   \n29066   31  single   f    straight         used up  strictly vegetarian   \n...    ...     ...  ..         ...             ...                  ...   \n19125   20  single   f    straight      overweight         mostly halal   \n29846   19  single   f    straight          skinny                  NaN   \n13376   44  single   f    straight           curvy    mostly vegetarian   \n24253   39  single   f    straight           curvy  strictly vegetarian   \n16890   28  single   f    straight  a little extra         mostly halal   \n\n           drinks      drugs                          education  \\\n38292    socially        NaN  graduated from college/university   \n2253   not at all      often  graduated from college/university   \n7839     socially      never  graduated from college/university   \n35407       often      often    dropped out of two-year college   \n29066    socially  sometimes          graduated from law school   \n...           ...        ...                                ...   \n19125  not at all      often             working on high school   \n29846  not at all      never             working on high school   \n13376      rarely      never        working on two-year college   \n24253  not at all      never        graduated from ph.d program   \n16890  not at all      never      working on college/university   \n\n                     ethnicity  ...  \\\n38292                    white  ...   \n2253                     white  ...   \n7839                     white  ...   \n35407                    white  ...   \n29066                    white  ...   \n...                        ...  ...   \n19125  black, pacific islander  ...   \n29846                   indian  ...   \n13376         pacific islander  ...   \n24253                   indian  ...   \n16890                    black  ...   \n\n               favorite_books_movies_show_music_and_food  \\\n38292  my favorite books are by david sedaris and aug...   \n2253   \"favorite\" is not really a category i collect ...   \n7839                                        yes, please.   \n35407  books: most chuck palahniuk books, the little ...   \n29066  books: kafka on the shore, geek love, the wind...   \n...                                                  ...   \n19125  the brothers solomon. the bibel. hansen. siste...   \n29846  all types of movies especially comedy movies. ...   \n13376  favorite books-the path to mother, women who r...   \n24253  (a) usually the ones i've read most recently--...   \n16890  books; the hakawati, destiny disrupted, a retu...   \n\n                 the_six_things_i_could_never_do_without  \\\n38292  my two passports friends wine cheese music europe   \n2253   1. books -- there's not enough time that can b...   \n7839   traumatic middle school memories bed being abl...   \n35407  kittens bloody mary's sandwiches orgasms math ...   \n29066  1. animal friends 2. music 3. a camera 4. srir...   \n...                                                  ...   \n19125  twin 1 twin 2 bun peanut butter polka-dot tigh...   \n29846  my cellphone my younger sister nikita and my e...   \n13376  love in all it's many forms (children/friends/...   \n24253      connection humor wonder purpose rhythm symbol   \n16890  the ability to taste love, in all it's positiv...   \n\n                    i_spend_a_lot_of_time_thinking_about  \\\n38292           where and when my next vacation will be.   \n2253   how to make the world a better place. how to g...   \n7839   why the ocean is salty. why ponds, streams, ri...   \n35407  how to reach inner fulfillment and total happi...   \n29066                                            bigfoot   \n...                                                  ...   \n19125                               daaaad. whare r yoo.   \n29846  getting that right man in my life who can love...   \n13376  everything & nothing taking care of this momen...   \n24253      cooperation and competition: e pluribus unum.   \n16890  death, and how cool it would be to jump throug...   \n\n                          on_a_typical_friday_night_i_am  \\\n38292  going out to dinner and drinks with friends or...   \n2253   doing something boring like watching tv on my ...   \n7839   partying with the hipsters, but really just sp...   \n35407  greeting the weekend with open arms, booze, we...   \n29066  trying to prevent my cat from eating my prized...   \n...                                                  ...   \n19125                                      being a twin.   \n29846  at home or visit my families around sf bay are...   \n13376  online watching a live webinar for my ayurvedi...   \n24253                                  watching a movie.   \n16890  working :( but, my work involves flying somewh...   \n\n            the_most_private_thing_i_am_willing_to_admit  \\\n38292           there's really nothing private about me.   \n2253                                                 NaN   \n7839                     i'm really, really bad at math.   \n35407                              my dreams always suck   \n29066                         i have a baby-bird phobia.   \n...                                                  ...   \n19125                            we have different moms.   \n29846  i will get married at age 21 it will be arrang...   \n13376  to a fault...don't ask me a question unless yo...   \n24253                  will be admitted only in private.   \n16890  i don't know what i'm doing. never have. while...   \n\n                                you_should_message_me_if  \\\n38292                   you think you can make me laugh!   \n2253   ...you're open to being open! i've tried monog...   \n7839   you speak sarcasm, appreciate irony, but don't...   \n35407  you enjoy a good fleshless sandwich. and/or yo...   \n29066  you like drinking fancy beers with girls who c...   \n...                                                  ...   \n19125  you know our dad/ you are a dad/ you are our d...   \n29846  you like my pictures, and if you are a kind an...   \n13376  i'm wanting to accept my partner for who they ...   \n24253  you think we could strike up an interesting co...   \n16890  ... you like sufi artistic types. ... you want...   \n\n                                          merged_profile cleaned_religion  \\\n38292  i grew up mostly in the bay area, lived in san...          atheism   \n2253    i'm currently working to build my petsitting ...          atheism   \n7839   oh hey there, internet person. i hope you find...          atheism   \n35407  i am a french native, california transplant. w...          atheism   \n29066  potty-mouthed and cat-obsessed, what more coul...          atheism   \n...                                                  ...              ...   \n19125  two twin sisters.  us: http://www.youtube.com/...         hinduism   \n29846  i am avishta, 18 years old, live in redwood ci...         hinduism   \n13376  i give diversity a whole new definition. i'm s...         hinduism   \n24253  when will i dance again with glowsticks to the...         hinduism   \n16890  in michigan for the summer. let the good times...            islam   \n\n      seriousness_degree   belief  \n38292                4.0  atheism  \n2253                 4.0  atheism  \n7839                 4.0  atheism  \n35407                4.0  atheism  \n29066                4.0  atheism  \n...                  ...      ...  \n19125                4.0   theism  \n29846                4.0   theism  \n13376                4.0   theism  \n24253                4.0   theism  \n16890                4.0   theism  \n\n[218 rows x 33 columns]",
      "text/html": "<div>\n<style scoped>\n    .dataframe tbody tr th:only-of-type {\n        vertical-align: middle;\n    }\n\n    .dataframe tbody tr th {\n        vertical-align: top;\n    }\n\n    .dataframe thead th {\n        text-align: right;\n    }\n</style>\n<table border=\"1\" class=\"dataframe\">\n  <thead>\n    <tr style=\"text-align: right;\">\n      <th></th>\n      <th>age</th>\n      <th>status</th>\n      <th>sex</th>\n      <th>orientation</th>\n      <th>body_type</th>\n      <th>diet</th>\n      <th>drinks</th>\n      <th>drugs</th>\n      <th>education</th>\n      <th>ethnicity</th>\n      <th>...</th>\n      <th>favorite_books_movies_show_music_and_food</th>\n      <th>the_six_things_i_could_never_do_without</th>\n      <th>i_spend_a_lot_of_time_thinking_about</th>\n      <th>on_a_typical_friday_night_i_am</th>\n      <th>the_most_private_thing_i_am_willing_to_admit</th>\n      <th>you_should_message_me_if</th>\n      <th>merged_profile</th>\n      <th>cleaned_religion</th>\n      <th>seriousness_degree</th>\n      <th>belief</th>\n    </tr>\n  </thead>\n  <tbody>\n    <tr>\n      <th>38292</th>\n      <td>38</td>\n      <td>single</td>\n      <td>f</td>\n      <td>straight</td>\n      <td>a little extra</td>\n      <td>NaN</td>\n      <td>socially</td>\n      <td>NaN</td>\n      <td>graduated from college/university</td>\n      <td>white</td>\n      <td>...</td>\n      <td>my favorite books are by david sedaris and aug...</td>\n      <td>my two passports friends wine cheese music europe</td>\n      <td>where and when my next vacation will be.</td>\n      <td>going out to dinner and drinks with friends or...</td>\n      <td>there's really nothing private about me.</td>\n      <td>you think you can make me laugh!</td>\n      <td>i grew up mostly in the bay area, lived in san...</td>\n      <td>atheism</td>\n      <td>4.0</td>\n      <td>atheism</td>\n    </tr>\n    <tr>\n      <th>2253</th>\n      <td>27</td>\n      <td>single</td>\n      <td>f</td>\n      <td>bisexual</td>\n      <td>thin</td>\n      <td>anything</td>\n      <td>not at all</td>\n      <td>often</td>\n      <td>graduated from college/university</td>\n      <td>white</td>\n      <td>...</td>\n      <td>\"favorite\" is not really a category i collect ...</td>\n      <td>1. books -- there's not enough time that can b...</td>\n      <td>how to make the world a better place. how to g...</td>\n      <td>doing something boring like watching tv on my ...</td>\n      <td>NaN</td>\n      <td>...you're open to being open! i've tried monog...</td>\n      <td>i'm currently working to build my petsitting ...</td>\n      <td>atheism</td>\n      <td>4.0</td>\n      <td>atheism</td>\n    </tr>\n    <tr>\n      <th>7839</th>\n      <td>25</td>\n      <td>single</td>\n      <td>f</td>\n      <td>bisexual</td>\n      <td>thin</td>\n      <td>strictly vegetarian</td>\n      <td>socially</td>\n      <td>never</td>\n      <td>graduated from college/university</td>\n      <td>white</td>\n      <td>...</td>\n      <td>yes, please.</td>\n      <td>traumatic middle school memories bed being abl...</td>\n      <td>why the ocean is salty. why ponds, streams, ri...</td>\n      <td>partying with the hipsters, but really just sp...</td>\n      <td>i'm really, really bad at math.</td>\n      <td>you speak sarcasm, appreciate irony, but don't...</td>\n      <td>oh hey there, internet person. i hope you find...</td>\n      <td>atheism</td>\n      <td>4.0</td>\n      <td>atheism</td>\n    </tr>\n    <tr>\n      <th>35407</th>\n      <td>20</td>\n      <td>single</td>\n      <td>f</td>\n      <td>bisexual</td>\n      <td>average</td>\n      <td>mostly vegetarian</td>\n      <td>often</td>\n      <td>often</td>\n      <td>dropped out of two-year college</td>\n      <td>white</td>\n      <td>...</td>\n      <td>books: most chuck palahniuk books, the little ...</td>\n      <td>kittens bloody mary's sandwiches orgasms math ...</td>\n      <td>how to reach inner fulfillment and total happi...</td>\n      <td>greeting the weekend with open arms, booze, we...</td>\n      <td>my dreams always suck</td>\n      <td>you enjoy a good fleshless sandwich. and/or yo...</td>\n      <td>i am a french native, california transplant. w...</td>\n      <td>atheism</td>\n      <td>4.0</td>\n      <td>atheism</td>\n    </tr>\n    <tr>\n      <th>29066</th>\n      <td>31</td>\n      <td>single</td>\n      <td>f</td>\n      <td>straight</td>\n      <td>used up</td>\n      <td>strictly vegetarian</td>\n      <td>socially</td>\n      <td>sometimes</td>\n      <td>graduated from law school</td>\n      <td>white</td>\n      <td>...</td>\n      <td>books: kafka on the shore, geek love, the wind...</td>\n      <td>1. animal friends 2. music 3. a camera 4. srir...</td>\n      <td>bigfoot</td>\n      <td>trying to prevent my cat from eating my prized...</td>\n      <td>i have a baby-bird phobia.</td>\n      <td>you like drinking fancy beers with girls who c...</td>\n      <td>potty-mouthed and cat-obsessed, what more coul...</td>\n      <td>atheism</td>\n      <td>4.0</td>\n      <td>atheism</td>\n    </tr>\n    <tr>\n      <th>...</th>\n      <td>...</td>\n      <td>...</td>\n      <td>...</td>\n      <td>...</td>\n      <td>...</td>\n      <td>...</td>\n      <td>...</td>\n      <td>...</td>\n      <td>...</td>\n      <td>...</td>\n      <td>...</td>\n      <td>...</td>\n      <td>...</td>\n      <td>...</td>\n      <td>...</td>\n      <td>...</td>\n      <td>...</td>\n      <td>...</td>\n      <td>...</td>\n      <td>...</td>\n      <td>...</td>\n    </tr>\n    <tr>\n      <th>19125</th>\n      <td>20</td>\n      <td>single</td>\n      <td>f</td>\n      <td>straight</td>\n      <td>overweight</td>\n      <td>mostly halal</td>\n      <td>not at all</td>\n      <td>often</td>\n      <td>working on high school</td>\n      <td>black, pacific islander</td>\n      <td>...</td>\n      <td>the brothers solomon. the bibel. hansen. siste...</td>\n      <td>twin 1 twin 2 bun peanut butter polka-dot tigh...</td>\n      <td>daaaad. whare r yoo.</td>\n      <td>being a twin.</td>\n      <td>we have different moms.</td>\n      <td>you know our dad/ you are a dad/ you are our d...</td>\n      <td>two twin sisters.  us: http://www.youtube.com/...</td>\n      <td>hinduism</td>\n      <td>4.0</td>\n      <td>theism</td>\n    </tr>\n    <tr>\n      <th>29846</th>\n      <td>19</td>\n      <td>single</td>\n      <td>f</td>\n      <td>straight</td>\n      <td>skinny</td>\n      <td>NaN</td>\n      <td>not at all</td>\n      <td>never</td>\n      <td>working on high school</td>\n      <td>indian</td>\n      <td>...</td>\n      <td>all types of movies especially comedy movies. ...</td>\n      <td>my cellphone my younger sister nikita and my e...</td>\n      <td>getting that right man in my life who can love...</td>\n      <td>at home or visit my families around sf bay are...</td>\n      <td>i will get married at age 21 it will be arrang...</td>\n      <td>you like my pictures, and if you are a kind an...</td>\n      <td>i am avishta, 18 years old, live in redwood ci...</td>\n      <td>hinduism</td>\n      <td>4.0</td>\n      <td>theism</td>\n    </tr>\n    <tr>\n      <th>13376</th>\n      <td>44</td>\n      <td>single</td>\n      <td>f</td>\n      <td>straight</td>\n      <td>curvy</td>\n      <td>mostly vegetarian</td>\n      <td>rarely</td>\n      <td>never</td>\n      <td>working on two-year college</td>\n      <td>pacific islander</td>\n      <td>...</td>\n      <td>favorite books-the path to mother, women who r...</td>\n      <td>love in all it's many forms (children/friends/...</td>\n      <td>everything &amp; nothing taking care of this momen...</td>\n      <td>online watching a live webinar for my ayurvedi...</td>\n      <td>to a fault...don't ask me a question unless yo...</td>\n      <td>i'm wanting to accept my partner for who they ...</td>\n      <td>i give diversity a whole new definition. i'm s...</td>\n      <td>hinduism</td>\n      <td>4.0</td>\n      <td>theism</td>\n    </tr>\n    <tr>\n      <th>24253</th>\n      <td>39</td>\n      <td>single</td>\n      <td>f</td>\n      <td>straight</td>\n      <td>curvy</td>\n      <td>strictly vegetarian</td>\n      <td>not at all</td>\n      <td>never</td>\n      <td>graduated from ph.d program</td>\n      <td>indian</td>\n      <td>...</td>\n      <td>(a) usually the ones i've read most recently--...</td>\n      <td>connection humor wonder purpose rhythm symbol</td>\n      <td>cooperation and competition: e pluribus unum.</td>\n      <td>watching a movie.</td>\n      <td>will be admitted only in private.</td>\n      <td>you think we could strike up an interesting co...</td>\n      <td>when will i dance again with glowsticks to the...</td>\n      <td>hinduism</td>\n      <td>4.0</td>\n      <td>theism</td>\n    </tr>\n    <tr>\n      <th>16890</th>\n      <td>28</td>\n      <td>single</td>\n      <td>f</td>\n      <td>straight</td>\n      <td>a little extra</td>\n      <td>mostly halal</td>\n      <td>not at all</td>\n      <td>never</td>\n      <td>working on college/university</td>\n      <td>black</td>\n      <td>...</td>\n      <td>books; the hakawati, destiny disrupted, a retu...</td>\n      <td>the ability to taste love, in all it's positiv...</td>\n      <td>death, and how cool it would be to jump throug...</td>\n      <td>working :( but, my work involves flying somewh...</td>\n      <td>i don't know what i'm doing. never have. while...</td>\n      <td>... you like sufi artistic types. ... you want...</td>\n      <td>in michigan for the summer. let the good times...</td>\n      <td>islam</td>\n      <td>4.0</td>\n      <td>theism</td>\n    </tr>\n  </tbody>\n</table>\n<p>218 rows × 33 columns</p>\n</div>"
     },
     "execution_count": 9,
     "metadata": {},
     "output_type": "execute_result"
    }
   ],
   "source": [
    "# Dictionary to hold the sampled individuals from each religion\n",
    "sampled_individuals_female = {}\n",
    "\n",
    "# Loop through each religion and sample individuals\n",
    "for religion in religions:\n",
    "    # Filter the dataset for the current religion\n",
    "    religion_data = serious_df_female[serious_df_female['cleaned_religion'] == religion]\n",
    "    \n",
    "    # Number of individuals to sample: 15 or the size of the group if it has fewer than 15 members\n",
    "    n_samples = min(50, len(religion_data))\n",
    "    \n",
    "    # Randomly sample individuals without replacement\n",
    "    sampled_individuals_female[religion] = religion_data.sample(n=n_samples, replace=False)\n",
    "\n",
    "# Combine all sampled individuals into a single DataFrame\n",
    "female_sample = pd.concat(sampled_individuals_female.values())\n",
    "\n",
    "female_sample"
   ],
   "metadata": {
    "collapsed": false,
    "ExecuteTime": {
     "end_time": "2024-03-01T03:36:30.388829Z",
     "start_time": "2024-03-01T03:36:30.306972Z"
    }
   },
   "id": "ded3d1e49d277af3",
   "execution_count": 9
  },
  {
   "cell_type": "code",
   "outputs": [
    {
     "data": {
      "text/plain": "cleaned_religion\natheism         50\nchristianity    50\nagnosticism     50\ncatholicism     27\nbuddhism        26\njudaism          9\nhinduism         5\nislam            1\nName: count, dtype: int64"
     },
     "execution_count": 10,
     "metadata": {},
     "output_type": "execute_result"
    }
   ],
   "source": [
    "# check count \n",
    "female_sample.cleaned_religion.value_counts()"
   ],
   "metadata": {
    "collapsed": false,
    "ExecuteTime": {
     "end_time": "2024-03-01T03:36:30.404465Z",
     "start_time": "2024-03-01T03:36:30.322345Z"
    }
   },
   "id": "3b5006c30227f60f",
   "execution_count": 10
  },
  {
   "cell_type": "markdown",
   "source": [
    "## Apply embedding to the dating profiles"
   ],
   "metadata": {
    "collapsed": false
   },
   "id": "97401abc642f0ece"
  },
  {
   "cell_type": "code",
   "outputs": [],
   "source": [
    "api_key = os.getenv('OPENAI_API_KEY')"
   ],
   "metadata": {
    "collapsed": false,
    "ExecuteTime": {
     "end_time": "2024-03-01T03:36:30.404914Z",
     "start_time": "2024-03-01T03:36:30.324934Z"
    }
   },
   "id": "bb4e2f6ff15eb844",
   "execution_count": 11
  },
  {
   "cell_type": "code",
   "outputs": [],
   "source": [
    "from openai import OpenAI\n",
    "client = OpenAI()\n",
    "\n",
    "def get_embedding(text, model=\"text-embedding-3-large\"):\n",
    "   text = text.replace(\"\\n\", \" \")\n",
    "   return client.embeddings.create(input = [text], model=model).data[0].embedding"
   ],
   "metadata": {
    "collapsed": false,
    "ExecuteTime": {
     "end_time": "2024-03-01T03:36:40.523590Z",
     "start_time": "2024-03-01T03:36:39.729455Z"
    }
   },
   "id": "dd8131e6f2484ed1",
   "execution_count": 12
  },
  {
   "cell_type": "code",
   "outputs": [],
   "source": [
    "# apply the function to the final_sample\n",
    "female_sample['embedding'] = female_sample['you_should_message_me_if'].apply(get_embedding)\n",
    "\n",
    "male_sample['embedding'] = male_sample['you_should_message_me_if'].apply(get_embedding)"
   ],
   "metadata": {
    "collapsed": false,
    "ExecuteTime": {
     "end_time": "2024-03-01T03:39:14.922557Z",
     "start_time": "2024-03-01T03:36:59.399025Z"
    }
   },
   "id": "38f448f97b999402",
   "execution_count": 13
  },
  {
   "cell_type": "code",
   "outputs": [],
   "source": [
    "# combine female_sample and male_sample into a single dataframe\n",
    "final_sample = pd.concat([female_sample, male_sample])"
   ],
   "metadata": {
    "collapsed": false,
    "ExecuteTime": {
     "end_time": "2024-03-01T03:42:04.016901Z",
     "start_time": "2024-03-01T03:42:03.895066Z"
    }
   },
   "id": "32af6d4fe7776ee4",
   "execution_count": 15
  },
  {
   "cell_type": "code",
   "outputs": [
    {
     "data": {
      "text/plain": "       age  status sex orientation       body_type                 diet  \\\n38292   38  single   f    straight  a little extra                  NaN   \n2253    27  single   f    bisexual            thin             anything   \n7839    25  single   f    bisexual            thin  strictly vegetarian   \n35407   20  single   f    bisexual         average    mostly vegetarian   \n29066   31  single   f    straight         used up  strictly vegetarian   \n\n           drinks      drugs                          education ethnicity  \\\n38292    socially        NaN  graduated from college/university     white   \n2253   not at all      often  graduated from college/university     white   \n7839     socially      never  graduated from college/university     white   \n35407       often      often    dropped out of two-year college     white   \n29066    socially  sometimes          graduated from law school     white   \n\n       ...            the_six_things_i_could_never_do_without  \\\n38292  ...  my two passports friends wine cheese music europe   \n2253   ...  1. books -- there's not enough time that can b...   \n7839   ...  traumatic middle school memories bed being abl...   \n35407  ...  kittens bloody mary's sandwiches orgasms math ...   \n29066  ...  1. animal friends 2. music 3. a camera 4. srir...   \n\n                    i_spend_a_lot_of_time_thinking_about  \\\n38292           where and when my next vacation will be.   \n2253   how to make the world a better place. how to g...   \n7839   why the ocean is salty. why ponds, streams, ri...   \n35407  how to reach inner fulfillment and total happi...   \n29066                                            bigfoot   \n\n                          on_a_typical_friday_night_i_am  \\\n38292  going out to dinner and drinks with friends or...   \n2253   doing something boring like watching tv on my ...   \n7839   partying with the hipsters, but really just sp...   \n35407  greeting the weekend with open arms, booze, we...   \n29066  trying to prevent my cat from eating my prized...   \n\n      the_most_private_thing_i_am_willing_to_admit  \\\n38292     there's really nothing private about me.   \n2253                                           NaN   \n7839               i'm really, really bad at math.   \n35407                        my dreams always suck   \n29066                   i have a baby-bird phobia.   \n\n                                you_should_message_me_if  \\\n38292                   you think you can make me laugh!   \n2253   ...you're open to being open! i've tried monog...   \n7839   you speak sarcasm, appreciate irony, but don't...   \n35407  you enjoy a good fleshless sandwich. and/or yo...   \n29066  you like drinking fancy beers with girls who c...   \n\n                                          merged_profile cleaned_religion  \\\n38292  i grew up mostly in the bay area, lived in san...          atheism   \n2253    i'm currently working to build my petsitting ...          atheism   \n7839   oh hey there, internet person. i hope you find...          atheism   \n35407  i am a french native, california transplant. w...          atheism   \n29066  potty-mouthed and cat-obsessed, what more coul...          atheism   \n\n      seriousness_degree   belief  \\\n38292                4.0  atheism   \n2253                 4.0  atheism   \n7839                 4.0  atheism   \n35407                4.0  atheism   \n29066                4.0  atheism   \n\n                                               embedding  \n38292  [0.005271855276077986, -0.0013254006626084447,...  \n2253   [-0.031448844820261, -0.02344522811472416, -0....  \n7839   [-0.023152481764554977, -0.005695262923836708,...  \n35407  [-0.010571823455393314, -0.035015273839235306,...  \n29066  [0.022974137216806412, -0.011390862055122852, ...  \n\n[5 rows x 34 columns]",
      "text/html": "<div>\n<style scoped>\n    .dataframe tbody tr th:only-of-type {\n        vertical-align: middle;\n    }\n\n    .dataframe tbody tr th {\n        vertical-align: top;\n    }\n\n    .dataframe thead th {\n        text-align: right;\n    }\n</style>\n<table border=\"1\" class=\"dataframe\">\n  <thead>\n    <tr style=\"text-align: right;\">\n      <th></th>\n      <th>age</th>\n      <th>status</th>\n      <th>sex</th>\n      <th>orientation</th>\n      <th>body_type</th>\n      <th>diet</th>\n      <th>drinks</th>\n      <th>drugs</th>\n      <th>education</th>\n      <th>ethnicity</th>\n      <th>...</th>\n      <th>the_six_things_i_could_never_do_without</th>\n      <th>i_spend_a_lot_of_time_thinking_about</th>\n      <th>on_a_typical_friday_night_i_am</th>\n      <th>the_most_private_thing_i_am_willing_to_admit</th>\n      <th>you_should_message_me_if</th>\n      <th>merged_profile</th>\n      <th>cleaned_religion</th>\n      <th>seriousness_degree</th>\n      <th>belief</th>\n      <th>embedding</th>\n    </tr>\n  </thead>\n  <tbody>\n    <tr>\n      <th>38292</th>\n      <td>38</td>\n      <td>single</td>\n      <td>f</td>\n      <td>straight</td>\n      <td>a little extra</td>\n      <td>NaN</td>\n      <td>socially</td>\n      <td>NaN</td>\n      <td>graduated from college/university</td>\n      <td>white</td>\n      <td>...</td>\n      <td>my two passports friends wine cheese music europe</td>\n      <td>where and when my next vacation will be.</td>\n      <td>going out to dinner and drinks with friends or...</td>\n      <td>there's really nothing private about me.</td>\n      <td>you think you can make me laugh!</td>\n      <td>i grew up mostly in the bay area, lived in san...</td>\n      <td>atheism</td>\n      <td>4.0</td>\n      <td>atheism</td>\n      <td>[0.005271855276077986, -0.0013254006626084447,...</td>\n    </tr>\n    <tr>\n      <th>2253</th>\n      <td>27</td>\n      <td>single</td>\n      <td>f</td>\n      <td>bisexual</td>\n      <td>thin</td>\n      <td>anything</td>\n      <td>not at all</td>\n      <td>often</td>\n      <td>graduated from college/university</td>\n      <td>white</td>\n      <td>...</td>\n      <td>1. books -- there's not enough time that can b...</td>\n      <td>how to make the world a better place. how to g...</td>\n      <td>doing something boring like watching tv on my ...</td>\n      <td>NaN</td>\n      <td>...you're open to being open! i've tried monog...</td>\n      <td>i'm currently working to build my petsitting ...</td>\n      <td>atheism</td>\n      <td>4.0</td>\n      <td>atheism</td>\n      <td>[-0.031448844820261, -0.02344522811472416, -0....</td>\n    </tr>\n    <tr>\n      <th>7839</th>\n      <td>25</td>\n      <td>single</td>\n      <td>f</td>\n      <td>bisexual</td>\n      <td>thin</td>\n      <td>strictly vegetarian</td>\n      <td>socially</td>\n      <td>never</td>\n      <td>graduated from college/university</td>\n      <td>white</td>\n      <td>...</td>\n      <td>traumatic middle school memories bed being abl...</td>\n      <td>why the ocean is salty. why ponds, streams, ri...</td>\n      <td>partying with the hipsters, but really just sp...</td>\n      <td>i'm really, really bad at math.</td>\n      <td>you speak sarcasm, appreciate irony, but don't...</td>\n      <td>oh hey there, internet person. i hope you find...</td>\n      <td>atheism</td>\n      <td>4.0</td>\n      <td>atheism</td>\n      <td>[-0.023152481764554977, -0.005695262923836708,...</td>\n    </tr>\n    <tr>\n      <th>35407</th>\n      <td>20</td>\n      <td>single</td>\n      <td>f</td>\n      <td>bisexual</td>\n      <td>average</td>\n      <td>mostly vegetarian</td>\n      <td>often</td>\n      <td>often</td>\n      <td>dropped out of two-year college</td>\n      <td>white</td>\n      <td>...</td>\n      <td>kittens bloody mary's sandwiches orgasms math ...</td>\n      <td>how to reach inner fulfillment and total happi...</td>\n      <td>greeting the weekend with open arms, booze, we...</td>\n      <td>my dreams always suck</td>\n      <td>you enjoy a good fleshless sandwich. and/or yo...</td>\n      <td>i am a french native, california transplant. w...</td>\n      <td>atheism</td>\n      <td>4.0</td>\n      <td>atheism</td>\n      <td>[-0.010571823455393314, -0.035015273839235306,...</td>\n    </tr>\n    <tr>\n      <th>29066</th>\n      <td>31</td>\n      <td>single</td>\n      <td>f</td>\n      <td>straight</td>\n      <td>used up</td>\n      <td>strictly vegetarian</td>\n      <td>socially</td>\n      <td>sometimes</td>\n      <td>graduated from law school</td>\n      <td>white</td>\n      <td>...</td>\n      <td>1. animal friends 2. music 3. a camera 4. srir...</td>\n      <td>bigfoot</td>\n      <td>trying to prevent my cat from eating my prized...</td>\n      <td>i have a baby-bird phobia.</td>\n      <td>you like drinking fancy beers with girls who c...</td>\n      <td>potty-mouthed and cat-obsessed, what more coul...</td>\n      <td>atheism</td>\n      <td>4.0</td>\n      <td>atheism</td>\n      <td>[0.022974137216806412, -0.011390862055122852, ...</td>\n    </tr>\n  </tbody>\n</table>\n<p>5 rows × 34 columns</p>\n</div>"
     },
     "execution_count": 16,
     "metadata": {},
     "output_type": "execute_result"
    }
   ],
   "source": [
    "#preview the final_sample\n",
    "final_sample.head()"
   ],
   "metadata": {
    "collapsed": false,
    "ExecuteTime": {
     "end_time": "2024-03-01T03:42:19.677016Z",
     "start_time": "2024-03-01T03:42:19.671770Z"
    }
   },
   "id": "86b0722db3705fa9",
   "execution_count": 16
  },
  {
   "cell_type": "code",
   "outputs": [],
   "source": [
    "# save the final_sample to a csv file\n",
    "final_sample.to_csv('sample_with_description.csv', index=False)"
   ],
   "metadata": {
    "collapsed": false,
    "ExecuteTime": {
     "end_time": "2024-03-01T03:42:50.364895Z",
     "start_time": "2024-03-01T03:42:49.136764Z"
    }
   },
   "id": "f6aa5b92322b0ce7",
   "execution_count": 17
  },
  {
   "cell_type": "markdown",
   "source": [
    "## Embed stereotypical descriptions"
   ],
   "metadata": {
    "collapsed": false
   },
   "id": "77518e290fc2b0e5"
  },
  {
   "cell_type": "code",
   "outputs": [],
   "source": [
    "dating_profiles = {\n",
    "    \"Housewife\": \"Hello! I'm a devoted homemaker, cherishing every moment spent nurturing my family in a cozy, well-kept home. My heart is in transforming everyday tasks into acts of love, whether it's baking family recipes, tending to our garden, or handcrafting decorations that turn our house into a home. I'm here to connect with friends who revel in the art of homemaking or to find a partner who sees the beauty in a traditional, loving household. Let's exchange our favorite family traditions, craft ideas, and the little joys that make a house a home!\",\n",
    "    \n",
    "    \"One-Night Stand Seeker\": \"Hey! I'm all about seizing the day and embracing the excitement of fleeting connections. If your idea of a good time involves exhilarating, commitment-free adventures that last just for the night, we're on the same page. I value honesty, respect, and the thrill of a spontaneous rendezvous. Let's make our encounter unforgettable, with the promise of no expectations when the sun comes up!\",\n",
    "    \n",
    "    \"DINK\": \"Greetings! I'm deeply invested in my career and savor the pleasures of a child-free existence. Luxurious getaways, gourmet dining, and impromptu adventures define my free time. I'm on the lookout for someone who's equally ambitious, enjoys a certain level of sophistication, and cherishes the liberties our lifestyle affords. If you're drawn to a life of exploration and shared success, let's chart our course to extraordinary experiences!\",\n",
    "    \n",
    "    \"Materialistic\": \"Salutations! For me, life's greatest joys are found in its luxuries—designer brands, exclusive events, and gourmet dining. I'm searching for a partner who not only understands the allure of high-end living but also strives to embody it. If you're someone who appreciates the finer things and views life as a collection of exquisite experiences, we might just be a perfect match. Let's indulge in the opulence life has to offer, together.\",\n",
    "    \n",
    "    \"Family-Oriented\": \"Hello! Envisioning a home brimming with laughter, love, and the bustling energy of children is my ultimate dream. I hold family values dear and am eager to create a life filled with meaningful traditions and shared moments. If you're longing for a future rich in family gatherings, heartfelt connections, and the delightful chaos of a big family, I'm looking for you. Let's build a foundation of love that grows with every new addition to our family.\",\n",
    "    \n",
    "    \"Virgin\": \"Hi! Stepping into the dating scene with eyes wide open, I'm searching for someone who treasures emotional depth and genuine connections. My ideal relationship evolves slowly, grounded in mutual respect and shared discoveries. If you're patient, value heartfelt conversations, and believe that the best connections are more than physical, I'm eager to explore what we might find together.\",\n",
    "    \n",
    "    \"Super Religious\": \"Blessings! My life is a testament to my unwavering faith, with every action guided by divine love and teachings. I find joy in communal worship, charitable acts, and deep theological study. I seek a partner for whom faith is either a cornerstone or a respected aspect of life, with whom I can share a journey of spiritual growth, service, and a life that mirrors our highest ideals. If you're called to a life of faith and fellowship, let's walk this path hand in hand.\",\n",
    "    \n",
    "    \"Adventure Seeker\": \"Hey there! With a heart that races for the next adrenaline rush, I'm always on the lookout for the next heart-pounding adventure. Skydiving, bungee jumping, or wild surfing—anything that gets my blood pumping is on my list. I'm in search of a fearless partner who's ready to embrace the extreme and dive headfirst into life's greatest adventures. If you're eager for thrills and spills, let's take the plunge together!\",\n",
    "    \n",
    "    \"Tech Geek\": \"Greetings! Immersed in the tech world, my life orbits around the latest innovations, from groundbreaking software to cutting-edge gadgets. I relish weekends spent coding, gaming in virtual realms, or debating the future of AI. I thrive on change and am constantly driven by the quest for knowledge. I'm looking for a partner who's either a fellow tech aficionado or keen to delve into the digital universe with me. Let's sync our worlds and maybe create something revolutionary.\",\n",
    "    \n",
    "    \"Eco-Conscious Individual\": \"Hi! Living in harmony with our planet is my daily mantra, from advocating for green policies to nurturing my own sustainable garden. I'm committed to making a positive impact and seek a partner who shares this passion for conservation and environmental stewardship. If you're drawn to a life of purpose, sustainability, and outdoor adventures, let's join forces to make a difference, one eco-friendly step at a time.\",\n",
    "    \n",
    "    \"Fitness Fanatic\": \"Hello! For me, fitness is more than a routine—it's the essence of my lifestyle. I'm dedicated to pushing my limits, whether it's in the gym or on the running track. I'm on the hunt for a partner who shares this dedication to health and vitality. If you're inspired by setting goals and smashing them, and you see the value in a partner who motivates you to achieve your best, let's team up and keep each other driven.\",\n",
    "    \n",
    "    \"Artist\": \"Hello! As an artist, my world is a blend of colors, emotions, and creativity. I see art in everything and express my soul through my work. My passion lies in capturing the essence of moments and turning them into visual narratives. I'm seeking someone who appreciates art's power to move and transform us, who sees the world through a lens of wonder and imagination. Whether you're an artist or an art lover, let's connect and share our visions, creating beauty in the spaces between.\",\n",
    "    \n",
    "    \"Pet Lover\": \"Hello! My life is joyfully intertwined with my pets, who are as much a part of my family as anyone could be. I'm looking for a kindred spirit who understands that pets are not just animals, but cherished family members. Whether it's sharing stories about our furry friends or planning pet-friendly adventures, I'm looking for a partner who believes that love extends to all creatures, great and small.\",\n",
    "    \n",
    "    \"Culinary Enthusiast\": \"Hi! The world of flavors and culinary arts is where I find my bliss, from experimenting with exotic recipes to savoring the ambiance of quaint cafes. I'm in search of a partner who delights in the sensory pleasures of food and is eager to explore the gastronomic world with me. Whether we're cooking up a storm at home or embarking on a quest for the perfect dish, let's savor the journey together.\",\n",
    "    \n",
    "    \"Finance Bro\": \"Hey! In the fast-paced arena of finance, I thrive on the thrill of the deal and the buzz of the trading floor. My downtime is about enjoying the rewards, from exclusive clubs to luxury escapes. I'm looking for someone who appreciates the drive it takes to succeed and enjoys the finer things in life, someone who's not just a partner but a confidante in both business and pleasure. Let's share the highs and lows of the financial world and build our empire together.\",\n",
    "    \n",
    "    \"Startup CEO\": \"Hello, visionary! Leading a startup is more than a job; it's my calling, blending innovation with endless hustle. My life is a tapestry of pitch sessions, creative brainstorming, and the relentless pursuit of breakthroughs. I'm seeking someone who's either navigating their own entrepreneurial journey or has a zest for the startup ecosystem. If you're about dreaming big, embracing challenges, and making an impact, let's join forces and maybe set the world alight.\",\n",
    "    \n",
    "    \"Party Animal\": \"Hey! If life is a party, I'm living it 24/7. From electrifying club nights to epic music festivals, I'm all about the energy and pulse of the nightlife. I'm on the lookout for someone who matches my enthusiasm for fun, dance, and unforgettable nights out. If you're someone who lives for the moment and loves the spotlight as much as I do, let's make every night legendary.\",\n",
    "    \n",
    "    \"Adult Entertainment Professional\": \"Hello! In the world of adult entertainment, I'm dedicated to my craft, exploring the spectrum of human desire with artistry and openness. Beyond the camera, I'm just like anyone else, with hobbies and interests that range from the great outdoors to culinary arts. I value honesty, respect, and open communication in all my interactions. I'm here to connect with those who see beyond labels, eager for genuine connections and shared interests.\",\n",
    "    \n",
    "    \"Vegan\": \"Hi! My vegan journey is a reflection of my ethics, health, and environmental consciousness. It's about making compassionate choices that align with my values. I'm passionate about creating delectable vegan dishes and exploring sustainable living in all its forms. I'm here to meet someone who either shares this lifestyle or is open to exploring it together. Whether we're trying new recipes or enjoying nature's beauty, let's inspire each other towards a more compassionate, sustainable world.\",\n",
    "    \n",
    "    \"James Evans\": \"I am the Director of the Knowledge Lab, a Fellow in the Computation Institute, and the Co-Director for the Masters in Computational Social Science Program. In addition to my leadership roles, I hold the position of Max Palevsky Professor in Sociology. My research delves into the collective system of thinking and knowing, exploring everything from the distribution of attention and intuition to the origin of ideas and shared habits of reasoning, including processes of agreement and dispute, as well as the accumulation of certainty and doubt. I am particularly fascinated by innovation—how new ideas and practices take shape and the influence of social and technical institutions like the Internet, markets, and collaborations on collective cognition and discovery. My work primarily focuses on the collective system of thinking and knowing, examining the distribution of attention and intuition, the origin of ideas, and shared habits of reasoning, alongside the dynamics of agreement and dispute, and the nuanced texture of human understanding, including its novelty, ambiguity, and topology. Innovation captures my interest, especially in how new ideas and practices emerge and the role that social and technical institutions play in the collective process of cognition and discovery. Much of my research centers on modern science and technology, but I also delve into other knowledge domains such as news, law, religion, gossip, hunches, and historical modes of thinking and knowing. I am committed to creating novel observatories for human understanding and action, utilizing crowd sourcing, information extraction from text and images, and distributed sensors like RFID tags and cell phones. My approach includes using machine learning, generative modeling, and social and semantic network representations to explore knowledge processes, enhance interpretive and field methods, and develop alternatives to current discovery regimes. My research receives support from the National Science Foundation, the National Institutes of Health, the Templeton Foundation, and other sources. It has been published in prestigious journals such as Science, American Journal of Sociology, Social Studies of Science, and Administrative Science Quarterly, among others. My work has also been featured in major media outlets like Nature, The Economist, Atlantic Monthly, Wired, NPR, BBC, El País, CNN, and many more. At the University of Chicago, I lead the Knowledge Lab, offering collaborative, granting, and employment opportunities, along with ongoing seminars. I sponsor the Computational Social Science workshop alongside John Brehm, and the Knowledge-Value workshop with John Kelly, and co-organize the Rational Choice workshop with Gary Becker, Richard Posner, and Glen Weyl. I teach courses on the history of modern science, science studies, computational content analysis, and Internet and Society. Before joining Chicago, I earned my doctorate in sociology from Stanford University, worked as a research associate in the Negotiation, Organizations, and Markets group at Harvard Business School, founded a private high school focused on project-based arts education, and completed a BA in Anthropology and Economics at Brigham Young University.\"\n",
    "}"
   ],
   "metadata": {
    "collapsed": false,
    "ExecuteTime": {
     "end_time": "2024-03-01T04:33:00.088080Z",
     "start_time": "2024-03-01T04:33:00.074728Z"
    }
   },
   "id": "1152f299bcc24322",
   "execution_count": 18
  },
  {
   "cell_type": "code",
   "outputs": [],
   "source": [
    "# turn dating_profiles into a dataframe\n",
    "profile_df = pd.DataFrame({'profile': list(dating_profiles.keys()), 'description': list(dating_profiles.values())})"
   ],
   "metadata": {
    "collapsed": false,
    "ExecuteTime": {
     "end_time": "2024-03-01T04:34:24.416368Z",
     "start_time": "2024-03-01T04:34:24.411054Z"
    }
   },
   "id": "ea34be4cc0c0c596",
   "execution_count": 19
  },
  {
   "cell_type": "code",
   "outputs": [
    {
     "data": {
      "text/plain": "                  profile                                        description\n0               Housewife  Hello! I'm a devoted homemaker, cherishing eve...\n1  One-Night Stand Seeker  Hey! I'm all about seizing the day and embraci...\n2                    DINK  Greetings! I'm deeply invested in my career an...",
      "text/html": "<div>\n<style scoped>\n    .dataframe tbody tr th:only-of-type {\n        vertical-align: middle;\n    }\n\n    .dataframe tbody tr th {\n        vertical-align: top;\n    }\n\n    .dataframe thead th {\n        text-align: right;\n    }\n</style>\n<table border=\"1\" class=\"dataframe\">\n  <thead>\n    <tr style=\"text-align: right;\">\n      <th></th>\n      <th>profile</th>\n      <th>description</th>\n    </tr>\n  </thead>\n  <tbody>\n    <tr>\n      <th>0</th>\n      <td>Housewife</td>\n      <td>Hello! I'm a devoted homemaker, cherishing eve...</td>\n    </tr>\n    <tr>\n      <th>1</th>\n      <td>One-Night Stand Seeker</td>\n      <td>Hey! I'm all about seizing the day and embraci...</td>\n    </tr>\n    <tr>\n      <th>2</th>\n      <td>DINK</td>\n      <td>Greetings! I'm deeply invested in my career an...</td>\n    </tr>\n  </tbody>\n</table>\n</div>"
     },
     "execution_count": 20,
     "metadata": {},
     "output_type": "execute_result"
    }
   ],
   "source": [
    "# preview the profile_df\n",
    "profile_df.head(3)"
   ],
   "metadata": {
    "collapsed": false,
    "ExecuteTime": {
     "end_time": "2024-03-01T04:34:39.837423Z",
     "start_time": "2024-03-01T04:34:39.805825Z"
    }
   },
   "id": "ebec148af210815a",
   "execution_count": 20
  },
  {
   "cell_type": "code",
   "outputs": [],
   "source": [
    "# apply the function to the profile_df\n",
    "profile_df['embedding'] = profile_df['description'].apply(get_embedding)"
   ],
   "metadata": {
    "collapsed": false,
    "ExecuteTime": {
     "end_time": "2024-03-01T04:36:28.865167Z",
     "start_time": "2024-03-01T04:36:22.251203Z"
    }
   },
   "id": "b5aded830c3e59a8",
   "execution_count": 21
  },
  {
   "cell_type": "code",
   "outputs": [],
   "source": [
    "# save the trait_df to a csv file\n",
    "profile_df.to_csv('description_embedding_df.csv', index=False)"
   ],
   "metadata": {
    "collapsed": false,
    "ExecuteTime": {
     "end_time": "2024-03-01T04:37:19.887312Z",
     "start_time": "2024-03-01T04:37:19.575283Z"
    }
   },
   "id": "773bd8d2d43f22e0",
   "execution_count": 22
  }
 ],
 "metadata": {
  "kernelspec": {
   "display_name": "Python 3",
   "language": "python",
   "name": "python3"
  },
  "language_info": {
   "codemirror_mode": {
    "name": "ipython",
    "version": 2
   },
   "file_extension": ".py",
   "mimetype": "text/x-python",
   "name": "python",
   "nbconvert_exporter": "python",
   "pygments_lexer": "ipython2",
   "version": "2.7.6"
  }
 },
 "nbformat": 4,
 "nbformat_minor": 5
}
