{
 "cells": [
  {
   "cell_type": "markdown",
   "metadata": {},
   "source": [
    "# Task implementation"
   ]
  },
  {
   "cell_type": "markdown",
   "metadata": {},
   "source": [
    "- re-calculate DT and LR model performance using different evaluation metrics (e.g., confusion matrix, precision/- recall/f1, roc_auc_score/roc_curve)\n",
    "- interpret the model performance to understand the advantage and disadvantage of each model\n",
    "- apply gridsearchcv to find the most suitable hyperparameters for each model\n",
    "- with the best hyperparameter setting you find in last step, apply KFold cross validation to validate your model performance on each fold\n",
    "[optional] explore one of the ensemble learning methods to improve your model performance"
   ]
  },
  {
   "cell_type": "markdown",
   "metadata": {},
   "source": [
    "# Data Overview\n",
    "\n",
    "## Target Variable:\n",
    "- belief: category, the religious belief status of the individual, used to classify Atheism(0) and Theism(1).\n",
    "\n",
    "## Continuous/Numeric Variables:\n",
    "- age: int64, the age of the user.\n",
    "- height: float64, the height of the user in centimeters.\n",
    "- income: int64, the income of the user.\n",
    "- seriousness_degree: float64, the degree of seriousness about religion. (0 = unspecified ,1-4 = not serious to very serious)\n",
    "\n",
    "## Categorical Variables:\n",
    "- status: category, relationship status.\n",
    "- sex: category, gender.\n",
    "- orientation: category, sexual orientation.\n",
    "- body_type: category, body type.\n",
    "- diet: category, dietary habits.\n",
    "- drinks: category, alcohol consumption habits.\n",
    "- drugs: category, drug usage.\n",
    "- education: category, educational attainment.\n",
    "- ethnicity: category, ethnic background.\n",
    "- job: category, employment description.\n",
    "- location: category, user location.\n",
    "- offspring: category, children status.\n",
    "- pets: category, pet preferences.\n",
    "- religion: category, religious background.\n",
    "- sign: category, astrological symbol.\n",
    "- smokes: category, smoking consumption.\n",
    "- speaks: category, language spoken.\n",
    "- education_clean: category, cleaned and simplified education information.\n",
    "- education_final: category, finalized education information after processing.\n",
    "- cleaned_religion: category, cleaned version of religious background.\n",
    "\n",
    "## Text Variables:\n",
    "- My self summary: object, a summary written by the user about themselves.\n",
    "- What I’m doing with my life: object, user's description of their current life status.\n",
    "- I’m really good at: object, what the user describes as their strengths.\n",
    "- The first thing people usually notice about me: object, what the user thinks people notice about them first.\n",
    "- Favorite books, movies, show, music, and food: object, user's favorites in books, movies, shows, music, and food.\n",
    "- The six things I could never do without: object, things the user considers essential in their life.\n",
    "- I spend a lot of time thinking about: object, topics the user often thinks about.\n",
    "- On a typical Friday night I am: object, user's typical activities on a Friday night.\n",
    "- The most private thing I am willing to admit: object, something personal the user is willing to share.\n",
    "- You should message me if…: object, user's criteria for others to contact them.\n",
    "- merged_profile: object, combined text from all essay sections.\n"
   ]
  },
  {
   "cell_type": "markdown",
   "metadata": {},
   "source": [
    "## Selection: \n",
    "### Bagging - RF\n",
    "### &\n",
    "### Regression, generally not the best suit for classification task\n",
    " "
   ]
  },
  {
   "cell_type": "code",
   "execution_count": 86,
   "metadata": {},
   "outputs": [],
   "source": [
    "# machine learning and visualization libraries\n",
    "import os\n",
    "import numpy as np\n",
    "import pandas as pd\n",
    "\n",
    "from sklearn.ensemble import RandomForestClassifier\n",
    "from sklearn.model_selection import train_test_split\n",
    "\n",
    "import seaborn as sns\n",
    "import matplotlib.pyplot as plt\n",
    "%matplotlib inline\n",
    "\n",
    "import numpy as np\n",
    "from collections import Counter\n",
    "from sklearn.linear_model import LogisticRegression\n",
    "from sklearn.metrics import confusion_matrix\n",
    "from sklearn.metrics import classification_report\n",
    "from sklearn.metrics import roc_curve, roc_auc_score\n",
    "from sklearn.metrics import make_scorer, accuracy_score\n",
    "from sklearn.model_selection import cross_validate\n",
    "from sklearn.model_selection import KFold, cross_val_score\n",
    "from sklearn.model_selection import GridSearchCV\n",
    "\n",
    "import matplotlib.pyplot as plt\n",
    "%matplotlib inline"
   ]
  },
  {
   "cell_type": "markdown",
   "metadata": {},
   "source": [
    "In this task, the goal is to predict one's religious belief based on the following features:\n",
    "\n",
    "#8 Catgorical:\n",
    "diet(clean), \n",
    "drinks,\n",
    "etnicity(clean), \n",
    "education(final), \n",
    "status, \n",
    "drugs, \n",
    "smokes, \n",
    "orientation,\n",
    "job(clean)\n",
    "\n",
    "#2 Num:\n",
    "age, \n",
    "height\n",
    "\n",
    "$ Tagert:\n",
    "belief"
   ]
  },
  {
   "cell_type": "code",
   "execution_count": 25,
   "metadata": {},
   "outputs": [
    {
     "name": "stdout",
     "output_type": "stream",
     "text": [
      "(16597, 74)\n"
     ]
    },
    {
     "data": {
      "text/html": [
       "<div>\n",
       "<style scoped>\n",
       "    .dataframe tbody tr th:only-of-type {\n",
       "        vertical-align: middle;\n",
       "    }\n",
       "\n",
       "    .dataframe tbody tr th {\n",
       "        vertical-align: top;\n",
       "    }\n",
       "\n",
       "    .dataframe thead th {\n",
       "        text-align: right;\n",
       "    }\n",
       "</style>\n",
       "<table border=\"1\" class=\"dataframe\">\n",
       "  <thead>\n",
       "    <tr style=\"text-align: right;\">\n",
       "      <th></th>\n",
       "      <th>Unnamed: 0</th>\n",
       "      <th>age</th>\n",
       "      <th>height</th>\n",
       "      <th>belief</th>\n",
       "      <th>diet_clean_anything</th>\n",
       "      <th>diet_clean_halal</th>\n",
       "      <th>diet_clean_kosher</th>\n",
       "      <th>diet_clean_other</th>\n",
       "      <th>diet_clean_unknown</th>\n",
       "      <th>diet_clean_vegan</th>\n",
       "      <th>...</th>\n",
       "      <th>job_clean_military</th>\n",
       "      <th>job_clean_other</th>\n",
       "      <th>job_clean_political</th>\n",
       "      <th>job_clean_rather not say</th>\n",
       "      <th>job_clean_retired</th>\n",
       "      <th>job_clean_sales</th>\n",
       "      <th>job_clean_science</th>\n",
       "      <th>job_clean_student</th>\n",
       "      <th>job_clean_transportation</th>\n",
       "      <th>job_clean_unemployed</th>\n",
       "    </tr>\n",
       "  </thead>\n",
       "  <tbody>\n",
       "    <tr>\n",
       "      <th>0</th>\n",
       "      <td>7</td>\n",
       "      <td>31</td>\n",
       "      <td>65.0</td>\n",
       "      <td>1</td>\n",
       "      <td>1.0</td>\n",
       "      <td>0.0</td>\n",
       "      <td>0.0</td>\n",
       "      <td>0.0</td>\n",
       "      <td>0.0</td>\n",
       "      <td>0.0</td>\n",
       "      <td>...</td>\n",
       "      <td>0.0</td>\n",
       "      <td>0.0</td>\n",
       "      <td>0.0</td>\n",
       "      <td>0.0</td>\n",
       "      <td>0.0</td>\n",
       "      <td>0.0</td>\n",
       "      <td>0.0</td>\n",
       "      <td>0.0</td>\n",
       "      <td>0.0</td>\n",
       "      <td>0.0</td>\n",
       "    </tr>\n",
       "    <tr>\n",
       "      <th>1</th>\n",
       "      <td>9</td>\n",
       "      <td>37</td>\n",
       "      <td>65.0</td>\n",
       "      <td>0</td>\n",
       "      <td>1.0</td>\n",
       "      <td>0.0</td>\n",
       "      <td>0.0</td>\n",
       "      <td>0.0</td>\n",
       "      <td>0.0</td>\n",
       "      <td>0.0</td>\n",
       "      <td>...</td>\n",
       "      <td>0.0</td>\n",
       "      <td>0.0</td>\n",
       "      <td>0.0</td>\n",
       "      <td>0.0</td>\n",
       "      <td>0.0</td>\n",
       "      <td>0.0</td>\n",
       "      <td>0.0</td>\n",
       "      <td>1.0</td>\n",
       "      <td>0.0</td>\n",
       "      <td>0.0</td>\n",
       "    </tr>\n",
       "    <tr>\n",
       "      <th>2</th>\n",
       "      <td>11</td>\n",
       "      <td>28</td>\n",
       "      <td>72.0</td>\n",
       "      <td>1</td>\n",
       "      <td>1.0</td>\n",
       "      <td>0.0</td>\n",
       "      <td>0.0</td>\n",
       "      <td>0.0</td>\n",
       "      <td>0.0</td>\n",
       "      <td>0.0</td>\n",
       "      <td>...</td>\n",
       "      <td>0.0</td>\n",
       "      <td>0.0</td>\n",
       "      <td>0.0</td>\n",
       "      <td>0.0</td>\n",
       "      <td>0.0</td>\n",
       "      <td>0.0</td>\n",
       "      <td>0.0</td>\n",
       "      <td>0.0</td>\n",
       "      <td>0.0</td>\n",
       "      <td>0.0</td>\n",
       "    </tr>\n",
       "    <tr>\n",
       "      <th>3</th>\n",
       "      <td>13</td>\n",
       "      <td>30</td>\n",
       "      <td>66.0</td>\n",
       "      <td>1</td>\n",
       "      <td>1.0</td>\n",
       "      <td>0.0</td>\n",
       "      <td>0.0</td>\n",
       "      <td>0.0</td>\n",
       "      <td>0.0</td>\n",
       "      <td>0.0</td>\n",
       "      <td>...</td>\n",
       "      <td>0.0</td>\n",
       "      <td>0.0</td>\n",
       "      <td>0.0</td>\n",
       "      <td>0.0</td>\n",
       "      <td>0.0</td>\n",
       "      <td>1.0</td>\n",
       "      <td>0.0</td>\n",
       "      <td>0.0</td>\n",
       "      <td>0.0</td>\n",
       "      <td>0.0</td>\n",
       "    </tr>\n",
       "    <tr>\n",
       "      <th>4</th>\n",
       "      <td>14</td>\n",
       "      <td>29</td>\n",
       "      <td>62.0</td>\n",
       "      <td>1</td>\n",
       "      <td>1.0</td>\n",
       "      <td>0.0</td>\n",
       "      <td>0.0</td>\n",
       "      <td>0.0</td>\n",
       "      <td>0.0</td>\n",
       "      <td>0.0</td>\n",
       "      <td>...</td>\n",
       "      <td>0.0</td>\n",
       "      <td>1.0</td>\n",
       "      <td>0.0</td>\n",
       "      <td>0.0</td>\n",
       "      <td>0.0</td>\n",
       "      <td>0.0</td>\n",
       "      <td>0.0</td>\n",
       "      <td>0.0</td>\n",
       "      <td>0.0</td>\n",
       "      <td>0.0</td>\n",
       "    </tr>\n",
       "    <tr>\n",
       "      <th>...</th>\n",
       "      <td>...</td>\n",
       "      <td>...</td>\n",
       "      <td>...</td>\n",
       "      <td>...</td>\n",
       "      <td>...</td>\n",
       "      <td>...</td>\n",
       "      <td>...</td>\n",
       "      <td>...</td>\n",
       "      <td>...</td>\n",
       "      <td>...</td>\n",
       "      <td>...</td>\n",
       "      <td>...</td>\n",
       "      <td>...</td>\n",
       "      <td>...</td>\n",
       "      <td>...</td>\n",
       "      <td>...</td>\n",
       "      <td>...</td>\n",
       "      <td>...</td>\n",
       "      <td>...</td>\n",
       "      <td>...</td>\n",
       "      <td>...</td>\n",
       "    </tr>\n",
       "    <tr>\n",
       "      <th>16592</th>\n",
       "      <td>59602</td>\n",
       "      <td>29</td>\n",
       "      <td>75.0</td>\n",
       "      <td>1</td>\n",
       "      <td>1.0</td>\n",
       "      <td>0.0</td>\n",
       "      <td>0.0</td>\n",
       "      <td>0.0</td>\n",
       "      <td>0.0</td>\n",
       "      <td>0.0</td>\n",
       "      <td>...</td>\n",
       "      <td>0.0</td>\n",
       "      <td>0.0</td>\n",
       "      <td>0.0</td>\n",
       "      <td>0.0</td>\n",
       "      <td>0.0</td>\n",
       "      <td>0.0</td>\n",
       "      <td>1.0</td>\n",
       "      <td>0.0</td>\n",
       "      <td>0.0</td>\n",
       "      <td>0.0</td>\n",
       "    </tr>\n",
       "    <tr>\n",
       "      <th>16593</th>\n",
       "      <td>59603</td>\n",
       "      <td>27</td>\n",
       "      <td>68.0</td>\n",
       "      <td>0</td>\n",
       "      <td>0.0</td>\n",
       "      <td>0.0</td>\n",
       "      <td>0.0</td>\n",
       "      <td>0.0</td>\n",
       "      <td>0.0</td>\n",
       "      <td>0.0</td>\n",
       "      <td>...</td>\n",
       "      <td>0.0</td>\n",
       "      <td>0.0</td>\n",
       "      <td>0.0</td>\n",
       "      <td>0.0</td>\n",
       "      <td>0.0</td>\n",
       "      <td>0.0</td>\n",
       "      <td>0.0</td>\n",
       "      <td>0.0</td>\n",
       "      <td>0.0</td>\n",
       "      <td>0.0</td>\n",
       "    </tr>\n",
       "    <tr>\n",
       "      <th>16594</th>\n",
       "      <td>59609</td>\n",
       "      <td>25</td>\n",
       "      <td>61.0</td>\n",
       "      <td>0</td>\n",
       "      <td>1.0</td>\n",
       "      <td>0.0</td>\n",
       "      <td>0.0</td>\n",
       "      <td>0.0</td>\n",
       "      <td>0.0</td>\n",
       "      <td>0.0</td>\n",
       "      <td>...</td>\n",
       "      <td>0.0</td>\n",
       "      <td>1.0</td>\n",
       "      <td>0.0</td>\n",
       "      <td>0.0</td>\n",
       "      <td>0.0</td>\n",
       "      <td>0.0</td>\n",
       "      <td>0.0</td>\n",
       "      <td>0.0</td>\n",
       "      <td>0.0</td>\n",
       "      <td>0.0</td>\n",
       "    </tr>\n",
       "    <tr>\n",
       "      <th>16595</th>\n",
       "      <td>59614</td>\n",
       "      <td>59</td>\n",
       "      <td>62.0</td>\n",
       "      <td>1</td>\n",
       "      <td>0.0</td>\n",
       "      <td>0.0</td>\n",
       "      <td>0.0</td>\n",
       "      <td>0.0</td>\n",
       "      <td>1.0</td>\n",
       "      <td>0.0</td>\n",
       "      <td>...</td>\n",
       "      <td>0.0</td>\n",
       "      <td>0.0</td>\n",
       "      <td>0.0</td>\n",
       "      <td>0.0</td>\n",
       "      <td>0.0</td>\n",
       "      <td>1.0</td>\n",
       "      <td>0.0</td>\n",
       "      <td>0.0</td>\n",
       "      <td>0.0</td>\n",
       "      <td>0.0</td>\n",
       "    </tr>\n",
       "    <tr>\n",
       "      <th>16596</th>\n",
       "      <td>59616</td>\n",
       "      <td>42</td>\n",
       "      <td>71.0</td>\n",
       "      <td>1</td>\n",
       "      <td>1.0</td>\n",
       "      <td>0.0</td>\n",
       "      <td>0.0</td>\n",
       "      <td>0.0</td>\n",
       "      <td>0.0</td>\n",
       "      <td>0.0</td>\n",
       "      <td>...</td>\n",
       "      <td>0.0</td>\n",
       "      <td>0.0</td>\n",
       "      <td>0.0</td>\n",
       "      <td>0.0</td>\n",
       "      <td>0.0</td>\n",
       "      <td>0.0</td>\n",
       "      <td>0.0</td>\n",
       "      <td>0.0</td>\n",
       "      <td>0.0</td>\n",
       "      <td>0.0</td>\n",
       "    </tr>\n",
       "  </tbody>\n",
       "</table>\n",
       "<p>16597 rows × 74 columns</p>\n",
       "</div>"
      ],
      "text/plain": [
       "       Unnamed: 0  age  height  belief  diet_clean_anything  diet_clean_halal  \\\n",
       "0               7   31    65.0       1                  1.0               0.0   \n",
       "1               9   37    65.0       0                  1.0               0.0   \n",
       "2              11   28    72.0       1                  1.0               0.0   \n",
       "3              13   30    66.0       1                  1.0               0.0   \n",
       "4              14   29    62.0       1                  1.0               0.0   \n",
       "...           ...  ...     ...     ...                  ...               ...   \n",
       "16592       59602   29    75.0       1                  1.0               0.0   \n",
       "16593       59603   27    68.0       0                  0.0               0.0   \n",
       "16594       59609   25    61.0       0                  1.0               0.0   \n",
       "16595       59614   59    62.0       1                  0.0               0.0   \n",
       "16596       59616   42    71.0       1                  1.0               0.0   \n",
       "\n",
       "       diet_clean_kosher  diet_clean_other  diet_clean_unknown  \\\n",
       "0                    0.0               0.0                 0.0   \n",
       "1                    0.0               0.0                 0.0   \n",
       "2                    0.0               0.0                 0.0   \n",
       "3                    0.0               0.0                 0.0   \n",
       "4                    0.0               0.0                 0.0   \n",
       "...                  ...               ...                 ...   \n",
       "16592                0.0               0.0                 0.0   \n",
       "16593                0.0               0.0                 0.0   \n",
       "16594                0.0               0.0                 0.0   \n",
       "16595                0.0               0.0                 1.0   \n",
       "16596                0.0               0.0                 0.0   \n",
       "\n",
       "       diet_clean_vegan  ...  job_clean_military  job_clean_other  \\\n",
       "0                   0.0  ...                 0.0              0.0   \n",
       "1                   0.0  ...                 0.0              0.0   \n",
       "2                   0.0  ...                 0.0              0.0   \n",
       "3                   0.0  ...                 0.0              0.0   \n",
       "4                   0.0  ...                 0.0              1.0   \n",
       "...                 ...  ...                 ...              ...   \n",
       "16592               0.0  ...                 0.0              0.0   \n",
       "16593               0.0  ...                 0.0              0.0   \n",
       "16594               0.0  ...                 0.0              1.0   \n",
       "16595               0.0  ...                 0.0              0.0   \n",
       "16596               0.0  ...                 0.0              0.0   \n",
       "\n",
       "       job_clean_political  job_clean_rather not say  job_clean_retired  \\\n",
       "0                      0.0                       0.0                0.0   \n",
       "1                      0.0                       0.0                0.0   \n",
       "2                      0.0                       0.0                0.0   \n",
       "3                      0.0                       0.0                0.0   \n",
       "4                      0.0                       0.0                0.0   \n",
       "...                    ...                       ...                ...   \n",
       "16592                  0.0                       0.0                0.0   \n",
       "16593                  0.0                       0.0                0.0   \n",
       "16594                  0.0                       0.0                0.0   \n",
       "16595                  0.0                       0.0                0.0   \n",
       "16596                  0.0                       0.0                0.0   \n",
       "\n",
       "       job_clean_sales  job_clean_science  job_clean_student  \\\n",
       "0                  0.0                0.0                0.0   \n",
       "1                  0.0                0.0                1.0   \n",
       "2                  0.0                0.0                0.0   \n",
       "3                  1.0                0.0                0.0   \n",
       "4                  0.0                0.0                0.0   \n",
       "...                ...                ...                ...   \n",
       "16592              0.0                1.0                0.0   \n",
       "16593              0.0                0.0                0.0   \n",
       "16594              0.0                0.0                0.0   \n",
       "16595              1.0                0.0                0.0   \n",
       "16596              0.0                0.0                0.0   \n",
       "\n",
       "       job_clean_transportation  job_clean_unemployed  \n",
       "0                           0.0                   0.0  \n",
       "1                           0.0                   0.0  \n",
       "2                           0.0                   0.0  \n",
       "3                           0.0                   0.0  \n",
       "4                           0.0                   0.0  \n",
       "...                         ...                   ...  \n",
       "16592                       0.0                   0.0  \n",
       "16593                       0.0                   0.0  \n",
       "16594                       0.0                   0.0  \n",
       "16595                       0.0                   0.0  \n",
       "16596                       0.0                   0.0  \n",
       "\n",
       "[16597 rows x 74 columns]"
      ]
     },
     "execution_count": 25,
     "metadata": {},
     "output_type": "execute_result"
    }
   ],
   "source": [
    "# Load the training data\n",
    "# this data contains the encoded and cleaned data and TARGET variable 'belief'\n",
    "df_X = pd.read_csv('/Users/adhdtreamentii/Desktop/UChicago 2024/UChicago Winter 24/MACSS-30100/Final/data/encoded_cleanedcat_dataX.csv')\n",
    "\n",
    "print(df_X.shape)\n",
    "df_X"
   ]
  },
  {
   "cell_type": "code",
   "execution_count": 26,
   "metadata": {},
   "outputs": [
    {
     "name": "stdout",
     "output_type": "stream",
     "text": [
      "training shape:(16597, 72)\n",
      "target shape:(16597, 1)\n"
     ]
    }
   ],
   "source": [
    "df_y = df_X[['belief']]\n",
    "\n",
    "df_X = df_X.drop(columns=['belief'])\n",
    "df_X = df_X.drop(columns=['Unnamed: 0']) # drop the index column from uncleaned data\n",
    "\n",
    "print(f'training shape:{df_X.shape}')\n",
    "print(f'target shape:{df_y.shape}')"
   ]
  },
  {
   "cell_type": "code",
   "execution_count": 27,
   "metadata": {},
   "outputs": [
    {
     "data": {
      "text/plain": [
       "((11617, 72), (4980, 72))"
      ]
     },
     "execution_count": 27,
     "metadata": {},
     "output_type": "execute_result"
    }
   ],
   "source": [
    "# Create split with Sklearn\n",
    "df_X_train, df_X_test, df_y_train, df_y_test  = train_test_split(df_X, df_y, test_size = 0.3,random_state = 42)\n",
    "\n",
    "# View the training and testing feature matrix \n",
    "df_X_train.shape, df_X_test.shape"
   ]
  },
  {
   "cell_type": "code",
   "execution_count": 68,
   "metadata": {},
   "outputs": [
    {
     "data": {
      "text/html": [
       "<div>\n",
       "<style scoped>\n",
       "    .dataframe tbody tr th:only-of-type {\n",
       "        vertical-align: middle;\n",
       "    }\n",
       "\n",
       "    .dataframe tbody tr th {\n",
       "        vertical-align: top;\n",
       "    }\n",
       "\n",
       "    .dataframe thead th {\n",
       "        text-align: right;\n",
       "    }\n",
       "</style>\n",
       "<table border=\"1\" class=\"dataframe\">\n",
       "  <thead>\n",
       "    <tr style=\"text-align: right;\">\n",
       "      <th></th>\n",
       "      <th>age</th>\n",
       "      <th>height</th>\n",
       "      <th>diet_clean_anything</th>\n",
       "      <th>diet_clean_halal</th>\n",
       "      <th>diet_clean_kosher</th>\n",
       "      <th>diet_clean_other</th>\n",
       "      <th>diet_clean_unknown</th>\n",
       "      <th>diet_clean_vegan</th>\n",
       "      <th>diet_clean_vegetarian</th>\n",
       "      <th>drinks_desperately</th>\n",
       "      <th>...</th>\n",
       "      <th>job_clean_military</th>\n",
       "      <th>job_clean_other</th>\n",
       "      <th>job_clean_political</th>\n",
       "      <th>job_clean_rather not say</th>\n",
       "      <th>job_clean_retired</th>\n",
       "      <th>job_clean_sales</th>\n",
       "      <th>job_clean_science</th>\n",
       "      <th>job_clean_student</th>\n",
       "      <th>job_clean_transportation</th>\n",
       "      <th>job_clean_unemployed</th>\n",
       "    </tr>\n",
       "  </thead>\n",
       "  <tbody>\n",
       "    <tr>\n",
       "      <th>13450</th>\n",
       "      <td>23</td>\n",
       "      <td>66.0</td>\n",
       "      <td>0.0</td>\n",
       "      <td>0.0</td>\n",
       "      <td>0.0</td>\n",
       "      <td>0.0</td>\n",
       "      <td>1.0</td>\n",
       "      <td>0.0</td>\n",
       "      <td>0.0</td>\n",
       "      <td>0.0</td>\n",
       "      <td>...</td>\n",
       "      <td>0.0</td>\n",
       "      <td>0.0</td>\n",
       "      <td>0.0</td>\n",
       "      <td>0.0</td>\n",
       "      <td>0.0</td>\n",
       "      <td>0.0</td>\n",
       "      <td>0.0</td>\n",
       "      <td>0.0</td>\n",
       "      <td>0.0</td>\n",
       "      <td>0.0</td>\n",
       "    </tr>\n",
       "    <tr>\n",
       "      <th>10118</th>\n",
       "      <td>49</td>\n",
       "      <td>66.0</td>\n",
       "      <td>0.0</td>\n",
       "      <td>0.0</td>\n",
       "      <td>0.0</td>\n",
       "      <td>0.0</td>\n",
       "      <td>0.0</td>\n",
       "      <td>0.0</td>\n",
       "      <td>1.0</td>\n",
       "      <td>0.0</td>\n",
       "      <td>...</td>\n",
       "      <td>0.0</td>\n",
       "      <td>0.0</td>\n",
       "      <td>0.0</td>\n",
       "      <td>0.0</td>\n",
       "      <td>0.0</td>\n",
       "      <td>0.0</td>\n",
       "      <td>0.0</td>\n",
       "      <td>0.0</td>\n",
       "      <td>0.0</td>\n",
       "      <td>0.0</td>\n",
       "    </tr>\n",
       "    <tr>\n",
       "      <th>1432</th>\n",
       "      <td>24</td>\n",
       "      <td>66.0</td>\n",
       "      <td>1.0</td>\n",
       "      <td>0.0</td>\n",
       "      <td>0.0</td>\n",
       "      <td>0.0</td>\n",
       "      <td>0.0</td>\n",
       "      <td>0.0</td>\n",
       "      <td>0.0</td>\n",
       "      <td>0.0</td>\n",
       "      <td>...</td>\n",
       "      <td>0.0</td>\n",
       "      <td>0.0</td>\n",
       "      <td>0.0</td>\n",
       "      <td>0.0</td>\n",
       "      <td>0.0</td>\n",
       "      <td>0.0</td>\n",
       "      <td>0.0</td>\n",
       "      <td>1.0</td>\n",
       "      <td>0.0</td>\n",
       "      <td>0.0</td>\n",
       "    </tr>\n",
       "    <tr>\n",
       "      <th>12239</th>\n",
       "      <td>34</td>\n",
       "      <td>71.0</td>\n",
       "      <td>1.0</td>\n",
       "      <td>0.0</td>\n",
       "      <td>0.0</td>\n",
       "      <td>0.0</td>\n",
       "      <td>0.0</td>\n",
       "      <td>0.0</td>\n",
       "      <td>0.0</td>\n",
       "      <td>0.0</td>\n",
       "      <td>...</td>\n",
       "      <td>0.0</td>\n",
       "      <td>0.0</td>\n",
       "      <td>0.0</td>\n",
       "      <td>0.0</td>\n",
       "      <td>0.0</td>\n",
       "      <td>0.0</td>\n",
       "      <td>1.0</td>\n",
       "      <td>0.0</td>\n",
       "      <td>0.0</td>\n",
       "      <td>0.0</td>\n",
       "    </tr>\n",
       "    <tr>\n",
       "      <th>7612</th>\n",
       "      <td>24</td>\n",
       "      <td>62.0</td>\n",
       "      <td>0.0</td>\n",
       "      <td>0.0</td>\n",
       "      <td>0.0</td>\n",
       "      <td>1.0</td>\n",
       "      <td>0.0</td>\n",
       "      <td>0.0</td>\n",
       "      <td>0.0</td>\n",
       "      <td>0.0</td>\n",
       "      <td>...</td>\n",
       "      <td>1.0</td>\n",
       "      <td>0.0</td>\n",
       "      <td>0.0</td>\n",
       "      <td>0.0</td>\n",
       "      <td>0.0</td>\n",
       "      <td>0.0</td>\n",
       "      <td>0.0</td>\n",
       "      <td>0.0</td>\n",
       "      <td>0.0</td>\n",
       "      <td>0.0</td>\n",
       "    </tr>\n",
       "    <tr>\n",
       "      <th>...</th>\n",
       "      <td>...</td>\n",
       "      <td>...</td>\n",
       "      <td>...</td>\n",
       "      <td>...</td>\n",
       "      <td>...</td>\n",
       "      <td>...</td>\n",
       "      <td>...</td>\n",
       "      <td>...</td>\n",
       "      <td>...</td>\n",
       "      <td>...</td>\n",
       "      <td>...</td>\n",
       "      <td>...</td>\n",
       "      <td>...</td>\n",
       "      <td>...</td>\n",
       "      <td>...</td>\n",
       "      <td>...</td>\n",
       "      <td>...</td>\n",
       "      <td>...</td>\n",
       "      <td>...</td>\n",
       "      <td>...</td>\n",
       "      <td>...</td>\n",
       "    </tr>\n",
       "    <tr>\n",
       "      <th>11284</th>\n",
       "      <td>23</td>\n",
       "      <td>74.0</td>\n",
       "      <td>0.0</td>\n",
       "      <td>0.0</td>\n",
       "      <td>0.0</td>\n",
       "      <td>0.0</td>\n",
       "      <td>1.0</td>\n",
       "      <td>0.0</td>\n",
       "      <td>0.0</td>\n",
       "      <td>0.0</td>\n",
       "      <td>...</td>\n",
       "      <td>0.0</td>\n",
       "      <td>0.0</td>\n",
       "      <td>0.0</td>\n",
       "      <td>0.0</td>\n",
       "      <td>0.0</td>\n",
       "      <td>0.0</td>\n",
       "      <td>0.0</td>\n",
       "      <td>0.0</td>\n",
       "      <td>0.0</td>\n",
       "      <td>0.0</td>\n",
       "    </tr>\n",
       "    <tr>\n",
       "      <th>11964</th>\n",
       "      <td>24</td>\n",
       "      <td>73.0</td>\n",
       "      <td>1.0</td>\n",
       "      <td>0.0</td>\n",
       "      <td>0.0</td>\n",
       "      <td>0.0</td>\n",
       "      <td>0.0</td>\n",
       "      <td>0.0</td>\n",
       "      <td>0.0</td>\n",
       "      <td>0.0</td>\n",
       "      <td>...</td>\n",
       "      <td>0.0</td>\n",
       "      <td>0.0</td>\n",
       "      <td>0.0</td>\n",
       "      <td>0.0</td>\n",
       "      <td>0.0</td>\n",
       "      <td>0.0</td>\n",
       "      <td>0.0</td>\n",
       "      <td>0.0</td>\n",
       "      <td>0.0</td>\n",
       "      <td>0.0</td>\n",
       "    </tr>\n",
       "    <tr>\n",
       "      <th>5390</th>\n",
       "      <td>40</td>\n",
       "      <td>72.0</td>\n",
       "      <td>0.0</td>\n",
       "      <td>0.0</td>\n",
       "      <td>0.0</td>\n",
       "      <td>0.0</td>\n",
       "      <td>1.0</td>\n",
       "      <td>0.0</td>\n",
       "      <td>0.0</td>\n",
       "      <td>0.0</td>\n",
       "      <td>...</td>\n",
       "      <td>0.0</td>\n",
       "      <td>0.0</td>\n",
       "      <td>0.0</td>\n",
       "      <td>0.0</td>\n",
       "      <td>0.0</td>\n",
       "      <td>0.0</td>\n",
       "      <td>1.0</td>\n",
       "      <td>0.0</td>\n",
       "      <td>0.0</td>\n",
       "      <td>0.0</td>\n",
       "    </tr>\n",
       "    <tr>\n",
       "      <th>860</th>\n",
       "      <td>25</td>\n",
       "      <td>64.0</td>\n",
       "      <td>0.0</td>\n",
       "      <td>0.0</td>\n",
       "      <td>0.0</td>\n",
       "      <td>0.0</td>\n",
       "      <td>1.0</td>\n",
       "      <td>0.0</td>\n",
       "      <td>0.0</td>\n",
       "      <td>0.0</td>\n",
       "      <td>...</td>\n",
       "      <td>0.0</td>\n",
       "      <td>0.0</td>\n",
       "      <td>0.0</td>\n",
       "      <td>0.0</td>\n",
       "      <td>0.0</td>\n",
       "      <td>1.0</td>\n",
       "      <td>0.0</td>\n",
       "      <td>0.0</td>\n",
       "      <td>0.0</td>\n",
       "      <td>0.0</td>\n",
       "    </tr>\n",
       "    <tr>\n",
       "      <th>15795</th>\n",
       "      <td>41</td>\n",
       "      <td>67.0</td>\n",
       "      <td>0.0</td>\n",
       "      <td>0.0</td>\n",
       "      <td>0.0</td>\n",
       "      <td>0.0</td>\n",
       "      <td>0.0</td>\n",
       "      <td>0.0</td>\n",
       "      <td>1.0</td>\n",
       "      <td>0.0</td>\n",
       "      <td>...</td>\n",
       "      <td>0.0</td>\n",
       "      <td>0.0</td>\n",
       "      <td>0.0</td>\n",
       "      <td>0.0</td>\n",
       "      <td>0.0</td>\n",
       "      <td>0.0</td>\n",
       "      <td>0.0</td>\n",
       "      <td>0.0</td>\n",
       "      <td>0.0</td>\n",
       "      <td>0.0</td>\n",
       "    </tr>\n",
       "  </tbody>\n",
       "</table>\n",
       "<p>11617 rows × 72 columns</p>\n",
       "</div>"
      ],
      "text/plain": [
       "       age  height  diet_clean_anything  diet_clean_halal  diet_clean_kosher  \\\n",
       "13450   23    66.0                  0.0               0.0                0.0   \n",
       "10118   49    66.0                  0.0               0.0                0.0   \n",
       "1432    24    66.0                  1.0               0.0                0.0   \n",
       "12239   34    71.0                  1.0               0.0                0.0   \n",
       "7612    24    62.0                  0.0               0.0                0.0   \n",
       "...    ...     ...                  ...               ...                ...   \n",
       "11284   23    74.0                  0.0               0.0                0.0   \n",
       "11964   24    73.0                  1.0               0.0                0.0   \n",
       "5390    40    72.0                  0.0               0.0                0.0   \n",
       "860     25    64.0                  0.0               0.0                0.0   \n",
       "15795   41    67.0                  0.0               0.0                0.0   \n",
       "\n",
       "       diet_clean_other  diet_clean_unknown  diet_clean_vegan  \\\n",
       "13450               0.0                 1.0               0.0   \n",
       "10118               0.0                 0.0               0.0   \n",
       "1432                0.0                 0.0               0.0   \n",
       "12239               0.0                 0.0               0.0   \n",
       "7612                1.0                 0.0               0.0   \n",
       "...                 ...                 ...               ...   \n",
       "11284               0.0                 1.0               0.0   \n",
       "11964               0.0                 0.0               0.0   \n",
       "5390                0.0                 1.0               0.0   \n",
       "860                 0.0                 1.0               0.0   \n",
       "15795               0.0                 0.0               0.0   \n",
       "\n",
       "       diet_clean_vegetarian  drinks_desperately  ...  job_clean_military  \\\n",
       "13450                    0.0                 0.0  ...                 0.0   \n",
       "10118                    1.0                 0.0  ...                 0.0   \n",
       "1432                     0.0                 0.0  ...                 0.0   \n",
       "12239                    0.0                 0.0  ...                 0.0   \n",
       "7612                     0.0                 0.0  ...                 1.0   \n",
       "...                      ...                 ...  ...                 ...   \n",
       "11284                    0.0                 0.0  ...                 0.0   \n",
       "11964                    0.0                 0.0  ...                 0.0   \n",
       "5390                     0.0                 0.0  ...                 0.0   \n",
       "860                      0.0                 0.0  ...                 0.0   \n",
       "15795                    1.0                 0.0  ...                 0.0   \n",
       "\n",
       "       job_clean_other  job_clean_political  job_clean_rather not say  \\\n",
       "13450              0.0                  0.0                       0.0   \n",
       "10118              0.0                  0.0                       0.0   \n",
       "1432               0.0                  0.0                       0.0   \n",
       "12239              0.0                  0.0                       0.0   \n",
       "7612               0.0                  0.0                       0.0   \n",
       "...                ...                  ...                       ...   \n",
       "11284              0.0                  0.0                       0.0   \n",
       "11964              0.0                  0.0                       0.0   \n",
       "5390               0.0                  0.0                       0.0   \n",
       "860                0.0                  0.0                       0.0   \n",
       "15795              0.0                  0.0                       0.0   \n",
       "\n",
       "       job_clean_retired  job_clean_sales  job_clean_science  \\\n",
       "13450                0.0              0.0                0.0   \n",
       "10118                0.0              0.0                0.0   \n",
       "1432                 0.0              0.0                0.0   \n",
       "12239                0.0              0.0                1.0   \n",
       "7612                 0.0              0.0                0.0   \n",
       "...                  ...              ...                ...   \n",
       "11284                0.0              0.0                0.0   \n",
       "11964                0.0              0.0                0.0   \n",
       "5390                 0.0              0.0                1.0   \n",
       "860                  0.0              1.0                0.0   \n",
       "15795                0.0              0.0                0.0   \n",
       "\n",
       "       job_clean_student  job_clean_transportation  job_clean_unemployed  \n",
       "13450                0.0                       0.0                   0.0  \n",
       "10118                0.0                       0.0                   0.0  \n",
       "1432                 1.0                       0.0                   0.0  \n",
       "12239                0.0                       0.0                   0.0  \n",
       "7612                 0.0                       0.0                   0.0  \n",
       "...                  ...                       ...                   ...  \n",
       "11284                0.0                       0.0                   0.0  \n",
       "11964                0.0                       0.0                   0.0  \n",
       "5390                 0.0                       0.0                   0.0  \n",
       "860                  0.0                       0.0                   0.0  \n",
       "15795                0.0                       0.0                   0.0  \n",
       "\n",
       "[11617 rows x 72 columns]"
      ]
     },
     "execution_count": 68,
     "metadata": {},
     "output_type": "execute_result"
    }
   ],
   "source": [
    "df_X_train"
   ]
  },
  {
   "cell_type": "code",
   "execution_count": 71,
   "metadata": {},
   "outputs": [
    {
     "data": {
      "text/html": [
       "<div>\n",
       "<style scoped>\n",
       "    .dataframe tbody tr th:only-of-type {\n",
       "        vertical-align: middle;\n",
       "    }\n",
       "\n",
       "    .dataframe tbody tr th {\n",
       "        vertical-align: top;\n",
       "    }\n",
       "\n",
       "    .dataframe thead th {\n",
       "        text-align: right;\n",
       "    }\n",
       "</style>\n",
       "<table border=\"1\" class=\"dataframe\">\n",
       "  <thead>\n",
       "    <tr style=\"text-align: right;\">\n",
       "      <th></th>\n",
       "      <th>belief</th>\n",
       "    </tr>\n",
       "  </thead>\n",
       "  <tbody>\n",
       "    <tr>\n",
       "      <th>14027</th>\n",
       "      <td>1</td>\n",
       "    </tr>\n",
       "    <tr>\n",
       "      <th>4789</th>\n",
       "      <td>1</td>\n",
       "    </tr>\n",
       "    <tr>\n",
       "      <th>14042</th>\n",
       "      <td>0</td>\n",
       "    </tr>\n",
       "    <tr>\n",
       "      <th>14766</th>\n",
       "      <td>1</td>\n",
       "    </tr>\n",
       "    <tr>\n",
       "      <th>5211</th>\n",
       "      <td>1</td>\n",
       "    </tr>\n",
       "    <tr>\n",
       "      <th>...</th>\n",
       "      <td>...</td>\n",
       "    </tr>\n",
       "    <tr>\n",
       "      <th>7864</th>\n",
       "      <td>1</td>\n",
       "    </tr>\n",
       "    <tr>\n",
       "      <th>13769</th>\n",
       "      <td>1</td>\n",
       "    </tr>\n",
       "    <tr>\n",
       "      <th>2186</th>\n",
       "      <td>0</td>\n",
       "    </tr>\n",
       "    <tr>\n",
       "      <th>10866</th>\n",
       "      <td>1</td>\n",
       "    </tr>\n",
       "    <tr>\n",
       "      <th>13586</th>\n",
       "      <td>0</td>\n",
       "    </tr>\n",
       "  </tbody>\n",
       "</table>\n",
       "<p>4980 rows × 1 columns</p>\n",
       "</div>"
      ],
      "text/plain": [
       "       belief\n",
       "14027       1\n",
       "4789        1\n",
       "14042       0\n",
       "14766       1\n",
       "5211        1\n",
       "...       ...\n",
       "7864        1\n",
       "13769       1\n",
       "2186        0\n",
       "10866       1\n",
       "13586       0\n",
       "\n",
       "[4980 rows x 1 columns]"
      ]
     },
     "execution_count": 71,
     "metadata": {},
     "output_type": "execute_result"
    }
   ],
   "source": [
    "df_y_test"
   ]
  },
  {
   "cell_type": "markdown",
   "metadata": {},
   "source": [
    "## Random Forest classifier\n",
    "\n",
    "In this task, I will use the same data to:\n",
    "- train a [RandomForestClassifier](https://scikit-learn.org/stable/modules/generated/sklearn.ensemble.RandomForestClassifier.html).\n",
    "- report its performance on the test set"
   ]
  },
  {
   "cell_type": "code",
   "execution_count": 28,
   "metadata": {},
   "outputs": [
    {
     "data": {
      "text/plain": [
       "0.737"
      ]
     },
     "execution_count": 28,
     "metadata": {},
     "output_type": "execute_result"
    }
   ],
   "source": [
    "# Instantiate the model\n",
    "rf_clf = RandomForestClassifier(n_estimators = 60, criterion = 'entropy', random_state = 42)\n",
    "\n",
    "# train RFC\n",
    "rf_clf.fit(df_X_train, df_y_train['belief'])\n",
    "\n",
    "# evaluate the random forest classifier on test set \n",
    "float(\"{:.3f}\".format(rf_clf.score(df_X_test, df_y_test['belief'])))"
   ]
  },
  {
   "cell_type": "code",
   "execution_count": 29,
   "metadata": {},
   "outputs": [
    {
     "name": "stderr",
     "output_type": "stream",
     "text": [
      "/opt/anaconda3/envs/aidi/lib/python3.9/site-packages/sklearn/base.py:1152: DataConversionWarning: A column-vector y was passed when a 1d array was expected. Please change the shape of y to (n_samples,), for example using ravel().\n",
      "  return fit_method(estimator, *args, **kwargs)\n"
     ]
    },
    {
     "name": "stdout",
     "output_type": "stream",
     "text": [
      "Testing Accuracy: 0.757\n"
     ]
    }
   ],
   "source": [
    "# modify the model to reduce overfitting\n",
    "\n",
    "rf_clf = RandomForestClassifier(\n",
    "    n_estimators=50,        # number of trees in the forest\n",
    "    criterion='entropy',    \n",
    "    max_depth=20,         # the maximum depth of the tree\n",
    "    min_samples_split=2,    # the minimum number of samples required to split an internal node\n",
    "    min_samples_leaf=3,     # the minimum number of samples required to be at a leaf node\n",
    "    bootstrap=True,         # whether bootstrap samples are used when building trees\n",
    "    random_state=42        \n",
    ")\n",
    "\n",
    "rf_clf.fit(df_X_train, df_y_train)\n",
    "\n",
    "test_accuracy = rf_clf.score(df_X_test, df_y_test)\n",
    "print(\"Testing Accuracy: {:.3f}\".format(test_accuracy))"
   ]
  },
  {
   "cell_type": "code",
   "execution_count": 37,
   "metadata": {},
   "outputs": [
    {
     "name": "stdout",
     "output_type": "stream",
     "text": [
      "4980\n",
      "4980\n",
      "[1 1 0 ... 0 1 0]\n",
      "[1 1 1 ... 0 1 1]\n"
     ]
    }
   ],
   "source": [
    "# prediction results of the testing set\n",
    "y_pred = rf_clf.predict(df_X_test)\n",
    "\n",
    "print(len(df_y_test))\n",
    "# reshape the y_test to match the shape of y_pred, 1d array\n",
    "y_true = np.array(df_y_test).reshape(1, len(df_y_test))[0]\n",
    "\n",
    "print(y_true)\n",
    "print(y_pred)"
   ]
  },
  {
   "cell_type": "markdown",
   "metadata": {},
   "source": [
    "Atheism(0) and Theism(1)."
   ]
  },
  {
   "cell_type": "code",
   "execution_count": 32,
   "metadata": {},
   "outputs": [
    {
     "name": "stdout",
     "output_type": "stream",
     "text": [
      "True Negatives: 400\n",
      "False Positives: 1016\n",
      "False Negatives: 193\n",
      "True Positives: 3371\n"
     ]
    }
   ],
   "source": [
    "conf_matrix = confusion_matrix(df_y_test, y_pred)\n",
    "\n",
    "# extract TN, FP, FN, TP\n",
    "tn, fp, fn, tp = conf_matrix.ravel()\n",
    "\n",
    "print(f\"True Negatives: {tn}\")\n",
    "print(f\"False Positives: {fp}\")\n",
    "print(f\"False Negatives: {fn}\")\n",
    "print(f\"True Positives: {tp}\")\n",
    "\n"
   ]
  },
  {
   "cell_type": "markdown",
   "metadata": {},
   "source": [
    "True Negatives (TN): 400\n",
    "\n",
    "This means that the model correctly predicted 400 instances as Atheism (0), where the actual label was indeed Atheism. In other words, these are the cases where the model correctly identified the absence of Theism.\n",
    "False Positives (FP): 1016\n",
    "\n",
    "These are instances where the model incorrectly predicted Theism (1), but the actual label was Atheism (0). This is a type of error where the model 'falsely' identified Theism when it wasn't actually present.\n",
    "False Negatives (FN): 193\n",
    "\n",
    "This count indicates that there were 193 instances where the model predicted Atheism (0), but the actual label was Theism (1). These are missed opportunities by the model to identify Theism, hence 'false negatives'.\n",
    "True Positives (TP): 3371\n",
    "\n",
    "This large number shows that the model correctly predicted 3371 instances as Theism (1), and these instances were indeed Theism in reality. This is a strong indicator that the model is quite effective in identifying cases of Theism.\n",
    "Interpreting these numbers, I can see that the model is quite good at identifying Theism (True Positives are high), but it also makes a significant number of False Positive errors. This suggests that while the model is adept at recognizing instances of Theism, it also tends to mistakenly classify some Atheism instances as Theism. The relatively high number of False Positives compared to False Negatives could indicate a bias in the model towards predicting Theism.\n",
    "\n"
   ]
  },
  {
   "cell_type": "code",
   "execution_count": 40,
   "metadata": {},
   "outputs": [
    {
     "name": "stdout",
     "output_type": "stream",
     "text": [
      "              precision    recall  f1-score   support\n",
      "\n",
      "           0       0.67      0.28      0.40      1416\n",
      "           1       0.77      0.95      0.85      3564\n",
      "\n",
      "    accuracy                           0.76      4980\n",
      "   macro avg       0.72      0.61      0.62      4980\n",
      "weighted avg       0.74      0.76      0.72      4980\n",
      "\n"
     ]
    }
   ],
   "source": [
    "print(classification_report(y_true, y_pred))"
   ]
  },
  {
   "cell_type": "code",
   "execution_count": 43,
   "metadata": {},
   "outputs": [
    {
     "data": {
      "text/plain": [
       "0.7572289156626506"
      ]
     },
     "execution_count": 43,
     "metadata": {},
     "output_type": "execute_result"
    }
   ],
   "source": [
    "accuracy_score(y_true, y_pred)"
   ]
  },
  {
   "cell_type": "markdown",
   "metadata": {},
   "source": [
    "For Atheism (0.40): The F1-score, which is a balance between precision and recall, is quite low. This indicates a poor performance for Atheism, largely driven by its low recall.\n",
    "\n",
    "Recall (0.28): Only 28% of actual Atheism instances were correctly identified by the model. This low recall indicates that the model is missing a large number of Atheism cases, probably due to the imbalance towards Theism (1416 vs. 3564).\n",
    "\n",
    "The support values show the imbalance in the dataset, with significantly more instances of Theism (3564) than Atheism (1416)."
   ]
  },
  {
   "cell_type": "markdown",
   "metadata": {},
   "source": [
    "The model is biased towards predicting Theism, likely due to the imbalance in the dataset.\n",
    "While the model shows promise(good acc), especially in identifying Theism, its performance on Atheism is suboptimal, highlighting the need for extra effort that address the data imbalance and improve overall model fairness."
   ]
  },
  {
   "cell_type": "markdown",
   "metadata": {},
   "source": [
    "### roc curve"
   ]
  },
  {
   "cell_type": "code",
   "execution_count": 45,
   "metadata": {},
   "outputs": [
    {
     "data": {
      "text/plain": [
       "array([[0.26926777, 0.73073223],\n",
       "       [0.10152921, 0.89847079],\n",
       "       [0.16170282, 0.83829718],\n",
       "       ...,\n",
       "       [0.52500618, 0.47499382],\n",
       "       [0.11491035, 0.88508965],\n",
       "       [0.21161054, 0.78838946]])"
      ]
     },
     "execution_count": 45,
     "metadata": {},
     "output_type": "execute_result"
    }
   ],
   "source": [
    "y_probs = rf_clf.predict_proba(df_X_test)\n",
    "y_probs"
   ]
  },
  {
   "cell_type": "code",
   "execution_count": 47,
   "metadata": {},
   "outputs": [],
   "source": [
    "fpr, tpr, thresholds = roc_curve(df_y_test, y_probs[:, 1])\n"
   ]
  },
  {
   "cell_type": "code",
   "execution_count": 49,
   "metadata": {},
   "outputs": [
    {
     "data": {
      "text/plain": [
       "array([       inf, 0.99216088, 0.97494377, ..., 0.24221019, 0.23660484,\n",
       "       0.19929599])"
      ]
     },
     "execution_count": 49,
     "metadata": {},
     "output_type": "execute_result"
    }
   ],
   "source": [
    "thresholds"
   ]
  },
  {
   "cell_type": "code",
   "execution_count": 51,
   "metadata": {},
   "outputs": [
    {
     "data": {
      "text/plain": [
       "0.7682493286601102"
      ]
     },
     "execution_count": 51,
     "metadata": {},
     "output_type": "execute_result"
    }
   ],
   "source": [
    "roc_auc = roc_auc_score(df_y_test, y_probs[:, 1])\n",
    "\n",
    "roc_auc"
   ]
  },
  {
   "cell_type": "code",
   "execution_count": 48,
   "metadata": {},
   "outputs": [
    {
     "data": {
      "image/png": "[encoded data removed]",
      "text/plain": [
       "<Figure size 800x600 with 1 Axes>"
      ]
     },
     "metadata": {},
     "output_type": "display_data"
    }
   ],
   "source": [
    "import matplotlib.pyplot as plt\n",
    "\n",
    "plt.figure(figsize=(8, 6))\n",
    "plt.plot(fpr, tpr, color='blue', label='ROC')\n",
    "plt.plot([0, 1], [0, 1], color='darkgrey', linestyle='--')\n",
    "plt.xlabel('False Positive Rate')\n",
    "plt.ylabel('True Positive Rate')\n",
    "plt.title('ROC Curve')\n",
    "plt.legend()\n",
    "plt.show()\n"
   ]
  },
  {
   "cell_type": "markdown",
   "metadata": {},
   "source": [
    "The ROC curve shows a decent separation between the positive and negative classes, as it bows towards the top-left corner of the plot. This indicates that the model has a good measure of separability and is able to distinguish between the two classes better than random guess (p =0.5)\n",
    "\n",
    "An AUC score of 0.7682 is quite respectable. It suggests that there is a 76.82% chance that the classifier will rank a randomly chosen positive instance higher than a randomly chosen negative one. \n",
    "\n",
    "the ROC curve and AUC score indicate that the model has a fair predictive ability, but with an AUC score of approximately 0.7682, there's potential to enhance the model's performance."
   ]
  },
  {
   "cell_type": "markdown",
   "metadata": {},
   "source": [
    "- Model performance with bagging"
   ]
  },
  {
   "cell_type": "markdown",
   "metadata": {},
   "source": [
    "## Discussion about Pros and Cons of different evaluation\n",
    "\n",
    "Confusion Matrix:\n",
    "- Pros: offers a overall inspect of model performance, we can interpret TP,FP,FN,TN. This provides a better understanding of a model's capalilities in detecing the different catgories.\n",
    "- Cons: the scores in CM could be misleading. Espcially when the dataset is imblanced. For example, if the data number of a certain catgory is way more than the other one, this might suggests that the model only perform well on the main catgory.\n",
    "\n",
    "Precision/Recall/F1:\n",
    "- P: percision evaluates the accuracy of the positive predictions, meaning the ratio of correctly predicted positive observations to the total predicted positive observations\n",
    "- Recall: recall = tp / (tp + fn), recall evaluates the ability of the model to identify positive observations\n",
    "F1: F1 = 2 * (precision * recall) / (precision + recall) # F1 score is the weighted average of the precision and recall\n",
    "- Cons: High precision can be achieved at the expense of recall and vice versa. F1-score can sometimes be misleading if one class is much easier to predict than the other, or if the dataset is imbalanced."
   ]
  },
  {
   "cell_type": "markdown",
   "metadata": {},
   "source": [
    "## Linear models for classification: LogisticRegression \n",
    "Firstly, Logistic Regression is specifically designed for binary classification, as it models the probability of a binary outcome using a logistic function, ensuring that the predicted values are sensibly confined between 0 and 1. This is crucial for binary classification tasks where the output is categorical (e.g.,theism/atheism). In contrast, linear models, which predict continuous values, are NOT naturally suited for predicting probabilities and require additional steps to threshold the output for classification. Polynomial regression, while capable of modeling more complex relationships than linear models, still suffers from the same limitation in a binary classification context. \n",
    " Logistic Regression also offers a straightforward interpretation of the relationship between features and the probability of outcomes, which is less intuitive in polynomial models due to their complexity. Furthermore, Logistic Regression can be easily extended to handle multi-class classification problems, making it a better choice for classification tasks."
   ]
  },
  {
   "cell_type": "code",
   "execution_count": 57,
   "metadata": {},
   "outputs": [
    {
     "name": "stderr",
     "output_type": "stream",
     "text": [
      "/opt/anaconda3/envs/aidi/lib/python3.9/site-packages/sklearn/utils/validation.py:1183: DataConversionWarning: A column-vector y was passed when a 1d array was expected. Please change the shape of y to (n_samples, ), for example using ravel().\n",
      "  y = column_or_1d(y, warn=True)\n"
     ]
    }
   ],
   "source": [
    "lr_clf = LogisticRegression(random_state=0, solver='liblinear', penalty='l1', C=1.0).fit(df_X_train, df_y_train)"
   ]
  },
  {
   "cell_type": "code",
   "execution_count": 58,
   "metadata": {},
   "outputs": [
    {
     "data": {
      "text/plain": [
       "0.7636222776964793"
      ]
     },
     "execution_count": 58,
     "metadata": {},
     "output_type": "execute_result"
    }
   ],
   "source": [
    "# training accuracy\n",
    "lr_clf.score(df_X_train, df_y_train)"
   ]
  },
  {
   "cell_type": "code",
   "execution_count": 60,
   "metadata": {},
   "outputs": [
    {
     "data": {
      "text/plain": [
       "0.7602409638554217"
      ]
     },
     "execution_count": 60,
     "metadata": {},
     "output_type": "execute_result"
    }
   ],
   "source": [
    "# testing accuracy\n",
    "lr_clf.score(df_X_test, df_y_test)"
   ]
  },
  {
   "cell_type": "code",
   "execution_count": 61,
   "metadata": {},
   "outputs": [
    {
     "data": {
      "text/plain": [
       "array([[0.117, 0.883],\n",
       "       [0.141, 0.859],\n",
       "       [0.202, 0.798]])"
      ]
     },
     "execution_count": 61,
     "metadata": {},
     "output_type": "execute_result"
    }
   ],
   "source": [
    "np.round(lr_clf.predict_proba(df_X_test[:3]),3)"
   ]
  },
  {
   "cell_type": "code",
   "execution_count": 63,
   "metadata": {},
   "outputs": [
    {
     "name": "stdout",
     "output_type": "stream",
     "text": [
      "[[ 457  959]\n",
      " [ 235 3329]]\n",
      "              precision    recall  f1-score   support\n",
      "\n",
      "           0       0.66      0.32      0.43      1416\n",
      "           1       0.78      0.93      0.85      3564\n",
      "\n",
      "    accuracy                           0.76      4980\n",
      "   macro avg       0.72      0.63      0.64      4980\n",
      "weighted avg       0.74      0.76      0.73      4980\n",
      "\n"
     ]
    }
   ],
   "source": [
    "y_pred = lr_clf.predict(df_X_test)\n",
    "print(confusion_matrix(df_y_test, y_pred))\n",
    "\n",
    "# classification report\n",
    "from sklearn.metrics import classification_report\n",
    "print(classification_report(df_y_test, y_pred))\n",
    "\n"
   ]
  },
  {
   "cell_type": "markdown",
   "metadata": {},
   "source": [
    "training accuracy and testing accuracy indicate that the model performance is pretty consistent, so the model is not overfitting"
   ]
  },
  {
   "cell_type": "markdown",
   "metadata": {},
   "source": [
    "### lr_clf Discussion:\n",
    " The recall for classifying the 0-class (the minority class) is unusually low. This is a common issue in imbalanced datasets. The model, having been exposed to more instances of class 1, becomes better at identifying class 1 and less effective at recognizing class 0. As a result, even if the overall accuracy of the model seems high, its ability to correctly identify instances of the minority class (class 0) is compromised, leading to a low recall for that class."
   ]
  },
  {
   "cell_type": "markdown",
   "metadata": {},
   "source": [
    "### Logistics Regression Vs. Random Forrest:\n",
    "- In short, no clear winner.\n",
    "\n",
    "Reflecting on the performance metrics of my Logistic Regression (LR) and Random Forest (RF) models, I observe that both have their merits. The LR model appears slightly more balanced in terms of precision and recall for the minority class, class 0, with a modestly higher F1-score. This suggests that LR is somewhat more adept at correctly identifying the class 0 instances, which is important in my context of an imbalanced dataset. On the other hand, the RF model demonstrates superior recall for the majority class, class 1, but this could be partly due to the class imbalance and not necessarily indicative of better performance.\n",
    "\n",
    "The accuracy of both models is comparable, which makes it challenging to choose one over the other solely based on this metric. Given that the macro and weighted averages of the F1-scores are also similar, there is no clear winner. However, considering the complexity and interpretability, the LR model is simpler and offers better insights into the relationship between features and the target variable, which is highly valuable to me.\n",
    "\n",
    "Moving forward to GridSearch. However, because RF has a larger number of hyperparameters that can be tuned, such as the number of trees, maximum depth, and minimum samples per leaf, it might exhibit a more significant improvement after a grid search. This could potentially enhance its performance and perhaps even surpass the current slight edge held by LR. "
   ]
  },
  {
   "cell_type": "markdown",
   "metadata": {},
   "source": [
    "## GridSearchCV\n",
    "- search for the best hyperparameter settings"
   ]
  },
  {
   "cell_type": "code",
   "execution_count": 74,
   "metadata": {},
   "outputs": [
    {
     "ename": "IndexError",
     "evalue": "only integers, slices (`:`), ellipsis (`...`), numpy.newaxis (`None`) and integer or boolean arrays are valid indices",
     "output_type": "error",
     "traceback": [
      "\u001b[0;31m---------------------------------------------------------------------------\u001b[0m",
      "\u001b[0;31mIndexError\u001b[0m                                Traceback (most recent call last)",
      "Cell \u001b[0;32mIn[74], line 4\u001b[0m\n\u001b[1;32m      1\u001b[0m \u001b[39m# Convert the target variable to 1d array\u001b[39;00m\n\u001b[0;32m----> 4\u001b[0m df_y_train \u001b[39m=\u001b[39m df_y_train[\u001b[39m'\u001b[39;49m\u001b[39mbelief\u001b[39;49m\u001b[39m'\u001b[39;49m]\u001b[39m.\u001b[39mvalues\u001b[39m.\u001b[39mravel()\n\u001b[1;32m      5\u001b[0m \u001b[39mprint\u001b[39m(df_y_train)\n\u001b[1;32m      7\u001b[0m df_y_test \u001b[39m=\u001b[39m df_y_test[\u001b[39m'\u001b[39m\u001b[39mbelief\u001b[39m\u001b[39m'\u001b[39m]\u001b[39m.\u001b[39mvalues\u001b[39m.\u001b[39mravel()\n",
      "\u001b[0;31mIndexError\u001b[0m: only integers, slices (`:`), ellipsis (`...`), numpy.newaxis (`None`) and integer or boolean arrays are valid indices"
     ]
    }
   ],
   "source": [
    "# Convert the target variable to 1d array\n",
    "\n",
    "\n",
    "df_y_train = df_y_train['belief'].values.ravel()\n",
    "print(df_y_train)\n",
    "\n",
    "df_y_test = df_y_test['belief'].values.ravel()\n",
    "print(df_y_test)"
   ]
  },
  {
   "cell_type": "markdown",
   "metadata": {},
   "source": [
    "please ignore this Error message because I accidently clicked twice"
   ]
  },
  {
   "cell_type": "code",
   "execution_count": 77,
   "metadata": {},
   "outputs": [
    {
     "name": "stdout",
     "output_type": "stream",
     "text": [
      "[1 1 1 ... 0 1 0]\n",
      "[1 1 0 ... 0 1 0]\n"
     ]
    }
   ],
   "source": [
    "print(df_y_train)\n",
    "\n",
    "print(df_y_test)"
   ]
  },
  {
   "cell_type": "code",
   "execution_count": 82,
   "metadata": {},
   "outputs": [
    {
     "name": "stdout",
     "output_type": "stream",
     "text": [
      "Best parameters found:  {'bootstrap': False, 'max_depth': 20, 'min_samples_leaf': 2, 'min_samples_split': 5, 'n_estimators': 50}\n"
     ]
    }
   ],
   "source": [
    "rf_clf = RandomForestClassifier(random_state=42)\n",
    "\n",
    "rf_param_grid = {\n",
    "    'n_estimators': [10, 20, 50],\n",
    "    'max_depth': [10, 20], # the maximum depth of the tree， None would cause overfitting based on prior experience in last hw\n",
    "    'min_samples_split': [2, 5, 10],\n",
    "    'min_samples_leaf': [1, 2, 4],\n",
    "    'bootstrap': [True, False]\n",
    "}\n",
    "\n",
    "# scoring method\n",
    "scorer = make_scorer(accuracy_score)\n",
    "\n",
    "# GridSearchCV object\n",
    "grid_search = GridSearchCV(estimator=rf_clf, param_grid=rf_param_grid, scoring=scorer, cv=5)\n",
    "\n",
    "# grid search\n",
    "grid_search.fit(df_X_train, df_y_train)\n",
    "\n",
    "# get the best parameters\n",
    "best_params = grid_search.best_params_\n",
    "best_estimator = grid_search.best_estimator_\n",
    "\n",
    "print(\"Best parameters found: \", best_params)\n"
   ]
  },
  {
   "cell_type": "code",
   "execution_count": 83,
   "metadata": {},
   "outputs": [
    {
     "data": {
      "text/html": [
       "<style>#sk-container-id-2 {color: black;}#sk-container-id-2 pre{padding: 0;}#sk-container-id-2 div.sk-toggleable {background-color: white;}#sk-container-id-2 label.sk-toggleable__label {cursor: pointer;display: block;width: 100%;margin-bottom: 0;padding: 0.3em;box-sizing: border-box;text-align: center;}#sk-container-id-2 label.sk-toggleable__label-arrow:before {content: \"▸\";float: left;margin-right: 0.25em;color: #696969;}#sk-container-id-2 label.sk-toggleable__label-arrow:hover:before {color: black;}#sk-container-id-2 div.sk-estimator:hover label.sk-toggleable__label-arrow:before {color: black;}#sk-container-id-2 div.sk-toggleable__content {max-height: 0;max-width: 0;overflow: hidden;text-align: left;background-color: #f0f8ff;}#sk-container-id-2 div.sk-toggleable__content pre {margin: 0.2em;color: black;border-radius: 0.25em;background-color: #f0f8ff;}#sk-container-id-2 input.sk-toggleable__control:checked~div.sk-toggleable__content {max-height: 200px;max-width: 100%;overflow: auto;}#sk-container-id-2 input.sk-toggleable__control:checked~label.sk-toggleable__label-arrow:before {content: \"▾\";}#sk-container-id-2 div.sk-estimator input.sk-toggleable__control:checked~label.sk-toggleable__label {background-color: #d4ebff;}#sk-container-id-2 div.sk-label input.sk-toggleable__control:checked~label.sk-toggleable__label {background-color: #d4ebff;}#sk-container-id-2 input.sk-hidden--visually {border: 0;clip: rect(1px 1px 1px 1px);clip: rect(1px, 1px, 1px, 1px);height: 1px;margin: -1px;overflow: hidden;padding: 0;position: absolute;width: 1px;}#sk-container-id-2 div.sk-estimator {font-family: monospace;background-color: #f0f8ff;border: 1px dotted black;border-radius: 0.25em;box-sizing: border-box;margin-bottom: 0.5em;}#sk-container-id-2 div.sk-estimator:hover {background-color: #d4ebff;}#sk-container-id-2 div.sk-parallel-item::after {content: \"\";width: 100%;border-bottom: 1px solid gray;flex-grow: 1;}#sk-container-id-2 div.sk-label:hover label.sk-toggleable__label {background-color: #d4ebff;}#sk-container-id-2 div.sk-serial::before {content: \"\";position: absolute;border-left: 1px solid gray;box-sizing: border-box;top: 0;bottom: 0;left: 50%;z-index: 0;}#sk-container-id-2 div.sk-serial {display: flex;flex-direction: column;align-items: center;background-color: white;padding-right: 0.2em;padding-left: 0.2em;position: relative;}#sk-container-id-2 div.sk-item {position: relative;z-index: 1;}#sk-container-id-2 div.sk-parallel {display: flex;align-items: stretch;justify-content: center;background-color: white;position: relative;}#sk-container-id-2 div.sk-item::before, #sk-container-id-2 div.sk-parallel-item::before {content: \"\";position: absolute;border-left: 1px solid gray;box-sizing: border-box;top: 0;bottom: 0;left: 50%;z-index: -1;}#sk-container-id-2 div.sk-parallel-item {display: flex;flex-direction: column;z-index: 1;position: relative;background-color: white;}#sk-container-id-2 div.sk-parallel-item:first-child::after {align-self: flex-end;width: 50%;}#sk-container-id-2 div.sk-parallel-item:last-child::after {align-self: flex-start;width: 50%;}#sk-container-id-2 div.sk-parallel-item:only-child::after {width: 0;}#sk-container-id-2 div.sk-dashed-wrapped {border: 1px dashed gray;margin: 0 0.4em 0.5em 0.4em;box-sizing: border-box;padding-bottom: 0.4em;background-color: white;}#sk-container-id-2 div.sk-label label {font-family: monospace;font-weight: bold;display: inline-block;line-height: 1.2em;}#sk-container-id-2 div.sk-label-container {text-align: center;}#sk-container-id-2 div.sk-container {/* jupyter's `normalize.less` sets `[hidden] { display: none; }` but bootstrap.min.css set `[hidden] { display: none !important; }` so we also need the `!important` here to be able to override the default hidden behavior on the sphinx rendered scikit-learn.org. See: https://github.com/scikit-learn/scikit-learn/issues/21755 */display: inline-block !important;position: relative;}#sk-container-id-2 div.sk-text-repr-fallback {display: none;}</style><div id=\"sk-container-id-2\" class=\"sk-top-container\"><div class=\"sk-text-repr-fallback\"><pre>RandomForestClassifier(bootstrap=False, max_depth=20, min_samples_leaf=2,\n",
       "                       min_samples_split=5, n_estimators=50, random_state=42)</pre><b>In a Jupyter environment, please rerun this cell to show the HTML representation or trust the notebook. <br />On GitHub, the HTML representation is unable to render, please try loading this page with nbviewer.org.</b></div><div class=\"sk-container\" hidden><div class=\"sk-item\"><div class=\"sk-estimator sk-toggleable\"><input class=\"sk-toggleable__control sk-hidden--visually\" id=\"sk-estimator-id-2\" type=\"checkbox\" checked><label for=\"sk-estimator-id-2\" class=\"sk-toggleable__label sk-toggleable__label-arrow\">RandomForestClassifier</label><div class=\"sk-toggleable__content\"><pre>RandomForestClassifier(bootstrap=False, max_depth=20, min_samples_leaf=2,\n",
       "                       min_samples_split=5, n_estimators=50, random_state=42)</pre></div></div></div></div></div>"
      ],
      "text/plain": [
       "RandomForestClassifier(bootstrap=False, max_depth=20, min_samples_leaf=2,\n",
       "                       min_samples_split=5, n_estimators=50, random_state=42)"
      ]
     },
     "execution_count": 83,
     "metadata": {},
     "output_type": "execute_result"
    }
   ],
   "source": [
    "best_estimator"
   ]
  },
  {
   "cell_type": "code",
   "execution_count": 84,
   "metadata": {},
   "outputs": [
    {
     "data": {
      "text/plain": [
       "['mean_fit_time',\n",
       " 'mean_score_time',\n",
       " 'mean_test_score',\n",
       " 'param_bootstrap',\n",
       " 'param_max_depth',\n",
       " 'param_min_samples_leaf',\n",
       " 'param_min_samples_split',\n",
       " 'param_n_estimators',\n",
       " 'params',\n",
       " 'rank_test_score',\n",
       " 'split0_test_score',\n",
       " 'split1_test_score',\n",
       " 'split2_test_score',\n",
       " 'split3_test_score',\n",
       " 'split4_test_score',\n",
       " 'std_fit_time',\n",
       " 'std_score_time',\n",
       " 'std_test_score']"
      ]
     },
     "execution_count": 84,
     "metadata": {},
     "output_type": "execute_result"
    }
   ],
   "source": [
    "sorted(grid_search.cv_results_.keys())"
   ]
  },
  {
   "cell_type": "code",
   "execution_count": 85,
   "metadata": {},
   "outputs": [
    {
     "data": {
      "text/plain": [
       "0.7571665297189002"
      ]
     },
     "execution_count": 85,
     "metadata": {},
     "output_type": "execute_result"
    }
   ],
   "source": [
    "grid_search.best_score_"
   ]
  },
  {
   "cell_type": "markdown",
   "metadata": {},
   "source": [
    "It seems like there's no a obvious change in grid_search result,(in order to save computing time, I didn't apply full parameter settings)\n"
   ]
  },
  {
   "cell_type": "code",
   "execution_count": null,
   "metadata": {},
   "outputs": [],
   "source": [
    "'''\n",
    "original model accuracy: 0.76\n",
    "\n",
    "parameter tuning accuracy: 0.75\n",
    "\n",
    "original settings:  \n",
    "rf_clf = RandomForestClassifier(\n",
    "    n_estimators=50,        # number of trees in the forest\n",
    "    criterion='entropy',    \n",
    "    max_depth=20,         # the maximum depth of the tree\n",
    "    min_samples_split=2,    # the minimum number of samples required to split an internal node\n",
    "    min_samples_leaf=3,     # the minimum number of samples required to be at a leaf node\n",
    "    bootstrap=True,         # whether bootstrap samples are used when building trees\n",
    "    random_state=42        \n",
    ")\n",
    "\n",
    "'''\n"
   ]
  },
  {
   "cell_type": "markdown",
   "metadata": {},
   "source": [
    "It seems like the tuning effect is not suffient, perhaps we are close to reach the limit of model performance (marginal effect)\n",
    "Moving forward, I will apply my original setting to K-folds"
   ]
  },
  {
   "cell_type": "code",
   "execution_count": 87,
   "metadata": {},
   "outputs": [
    {
     "name": "stdout",
     "output_type": "stream",
     "text": [
      "KFold Accuracy Scores: [0.76979346 0.75860585 0.7533362  0.76409815 0.74042187]\n",
      "Average KFold Accuracy: 0.7572511063872982\n"
     ]
    }
   ],
   "source": [
    "rf_clf_best = RandomForestClassifier(\n",
    "    n_estimators=50,\n",
    "    criterion='entropy',\n",
    "    max_depth=20,\n",
    "    min_samples_split=2,\n",
    "    min_samples_leaf=3,\n",
    "    bootstrap=False,\n",
    "    random_state=42\n",
    ")\n",
    "\n",
    "kf = KFold(n_splits=5, shuffle=True, random_state=42)\n",
    "\n",
    "\n",
    "cv_scores = cross_val_score(rf_clf_best, df_X_train, df_y_train, cv=kf)\n",
    "\n",
    "# output the accuracy scores for each fold\n",
    "print(\"KFold Accuracy Scores:\", cv_scores)\n",
    "\n",
    "# average accuracy score\n",
    "print(\"Average KFold Accuracy:\", np.mean(cv_scores))"
   ]
  },
  {
   "cell_type": "markdown",
   "metadata": {},
   "source": []
  },
  {
   "cell_type": "markdown",
   "metadata": {},
   "source": [
    "# Conclusion:\n",
    "\n",
    "The lack of significant improvement in model performance after hyperparameter optimization using GridSearchCV reveals some key insights. \n",
    "- Firstly, it might indicate that my current model is approaching its performance limit, and further optimization may not yield substantial gains. In such cases, I might need to consider changing the model architecture or introducing more feature data to hope for improved performance.\n",
    "\n",
    "- Secondly, I've noticed that my model struggles with correctly identifying class 0 (Atheism), particularly evident in the low recall. This suggests that my model has difficulties handling the minority class in an imbalanced dataset. Such imbalance could lead to an overestimated accuracy, as the model tends to predict the dominant class. Therefore, I think my next plan should include training the model with a more balanced dataset. By selecting roughly equal numbers of class 0 and class 1 data, I can assess the model's performance on both classes more fairly.\n",
    "\n",
    "This approach should help reduce the oversight of the minority class and might improve the recall for class 0. Additionally, a model trained on a balanced dataset might have better generalization capabilities and more accurately reflect the model's performance in real-world applications.\n",
    "\n"
   ]
  }
 ],
 "metadata": {
  "kernelspec": {
   "display_name": "aidi",
   "language": "python",
   "name": "python3"
  },
  "language_info": {
   "codemirror_mode": {
    "name": "ipython",
    "version": 3
   },
   "file_extension": ".py",
   "mimetype": "text/x-python",
   "name": "python",
   "nbconvert_exporter": "python",
   "pygments_lexer": "ipython3",
   "version": "3.9.18"
  },
  "orig_nbformat": 4
 },
 "nbformat": 4,
 "nbformat_minor": 2
}
