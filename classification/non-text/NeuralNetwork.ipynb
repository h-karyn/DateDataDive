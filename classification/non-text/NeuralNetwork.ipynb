{
  "nbformat": 4,
  "nbformat_minor": 0,
  "metadata": {
    "colab": {
      "provenance": []
    },
    "kernelspec": {
      "name": "python3",
      "display_name": "Python 3"
    },
    "language_info": {
      "name": "python"
    }
  },
  "cells": [
    {
      "cell_type": "markdown",
      "source": [
        "# Text classification with Neural Networks\n",
        "In this jupyter notebook, I will employ several strategies to train a deep learning neural network for text classification task, including:\n",
        "- A binary classification task with movie reviews dataset\n",
        "  - a densly connected NN with multi-hot encoding\n",
        "  - a bidirectional LSTM with self-trained embedding\n",
        "  - a bidirectional LSTM with pre-trained embedding"
      ],
      "metadata": {
        "id": "gbFkD3utqZ_P"
      }
    },
    {
      "cell_type": "markdown",
      "source": [
        "## A binary text classification example with dating app"
      ],
      "metadata": {
        "id": "c4Z0RYJwqcg7"
      }
    },
    {
      "cell_type": "code",
      "source": [
        "import numpy as np\n",
        "import pandas as pd\n",
        "from collections import Counter\n",
        "from sklearn.metrics import classification_report\n",
        "\n",
        "from tensorflow import keras\n",
        "from tensorflow.keras import layers\n",
        "\n",
        "import matplotlib.pyplot as plt"
      ],
      "metadata": {
        "id": "Ym9Ba9aMqeiJ"
      },
      "execution_count": null,
      "outputs": []
    },
    {
      "cell_type": "code",
      "source": [
        "# mount\n",
        "from google.colab import drive\n",
        "drive.mount('/content/drive')\n",
        "\n"
      ],
      "metadata": {
        "colab": {
          "base_uri": "https://localhost:8080/"
        },
        "id": "e-BglXGWqosR",
        "outputId": "5cc1680b-6882-42d1-b371-320dc5f84179"
      },
      "execution_count": null,
      "outputs": [
        {
          "output_type": "stream",
          "name": "stdout",
          "text": [
            "Drive already mounted at /content/drive; to attempt to forcibly remount, call drive.mount(\"/content/drive\", force_remount=True).\n"
          ]
        }
      ]
    },
    {
      "cell_type": "code",
      "source": [
        "path = \"/content/drive/MyDrive/cleaned_okc.csv\"\n",
        "\n",
        "df = pd.read_csv(path)\n",
        "df.shape"
      ],
      "metadata": {
        "colab": {
          "base_uri": "https://localhost:8080/"
        },
        "id": "vKZJSRwitcin",
        "outputId": "f188e868-32c2-4e12-ba5d-004a3b116020"
      },
      "execution_count": null,
      "outputs": [
        {
          "output_type": "execute_result",
          "data": {
            "text/plain": [
              "(38384, 33)"
            ]
          },
          "metadata": {},
          "execution_count": 6
        }
      ]
    },
    {
      "cell_type": "code",
      "source": [
        "df.head()"
      ],
      "metadata": {
        "colab": {
          "base_uri": "https://localhost:8080/",
          "height": 759
        },
        "id": "KrHZlTUTtewS",
        "outputId": "026dd7d1-79ad-4feb-cea7-b51040c20ab9"
      },
      "execution_count": null,
      "outputs": [
        {
          "output_type": "execute_result",
          "data": {
            "text/plain": [
              "   age  status sex orientation       body_type               diet    drinks  \\\n",
              "0   22  single   m    straight  a little extra  strictly anything  socially   \n",
              "1   35  single   m    straight         average       mostly other     often   \n",
              "2   29  single   m    straight         average    mostly anything  socially   \n",
              "3   31  single   f    straight         average    mostly anything  socially   \n",
              "4   24  single   f    straight             NaN  strictly anything  socially   \n",
              "\n",
              "       drugs                          education     ethnicity  ...  \\\n",
              "0      never      working on college/university  asian, white  ...   \n",
              "1  sometimes              working on space camp         white  ...   \n",
              "2        NaN  graduated from college/university         white  ...   \n",
              "3      never  graduated from college/university         white  ...   \n",
              "4        NaN  graduated from college/university         white  ...   \n",
              "\n",
              "       Favorite books, movies, show, music, and food  \\\n",
              "0  books: absurdistan, the republic, of mice and ...   \n",
              "1  i am die hard christopher moore fan. i don't r...   \n",
              "2  books: to kill a mockingbird, lord of the ring...   \n",
              "3  i like: alphabetized lists, aquariums, autobio...   \n",
              "4  i am always willing to try new foods and am no...   \n",
              "\n",
              "             The six things I could never do without  \\\n",
              "0                  food. water. cell phone. shelter.   \n",
              "1  delicious porkness in all of its glories. my b...   \n",
              "2  like everyone else, i love my friends and fami...   \n",
              "3  friends, family, notebook/pen, books, music, t...   \n",
              "4  sports/my softball glove coffee. because nobod...   \n",
              "\n",
              "                I spend a lot of time thinking about  \\\n",
              "0                        duality and humorous things   \n",
              "1                                                NaN   \n",
              "2  what my contribution to the world is going to ...   \n",
              "3                   things that amuse and inspire me   \n",
              "4                                                NaN   \n",
              "\n",
              "                      On a typical Friday night I am  \\\n",
              "0  trying to find someone to hang out with. i am ...   \n",
              "1                                                NaN   \n",
              "2                               out with my friends!   \n",
              "3  out and about or relaxing at home with a good ...   \n",
              "4  in or out... drinking with friends, maybe a ba...   \n",
              "\n",
              "        The most private thing I am willing to admit  \\\n",
              "0  i am new to california and looking for someone...   \n",
              "1  i am very open and will share just about anyth...   \n",
              "2  i cried on my first day at school because a bi...   \n",
              "3                                                NaN   \n",
              "4  potential friends/lovers/people who come in co...   \n",
              "\n",
              "                           You should message me if…  \\\n",
              "0  you want to be swept off your feet! you are ti...   \n",
              "1                                                NaN   \n",
              "2                                    you're awesome.   \n",
              "3                                                NaN   \n",
              "4  http://www.youtube.com/watch?v=4dxbwzuwsxk let...   \n",
              "\n",
              "                                      merged_profile cleaned_religion  \\\n",
              "0  about me:  i would love to think that i was so...      agnosticism   \n",
              "1  i am a chef: this is what that means. 1. i am ...      agnosticism   \n",
              "2  i'm an australian living in san francisco, but...          atheism   \n",
              "3   writing. meeting new people, spending time wi...     christianity   \n",
              "4   oh goodness. at the moment i have 4 jobs, so ...     christianity   \n",
              "\n",
              "  seriousness_degree       belief  \n",
              "0                4.0  agnosticism  \n",
              "1                2.0  agnosticism  \n",
              "2                0.0      atheism  \n",
              "3                0.0       theism  \n",
              "4                2.0       theism  \n",
              "\n",
              "[5 rows x 33 columns]"
            ],
            "text/html": [
              "\n",
              "  <div id=\"df-433e340c-0b3b-498a-963a-0c2000f4d06a\" class=\"colab-df-container\">\n",
              "    <div>\n",
              "<style scoped>\n",
              "    .dataframe tbody tr th:only-of-type {\n",
              "        vertical-align: middle;\n",
              "    }\n",
              "\n",
              "    .dataframe tbody tr th {\n",
              "        vertical-align: top;\n",
              "    }\n",
              "\n",
              "    .dataframe thead th {\n",
              "        text-align: right;\n",
              "    }\n",
              "</style>\n",
              "<table border=\"1\" class=\"dataframe\">\n",
              "  <thead>\n",
              "    <tr style=\"text-align: right;\">\n",
              "      <th></th>\n",
              "      <th>age</th>\n",
              "      <th>status</th>\n",
              "      <th>sex</th>\n",
              "      <th>orientation</th>\n",
              "      <th>body_type</th>\n",
              "      <th>diet</th>\n",
              "      <th>drinks</th>\n",
              "      <th>drugs</th>\n",
              "      <th>education</th>\n",
              "      <th>ethnicity</th>\n",
              "      <th>...</th>\n",
              "      <th>Favorite books, movies, show, music, and food</th>\n",
              "      <th>The six things I could never do without</th>\n",
              "      <th>I spend a lot of time thinking about</th>\n",
              "      <th>On a typical Friday night I am</th>\n",
              "      <th>The most private thing I am willing to admit</th>\n",
              "      <th>You should message me if…</th>\n",
              "      <th>merged_profile</th>\n",
              "      <th>cleaned_religion</th>\n",
              "      <th>seriousness_degree</th>\n",
              "      <th>belief</th>\n",
              "    </tr>\n",
              "  </thead>\n",
              "  <tbody>\n",
              "    <tr>\n",
              "      <th>0</th>\n",
              "      <td>22</td>\n",
              "      <td>single</td>\n",
              "      <td>m</td>\n",
              "      <td>straight</td>\n",
              "      <td>a little extra</td>\n",
              "      <td>strictly anything</td>\n",
              "      <td>socially</td>\n",
              "      <td>never</td>\n",
              "      <td>working on college/university</td>\n",
              "      <td>asian, white</td>\n",
              "      <td>...</td>\n",
              "      <td>books: absurdistan, the republic, of mice and ...</td>\n",
              "      <td>food. water. cell phone. shelter.</td>\n",
              "      <td>duality and humorous things</td>\n",
              "      <td>trying to find someone to hang out with. i am ...</td>\n",
              "      <td>i am new to california and looking for someone...</td>\n",
              "      <td>you want to be swept off your feet! you are ti...</td>\n",
              "      <td>about me:  i would love to think that i was so...</td>\n",
              "      <td>agnosticism</td>\n",
              "      <td>4.0</td>\n",
              "      <td>agnosticism</td>\n",
              "    </tr>\n",
              "    <tr>\n",
              "      <th>1</th>\n",
              "      <td>35</td>\n",
              "      <td>single</td>\n",
              "      <td>m</td>\n",
              "      <td>straight</td>\n",
              "      <td>average</td>\n",
              "      <td>mostly other</td>\n",
              "      <td>often</td>\n",
              "      <td>sometimes</td>\n",
              "      <td>working on space camp</td>\n",
              "      <td>white</td>\n",
              "      <td>...</td>\n",
              "      <td>i am die hard christopher moore fan. i don't r...</td>\n",
              "      <td>delicious porkness in all of its glories. my b...</td>\n",
              "      <td>NaN</td>\n",
              "      <td>NaN</td>\n",
              "      <td>i am very open and will share just about anyth...</td>\n",
              "      <td>NaN</td>\n",
              "      <td>i am a chef: this is what that means. 1. i am ...</td>\n",
              "      <td>agnosticism</td>\n",
              "      <td>2.0</td>\n",
              "      <td>agnosticism</td>\n",
              "    </tr>\n",
              "    <tr>\n",
              "      <th>2</th>\n",
              "      <td>29</td>\n",
              "      <td>single</td>\n",
              "      <td>m</td>\n",
              "      <td>straight</td>\n",
              "      <td>average</td>\n",
              "      <td>mostly anything</td>\n",
              "      <td>socially</td>\n",
              "      <td>NaN</td>\n",
              "      <td>graduated from college/university</td>\n",
              "      <td>white</td>\n",
              "      <td>...</td>\n",
              "      <td>books: to kill a mockingbird, lord of the ring...</td>\n",
              "      <td>like everyone else, i love my friends and fami...</td>\n",
              "      <td>what my contribution to the world is going to ...</td>\n",
              "      <td>out with my friends!</td>\n",
              "      <td>i cried on my first day at school because a bi...</td>\n",
              "      <td>you're awesome.</td>\n",
              "      <td>i'm an australian living in san francisco, but...</td>\n",
              "      <td>atheism</td>\n",
              "      <td>0.0</td>\n",
              "      <td>atheism</td>\n",
              "    </tr>\n",
              "    <tr>\n",
              "      <th>3</th>\n",
              "      <td>31</td>\n",
              "      <td>single</td>\n",
              "      <td>f</td>\n",
              "      <td>straight</td>\n",
              "      <td>average</td>\n",
              "      <td>mostly anything</td>\n",
              "      <td>socially</td>\n",
              "      <td>never</td>\n",
              "      <td>graduated from college/university</td>\n",
              "      <td>white</td>\n",
              "      <td>...</td>\n",
              "      <td>i like: alphabetized lists, aquariums, autobio...</td>\n",
              "      <td>friends, family, notebook/pen, books, music, t...</td>\n",
              "      <td>things that amuse and inspire me</td>\n",
              "      <td>out and about or relaxing at home with a good ...</td>\n",
              "      <td>NaN</td>\n",
              "      <td>NaN</td>\n",
              "      <td>writing. meeting new people, spending time wi...</td>\n",
              "      <td>christianity</td>\n",
              "      <td>0.0</td>\n",
              "      <td>theism</td>\n",
              "    </tr>\n",
              "    <tr>\n",
              "      <th>4</th>\n",
              "      <td>24</td>\n",
              "      <td>single</td>\n",
              "      <td>f</td>\n",
              "      <td>straight</td>\n",
              "      <td>NaN</td>\n",
              "      <td>strictly anything</td>\n",
              "      <td>socially</td>\n",
              "      <td>NaN</td>\n",
              "      <td>graduated from college/university</td>\n",
              "      <td>white</td>\n",
              "      <td>...</td>\n",
              "      <td>i am always willing to try new foods and am no...</td>\n",
              "      <td>sports/my softball glove coffee. because nobod...</td>\n",
              "      <td>NaN</td>\n",
              "      <td>in or out... drinking with friends, maybe a ba...</td>\n",
              "      <td>potential friends/lovers/people who come in co...</td>\n",
              "      <td>http://www.youtube.com/watch?v=4dxbwzuwsxk let...</td>\n",
              "      <td>oh goodness. at the moment i have 4 jobs, so ...</td>\n",
              "      <td>christianity</td>\n",
              "      <td>2.0</td>\n",
              "      <td>theism</td>\n",
              "    </tr>\n",
              "  </tbody>\n",
              "</table>\n",
              "<p>5 rows × 33 columns</p>\n",
              "</div>\n",
              "    <div class=\"colab-df-buttons\">\n",
              "\n",
              "  <div class=\"colab-df-container\">\n",
              "    <button class=\"colab-df-convert\" onclick=\"convertToInteractive('df-433e340c-0b3b-498a-963a-0c2000f4d06a')\"\n",
              "            title=\"Convert this dataframe to an interactive table.\"\n",
              "            style=\"display:none;\">\n",
              "\n",
              "  <svg xmlns=\"http://www.w3.org/2000/svg\" height=\"24px\" viewBox=\"0 -960 960 960\">\n",
              "    <path d=\"M120-120v-720h720v720H120Zm60-500h600v-160H180v160Zm220 220h160v-160H400v160Zm0 220h160v-160H400v160ZM180-400h160v-160H180v160Zm440 0h160v-160H620v160ZM180-180h160v-160H180v160Zm440 0h160v-160H620v160Z\"/>\n",
              "  </svg>\n",
              "    </button>\n",
              "\n",
              "  <style>\n",
              "    .colab-df-container {\n",
              "      display:flex;\n",
              "      gap: 12px;\n",
              "    }\n",
              "\n",
              "    .colab-df-convert {\n",
              "      background-color: #E8F0FE;\n",
              "      border: none;\n",
              "      border-radius: 50%;\n",
              "      cursor: pointer;\n",
              "      display: none;\n",
              "      fill: #1967D2;\n",
              "      height: 32px;\n",
              "      padding: 0 0 0 0;\n",
              "      width: 32px;\n",
              "    }\n",
              "\n",
              "    .colab-df-convert:hover {\n",
              "      background-color: #E2EBFA;\n",
              "      box-shadow: 0px 1px 2px rgba(60, 64, 67, 0.3), 0px 1px 3px 1px rgba(60, 64, 67, 0.15);\n",
              "      fill: #174EA6;\n",
              "    }\n",
              "\n",
              "    .colab-df-buttons div {\n",
              "      margin-bottom: 4px;\n",
              "    }\n",
              "\n",
              "    [theme=dark] .colab-df-convert {\n",
              "      background-color: #3B4455;\n",
              "      fill: #D2E3FC;\n",
              "    }\n",
              "\n",
              "    [theme=dark] .colab-df-convert:hover {\n",
              "      background-color: #434B5C;\n",
              "      box-shadow: 0px 1px 3px 1px rgba(0, 0, 0, 0.15);\n",
              "      filter: drop-shadow(0px 1px 2px rgba(0, 0, 0, 0.3));\n",
              "      fill: #FFFFFF;\n",
              "    }\n",
              "  </style>\n",
              "\n",
              "    <script>\n",
              "      const buttonEl =\n",
              "        document.querySelector('#df-433e340c-0b3b-498a-963a-0c2000f4d06a button.colab-df-convert');\n",
              "      buttonEl.style.display =\n",
              "        google.colab.kernel.accessAllowed ? 'block' : 'none';\n",
              "\n",
              "      async function convertToInteractive(key) {\n",
              "        const element = document.querySelector('#df-433e340c-0b3b-498a-963a-0c2000f4d06a');\n",
              "        const dataTable =\n",
              "          await google.colab.kernel.invokeFunction('convertToInteractive',\n",
              "                                                    [key], {});\n",
              "        if (!dataTable) return;\n",
              "\n",
              "        const docLinkHtml = 'Like what you see? Visit the ' +\n",
              "          '<a target=\"_blank\" href=https://colab.research.google.com/notebooks/data_table.ipynb>data table notebook</a>'\n",
              "          + ' to learn more about interactive tables.';\n",
              "        element.innerHTML = '';\n",
              "        dataTable['output_type'] = 'display_data';\n",
              "        await google.colab.output.renderOutput(dataTable, element);\n",
              "        const docLink = document.createElement('div');\n",
              "        docLink.innerHTML = docLinkHtml;\n",
              "        element.appendChild(docLink);\n",
              "      }\n",
              "    </script>\n",
              "  </div>\n",
              "\n",
              "\n",
              "<div id=\"df-c1810840-7184-4f96-a5e8-c623aa6b5f04\">\n",
              "  <button class=\"colab-df-quickchart\" onclick=\"quickchart('df-c1810840-7184-4f96-a5e8-c623aa6b5f04')\"\n",
              "            title=\"Suggest charts\"\n",
              "            style=\"display:none;\">\n",
              "\n",
              "<svg xmlns=\"http://www.w3.org/2000/svg\" height=\"24px\"viewBox=\"0 0 24 24\"\n",
              "     width=\"24px\">\n",
              "    <g>\n",
              "        <path d=\"M19 3H5c-1.1 0-2 .9-2 2v14c0 1.1.9 2 2 2h14c1.1 0 2-.9 2-2V5c0-1.1-.9-2-2-2zM9 17H7v-7h2v7zm4 0h-2V7h2v10zm4 0h-2v-4h2v4z\"/>\n",
              "    </g>\n",
              "</svg>\n",
              "  </button>\n",
              "\n",
              "<style>\n",
              "  .colab-df-quickchart {\n",
              "      --bg-color: #E8F0FE;\n",
              "      --fill-color: #1967D2;\n",
              "      --hover-bg-color: #E2EBFA;\n",
              "      --hover-fill-color: #174EA6;\n",
              "      --disabled-fill-color: #AAA;\n",
              "      --disabled-bg-color: #DDD;\n",
              "  }\n",
              "\n",
              "  [theme=dark] .colab-df-quickchart {\n",
              "      --bg-color: #3B4455;\n",
              "      --fill-color: #D2E3FC;\n",
              "      --hover-bg-color: #434B5C;\n",
              "      --hover-fill-color: #FFFFFF;\n",
              "      --disabled-bg-color: #3B4455;\n",
              "      --disabled-fill-color: #666;\n",
              "  }\n",
              "\n",
              "  .colab-df-quickchart {\n",
              "    background-color: var(--bg-color);\n",
              "    border: none;\n",
              "    border-radius: 50%;\n",
              "    cursor: pointer;\n",
              "    display: none;\n",
              "    fill: var(--fill-color);\n",
              "    height: 32px;\n",
              "    padding: 0;\n",
              "    width: 32px;\n",
              "  }\n",
              "\n",
              "  .colab-df-quickchart:hover {\n",
              "    background-color: var(--hover-bg-color);\n",
              "    box-shadow: 0 1px 2px rgba(60, 64, 67, 0.3), 0 1px 3px 1px rgba(60, 64, 67, 0.15);\n",
              "    fill: var(--button-hover-fill-color);\n",
              "  }\n",
              "\n",
              "  .colab-df-quickchart-complete:disabled,\n",
              "  .colab-df-quickchart-complete:disabled:hover {\n",
              "    background-color: var(--disabled-bg-color);\n",
              "    fill: var(--disabled-fill-color);\n",
              "    box-shadow: none;\n",
              "  }\n",
              "\n",
              "  .colab-df-spinner {\n",
              "    border: 2px solid var(--fill-color);\n",
              "    border-color: transparent;\n",
              "    border-bottom-color: var(--fill-color);\n",
              "    animation:\n",
              "      spin 1s steps(1) infinite;\n",
              "  }\n",
              "\n",
              "  @keyframes spin {\n",
              "    0% {\n",
              "      border-color: transparent;\n",
              "      border-bottom-color: var(--fill-color);\n",
              "      border-left-color: var(--fill-color);\n",
              "    }\n",
              "    20% {\n",
              "      border-color: transparent;\n",
              "      border-left-color: var(--fill-color);\n",
              "      border-top-color: var(--fill-color);\n",
              "    }\n",
              "    30% {\n",
              "      border-color: transparent;\n",
              "      border-left-color: var(--fill-color);\n",
              "      border-top-color: var(--fill-color);\n",
              "      border-right-color: var(--fill-color);\n",
              "    }\n",
              "    40% {\n",
              "      border-color: transparent;\n",
              "      border-right-color: var(--fill-color);\n",
              "      border-top-color: var(--fill-color);\n",
              "    }\n",
              "    60% {\n",
              "      border-color: transparent;\n",
              "      border-right-color: var(--fill-color);\n",
              "    }\n",
              "    80% {\n",
              "      border-color: transparent;\n",
              "      border-right-color: var(--fill-color);\n",
              "      border-bottom-color: var(--fill-color);\n",
              "    }\n",
              "    90% {\n",
              "      border-color: transparent;\n",
              "      border-bottom-color: var(--fill-color);\n",
              "    }\n",
              "  }\n",
              "</style>\n",
              "\n",
              "  <script>\n",
              "    async function quickchart(key) {\n",
              "      const quickchartButtonEl =\n",
              "        document.querySelector('#' + key + ' button');\n",
              "      quickchartButtonEl.disabled = true;  // To prevent multiple clicks.\n",
              "      quickchartButtonEl.classList.add('colab-df-spinner');\n",
              "      try {\n",
              "        const charts = await google.colab.kernel.invokeFunction(\n",
              "            'suggestCharts', [key], {});\n",
              "      } catch (error) {\n",
              "        console.error('Error during call to suggestCharts:', error);\n",
              "      }\n",
              "      quickchartButtonEl.classList.remove('colab-df-spinner');\n",
              "      quickchartButtonEl.classList.add('colab-df-quickchart-complete');\n",
              "    }\n",
              "    (() => {\n",
              "      let quickchartButtonEl =\n",
              "        document.querySelector('#df-c1810840-7184-4f96-a5e8-c623aa6b5f04 button');\n",
              "      quickchartButtonEl.style.display =\n",
              "        google.colab.kernel.accessAllowed ? 'block' : 'none';\n",
              "    })();\n",
              "  </script>\n",
              "</div>\n",
              "\n",
              "    </div>\n",
              "  </div>\n"
            ],
            "application/vnd.google.colaboratory.intrinsic+json": {
              "type": "dataframe",
              "variable_name": "df"
            }
          },
          "metadata": {},
          "execution_count": 7
        }
      ]
    },
    {
      "cell_type": "code",
      "source": [
        "# There are 4 type of beliefs in the dataset\n",
        "df.belief.value_counts()"
      ],
      "metadata": {
        "colab": {
          "base_uri": "https://localhost:8080/"
        },
        "id": "lQeNP-q9uUsa",
        "outputId": "e1234be7-75cc-40e0-c461-a85326a08772"
      },
      "execution_count": null,
      "outputs": [
        {
          "output_type": "execute_result",
          "data": {
            "text/plain": [
              "theism         15519\n",
              "agnosticism     8583\n",
              "other           7492\n",
              "atheism         6790\n",
              "Name: belief, dtype: int64"
            ]
          },
          "metadata": {},
          "execution_count": 8
        }
      ]
    },
    {
      "cell_type": "code",
      "source": [
        "# filtered the dataset to only include theism and atheism\n",
        "df_filtered = df[df['belief'].isin(['theism', 'atheism'])].copy()\n",
        "\n",
        "# belief as binary variable. 0: atheism, 1: theism\n",
        "df_filtered['belief'] = df_filtered['belief'].map({'theism': 1, 'atheism': 0})\n",
        "\n",
        "df = df_filtered\n",
        "\n",
        "df.shape"
      ],
      "metadata": {
        "colab": {
          "base_uri": "https://localhost:8080/"
        },
        "id": "pHF8UTAruZ7W",
        "outputId": "4ce5e7de-301a-4d9b-b995-f32b21b7a6df"
      },
      "execution_count": null,
      "outputs": [
        {
          "output_type": "execute_result",
          "data": {
            "text/plain": [
              "(22309, 33)"
            ]
          },
          "metadata": {},
          "execution_count": 13
        }
      ]
    },
    {
      "cell_type": "code",
      "source": [
        "df.columns"
      ],
      "metadata": {
        "colab": {
          "base_uri": "https://localhost:8080/"
        },
        "id": "-Ut7mZY8uwfy",
        "outputId": "8fc140ee-a51b-4e8b-d7e0-2c5f75d7e98c"
      },
      "execution_count": null,
      "outputs": [
        {
          "output_type": "execute_result",
          "data": {
            "text/plain": [
              "Index(['age', 'status', 'sex', 'orientation', 'body_type', 'diet', 'drinks',\n",
              "       'drugs', 'education', 'ethnicity', 'height', 'income', 'job',\n",
              "       'location', 'offspring', 'pets', 'sign', 'smokes', 'speaks',\n",
              "       'My self summary', 'What I’m doing with my life', 'I’m really good at',\n",
              "       'The first thing people usually notice about me',\n",
              "       'Favorite books, movies, show, music, and food',\n",
              "       'The six things I could never do without',\n",
              "       'I spend a lot of time thinking about',\n",
              "       'On a typical Friday night I am',\n",
              "       'The most private thing I am willing to admit',\n",
              "       'You should message me if…', 'merged_profile', 'cleaned_religion',\n",
              "       'seriousness_degree', 'belief'],\n",
              "      dtype='object')"
            ]
          },
          "metadata": {},
          "execution_count": 17
        }
      ]
    },
    {
      "cell_type": "markdown",
      "source": [
        "### Train a densly connected NN with multi-hot encoding\n",
        "**Text vectorization with multi-hot encoding**"
      ],
      "metadata": {
        "id": "WilrtfOGu46l"
      }
    },
    {
      "cell_type": "markdown",
      "source": [
        "I will use \"My self summary\", because it is closest to self-description."
      ],
      "metadata": {
        "id": "SnX_euncvudG"
      }
    },
    {
      "cell_type": "code",
      "source": [
        "df[\"My self summary\"].isna().sum()\n"
      ],
      "metadata": {
        "colab": {
          "base_uri": "https://localhost:8080/"
        },
        "id": "8Jzj0cTtv_YH",
        "outputId": "65184ecc-60df-48fd-82b1-2d0723c7cf69"
      },
      "execution_count": null,
      "outputs": [
        {
          "output_type": "execute_result",
          "data": {
            "text/plain": [
              "1225"
            ]
          },
          "metadata": {},
          "execution_count": 20
        }
      ]
    },
    {
      "cell_type": "code",
      "source": [
        "# drop empty rows\n",
        "df = df[df[\"My self summary\"].notna()]\n",
        "\n",
        "# make sure it's in str format\n",
        "df['My self summary'] = df['My self summary'].astype(str)\n",
        "\n",
        "df.shape"
      ],
      "metadata": {
        "colab": {
          "base_uri": "https://localhost:8080/"
        },
        "id": "P2vhV-G4wQjc",
        "outputId": "d6141eb4-8643-4e09-ae16-f6bd267a8713"
      },
      "execution_count": null,
      "outputs": [
        {
          "output_type": "execute_result",
          "data": {
            "text/plain": [
              "(21084, 33)"
            ]
          },
          "metadata": {},
          "execution_count": 22
        }
      ]
    },
    {
      "cell_type": "code",
      "source": [
        "max_length = 600\n",
        "max_tokens = 20000\n",
        "vectorizer = layers.TextVectorization(\n",
        "    max_tokens=max_tokens,\n",
        "    output_mode=\"multi_hot\", # try \"int\", \"count\", \"multi_hot\", \"tf_idf\"\n",
        "    # output_sequence_length=max_length,\n",
        ")\n",
        "vectorizer.adapt(df['My self summary'])\n",
        "vectorized_text = vectorizer(df['My self summary'])"
      ],
      "metadata": {
        "id": "g2IHFR90u4KM"
      },
      "execution_count": null,
      "outputs": []
    },
    {
      "cell_type": "code",
      "source": [
        "# an example of the vectorized text\n",
        "vectorized_text[0]"
      ],
      "metadata": {
        "colab": {
          "base_uri": "https://localhost:8080/"
        },
        "id": "EqT8madcwivJ",
        "outputId": "df4b6273-4ef0-4fd6-d7ef-0109402d6ab9"
      },
      "execution_count": null,
      "outputs": [
        {
          "output_type": "execute_result",
          "data": {
            "text/plain": [
              "<tf.Tensor: shape=(20000,), dtype=float32, numpy=array([1., 1., 1., ..., 0., 0., 0.], dtype=float32)>"
            ]
          },
          "metadata": {},
          "execution_count": 24
        }
      ]
    },
    {
      "cell_type": "code",
      "source": [
        "vocab = vectorizer.get_vocabulary()\n",
        "type(vocab), len(vocab)"
      ],
      "metadata": {
        "colab": {
          "base_uri": "https://localhost:8080/"
        },
        "id": "tQMLSblrwlDX",
        "outputId": "5cb9a372-6570-4c82-bd80-4e79d3de67cb"
      },
      "execution_count": null,
      "outputs": [
        {
          "output_type": "execute_result",
          "data": {
            "text/plain": [
              "(list, 20000)"
            ]
          },
          "metadata": {},
          "execution_count": 26
        }
      ]
    },
    {
      "cell_type": "code",
      "source": [
        "def decode_text(multi_hot_vec, vectorizer):\n",
        "  \"\"\"\n",
        "  Decode indices back to text\n",
        "  Note that: there's no order information in the decoded text\n",
        "  \"\"\"\n",
        "  indices = np.where(multi_hot_vec == 1)[0]\n",
        "  vocab = vectorizer.get_vocabulary()\n",
        "  words = [vocab[index] for index in indices]\n",
        "  return ' '.join(words)\n",
        "  # vocab = vectorizer.get_vocabulary()\n",
        "  # return ' '.join(vocab[i] for i in indices)"
      ],
      "metadata": {
        "id": "ZnJiZAh8ws1e"
      },
      "execution_count": null,
      "outputs": []
    },
    {
      "cell_type": "code",
      "source": [
        "decode_text(vectorized_text[0], vectorizer)"
      ],
      "metadata": {
        "colab": {
          "base_uri": "https://localhost:8080/",
          "height": 125
        },
        "id": "mQE_UmDnw9-d",
        "outputId": "39ce791e-93dc-4fad-e07c-c3fcd8b79b3e"
      },
      "execution_count": null,
      "outputs": [
        {
          "output_type": "execute_result",
          "data": {
            "text/plain": [
              "'[UNK] i and to a the in of my im for am that have but me love like it on at out people who about so are can an just if new things do this dont enjoy more what someone really fun been myself think most pretty find san francisco something because them laugh little trying which living sf sometimes doing only funny spend often look stuff else days company cool everyone laughing speak hold seems known gets occasionally teach parties build wild intelligence trouble against asked chinese karaoke songs reasons equal turns meant entrepreneur imagination measure mandarin downtime australian bust cheeky oddball improbable'"
            ],
            "application/vnd.google.colaboratory.intrinsic+json": {
              "type": "string"
            }
          },
          "metadata": {},
          "execution_count": 31
        }
      ]
    },
    {
      "cell_type": "markdown",
      "source": [
        "**Split the data into train/test/validation**"
      ],
      "metadata": {
        "id": "XZ_nYDXhxkDO"
      }
    },
    {
      "cell_type": "code",
      "source": [
        "X_train = vectorized_text[:15616]\n",
        "y_train = df.belief.values[:15616]\n",
        "\n",
        "X_val = vectorized_text[15616:15616+3346]\n",
        "y_val = df.belief.values[15616:15616+3346]\n",
        "\n",
        "X_test = vectorized_text[15616+3346:]\n",
        "y_test = df.belief.values[15616+3346:]\n",
        "\n",
        "X_train.shape, X_test.shape, X_val.shape\n"
      ],
      "metadata": {
        "colab": {
          "base_uri": "https://localhost:8080/"
        },
        "id": "EN9iM6qnxkaZ",
        "outputId": "ce36a4f0-b4c5-4f2a-b4cf-d3318dc87389"
      },
      "execution_count": null,
      "outputs": [
        {
          "output_type": "execute_result",
          "data": {
            "text/plain": [
              "(TensorShape([15616, 20000]),\n",
              " TensorShape([2122, 20000]),\n",
              " TensorShape([3346, 20000]))"
            ]
          },
          "metadata": {},
          "execution_count": 33
        }
      ]
    },
    {
      "cell_type": "markdown",
      "source": [
        "**Build, compile, and train a densly connected NN**"
      ],
      "metadata": {
        "id": "p8pNrsRlynWD"
      }
    },
    {
      "cell_type": "code",
      "source": [
        "# create the model\n",
        "ds_model = keras.Sequential([\n",
        "    layers.Dense(16, activation=\"relu\"),\n",
        "    layers.Dense(16, activation=\"relu\"),\n",
        "    layers.Dense(1, activation=\"sigmoid\")\n",
        "])"
      ],
      "metadata": {
        "id": "DFFcrBJzyltF"
      },
      "execution_count": null,
      "outputs": []
    },
    {
      "cell_type": "code",
      "source": [
        "# compile the model\n",
        "ds_model.compile(optimizer=\"rmsprop\",\n",
        "                 loss=\"binary_crossentropy\",\n",
        "                 metrics=[\"accuracy\"])"
      ],
      "metadata": {
        "id": "6oFQgLnfyreV"
      },
      "execution_count": null,
      "outputs": []
    },
    {
      "cell_type": "code",
      "source": [
        "# train the model\n",
        "ds_history = ds_model.fit(X_train, y_train, epochs=20, batch_size=512,\n",
        "                          validation_data=(X_val, y_val))"
      ],
      "metadata": {
        "colab": {
          "base_uri": "https://localhost:8080/"
        },
        "id": "GiG90rg8yz4z",
        "outputId": "7ec551ef-a075-4fc5-f953-d99236a882b6"
      },
      "execution_count": null,
      "outputs": [
        {
          "output_type": "stream",
          "name": "stdout",
          "text": [
            "Epoch 1/20\n",
            "31/31 [==============================] - 3s 80ms/step - loss: 0.6068 - accuracy: 0.6834 - val_loss: 0.5662 - val_accuracy: 0.6978\n",
            "Epoch 2/20\n",
            "31/31 [==============================] - 2s 72ms/step - loss: 0.5323 - accuracy: 0.7250 - val_loss: 0.5388 - val_accuracy: 0.7241\n",
            "Epoch 3/20\n",
            "31/31 [==============================] - 3s 104ms/step - loss: 0.4793 - accuracy: 0.7729 - val_loss: 0.5390 - val_accuracy: 0.7212\n",
            "Epoch 4/20\n",
            "31/31 [==============================] - 3s 90ms/step - loss: 0.4368 - accuracy: 0.8009 - val_loss: 0.5476 - val_accuracy: 0.7224\n",
            "Epoch 5/20\n",
            "31/31 [==============================] - 2s 73ms/step - loss: 0.4013 - accuracy: 0.8260 - val_loss: 0.5645 - val_accuracy: 0.7212\n",
            "Epoch 6/20\n",
            "31/31 [==============================] - 2s 73ms/step - loss: 0.3675 - accuracy: 0.8468 - val_loss: 0.5741 - val_accuracy: 0.7230\n",
            "Epoch 7/20\n",
            "31/31 [==============================] - 2s 73ms/step - loss: 0.3391 - accuracy: 0.8616 - val_loss: 0.6075 - val_accuracy: 0.7065\n",
            "Epoch 8/20\n",
            "31/31 [==============================] - 2s 73ms/step - loss: 0.3105 - accuracy: 0.8760 - val_loss: 0.6287 - val_accuracy: 0.7050\n",
            "Epoch 9/20\n",
            "31/31 [==============================] - 3s 112ms/step - loss: 0.2845 - accuracy: 0.8883 - val_loss: 0.6646 - val_accuracy: 0.7191\n",
            "Epoch 10/20\n",
            "31/31 [==============================] - 3s 84ms/step - loss: 0.2602 - accuracy: 0.9005 - val_loss: 0.6885 - val_accuracy: 0.7197\n",
            "Epoch 11/20\n",
            "31/31 [==============================] - 2s 70ms/step - loss: 0.2378 - accuracy: 0.9117 - val_loss: 0.7050 - val_accuracy: 0.7134\n",
            "Epoch 12/20\n",
            "31/31 [==============================] - 2s 71ms/step - loss: 0.2185 - accuracy: 0.9205 - val_loss: 0.7330 - val_accuracy: 0.7074\n",
            "Epoch 13/20\n",
            "31/31 [==============================] - 2s 72ms/step - loss: 0.2003 - accuracy: 0.9297 - val_loss: 0.7667 - val_accuracy: 0.7167\n",
            "Epoch 14/20\n",
            "31/31 [==============================] - 3s 85ms/step - loss: 0.1803 - accuracy: 0.9366 - val_loss: 0.8234 - val_accuracy: 0.7203\n",
            "Epoch 15/20\n",
            "31/31 [==============================] - 3s 108ms/step - loss: 0.1673 - accuracy: 0.9422 - val_loss: 0.8409 - val_accuracy: 0.7053\n",
            "Epoch 16/20\n",
            "31/31 [==============================] - 2s 80ms/step - loss: 0.1510 - accuracy: 0.9495 - val_loss: 0.8738 - val_accuracy: 0.7095\n",
            "Epoch 17/20\n",
            "31/31 [==============================] - 2s 72ms/step - loss: 0.1384 - accuracy: 0.9546 - val_loss: 0.9438 - val_accuracy: 0.7194\n",
            "Epoch 18/20\n",
            "31/31 [==============================] - 2s 71ms/step - loss: 0.1262 - accuracy: 0.9588 - val_loss: 0.9559 - val_accuracy: 0.7047\n",
            "Epoch 19/20\n",
            "31/31 [==============================] - 2s 71ms/step - loss: 0.1131 - accuracy: 0.9650 - val_loss: 1.0046 - val_accuracy: 0.7083\n",
            "Epoch 20/20\n",
            "31/31 [==============================] - 3s 88ms/step - loss: 0.1015 - accuracy: 0.9685 - val_loss: 1.0850 - val_accuracy: 0.7185\n"
          ]
        }
      ]
    },
    {
      "cell_type": "markdown",
      "source": [
        "**Evaluate model performance**"
      ],
      "metadata": {
        "id": "LPQL71GlzVcM"
      }
    },
    {
      "cell_type": "code",
      "source": [
        "# evaluate model performance regarding accuracy\n",
        "test_loss, test_acc = ds_model.evaluate(X_test, y_test)\n",
        "print(f\"test_acc: {np.round(test_acc,3)}\")"
      ],
      "metadata": {
        "colab": {
          "base_uri": "https://localhost:8080/"
        },
        "id": "y_S7pRKIzWH8",
        "outputId": "4d2fbc27-debf-4b35-d957-52f9b49619a2"
      },
      "execution_count": null,
      "outputs": [
        {
          "output_type": "stream",
          "name": "stdout",
          "text": [
            "67/67 [==============================] - 0s 3ms/step - loss: 1.0319 - accuracy: 0.7290\n",
            "test_acc: 0.729\n"
          ]
        }
      ]
    },
    {
      "cell_type": "code",
      "source": [
        "# print other evaluation metrics\n",
        "predict_probs = ds_model.predict(X_test)\n",
        "y_pred = (predict_probs > 0.5).astype(int)\n",
        "print(classification_report(y_test, y_pred))"
      ],
      "metadata": {
        "colab": {
          "base_uri": "https://localhost:8080/"
        },
        "id": "p98yJ-LdzZt4",
        "outputId": "ca9ce670-9da6-4aa9-81db-479c11fc2156"
      },
      "execution_count": null,
      "outputs": [
        {
          "output_type": "stream",
          "name": "stdout",
          "text": [
            "67/67 [==============================] - 0s 4ms/step\n",
            "              precision    recall  f1-score   support\n",
            "\n",
            "           0       0.54      0.38      0.45       610\n",
            "           1       0.78      0.87      0.82      1512\n",
            "\n",
            "    accuracy                           0.73      2122\n",
            "   macro avg       0.66      0.63      0.63      2122\n",
            "weighted avg       0.71      0.73      0.71      2122\n",
            "\n"
          ]
        }
      ]
    },
    {
      "cell_type": "markdown",
      "source": [
        "**Visualize model performance during training**"
      ],
      "metadata": {
        "id": "4Qx8ls1j0It6"
      }
    },
    {
      "cell_type": "code",
      "source": [
        "def visualize_performance(history, flag):\n",
        "  history_dict = history.history\n",
        "  epochs = range(1, len(history_dict[\"loss\"]) + 1)\n",
        "\n",
        "  plt.plot(epochs, history_dict[flag], \"bo\", label=\"Training \"+flag)\n",
        "  plt.plot(epochs, history_dict[\"val_\"+flag], \"b\", label=\"Validation \"+flag)\n",
        "  plt.title(\"Training and validation \"+flag)\n",
        "  plt.xlabel(\"Epochs\")\n",
        "  plt.ylabel(\"Loss\")\n",
        "  plt.legend()\n",
        "  plt.show()"
      ],
      "metadata": {
        "id": "e9-vA6VV0H1V"
      },
      "execution_count": null,
      "outputs": []
    },
    {
      "cell_type": "code",
      "source": [
        "visualize_performance(ds_history, flag = 'loss')"
      ],
      "metadata": {
        "colab": {
          "base_uri": "https://localhost:8080/",
          "height": 472
        },
        "id": "FHsSB1ei0LGK",
        "outputId": "0da60ae6-59d6-4217-df1c-a03483e39fbd"
      },
      "execution_count": null,
      "outputs": [
        {
          "output_type": "display_data",
          "data": {
            "text/plain": [
              "<Figure size 640x480 with 1 Axes>"
            ],
            "image/png": "[encoded data removed]"
          },
          "metadata": {}
        }
      ]
    },
    {
      "cell_type": "code",
      "source": [
        "visualize_performance(ds_history, flag = 'accuracy')"
      ],
      "metadata": {
        "colab": {
          "base_uri": "https://localhost:8080/",
          "height": 472
        },
        "id": "0tIXKotR0M0Y",
        "outputId": "f8fe40e0-a2a3-4bbb-a732-9ee4ccac6b19"
      },
      "execution_count": null,
      "outputs": [
        {
          "output_type": "display_data",
          "data": {
            "text/plain": [
              "<Figure size 640x480 with 1 Axes>"
            ],
            "image/png": "[encoded data removed]"
          },
          "metadata": {}
        }
      ]
    },
    {
      "cell_type": "markdown",
      "source": [
        "### Model Evaluation Findings\n",
        "\n",
        "After evaluating the model on the test set, several key observations can be made regarding its performance:\n",
        "\n",
        "1. **Class Imbalance**: The model performs significantly better on class 1 compared to class 0. This suggests a class imbalance in the dataset, where samples of class 1 are much more abundant than those of class 0. Class imbalance can lead to the model being biased towards the majority class, resulting in poor performance on the minority class.\n",
        "\n",
        "2. **Recall Issue**: The recall for class 0 is relatively low, indicating that the model fails to identify a significant number of actual class 0 samples. In certain applications, such as disease diagnosis or fraud detection, a low recall could have serious implications.\n",
        "\n",
        "3. **Overall Model Performance**: While the model's overall accuracy is acceptable, there is room for improvement in terms of the macro and weighted average F1 scores.\n",
        "\n",
        "### Solutions to Improve Model Performance\n"
      ],
      "metadata": {
        "id": "Fb-JZOgjz-1k"
      }
    },
    {
      "cell_type": "code",
      "source": [
        "from imblearn.over_sampling import SMOTE\n",
        "from sklearn.model_selection import train_test_split\n",
        "\n",
        "# use SMOTE to address data imblance without affecting original data distribution\n",
        "smote = SMOTE()\n",
        "X_res, y_res = smote.fit_resample(X_train, y_train)\n",
        "\n",
        "# X_res, y_res\n"
      ],
      "metadata": {
        "id": "eJ-1dPzR0sPn"
      },
      "execution_count": null,
      "outputs": []
    },
    {
      "cell_type": "code",
      "source": [
        "# train the model\n",
        "ds_history = ds_model.fit(X_res, y_res, epochs=20, batch_size=512,\n",
        "                          validation_data=(X_val, y_val))"
      ],
      "metadata": {
        "colab": {
          "base_uri": "https://localhost:8080/"
        },
        "id": "AiaOC5qa0yQY",
        "outputId": "6a7df6a3-b94d-4208-feb6-782628b3cb4a"
      },
      "execution_count": null,
      "outputs": [
        {
          "output_type": "stream",
          "name": "stdout",
          "text": [
            "Epoch 1/20\n",
            "43/43 [==============================] - 3s 69ms/step - loss: 0.1464 - accuracy: 0.9483 - val_loss: 1.1439 - val_accuracy: 0.6733\n",
            "Epoch 2/20\n",
            "43/43 [==============================] - 3s 68ms/step - loss: 0.1162 - accuracy: 0.9659 - val_loss: 1.2080 - val_accuracy: 0.6949\n",
            "Epoch 3/20\n",
            "43/43 [==============================] - 5s 124ms/step - loss: 0.0985 - accuracy: 0.9722 - val_loss: 1.3337 - val_accuracy: 0.7053\n",
            "Epoch 4/20\n",
            "43/43 [==============================] - 5s 110ms/step - loss: 0.0892 - accuracy: 0.9753 - val_loss: 1.3761 - val_accuracy: 0.6898\n",
            "Epoch 5/20\n",
            "43/43 [==============================] - 5s 107ms/step - loss: 0.0792 - accuracy: 0.9781 - val_loss: 1.4659 - val_accuracy: 0.6817\n",
            "Epoch 6/20\n",
            "43/43 [==============================] - 5s 110ms/step - loss: 0.0682 - accuracy: 0.9803 - val_loss: 1.5440 - val_accuracy: 0.6886\n",
            "Epoch 7/20\n",
            "43/43 [==============================] - 4s 96ms/step - loss: 0.0656 - accuracy: 0.9807 - val_loss: 1.6162 - val_accuracy: 0.6799\n",
            "Epoch 8/20\n",
            "43/43 [==============================] - 3s 78ms/step - loss: 0.0557 - accuracy: 0.9852 - val_loss: 1.6969 - val_accuracy: 0.6844\n",
            "Epoch 9/20\n",
            "43/43 [==============================] - 3s 77ms/step - loss: 0.0521 - accuracy: 0.9855 - val_loss: 1.7802 - val_accuracy: 0.6928\n",
            "Epoch 10/20\n",
            "43/43 [==============================] - 5s 124ms/step - loss: 0.0473 - accuracy: 0.9872 - val_loss: 1.8491 - val_accuracy: 0.6871\n",
            "Epoch 11/20\n",
            "43/43 [==============================] - 4s 83ms/step - loss: 0.0419 - accuracy: 0.9889 - val_loss: 1.9239 - val_accuracy: 0.6817\n",
            "Epoch 12/20\n",
            "43/43 [==============================] - 4s 91ms/step - loss: 0.0378 - accuracy: 0.9897 - val_loss: 2.0149 - val_accuracy: 0.6916\n",
            "Epoch 13/20\n",
            "43/43 [==============================] - 4s 105ms/step - loss: 0.0341 - accuracy: 0.9917 - val_loss: 2.1043 - val_accuracy: 0.6742\n",
            "Epoch 14/20\n",
            "43/43 [==============================] - 5s 118ms/step - loss: 0.0330 - accuracy: 0.9913 - val_loss: 2.2082 - val_accuracy: 0.6704\n",
            "Epoch 15/20\n",
            "43/43 [==============================] - 4s 88ms/step - loss: 0.0323 - accuracy: 0.9911 - val_loss: 2.2367 - val_accuracy: 0.6817\n",
            "Epoch 16/20\n",
            "43/43 [==============================] - 3s 69ms/step - loss: 0.0236 - accuracy: 0.9943 - val_loss: 2.3607 - val_accuracy: 0.6742\n",
            "Epoch 17/20\n",
            "43/43 [==============================] - 4s 92ms/step - loss: 0.0261 - accuracy: 0.9935 - val_loss: 2.4037 - val_accuracy: 0.6808\n",
            "Epoch 18/20\n",
            "43/43 [==============================] - 4s 83ms/step - loss: 0.0243 - accuracy: 0.9937 - val_loss: 2.4553 - val_accuracy: 0.6811\n",
            "Epoch 19/20\n",
            "43/43 [==============================] - 3s 68ms/step - loss: 0.0247 - accuracy: 0.9934 - val_loss: 2.5235 - val_accuracy: 0.6799\n",
            "Epoch 20/20\n",
            "43/43 [==============================] - 4s 105ms/step - loss: 0.0177 - accuracy: 0.9962 - val_loss: 2.6752 - val_accuracy: 0.6515\n"
          ]
        }
      ]
    },
    {
      "cell_type": "code",
      "source": [
        "# evaluate model performance regarding accuracy\n",
        "test_loss, test_acc = ds_model.evaluate(X_test, y_test)\n",
        "print(f\"test_acc: {np.round(test_acc,3)}\")"
      ],
      "metadata": {
        "colab": {
          "base_uri": "https://localhost:8080/"
        },
        "id": "5-Fv84W62k_n",
        "outputId": "bbbe9e40-4325-4ed3-fa67-110a80c9a9bf"
      },
      "execution_count": null,
      "outputs": [
        {
          "output_type": "stream",
          "name": "stdout",
          "text": [
            "67/67 [==============================] - 1s 7ms/step - loss: 2.6158 - accuracy: 0.6621\n",
            "test_acc: 0.662\n"
          ]
        }
      ]
    },
    {
      "cell_type": "code",
      "source": [
        "# print other evaluation metrics\n",
        "predict_probs = ds_model.predict(X_test)\n",
        "y_pred = (predict_probs > 0.5).astype(int)\n",
        "print(classification_report(y_test, y_pred))"
      ],
      "metadata": {
        "colab": {
          "base_uri": "https://localhost:8080/"
        },
        "id": "6bFq6r4G2HVq",
        "outputId": "2e9232d2-db69-46a5-fb27-c4a3899bdd96"
      },
      "execution_count": null,
      "outputs": [
        {
          "output_type": "stream",
          "name": "stdout",
          "text": [
            "67/67 [==============================] - 1s 15ms/step\n",
            "              precision    recall  f1-score   support\n",
            "\n",
            "           0       0.44      0.60      0.51       610\n",
            "           1       0.81      0.69      0.74      1512\n",
            "\n",
            "    accuracy                           0.66      2122\n",
            "   macro avg       0.62      0.64      0.62      2122\n",
            "weighted avg       0.70      0.66      0.67      2122\n",
            "\n"
          ]
        }
      ]
    },
    {
      "cell_type": "markdown",
      "source": [
        "Although the performance dropped from 72.9 to 66.2 (acc in %). However, this tuned model is closer to authentic performance"
      ],
      "metadata": {
        "id": "ityjPv762tZY"
      }
    },
    {
      "cell_type": "markdown",
      "source": [
        "### Train a bidirectional LSTM with self-trained embedding"
      ],
      "metadata": {
        "id": "hsiwlA6Z3Jc1"
      }
    },
    {
      "cell_type": "markdown",
      "source": [
        "**Vectorize text to a sequence of indices**"
      ],
      "metadata": {
        "id": "hxcFhnUz3XgL"
      }
    },
    {
      "cell_type": "code",
      "source": [
        "max_length = 600\n",
        "max_tokens = 20000\n",
        "vectorizer = layers.TextVectorization(\n",
        "    max_tokens=max_tokens,\n",
        "    output_mode=\"int\",\n",
        "    output_sequence_length=max_length,\n",
        ")\n",
        "vectorizer.adapt(df['My self summary'])\n",
        "vectorized_text = vectorizer(df['My self summary'])"
      ],
      "metadata": {
        "id": "Ubzu4yQ93KSy"
      },
      "execution_count": null,
      "outputs": []
    },
    {
      "cell_type": "code",
      "source": [
        "# an example of the vectorized text\n",
        "vectorized_text[0]"
      ],
      "metadata": {
        "colab": {
          "base_uri": "https://localhost:8080/"
        },
        "id": "vUsUIqc33i15",
        "outputId": "f16abc84-00dd-404b-cdc7-a9658791a707"
      },
      "execution_count": null,
      "outputs": [
        {
          "output_type": "execute_result",
          "data": {
            "text/plain": [
              "<tf.Tensor: shape=(600,), dtype=int64, numpy=\n",
              "array([   10,    37,  4769,   137,     7,   101,   120,    17,    49,\n",
              "         622,    14,  1340,    18,     2,   198,    86,     8,     9,\n",
              "         296,   132,     4,   873,   341,   258,    11,     9,   326,\n",
              "           2,   580,  4219,     3,    16,    67,   730,     4,  5095,\n",
              "          30,  1437,  1501,    27,  1472,    10,    91,  7617,    61,\n",
              "        1432,    18,    39,    14,  1839,   121,    33,     9,     1,\n",
              "         135,     2,    93,    62,   189,    10,     5,   128,  9443,\n",
              "           2,    16,     5,  1038,  2213,     2,    20,     4,    80,\n",
              "           8,     6,    86, 11382,  1549,    31,    35,   171,    43,\n",
              "          38,    11,    65,     2,    19,     4,   127,     3,   245,\n",
              "          11,  1549,     4,    44,    34,   765,    48,   745,    18,\n",
              "           7,  1294,   122,    31,    80,    10,   490,    27,   126,\n",
              "         159,     2,    12,    17,    52,   225,    10,   173,   490,\n",
              "          27,    68,    10,    37,  1889,    20,   348,   286,     7,\n",
              "         149,    22,   632,     3,     2,    19,    56,     2,    44,\n",
              "           2,    51,   832,     3,  4539,     7,  1596,  2980,  1066,\n",
              "          62,  1619,    18,    24,     3,     2,    19,    31,    32,\n",
              "          36,   771,    18,    40,    43,     0,     0,     0,     0,\n",
              "           0,     0,     0,     0,     0,     0,     0,     0,     0,\n",
              "           0,     0,     0,     0,     0,     0,     0,     0,     0,\n",
              "           0,     0,     0,     0,     0,     0,     0,     0,     0,\n",
              "           0,     0,     0,     0,     0,     0,     0,     0,     0,\n",
              "           0,     0,     0,     0,     0,     0,     0,     0,     0,\n",
              "           0,     0,     0,     0,     0,     0,     0,     0,     0,\n",
              "           0,     0,     0,     0,     0,     0,     0,     0,     0,\n",
              "           0,     0,     0,     0,     0,     0,     0,     0,     0,\n",
              "           0,     0,     0,     0,     0,     0,     0,     0,     0,\n",
              "           0,     0,     0,     0,     0,     0,     0,     0,     0,\n",
              "           0,     0,     0,     0,     0,     0,     0,     0,     0,\n",
              "           0,     0,     0,     0,     0,     0,     0,     0,     0,\n",
              "           0,     0,     0,     0,     0,     0,     0,     0,     0,\n",
              "           0,     0,     0,     0,     0,     0,     0,     0,     0,\n",
              "           0,     0,     0,     0,     0,     0,     0,     0,     0,\n",
              "           0,     0,     0,     0,     0,     0,     0,     0,     0,\n",
              "           0,     0,     0,     0,     0,     0,     0,     0,     0,\n",
              "           0,     0,     0,     0,     0,     0,     0,     0,     0,\n",
              "           0,     0,     0,     0,     0,     0,     0,     0,     0,\n",
              "           0,     0,     0,     0,     0,     0,     0,     0,     0,\n",
              "           0,     0,     0,     0,     0,     0,     0,     0,     0,\n",
              "           0,     0,     0,     0,     0,     0,     0,     0,     0,\n",
              "           0,     0,     0,     0,     0,     0,     0,     0,     0,\n",
              "           0,     0,     0,     0,     0,     0,     0,     0,     0,\n",
              "           0,     0,     0,     0,     0,     0,     0,     0,     0,\n",
              "           0,     0,     0,     0,     0,     0,     0,     0,     0,\n",
              "           0,     0,     0,     0,     0,     0,     0,     0,     0,\n",
              "           0,     0,     0,     0,     0,     0,     0,     0,     0,\n",
              "           0,     0,     0,     0,     0,     0,     0,     0,     0,\n",
              "           0,     0,     0,     0,     0,     0,     0,     0,     0,\n",
              "           0,     0,     0,     0,     0,     0,     0,     0,     0,\n",
              "           0,     0,     0,     0,     0,     0,     0,     0,     0,\n",
              "           0,     0,     0,     0,     0,     0,     0,     0,     0,\n",
              "           0,     0,     0,     0,     0,     0,     0,     0,     0,\n",
              "           0,     0,     0,     0,     0,     0,     0,     0,     0,\n",
              "           0,     0,     0,     0,     0,     0,     0,     0,     0,\n",
              "           0,     0,     0,     0,     0,     0,     0,     0,     0,\n",
              "           0,     0,     0,     0,     0,     0,     0,     0,     0,\n",
              "           0,     0,     0,     0,     0,     0,     0,     0,     0,\n",
              "           0,     0,     0,     0,     0,     0,     0,     0,     0,\n",
              "           0,     0,     0,     0,     0,     0,     0,     0,     0,\n",
              "           0,     0,     0,     0,     0,     0,     0,     0,     0,\n",
              "           0,     0,     0,     0,     0,     0,     0,     0,     0,\n",
              "           0,     0,     0,     0,     0,     0,     0,     0,     0,\n",
              "           0,     0,     0,     0,     0,     0,     0,     0,     0,\n",
              "           0,     0,     0,     0,     0,     0,     0,     0,     0,\n",
              "           0,     0,     0,     0,     0,     0,     0,     0,     0,\n",
              "           0,     0,     0,     0,     0,     0,     0,     0,     0,\n",
              "           0,     0,     0,     0,     0,     0])>"
            ]
          },
          "metadata": {},
          "execution_count": 48
        }
      ]
    },
    {
      "cell_type": "code",
      "source": [
        "def decode_text_seq(indices, vectorizer):\n",
        "  \"\"\"\n",
        "  Decode indices back to text\n",
        "  \"\"\"\n",
        "  vocab = vectorizer.get_vocabulary()\n",
        "  return ' '.join(vocab[i] for i in indices)"
      ],
      "metadata": {
        "id": "0N9GqzL13m1x"
      },
      "execution_count": null,
      "outputs": []
    },
    {
      "cell_type": "code",
      "source": [
        "# an example of the decoded text\n",
        "decode_text_seq(vectorized_text[0], vectorizer)"
      ],
      "metadata": {
        "colab": {
          "base_uri": "https://localhost:8080/",
          "height": 178
        },
        "id": "I2NDmOk33n8x",
        "outputId": "c48a2768-6937-43f0-fe8e-5c807e8064fc"
      },
      "execution_count": null,
      "outputs": [
        {
          "output_type": "execute_result",
          "data": {
            "text/plain": [
              "'im an australian living in san francisco but dont hold that against me i spend most of my days trying to build cool stuff for my company i speak mandarin and have been known to bust out chinese songs at karaoke im pretty cheeky someone asked me if that meant something about my [UNK] which i find really funny im a little oddball i have a wild imagination i like to think of the most improbable reasons people are doing things just for fun i love to laugh and look for reasons to do so occasionally this gets me in trouble because people think im laughing at them sometimes i am but more often im only laughing at myself im an entrepreneur like everyone else in sf it seems and i love what i do i enjoy parties and downtime in equal measure intelligence really turns me on and i love people who can teach me new things                                                                                                                                                                                                                                                                                                                                                                                                                                                          '"
            ],
            "application/vnd.google.colaboratory.intrinsic+json": {
              "type": "string"
            }
          },
          "metadata": {},
          "execution_count": 50
        }
      ]
    },
    {
      "cell_type": "markdown",
      "source": [
        "**Split data into train/test/validation**"
      ],
      "metadata": {
        "id": "6igZ6dLP3vPU"
      }
    },
    {
      "cell_type": "code",
      "source": [
        "# 75,15,15 %\n",
        "\n",
        "\n",
        "X_train = vectorized_text[:15616]\n",
        "y_train = df.belief.values[:15616]\n",
        "\n",
        "X_val = vectorized_text[15616:15616+3346]\n",
        "y_val = df.belief.values[15616:15616+3346]\n",
        "\n",
        "X_test = vectorized_text[15616+3346:]\n",
        "y_test = df.belief.values[15616+3346:]\n",
        "\n",
        "X_train.shape, X_test.shape, X_val.shape\n"
      ],
      "metadata": {
        "colab": {
          "base_uri": "https://localhost:8080/"
        },
        "id": "DO4YwUdZ3vue",
        "outputId": "a5b71b90-8730-4e98-93bf-394854c1b8e8"
      },
      "execution_count": null,
      "outputs": [
        {
          "output_type": "execute_result",
          "data": {
            "text/plain": [
              "(TensorShape([15616, 600]), TensorShape([2122, 600]), TensorShape([3346, 600]))"
            ]
          },
          "metadata": {},
          "execution_count": 51
        }
      ]
    },
    {
      "cell_type": "markdown",
      "source": [
        "**Build,compile, and train a bidirectional LSTM with a embedding layer**"
      ],
      "metadata": {
        "id": "1Xj5QQl74LIF"
      }
    },
    {
      "cell_type": "code",
      "source": [
        "# create the embedding layer\n",
        "inputs = keras.Input(shape=(None,), dtype=\"int64\")\n",
        "embedded = layers.Embedding(input_dim=max_tokens, output_dim=256)(inputs) # try mask_zero=True"
      ],
      "metadata": {
        "id": "gAP-5T_u3vww"
      },
      "execution_count": null,
      "outputs": []
    },
    {
      "cell_type": "code",
      "source": [
        "# build a bidirectional LSTM\n",
        "x = layers.Bidirectional(layers.LSTM(32))(embedded)\n",
        "x = layers.Dropout(0.5)(x)\n",
        "outputs = layers.Dense(1, activation=\"sigmoid\")(x)\n",
        "\n",
        "eb_model = keras.Model(inputs, outputs)\n",
        "eb_model.compile(optimizer=\"rmsprop\",\n",
        "              loss=\"binary_crossentropy\",\n",
        "              metrics=[\"accuracy\"])\n",
        "eb_model.summary()\n",
        "\n",
        "# callbacks = [\n",
        "#     keras.callbacks.ModelCheckpoint(\"embeddings_bidir_gru.keras\",\n",
        "#                                     save_best_only=True)\n",
        "# ]\n",
        "# model.fit(X_train, y_train, validation_data=int_val_ds, epochs=10,\n",
        "#           callbacks=callbacks)\n",
        "# model = keras.models.load_model(\"embeddings_bidir_gru.keras\")\n",
        "# print(f\"Test acc: {model.evaluate(int_test_ds)[1]:.3f}\")"
      ],
      "metadata": {
        "colab": {
          "base_uri": "https://localhost:8080/"
        },
        "id": "ExwYDqjq4Lq2",
        "outputId": "76ad1158-63df-43b2-a419-7ebb844419d2"
      },
      "execution_count": null,
      "outputs": [
        {
          "output_type": "stream",
          "name": "stdout",
          "text": [
            "Model: \"model\"\n",
            "_________________________________________________________________\n",
            " Layer (type)                Output Shape              Param #   \n",
            "=================================================================\n",
            " input_1 (InputLayer)        [(None, None)]            0         \n",
            "                                                                 \n",
            " embedding (Embedding)       (None, None, 256)         5120000   \n",
            "                                                                 \n",
            " bidirectional (Bidirection  (None, 64)                73984     \n",
            " al)                                                             \n",
            "                                                                 \n",
            " dropout (Dropout)           (None, 64)                0         \n",
            "                                                                 \n",
            " dense_3 (Dense)             (None, 1)                 65        \n",
            "                                                                 \n",
            "=================================================================\n",
            "Total params: 5194049 (19.81 MB)\n",
            "Trainable params: 5194049 (19.81 MB)\n",
            "Non-trainable params: 0 (0.00 Byte)\n",
            "_________________________________________________________________\n"
          ]
        }
      ]
    },
    {
      "cell_type": "code",
      "source": [
        "# train the model\n",
        "eb_history = eb_model.fit(X_train, y_train, epochs=20, batch_size=512,\n",
        "                          validation_data=(X_val, y_val))"
      ],
      "metadata": {
        "colab": {
          "base_uri": "https://localhost:8080/"
        },
        "id": "RiVhI14H3v3O",
        "outputId": "e220fb01-68e3-4870-c18c-115052e9021b"
      },
      "execution_count": null,
      "outputs": [
        {
          "output_type": "stream",
          "name": "stdout",
          "text": [
            "Epoch 1/20\n",
            "31/31 [==============================] - 216s 7s/step - loss: 0.6276 - accuracy: 0.6805 - val_loss: 0.6176 - val_accuracy: 0.6928\n",
            "Epoch 2/20\n",
            "31/31 [==============================] - 212s 7s/step - loss: 0.6178 - accuracy: 0.6908 - val_loss: 0.6108 - val_accuracy: 0.6928\n",
            "Epoch 3/20\n",
            "31/31 [==============================] - 205s 7s/step - loss: 0.6103 - accuracy: 0.6908 - val_loss: 0.5920 - val_accuracy: 0.6931\n",
            "Epoch 4/20\n",
            "31/31 [==============================] - 207s 7s/step - loss: 0.5951 - accuracy: 0.6901 - val_loss: 0.5777 - val_accuracy: 0.6975\n",
            "Epoch 5/20\n",
            "31/31 [==============================] - 208s 7s/step - loss: 0.5763 - accuracy: 0.6982 - val_loss: 0.5637 - val_accuracy: 0.7104\n",
            "Epoch 6/20\n",
            "31/31 [==============================] - 206s 7s/step - loss: 0.5644 - accuracy: 0.7070 - val_loss: 0.5547 - val_accuracy: 0.7074\n",
            "Epoch 7/20\n",
            "31/31 [==============================] - 205s 7s/step - loss: 0.5475 - accuracy: 0.7197 - val_loss: 0.5488 - val_accuracy: 0.7158\n",
            "Epoch 8/20\n",
            "31/31 [==============================] - 206s 7s/step - loss: 0.5376 - accuracy: 0.7254 - val_loss: 0.5473 - val_accuracy: 0.7176\n",
            "Epoch 9/20\n",
            "31/31 [==============================] - 205s 7s/step - loss: 0.5253 - accuracy: 0.7369 - val_loss: 0.5979 - val_accuracy: 0.7215\n",
            "Epoch 10/20\n",
            "31/31 [==============================] - 205s 7s/step - loss: 0.5138 - accuracy: 0.7498 - val_loss: 0.5428 - val_accuracy: 0.7200\n",
            "Epoch 11/20\n",
            "31/31 [==============================] - 205s 7s/step - loss: 0.5033 - accuracy: 0.7562 - val_loss: 0.5438 - val_accuracy: 0.7250\n",
            "Epoch 12/20\n",
            "31/31 [==============================] - 204s 7s/step - loss: 0.4891 - accuracy: 0.7643 - val_loss: 0.5677 - val_accuracy: 0.6934\n",
            "Epoch 13/20\n",
            "31/31 [==============================] - 205s 7s/step - loss: 0.4816 - accuracy: 0.7773 - val_loss: 0.5751 - val_accuracy: 0.7182\n",
            "Epoch 14/20\n",
            "31/31 [==============================] - 205s 7s/step - loss: 0.4639 - accuracy: 0.7847 - val_loss: 0.5650 - val_accuracy: 0.7191\n",
            "Epoch 15/20\n",
            "31/31 [==============================] - 208s 7s/step - loss: 0.4567 - accuracy: 0.7917 - val_loss: 0.5703 - val_accuracy: 0.7047\n",
            "Epoch 16/20\n",
            "31/31 [==============================] - 209s 7s/step - loss: 0.4473 - accuracy: 0.7966 - val_loss: 0.5639 - val_accuracy: 0.7170\n",
            "Epoch 17/20\n",
            "31/31 [==============================] - 201s 6s/step - loss: 0.4271 - accuracy: 0.8113 - val_loss: 0.5886 - val_accuracy: 0.6970\n",
            "Epoch 18/20\n",
            "31/31 [==============================] - 203s 7s/step - loss: 0.4187 - accuracy: 0.8160 - val_loss: 0.5715 - val_accuracy: 0.7149\n",
            "Epoch 19/20\n",
            "31/31 [==============================] - 208s 7s/step - loss: 0.4077 - accuracy: 0.8229 - val_loss: 0.5850 - val_accuracy: 0.7095\n",
            "Epoch 20/20\n",
            "31/31 [==============================] - 208s 7s/step - loss: 0.3931 - accuracy: 0.8315 - val_loss: 0.6048 - val_accuracy: 0.7218\n"
          ]
        }
      ]
    },
    {
      "cell_type": "markdown",
      "source": [
        "**Evaluate model performance**"
      ],
      "metadata": {
        "id": "_k-rgKr5Iyfv"
      }
    },
    {
      "cell_type": "code",
      "source": [
        "# evaluate model performance regarding accuracy\n",
        "test_loss, test_acc = eb_model.evaluate(X_test, y_test)\n",
        "print(f\"test_acc: {np.round(test_acc,3)}\")"
      ],
      "metadata": {
        "colab": {
          "base_uri": "https://localhost:8080/"
        },
        "id": "vEVdNsmuIwQ0",
        "outputId": "769eb2ee-2aa3-47ad-ffac-f842f259f688"
      },
      "execution_count": null,
      "outputs": [
        {
          "output_type": "stream",
          "name": "stdout",
          "text": [
            "67/67 [==============================] - 14s 202ms/step - loss: 0.5931 - accuracy: 0.7191\n",
            "test_acc: 0.719\n"
          ]
        }
      ]
    },
    {
      "cell_type": "code",
      "source": [
        "# print other evaluation metrics\n",
        "predict_probs = eb_model.predict(X_test)\n",
        "y_pred = (predict_probs > 0.5).astype(int)\n",
        "print(classification_report(y_test, y_pred))"
      ],
      "metadata": {
        "colab": {
          "base_uri": "https://localhost:8080/"
        },
        "id": "zPRJIu5yI0P3",
        "outputId": "b707e39d-cc20-4a4e-d8b4-5c2d9a5f1010"
      },
      "execution_count": null,
      "outputs": [
        {
          "output_type": "stream",
          "name": "stdout",
          "text": [
            "67/67 [==============================] - 18s 233ms/step\n",
            "              precision    recall  f1-score   support\n",
            "\n",
            "           0       0.52      0.33      0.41       610\n",
            "           1       0.77      0.87      0.82      1512\n",
            "\n",
            "    accuracy                           0.72      2122\n",
            "   macro avg       0.64      0.60      0.61      2122\n",
            "weighted avg       0.69      0.72      0.70      2122\n",
            "\n"
          ]
        }
      ]
    },
    {
      "cell_type": "markdown",
      "source": [
        "**Visualize model performance during training**"
      ],
      "metadata": {
        "id": "6ZSMQqsTI8Tm"
      }
    },
    {
      "cell_type": "code",
      "source": [
        "visualize_performance(eb_history, flag = 'loss')"
      ],
      "metadata": {
        "colab": {
          "base_uri": "https://localhost:8080/",
          "height": 472
        },
        "id": "yfjMsxsaI_u6",
        "outputId": "b6fa70ca-639b-414f-fb77-75fef7cf782f"
      },
      "execution_count": null,
      "outputs": [
        {
          "output_type": "display_data",
          "data": {
            "text/plain": [
              "<Figure size 640x480 with 1 Axes>"
            ],
            "image/png": "[encoded data removed]"
          },
          "metadata": {}
        }
      ]
    },
    {
      "cell_type": "code",
      "source": [
        "visualize_performance(eb_history, flag = 'accuracy')"
      ],
      "metadata": {
        "colab": {
          "base_uri": "https://localhost:8080/",
          "height": 472
        },
        "id": "iM06l2g8JDqb",
        "outputId": "2ab41ea6-20d5-4e8b-bf9e-3fcdf1181ef6"
      },
      "execution_count": null,
      "outputs": [
        {
          "output_type": "display_data",
          "data": {
            "text/plain": [
              "<Figure size 640x480 with 1 Axes>"
            ],
            "image/png": "[encoded data removed]"
          },
          "metadata": {}
        }
      ]
    },
    {
      "cell_type": "markdown",
      "source": [
        "### Train a bidirectional LSTM with pre-trained embedding model"
      ],
      "metadata": {
        "id": "VXdhIPLHJGQC"
      }
    },
    {
      "cell_type": "markdown",
      "source": [
        "**Get the pre-trained embedding**"
      ],
      "metadata": {
        "id": "pmvbAQitJNQl"
      }
    },
    {
      "cell_type": "code",
      "source": [
        "# get the Glove embedding (this takes about 3min)\n",
        "!wget http://nlp.stanford.edu/data/glove.6B.zip\n",
        "!unzip -q glove.6B.zip"
      ],
      "metadata": {
        "colab": {
          "base_uri": "https://localhost:8080/"
        },
        "id": "zd4MureVJOBS",
        "outputId": "3145bc38-d477-4c70-ce65-bd42112fc5ab"
      },
      "execution_count": null,
      "outputs": [
        {
          "output_type": "stream",
          "name": "stdout",
          "text": [
            "--2024-03-01 03:53:24--  http://nlp.stanford.edu/data/glove.6B.zip\n",
            "Resolving nlp.stanford.edu (nlp.stanford.edu)... 171.64.67.140\n",
            "Connecting to nlp.stanford.edu (nlp.stanford.edu)|171.64.67.140|:80... connected.\n",
            "HTTP request sent, awaiting response... 302 Found\n",
            "Location: https://nlp.stanford.edu/data/glove.6B.zip [following]\n",
            "--2024-03-01 03:53:24--  https://nlp.stanford.edu/data/glove.6B.zip\n",
            "Connecting to nlp.stanford.edu (nlp.stanford.edu)|171.64.67.140|:443... connected.\n",
            "HTTP request sent, awaiting response... 301 Moved Permanently\n",
            "Location: https://downloads.cs.stanford.edu/nlp/data/glove.6B.zip [following]\n",
            "--2024-03-01 03:53:24--  https://downloads.cs.stanford.edu/nlp/data/glove.6B.zip\n",
            "Resolving downloads.cs.stanford.edu (downloads.cs.stanford.edu)... 171.64.64.22\n",
            "Connecting to downloads.cs.stanford.edu (downloads.cs.stanford.edu)|171.64.64.22|:443... connected.\n",
            "HTTP request sent, awaiting response... 200 OK\n",
            "Length: 862182613 (822M) [application/zip]\n",
            "Saving to: ‘glove.6B.zip’\n",
            "\n",
            "glove.6B.zip        100%[===================>] 822.24M  5.01MB/s    in 2m 39s  \n",
            "\n",
            "2024-03-01 03:56:03 (5.17 MB/s) - ‘glove.6B.zip’ saved [862182613/862182613]\n",
            "\n"
          ]
        }
      ]
    },
    {
      "cell_type": "code",
      "source": [
        "# Parse the GloVe word-embeddings file\n",
        "# build a map from words to vector representations\n",
        "path_to_glove_file = \"glove.6B.100d.txt\"\n",
        "\n",
        "embeddings_index = {}\n",
        "with open(path_to_glove_file) as f:\n",
        "    for line in f:\n",
        "        word, coefs = line.split(maxsplit=1)\n",
        "        coefs = np.fromstring(coefs, \"f\", sep=\" \")\n",
        "        embeddings_index[word] = coefs\n",
        "\n",
        "print(f\"Found {len(embeddings_index)} word vectors.\")"
      ],
      "metadata": {
        "colab": {
          "base_uri": "https://localhost:8080/"
        },
        "id": "zqGt_26gJUIu",
        "outputId": "df7dad06-d069-48b2-d15b-590a05ff5e49"
      },
      "execution_count": null,
      "outputs": [
        {
          "output_type": "stream",
          "name": "stdout",
          "text": [
            "Found 400000 word vectors.\n"
          ]
        }
      ]
    },
    {
      "cell_type": "code",
      "source": [
        "# an example of the Glove embedding representation for a word\n",
        "embeddings_index['love']"
      ],
      "metadata": {
        "colab": {
          "base_uri": "https://localhost:8080/"
        },
        "id": "wal2NW8KJvqP",
        "outputId": "ab91e95e-6700-419c-bbb1-ec0a4b3a01ad"
      },
      "execution_count": null,
      "outputs": [
        {
          "output_type": "execute_result",
          "data": {
            "text/plain": [
              "array([ 2.5975e-01,  5.5833e-01,  5.7986e-01, -2.1361e-01,  1.3084e-01,\n",
              "        9.4385e-01, -4.2817e-01, -3.7420e-01, -9.4499e-02, -4.3344e-01,\n",
              "       -2.0937e-01,  3.4702e-01,  8.2516e-02,  7.9735e-01,  1.6606e-01,\n",
              "       -2.6878e-01,  5.8830e-01,  6.7397e-01, -4.9965e-01,  1.4764e+00,\n",
              "        5.5261e-01,  2.5295e-02, -1.6068e-01, -1.3878e-01,  4.8686e-01,\n",
              "        1.1420e+00,  5.6195e-02, -7.3306e-01,  8.6932e-01, -3.5892e-01,\n",
              "       -5.1877e-01,  9.0402e-01,  4.9249e-01, -1.4915e-01,  4.8493e-02,\n",
              "        2.6096e-01,  1.1352e-01,  4.1275e-01,  5.3803e-01, -4.4950e-01,\n",
              "        8.5733e-02,  9.1184e-02,  5.0177e-03, -3.4645e-01, -1.1058e-01,\n",
              "       -2.2235e-01, -6.5290e-01, -5.1838e-02,  5.3791e-01, -8.1040e-01,\n",
              "       -1.8253e-01,  2.4194e-01,  5.4855e-01,  8.7731e-01,  2.2165e-01,\n",
              "       -2.7124e+00,  4.9405e-01,  4.4703e-01,  5.5882e-01,  2.6076e-01,\n",
              "        2.3760e-01,  1.0668e+00, -5.6971e-01, -6.4960e-01,  3.3511e-01,\n",
              "        3.4609e-01,  1.1033e+00,  8.5261e-02,  2.4847e-02, -4.5453e-01,\n",
              "        7.7012e-02,  2.1321e-01,  1.0444e-01,  6.7157e-02, -3.4261e-01,\n",
              "        8.5534e-01,  1.3361e-01, -4.3296e-01, -5.6726e-01, -2.1348e-01,\n",
              "       -3.3277e-01,  3.4351e-01,  3.2164e-01,  4.4527e-01, -1.3208e+00,\n",
              "       -1.3270e-01, -7.0820e-01, -4.8472e-01, -6.9396e-01, -2.6080e-01,\n",
              "       -4.7099e-01, -5.7492e-02,  9.3587e-02,  4.0006e-01, -4.3419e-01,\n",
              "       -2.7364e-01, -7.7017e-01, -8.4028e-01, -1.5620e-03,  6.2223e-01],\n",
              "      dtype=float32)"
            ]
          },
          "metadata": {},
          "execution_count": 61
        }
      ]
    },
    {
      "cell_type": "code",
      "source": [
        "# initialize a vectorizer\n",
        "max_length = 600\n",
        "max_tokens = 20000\n",
        "text_vectorizer = layers.TextVectorization(\n",
        "    max_tokens=max_tokens,\n",
        "    output_mode=\"int\",\n",
        "    output_sequence_length=max_length,\n",
        ")\n",
        "text_vectorizer.adapt(df['My self summary'])\n",
        "vectorized_text = text_vectorizer(df['My self summary'])"
      ],
      "metadata": {
        "id": "KlZmZrrfKQii"
      },
      "execution_count": null,
      "outputs": []
    },
    {
      "cell_type": "code",
      "source": [
        "# 75,15,15 %\n",
        "\n",
        "\n",
        "X_train = vectorized_text[:15616]\n",
        "y_train = df.belief.values[:15616]\n",
        "\n",
        "X_val = vectorized_text[15616:15616+3346]\n",
        "y_val = df.belief.values[15616:15616+3346]\n",
        "\n",
        "X_test = vectorized_text[15616+3346:]\n",
        "y_test = df.belief.values[15616+3346:]\n",
        "\n",
        "X_train.shape, X_test.shape, X_val.shape\n"
      ],
      "metadata": {
        "colab": {
          "base_uri": "https://localhost:8080/"
        },
        "id": "AjMTRCg9Kb_L",
        "outputId": "b981dd66-137e-47ab-970d-f5f072de09c9"
      },
      "execution_count": null,
      "outputs": [
        {
          "output_type": "execute_result",
          "data": {
            "text/plain": [
              "(TensorShape([15616, 600]), TensorShape([2122, 600]), TensorShape([3346, 600]))"
            ]
          },
          "metadata": {},
          "execution_count": 64
        }
      ]
    },
    {
      "cell_type": "code",
      "source": [
        "# Preparing the GloVe word-embeddings matrix: word_id: vector\n",
        "embedding_dim = 100\n",
        "\n",
        "vocabulary = vectorizer.get_vocabulary()\n",
        "word_index = dict(zip(vocabulary, range(len(vocabulary))))\n",
        "\n",
        "embedding_matrix = np.zeros((max_tokens, embedding_dim))\n",
        "for word, i in word_index.items():\n",
        "    if i < max_tokens:\n",
        "        embedding_vector = embeddings_index.get(word)\n",
        "    if embedding_vector is not None:\n",
        "        embedding_matrix[i] = embedding_vector\n",
        "\n",
        "print(embedding_matrix.shape)"
      ],
      "metadata": {
        "colab": {
          "base_uri": "https://localhost:8080/"
        },
        "id": "EqGk2JpnKfM2",
        "outputId": "9d615408-25c2-4eb6-fe61-2d9caa2f4585"
      },
      "execution_count": null,
      "outputs": [
        {
          "output_type": "stream",
          "name": "stdout",
          "text": [
            "(20000, 100)\n"
          ]
        }
      ]
    },
    {
      "cell_type": "markdown",
      "source": [
        "**Configure an embedding layer**"
      ],
      "metadata": {
        "id": "WLBQMEl9Ko6_"
      }
    },
    {
      "cell_type": "code",
      "source": [
        "# Use a Constant initializer to load the pretrained embeddings in an Embedding layer\n",
        "# freeze the layer via trainable=False\n",
        "embedding_layer = layers.Embedding(\n",
        "    max_tokens,\n",
        "    embedding_dim,\n",
        "    embeddings_initializer=keras.initializers.Constant(embedding_matrix),\n",
        "    trainable=False,\n",
        "    mask_zero=True,\n",
        ")"
      ],
      "metadata": {
        "id": "f18iheiWKpaj"
      },
      "execution_count": null,
      "outputs": []
    },
    {
      "cell_type": "markdown",
      "source": [
        "**Build, compile, and train a bidirectional LSTM with pre-trained embeddings**\n",
        "\n",
        "\n"
      ],
      "metadata": {
        "id": "ijHsL03VLMv5"
      }
    },
    {
      "cell_type": "code",
      "source": [
        "# Build a model that utilize a pretrained Embedding layer\n",
        "inputs = keras.Input(shape=(None,), dtype=\"int64\")\n",
        "embedded = embedding_layer(inputs)\n",
        "x = layers.Bidirectional(layers.LSTM(32))(embedded)\n",
        "x = layers.Dropout(0.5)(x)\n",
        "outputs = layers.Dense(1, activation=\"sigmoid\")(x)\n",
        "\n",
        "pre_model = keras.Model(inputs, outputs)\n",
        "pre_model.compile(optimizer=\"rmsprop\",\n",
        "              loss=\"binary_crossentropy\",\n",
        "              metrics=[\"accuracy\"])\n",
        "pre_model.summary()"
      ],
      "metadata": {
        "colab": {
          "base_uri": "https://localhost:8080/"
        },
        "id": "0wDDDSCKLNSH",
        "outputId": "0b836c28-d2f0-4917-bc0a-be94cc5e009b"
      },
      "execution_count": null,
      "outputs": [
        {
          "output_type": "stream",
          "name": "stdout",
          "text": [
            "Model: \"model_1\"\n",
            "_________________________________________________________________\n",
            " Layer (type)                Output Shape              Param #   \n",
            "=================================================================\n",
            " input_2 (InputLayer)        [(None, None)]            0         \n",
            "                                                                 \n",
            " embedding_1 (Embedding)     (None, None, 100)         2000000   \n",
            "                                                                 \n",
            " bidirectional_1 (Bidirecti  (None, 64)                34048     \n",
            " onal)                                                           \n",
            "                                                                 \n",
            " dropout_1 (Dropout)         (None, 64)                0         \n",
            "                                                                 \n",
            " dense_4 (Dense)             (None, 1)                 65        \n",
            "                                                                 \n",
            "=================================================================\n",
            "Total params: 2034113 (7.76 MB)\n",
            "Trainable params: 34113 (133.25 KB)\n",
            "Non-trainable params: 2000000 (7.63 MB)\n",
            "_________________________________________________________________\n"
          ]
        }
      ]
    },
    {
      "cell_type": "code",
      "source": [
        "# train the model\n",
        "pre_history = pre_model.fit(X_train, y_train, epochs=20, batch_size=512,\n",
        "                            validation_data=(X_val, y_val))"
      ],
      "metadata": {
        "colab": {
          "base_uri": "https://localhost:8080/"
        },
        "id": "Dm_6hVOjLYCF",
        "outputId": "24a6721a-f723-4260-8bcd-0057a9672f04"
      },
      "execution_count": null,
      "outputs": [
        {
          "output_type": "stream",
          "name": "stdout",
          "text": [
            "Epoch 1/20\n",
            "31/31 [==============================] - 191s 6s/step - loss: 0.6342 - accuracy: 0.6701 - val_loss: 0.6102 - val_accuracy: 0.6922\n",
            "Epoch 2/20\n",
            "31/31 [==============================] - 153s 5s/step - loss: 0.6107 - accuracy: 0.6894 - val_loss: 0.6006 - val_accuracy: 0.6907\n",
            "Epoch 3/20\n",
            "31/31 [==============================] - 150s 5s/step - loss: 0.6022 - accuracy: 0.6900 - val_loss: 0.5884 - val_accuracy: 0.6940\n",
            "Epoch 4/20\n",
            "31/31 [==============================] - 156s 5s/step - loss: 0.5943 - accuracy: 0.6901 - val_loss: 0.6139 - val_accuracy: 0.6910\n",
            "Epoch 5/20\n",
            "31/31 [==============================] - 150s 5s/step - loss: 0.5856 - accuracy: 0.6906 - val_loss: 0.5705 - val_accuracy: 0.7029\n",
            "Epoch 6/20\n",
            "31/31 [==============================] - 147s 5s/step - loss: 0.5824 - accuracy: 0.6988 - val_loss: 0.5707 - val_accuracy: 0.7002\n",
            "Epoch 7/20\n",
            "31/31 [==============================] - 149s 5s/step - loss: 0.5764 - accuracy: 0.6979 - val_loss: 0.5666 - val_accuracy: 0.7023\n",
            "Epoch 8/20\n",
            "31/31 [==============================] - 145s 5s/step - loss: 0.5737 - accuracy: 0.7031 - val_loss: 0.6058 - val_accuracy: 0.6987\n",
            "Epoch 9/20\n",
            "31/31 [==============================] - 147s 5s/step - loss: 0.5729 - accuracy: 0.6995 - val_loss: 0.5583 - val_accuracy: 0.7125\n",
            "Epoch 10/20\n",
            "31/31 [==============================] - 146s 5s/step - loss: 0.5689 - accuracy: 0.7044 - val_loss: 0.5619 - val_accuracy: 0.7134\n",
            "Epoch 11/20\n",
            "31/31 [==============================] - 146s 5s/step - loss: 0.5677 - accuracy: 0.7081 - val_loss: 0.5641 - val_accuracy: 0.7056\n",
            "Epoch 12/20\n",
            "31/31 [==============================] - 147s 5s/step - loss: 0.5645 - accuracy: 0.7095 - val_loss: 0.5612 - val_accuracy: 0.7056\n",
            "Epoch 13/20\n",
            "31/31 [==============================] - 158s 5s/step - loss: 0.5606 - accuracy: 0.7081 - val_loss: 0.5703 - val_accuracy: 0.7098\n",
            "Epoch 14/20\n",
            "31/31 [==============================] - 150s 5s/step - loss: 0.5611 - accuracy: 0.7120 - val_loss: 0.5574 - val_accuracy: 0.7122\n",
            "Epoch 15/20\n",
            "31/31 [==============================] - 150s 5s/step - loss: 0.5540 - accuracy: 0.7157 - val_loss: 0.5546 - val_accuracy: 0.7122\n",
            "Epoch 16/20\n",
            "31/31 [==============================] - 155s 5s/step - loss: 0.5566 - accuracy: 0.7150 - val_loss: 0.5733 - val_accuracy: 0.7011\n",
            "Epoch 17/20\n",
            "31/31 [==============================] - 146s 5s/step - loss: 0.5558 - accuracy: 0.7139 - val_loss: 0.5692 - val_accuracy: 0.7056\n",
            "Epoch 18/20\n",
            "31/31 [==============================] - 149s 5s/step - loss: 0.5513 - accuracy: 0.7157 - val_loss: 0.5529 - val_accuracy: 0.7128\n",
            "Epoch 19/20\n",
            "31/31 [==============================] - 148s 5s/step - loss: 0.5504 - accuracy: 0.7173 - val_loss: 0.5516 - val_accuracy: 0.7167\n",
            "Epoch 20/20\n",
            "31/31 [==============================] - 159s 5s/step - loss: 0.5460 - accuracy: 0.7200 - val_loss: 0.5940 - val_accuracy: 0.7098\n"
          ]
        }
      ]
    },
    {
      "cell_type": "markdown",
      "source": [
        "**Evaluate model performance**"
      ],
      "metadata": {
        "id": "g0IiYGEZY7xF"
      }
    },
    {
      "cell_type": "code",
      "source": [
        "# evaluate model performance regarding accuracy\n",
        "test_loss, test_acc = pre_model.evaluate(X_test, y_test)\n",
        "print(f\"test_acc: {np.round(test_acc,3)}\")"
      ],
      "metadata": {
        "colab": {
          "base_uri": "https://localhost:8080/"
        },
        "id": "mYpQVeBOLYIE",
        "outputId": "620c9795-77ed-4ec3-dab8-04aabdb9f696"
      },
      "execution_count": null,
      "outputs": [
        {
          "output_type": "stream",
          "name": "stdout",
          "text": [
            "67/67 [==============================] - 14s 202ms/step - loss: 0.5646 - accuracy: 0.7319\n",
            "test_acc: 0.732\n"
          ]
        }
      ]
    },
    {
      "cell_type": "code",
      "source": [
        "# print other evaluation metrics\n",
        "predict_probs = pre_model.predict(X_test)\n",
        "y_pred = (predict_probs > 0.5).astype(int)\n",
        "print(classification_report(y_test, y_pred))"
      ],
      "metadata": {
        "colab": {
          "base_uri": "https://localhost:8080/"
        },
        "id": "JkyvZhHnZDhW",
        "outputId": "32783e91-cf42-4521-8d3f-ca6df6bee5cf"
      },
      "execution_count": null,
      "outputs": [
        {
          "output_type": "stream",
          "name": "stdout",
          "text": [
            "67/67 [==============================] - 17s 185ms/step\n",
            "              precision    recall  f1-score   support\n",
            "\n",
            "           0       0.75      0.10      0.18       610\n",
            "           1       0.73      0.99      0.84      1512\n",
            "\n",
            "    accuracy                           0.73      2122\n",
            "   macro avg       0.74      0.54      0.51      2122\n",
            "weighted avg       0.74      0.73      0.65      2122\n",
            "\n"
          ]
        }
      ]
    },
    {
      "cell_type": "markdown",
      "source": [
        "**Visualize model performance during training**"
      ],
      "metadata": {
        "id": "sLk0m7GKZieW"
      }
    },
    {
      "cell_type": "code",
      "source": [
        "visualize_performance(pre_history, flag = 'loss')"
      ],
      "metadata": {
        "colab": {
          "base_uri": "https://localhost:8080/",
          "height": 472
        },
        "id": "OIqer3QHZj2q",
        "outputId": "fca96359-b476-489c-d546-c0c1f924601f"
      },
      "execution_count": null,
      "outputs": [
        {
          "output_type": "display_data",
          "data": {
            "text/plain": [
              "<Figure size 640x480 with 1 Axes>"
            ],
            "image/png": "[encoded data removed]"
          },
          "metadata": {}
        }
      ]
    },
    {
      "cell_type": "code",
      "source": [
        "visualize_performance(pre_history, flag = 'accuracy')"
      ],
      "metadata": {
        "colab": {
          "base_uri": "https://localhost:8080/",
          "height": 472
        },
        "id": "SO9v531bZlur",
        "outputId": "7b4fe9c8-add0-487b-dc8d-d8bd9f551456"
      },
      "execution_count": null,
      "outputs": [
        {
          "output_type": "display_data",
          "data": {
            "text/plain": [
              "<Figure size 640x480 with 1 Axes>"
            ],
            "image/png": "[encoded data removed]"
          },
          "metadata": {}
        }
      ]
    },
    {
      "cell_type": "markdown",
      "source": [
        "By using pre-trained model, the performance increased from 71.9 to 73.2%. However, the recall for 0 is extremely low (10%)\n"
      ],
      "metadata": {
        "id": "eQm8Z_LPZo22"
      }
    },
    {
      "cell_type": "markdown",
      "source": [
        "Analyzing the performance of the two models, we can look at it from several perspectives:\n",
        "\n",
        "### Performance Comparison\n",
        "\n",
        "1. **Accuracy**:\n",
        "   - The self-trained embedding model (`eb_model`) has an accuracy of 0.719.\n",
        "   - The pre-trained embedding model (`pre_model`) has an accuracy of 0.732.\n",
        "\n",
        "   Using pre-trained GloVe embeddings slightly improves the model's accuracy. This suggests that pre-trained embeddings can provide richer semantic information, which helps enhance model performance.\n",
        "\n",
        "2. **Precision, Recall, and F1 Score**:\n",
        "   - For class 0 (minority class), the pre-trained embedding model shows significantly higher precision than the self-trained embedding model, but with a very low recall, resulting in a significantly reduced F1 score.\n",
        "   - For class 1 (majority class), the performance of the two models is similar, but the pre-trained embedding model has a higher recall.\n",
        "\n",
        "### Analysis and Interpretation\n",
        "\n",
        "- **Impact of Class Imbalance**: Both models show a preference for the majority class (class 1), likely due to dataa imbalance. The pre-trained embedding model has an extremely low recall rate for class 0, indicating the model almost fails to correctly identify minority class samples. Despite a slightly higher overall accuracy, the pre-trained model performs poorly in balancing precision and recall, especially for the minority class.\n",
        "\n",
        "- **Impact of Pre-trained Embeddings**: Although pre-trained embeddings help with overall accuracy, the disparity in recall highlights that the model might need further adjustments or different strategies to better handle class imbalance issues. The semantic information provided by pre-trained embeddings might make the model more adept at recognizing features of the more frequently occurring class 1, while neglecting features of class 0.\n"
      ],
      "metadata": {
        "id": "j28py6B-agDi"
      }
    },
    {
      "cell_type": "markdown",
      "source": [
        "In comparing the traditional ML models I've applied in earlier assignments with the deep learning model using neural networks (NN) here, I've observed that while NNs provide a flexible framework for capturing complex patterns in data, they are also more prone to overfitting, especially when the training data is limited or when the network architecture is too complex. Surprisingly, the accuracy of NNs in my experiments was similar to, and in some cases slightly lower than, that of traditional ML models. This could be attributed to the robustness of traditional ML models like Random Forests or Support Vector Machines, which, despite their simplicity, often perform exceptionally well on structured data. These findings echo the concepts introduced in the lecture, emphasizing the trade-offs between model complexity and generalizability.\n",
        "\n",
        "Conclusion: Classic RF model is more suitable in my task.\n"
      ],
      "metadata": {
        "id": "Ex9F9hMBbRYy"
      }
    }
  ]
}