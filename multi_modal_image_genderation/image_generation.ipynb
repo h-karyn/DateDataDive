{
 "cells": [
  {
   "cell_type": "markdown",
   "source": [
    "# User Profiling using DALL·E 3"
   ],
   "metadata": {
    "collapsed": false
   },
   "id": "cfb83b88ee9c1cc1"
  },
  {
   "cell_type": "code",
   "outputs": [
    {
     "data": {
      "text/plain": "   age  height sex     education_final          status ethnicity_clean  \\\n0   40      69   m        ph.d program          single           white   \n1   28      69   f  college/university          single           white   \n2   32      66   m     masters program          single           white   \n3   22      68   m    two-year college  seeing someone     multiethnic   \n4   45      67   m  college/university          single     multiethnic   \n5   21      69   m         high school          single     multiethnic   \n\n  diet_clean      drinks  job_clean  drugs smokes orientation  \\\n0    unknown    socially    science  never     no    straight   \n1   anything    socially      sales  never     no    straight   \n2    unknown    socially  political  never     no    straight   \n3   anything      rarely      other  never     no         gay   \n4   anything      rarely    science  never     no    straight   \n5    unknown  very often  political  often    yes    straight   \n\n                                     My self summary  \n0  enclosed you will find all the parts for your ...  \n1  i am a san francisco native that loves the cit...  \n2  i am a down-to-earth guy, born and raised in t...  \n3  very important: if you use marijuana or other ...  \n4  hello, my name is yuval. i moved to the bay ar...  \n5  baby, chad warden is all about the games! i lo...  ",
      "text/html": "<div>\n<style scoped>\n    .dataframe tbody tr th:only-of-type {\n        vertical-align: middle;\n    }\n\n    .dataframe tbody tr th {\n        vertical-align: top;\n    }\n\n    .dataframe thead th {\n        text-align: right;\n    }\n</style>\n<table border=\"1\" class=\"dataframe\">\n  <thead>\n    <tr style=\"text-align: right;\">\n      <th></th>\n      <th>age</th>\n      <th>height</th>\n      <th>sex</th>\n      <th>education_final</th>\n      <th>status</th>\n      <th>ethnicity_clean</th>\n      <th>diet_clean</th>\n      <th>drinks</th>\n      <th>job_clean</th>\n      <th>drugs</th>\n      <th>smokes</th>\n      <th>orientation</th>\n      <th>My self summary</th>\n    </tr>\n  </thead>\n  <tbody>\n    <tr>\n      <th>0</th>\n      <td>40</td>\n      <td>69</td>\n      <td>m</td>\n      <td>ph.d program</td>\n      <td>single</td>\n      <td>white</td>\n      <td>unknown</td>\n      <td>socially</td>\n      <td>science</td>\n      <td>never</td>\n      <td>no</td>\n      <td>straight</td>\n      <td>enclosed you will find all the parts for your ...</td>\n    </tr>\n    <tr>\n      <th>1</th>\n      <td>28</td>\n      <td>69</td>\n      <td>f</td>\n      <td>college/university</td>\n      <td>single</td>\n      <td>white</td>\n      <td>anything</td>\n      <td>socially</td>\n      <td>sales</td>\n      <td>never</td>\n      <td>no</td>\n      <td>straight</td>\n      <td>i am a san francisco native that loves the cit...</td>\n    </tr>\n    <tr>\n      <th>2</th>\n      <td>32</td>\n      <td>66</td>\n      <td>m</td>\n      <td>masters program</td>\n      <td>single</td>\n      <td>white</td>\n      <td>unknown</td>\n      <td>socially</td>\n      <td>political</td>\n      <td>never</td>\n      <td>no</td>\n      <td>straight</td>\n      <td>i am a down-to-earth guy, born and raised in t...</td>\n    </tr>\n    <tr>\n      <th>3</th>\n      <td>22</td>\n      <td>68</td>\n      <td>m</td>\n      <td>two-year college</td>\n      <td>seeing someone</td>\n      <td>multiethnic</td>\n      <td>anything</td>\n      <td>rarely</td>\n      <td>other</td>\n      <td>never</td>\n      <td>no</td>\n      <td>gay</td>\n      <td>very important: if you use marijuana or other ...</td>\n    </tr>\n    <tr>\n      <th>4</th>\n      <td>45</td>\n      <td>67</td>\n      <td>m</td>\n      <td>college/university</td>\n      <td>single</td>\n      <td>multiethnic</td>\n      <td>anything</td>\n      <td>rarely</td>\n      <td>science</td>\n      <td>never</td>\n      <td>no</td>\n      <td>straight</td>\n      <td>hello, my name is yuval. i moved to the bay ar...</td>\n    </tr>\n    <tr>\n      <th>5</th>\n      <td>21</td>\n      <td>69</td>\n      <td>m</td>\n      <td>high school</td>\n      <td>single</td>\n      <td>multiethnic</td>\n      <td>unknown</td>\n      <td>very often</td>\n      <td>political</td>\n      <td>often</td>\n      <td>yes</td>\n      <td>straight</td>\n      <td>baby, chad warden is all about the games! i lo...</td>\n    </tr>\n  </tbody>\n</table>\n</div>"
     },
     "execution_count": 1,
     "metadata": {},
     "output_type": "execute_result"
    }
   ],
   "source": [
    "import pandas as pd\n",
    "\n",
    "data = pd.read_csv('representative_essays.csv')\n",
    "\n",
    "new_columns = ['index'] + data.columns.tolist()[:-1]\n",
    "data.columns = new_columns\n",
    "# remove index column\n",
    "data = data.drop(columns=['index'])\n",
    "\n",
    "data.head(6)"
   ],
   "metadata": {
    "collapsed": false,
    "ExecuteTime": {
     "end_time": "2024-03-06T03:34:43.065081Z",
     "start_time": "2024-03-06T03:34:42.125765Z"
    }
   },
   "id": "399f4d7afc2128f3",
   "execution_count": 1
  },
  {
   "cell_type": "code",
   "outputs": [],
   "source": [
    "# convert to json\n",
    "json_objects = data.to_dict(orient='records')"
   ],
   "metadata": {
    "collapsed": false,
    "ExecuteTime": {
     "end_time": "2024-03-06T03:34:43.065713Z",
     "start_time": "2024-03-06T03:34:43.057390Z"
    }
   },
   "id": "8304eda5c40a1dfd",
   "execution_count": 2
  },
  {
   "cell_type": "code",
   "outputs": [
    {
     "data": {
      "text/plain": "{'age': 40,\n 'height': 69,\n 'sex': 'm',\n 'education_final': 'ph.d program',\n 'status': 'single',\n 'ethnicity_clean': 'white',\n 'diet_clean': 'unknown',\n 'drinks': 'socially',\n 'job_clean': 'science',\n 'drugs': 'never',\n 'smokes': 'no',\n 'orientation': 'straight',\n 'My self summary': 'enclosed you will find all the parts for your new bluetoonist companion mark 2.0. assembly is straight-forward and requires only a minimal set of tools. we recommend a quirky disposition, two brains (left and right, metric), and a medium-sized allen wrench. full instructions on the many functions of your new bluetoonist are available on the web (link on request). with proper maintenance, you can look forward to a lifetime of engaging conversation, passion, and worry-free operation.  care and feeding of bluetoonist 2.0: proper care of your new companion is as simple as relativistic quantum chromodynamics. your bluetoonist works best when intellectually stimulated and may not function properly in the presence of astrological belief, uncomfortable shoes, religion, or budweiser. your bluetoonist has two settings: artist and scientist. try not to leave it on the same setting for too long. bluetoonist may not function optimally in the morning hours. as bluetoonist is designed with revolutionary thought-to-speech and audio input technology, excessively loud environments may impede this functionality. dive bars are recommended. keep bluetoonist adequately caffeinated. do not tell bluetoonist to \"just enjoy\" a movie and \"don\\'t think about it too much.\" if at any time you are dissatisfied with bluetoonist\\'s performance, give him a hug, speak in a calm, rational voice, and whack him soundly on the side of the head. normal operation should resume within minutes.  warning: produced in a facility that processes nuts.'}"
     },
     "execution_count": 3,
     "metadata": {},
     "output_type": "execute_result"
    }
   ],
   "source": [
    "json_objects[0]"
   ],
   "metadata": {
    "collapsed": false,
    "ExecuteTime": {
     "end_time": "2024-03-06T03:34:48.132893Z",
     "start_time": "2024-03-06T03:34:48.127600Z"
    }
   },
   "id": "6d89ebcf3a29cb6f",
   "execution_count": 3
  },
  {
   "cell_type": "code",
   "outputs": [
    {
     "data": {
      "text/plain": "{'age': 28,\n 'height': 69,\n 'sex': 'f',\n 'education_final': 'college/university',\n 'status': 'single',\n 'ethnicity_clean': 'white',\n 'diet_clean': 'anything',\n 'drinks': 'socially',\n 'job_clean': 'sales',\n 'drugs': 'never',\n 'smokes': 'no',\n 'orientation': 'straight',\n 'My self summary': 'i am a san francisco native that loves the city life. i am a social butterfly and am happiest when i am busy. once i was a wallflower, now i am super outgoing and talkative and have found my calling in pr. i enjoy exploring the city and everything it has to offer. from the nightlife to hiking the presidio or relaxing at golden gate park. i love to try new things and go to new places, especially around the world. i am a \"foodie\" that appreciates a well made meal. i enjoy wandering the ferry building farmers market and experimenting with fresh ingredients in my kitchen. i am very active and love to go snowboarding in tahoe in the winter and camping and water skiing in the summer. my home is the bay area and i wouldn\\'t want to live anywhere else, although once i thought about transplanting to new york. we have great mountains to hike and beaches to picnic at, my favorite one being stinson beach. i love wine tasting and spending a warm day in sonoma county. as far as nightlife goes i am a bar girl over being a club kid. i am an avid giants fan and love nothing better than going to a game on a nice day. i appreciate all types of music and love going to concerts, especially at shoreline in the summertime. i give back to my community by helping underprivileged kids in the hunters point/ bayview district. my current obsession is training for half dome by rock climbing at planet granite and going on long hikes around the bay. while i enjoy being active outdoors, i love nothing better than getting dressed up for a night out on the town. while the city may be my home for now, at some point in my life i would like to settle down in a quaint suburban town south of the city.'}"
     },
     "execution_count": 4,
     "metadata": {},
     "output_type": "execute_result"
    }
   ],
   "source": [
    "json_objects[1]"
   ],
   "metadata": {
    "collapsed": false,
    "ExecuteTime": {
     "end_time": "2024-03-06T03:34:50.292Z",
     "start_time": "2024-03-06T03:34:50.280259Z"
    }
   },
   "id": "ddb6036897783d0e",
   "execution_count": 4
  },
  {
   "cell_type": "code",
   "outputs": [
    {
     "data": {
      "text/plain": "{'age': 32,\n 'height': 66,\n 'sex': 'm',\n 'education_final': 'masters program',\n 'status': 'single',\n 'ethnicity_clean': 'white',\n 'diet_clean': 'unknown',\n 'drinks': 'socially',\n 'job_clean': 'political',\n 'drugs': 'never',\n 'smokes': 'no',\n 'orientation': 'straight',\n 'My self summary': \"i am a down-to-earth guy, born and raised in the bay area, looking for a fun, relaxed, mature, and considerate woman. i enjoy traveling, hiking, being outdoors, film, music, concerts, art, dining out or cooking at home, watching some sports (baseball and football), and most importantly spending time with my family and friends. i actually love my job so much as city planner for the city of san ramon, that for the last 3 years i have been taking night classes to get a master's in city planning at san jose state university. who says you can't find your calling in life!  outside of work and school i always have a list of places i'd like to travel to over the next few years, lately the list includes peru (machu picchu), thailand, and spain. i recently had a great trip to the last frontier, alaska! my travels have also included hiking up to the top of half dome in yosemite, trying my hand at indoor skydiving, and visiting several us cities to see my favorite band, u2.\"}"
     },
     "execution_count": 5,
     "metadata": {},
     "output_type": "execute_result"
    }
   ],
   "source": [
    "json_objects[2]"
   ],
   "metadata": {
    "collapsed": false,
    "ExecuteTime": {
     "end_time": "2024-03-06T03:35:12.065463Z",
     "start_time": "2024-03-06T03:35:12.061054Z"
    }
   },
   "id": "eb983c992634fccb",
   "execution_count": 5
  },
  {
   "cell_type": "code",
   "outputs": [
    {
     "data": {
      "text/plain": "{'age': 22,\n 'height': 68,\n 'sex': 'm',\n 'education_final': 'two-year college',\n 'status': 'seeing someone',\n 'ethnicity_clean': 'multiethnic',\n 'diet_clean': 'anything',\n 'drinks': 'rarely',\n 'job_clean': 'other',\n 'drugs': 'never',\n 'smokes': 'no',\n 'orientation': 'gay',\n 'My self summary': \"very important: if you use marijuana or other recreational drugs/substances in any frequency do not read my profile or message me and please leave. fucking serious.  some things you should know:  i'm very kind, but i'm not very nice. i don't take compliments easily. i have an intense and uncommon personality. i seat my principles above all else. i abide by virtue. i am very particular. hardly impressed. easily offended. i'll tell you what i think. i will identify as hispano. i look down at the ground when i walk to ensure i don't step on any ants. i take responsibility for myself, not others. i do as i please, not as i am told. i will disappoint. i don't believe in politico-religious clauses & dogma. i believe in holding hands and quantum theory. i don't trust easily. i don't tear wrapping paper. i am not easily dissuaded, if at all. i find anathema in commonality. i do not allow people to write on me. i'm brand particular. i will not repeat myself more than twice. i'm territorial. i'm not very monogamous. nothing personal. i'm a capricorn sun, rising leo, scorpio moon. fair warning.  wanna fight about it???  i am complex, sardonic, and nonconformist\"}"
     },
     "execution_count": 6,
     "metadata": {},
     "output_type": "execute_result"
    }
   ],
   "source": [
    "json_objects[3]"
   ],
   "metadata": {
    "collapsed": false,
    "ExecuteTime": {
     "end_time": "2024-03-06T03:36:18.753881Z",
     "start_time": "2024-03-06T03:36:18.749010Z"
    }
   },
   "id": "acf96dd818358a57",
   "execution_count": 6
  },
  {
   "cell_type": "code",
   "outputs": [
    {
     "data": {
      "text/plain": "{'age': 45,\n 'height': 67,\n 'sex': 'm',\n 'education_final': 'college/university',\n 'status': 'single',\n 'ethnicity_clean': 'multiethnic',\n 'diet_clean': 'anything',\n 'drinks': 'rarely',\n 'job_clean': 'science',\n 'drugs': 'never',\n 'smokes': 'no',\n 'orientation': 'straight',\n 'My self summary': \"hello, my name is yuval. i moved to the bay area from israel in 1998 to pursue a career in the high-tech industry. my 'online' dating philosophy is simple - lets go 'offline'. i'd rather meet in person for a coffee or a walk and practically see what happens. if you rather screen/interview guys online i have no desire in doing so. i simply spend too much time on the computer and have no desire to add my personal time to cyber world. but if you are seriously looking to meet and see where it goes (or at least have an initial phone conversation), i'm interested to hear from you, given you at least have a profile picture. thanks for reading.  now that i just realized i get extra points for having minimum 1000 words in this field, though i'd rather let you figure out who i am and what i'm looking for, here goes the copy/paste  hello, my name is yuval. i moved to the bay area from israel in 1998 to pursue a career in the high-tech industry. my 'online' dating philosophy is simple - lets go 'offline'. i'd rather meet in person for a coffee or a walk and practically see what happens. if you rather screen/interview guys online i have no desire in doing so. i simply spend too much time on the computer and have no desire to add my personal time to cyber world. but if you are seriously looking to meet and see where it goes (or at least have an initial phone conversation), i'm interested to hear from you, given you at least have a profile picture. thanks for reading.  now that i just realized i get extra points for having minimum 1000 words in this field, though i'd rather let you figure out who i am and what i'm looking for, here goes the copy/paste hello, my name is yuval. i moved to the bay area from israel in 1998 to pursue a career in the high-tech industry. my 'online' dating philosophy is simple - lets go 'offline'. i'd rather meet in person for a coffee or a walk and practically see what happens. if you rather screen/interview guys online i have no desire in doing so. i simply spend too much time on the computer and have no desire to add my personal time to cyber world. but if you are seriously looking to meet and see where it goes (or at least have an initial phone conversation), i'm interested to hear from you, given you at least have a profile picture. thanks for reading.  now that i just realized i get extra points for having minimum 1000 words in this field, though i'd rather let you figure out who i am and what i'm looking for, here goes the copy/paste hello, my name is yuval. i moved to the bay area from israel in 1998 to pursue a career in the high-tech industry. my 'online' dating philosophy is simple - lets go 'offline'. i'd rather meet in person for a coffee or a walk and practically see what happens. if you rather screen/interview guys online i have no desire in doing so. i simply spend too much time on the computer and have no desire to add my personal time to cyber world. but if you are seriously looking to meet and see where it goes (or at least have an initial phone conversation), i'm interested to hear from you, given you at least have a profile picture. thanks for reading.  now that i just realized i get extra points for having minimum 1000 words in this field, though i'd rather let you figure out who i am and what i'm looking for, here goes the copy/paste hello, my name is yuval. i moved to the bay area from israel in 1998 to pursue a career in the high-tech industry. my 'online' dating philosophy is simple - lets go 'offline'. i'd rather meet in person for a coffee or a walk and practically see what happens. if you rather screen/interview guys online i have no desire in doing so. i simply spend too much time on the computer and have no desire to add my personal time to cyber world. but if you are seriously looking to meet and see where it goes (or at least have an initial phone conversation), i'm interested to hear from you, given you at least have a profile picture. thanks for reading.  now that i just realized i get extra points for having minimum 1000 words in this field, though i'd rather let you figure out who i am and what i'm looking for, here goes the copy/paste hello, my name is yuval. i moved to the bay area from israel in 1998 to pursue a career in the high-tech industry. my 'online' dating philosophy is simple - lets go 'offline'. i'd rather meet in person for a coffee or a walk and practically see what happens. if you rather screen/interview guys online i have no desire in doing so. i simply spend too much time on the computer and have no desire to add my personal time to cyber world. but if you are seriously looking to meet and see where it goes (or at least have an initial phone conversation), i'm interested to hear from you, given you at least have a profile picture. thanks for reading.  now that i just realized i get extra points for having minimum 1000 words in this field, though i'd rather let you figure out who i am and what i'm looking for, here goes the copy/paste hello, my name is yuval. i moved to the bay area from israel in 1998 to pursue a career in the high-tech industry. my 'online' dating philosophy is simple - lets go 'offline'. i'd rather meet in person for a coffee or a walk and practically see what happens. if you rather screen/interview guys online i have no desire in doing so. i simply spend too much time on the computer and have no desire to add my personal time to cyber world. but if you are seriously looking to meet and see where it goes (or at least have an initial phone conversation), i'm interested to hear from you, given you at least have a profile picture. thanks for reading.  now that i just realized i get extra points for having minimum 1000 words in this field, though i'd rather let you figure out who i am and what i'm looking for, here goes the copy/paste hello, my name is yuval. i moved to the bay area from israel in 1998 to pursue a career in the high-tech industry. my 'online' dating philosophy is simple - lets go 'offline'. i'd rather meet in person for a coffee or a walk and practically see what happens. if you rather screen/interview guys online i have no desire in doing so. i simply spend too much time on the computer and have no desire to add my personal time to cyber world. but if you are seriously looking to meet and see where it goes (or at least have an initial phone conversation), i'm interested to hear from you, given you at least have a profile picture. thanks for reading.  now that i just realized i get extra points for having minimum 1000 words in this field, though i'd rather let you figure out who i am and what i'm looking for, here goes the copy/paste hello, my name is yuval. i moved to the bay area from israel in 1998 to pursue a career in the high-tech industry. my 'online' dating philosophy is simple - lets go 'offline'. i'd rather meet in person for a coffee or a walk and practically see what happens. if you rather screen/interview guys online i have no desire in doing so. i simply spend too much time on the computer and have no desire to add my personal time to cyber world. but if you are seriously looking to meet and see where it goes (or at least have an initial phone conversation), i'm interested to hear from you, given you at least have a profile picture. thanks for reading.  now that i just realized i get extra points for having minimum 1000 words in this field, though i'd rather let you figure out who i am and what i'm looking for, here goes the copy/paste hello, my name is yuval. i moved to the bay area from israel in 1998 to pursue a career in the high-tech industry. my 'online' dating philosophy is simple - lets go 'offline'. i'd rather meet in person for a coffee or a walk and practically see what happens. if you rather screen/interview guys online i have no desire in doing so. i simply spend too much time on the computer and have no desire to add my personal time to cyber world. but if you are seriously looking to meet and see where it goes (or at least have an initial phone conversation), i'm interested to hear from you, given you at least have a profile picture. thanks for reading.  now that i just realized i get extra points for having mi\"}"
     },
     "execution_count": 7,
     "metadata": {},
     "output_type": "execute_result"
    }
   ],
   "source": [
    "json_objects[4]"
   ],
   "metadata": {
    "collapsed": false,
    "ExecuteTime": {
     "end_time": "2024-03-06T03:37:17.728591Z",
     "start_time": "2024-03-06T03:37:17.724685Z"
    }
   },
   "id": "e4c9557d49833044",
   "execution_count": 7
  },
  {
   "cell_type": "code",
   "outputs": [
    {
     "data": {
      "text/plain": "{'age': 21,\n 'height': 69,\n 'sex': 'm',\n 'education_final': 'high school',\n 'status': 'single',\n 'ethnicity_clean': 'multiethnic',\n 'diet_clean': 'unknown',\n 'drinks': 'very often',\n 'job_clean': 'political',\n 'drugs': 'often',\n 'smokes': 'yes',\n 'orientation': 'straight',\n 'My self summary': \"baby, chad warden is all about the games! i love me some pstriple. anything else is just mad gay. shit- aight- i mean, niggas be talkin' bout that xbox 360. xbox circle? them niggas be thinkin' they so smart. we ain't tryin' to do no geometry! we tryin' to play some games! i mean- xbox 360 don't got no games. niggas be talkin'- shit- gears of war? more like tears of war. that nigga be all cryin' and shit, and that gay ass commercial? shit.. niggas be talkin' bout.. shit- halo 3. halo 3. more like gaylo. true niggas ain't be playin' that shit- aight- you know who plays that shit? gay niggas. and the wii.. aight.. the wii. shit.. that shit looks like a dildo. i ain't playin' with nothin' that looks like no dildo. maybe a y'know, shove-it-up-ya-own-ass game.. shit.. i got a caddy.. aight? that shit is all you need to know. chad daddy is out.  i am ballin', slick, and true\"}"
     },
     "execution_count": 8,
     "metadata": {},
     "output_type": "execute_result"
    }
   ],
   "source": [
    "json_objects[5]"
   ],
   "metadata": {
    "collapsed": false,
    "ExecuteTime": {
     "end_time": "2024-03-06T03:40:42.593287Z",
     "start_time": "2024-03-06T03:40:42.580230Z"
    }
   },
   "id": "abf5435564f89767",
   "execution_count": 8
  },
  {
   "cell_type": "markdown",
   "source": [
    "## Image Generation "
   ],
   "metadata": {
    "collapsed": false
   },
   "id": "33d338bc8438f2bb"
  },
  {
   "cell_type": "code",
   "outputs": [],
   "source": [
    "from openai import OpenAI\n",
    "import webbrowser\n",
    "import os\n",
    "\n",
    "api_key = os.getenv('OPENAI_API_KEY')"
   ],
   "metadata": {
    "collapsed": false,
    "ExecuteTime": {
     "end_time": "2024-03-06T02:23:37.497752Z",
     "start_time": "2024-03-06T02:23:37.168343Z"
    }
   },
   "id": "3074a34a1f7a0555",
   "execution_count": 5
  },
  {
   "cell_type": "code",
   "outputs": [],
   "source": [
    "client = OpenAI()\n",
    "\n",
    "response = client.images.generate(\n",
    "  model=\"dall-e-3\",\n",
    "  prompt= f\"Below is one person's basic information and self introduction. Can you generate a close-up for this person that is suitable for their OkCupid profile? \"\n",
    "          f\"Rules: 1. Focus on specific, visually representable elements.\"\n",
    "          f\"2. Describe actions and scenarios rather than abstract concepts.\"\n",
    "          f\"3. Avoid ambiguous language that could be interpreted as including text. \\n\\n{json_objects[0]}\",\n",
    "  size=\"1024x1024\",\n",
    "  quality=\"standard\",\n",
    "  n=1,\n",
    ")"
   ],
   "metadata": {
    "collapsed": false,
    "ExecuteTime": {
     "end_time": "2024-03-06T02:23:54.851046Z",
     "start_time": "2024-03-06T02:23:37.498172Z"
    }
   },
   "id": "d6bb87e67e249288",
   "execution_count": 6
  },
  {
   "cell_type": "code",
   "outputs": [
    {
     "data": {
      "text/plain": "True"
     },
     "execution_count": 7,
     "metadata": {},
     "output_type": "execute_result"
    }
   ],
   "source": [
    "webbrowser.open(response.data[0].url)"
   ],
   "metadata": {
    "collapsed": false,
    "ExecuteTime": {
     "end_time": "2024-03-06T02:23:55.235704Z",
     "start_time": "2024-03-06T02:23:54.846950Z"
    }
   },
   "id": "f4e6ead5f61db15a",
   "execution_count": 7
  }
 ],
 "metadata": {
  "kernelspec": {
   "display_name": "Python 3",
   "language": "python",
   "name": "python3"
  },
  "language_info": {
   "codemirror_mode": {
    "name": "ipython",
    "version": 2
   },
   "file_extension": ".py",
   "mimetype": "text/x-python",
   "name": "python",
   "nbconvert_exporter": "python",
   "pygments_lexer": "ipython2",
   "version": "2.7.6"
  }
 },
 "nbformat": 4,
 "nbformat_minor": 5
}
