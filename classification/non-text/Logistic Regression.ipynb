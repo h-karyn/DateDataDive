{
 "cells": [
  {
   "cell_type": "markdown",
   "metadata": {},
   "source": [
    "\n",
    "# (Original) Data Overview\n",
    "\n",
    "## Target Variable:\n",
    "- belief: category, the religious belief status of the individual, used to classify Atheism(0) and Theism(1).\n",
    "\n",
    "## Continuous/Numeric Variables:\n",
    "- age: int64, the age of the user.\n",
    "- height: float64, the height of the user in centimeters.\n",
    "- income: int64, the income of the user.\n",
    "- seriousness_degree: float64, the degree of seriousness about religion. (0 = unspecified ,1-4 = not serious to very serious)\n",
    "\n",
    "## Categorical Variables:\n",
    "- status: category, relationship status.\n",
    "- sex: category, gender.\n",
    "- orientation: category, sexual orientation.\n",
    "- body_type: category, body type.\n",
    "- diet: category, dietary habits.\n",
    "- drinks: category, alcohol consumption habits.\n",
    "- drugs: category, drug usage.\n",
    "- education: category, educational attainment.\n",
    "- ethnicity: category, ethnic background.\n",
    "- job: category, employment description.\n",
    "- location: category, user location.\n",
    "- offspring: category, children status.\n",
    "- pets: category, pet preferences.\n",
    "- religion: category, religious background.\n",
    "- sign: category, astrological symbol.\n",
    "- smokes: category, smoking consumption.\n",
    "- speaks: category, language spoken.\n",
    "- education_clean: category, cleaned and simplified education information.\n",
    "- education_final: category, finalized education information after processing.\n",
    "- cleaned_religion: category, cleaned version of religious background.\n",
    "\n",
    "## Text Variables:\n",
    "- My self summary: object, a summary written by the user about themselves.\n",
    "- What I’m doing with my life: object, user's description of their current life status.\n",
    "- I’m really good at: object, what the user describes as their strengths.\n",
    "- The first thing people usually notice about me: object, what the user thinks people notice about them first.\n",
    "- Favorite books, movies, show, music, and food: object, user's favorites in books, movies, shows, music, and food.\n",
    "- The six things I could never do without: object, things the user considers essential in their life.\n",
    "- I spend a lot of time thinking about: object, topics the user often thinks about.\n",
    "- On a typical Friday night I am: object, user's typical activities on a Friday night.\n",
    "- The most private thing I am willing to admit: object, something personal the user is willing to share.\n",
    "- You should message me if…: object, user's criteria for others to contact them.\n",
    "- merged_profile: object, combined text from all essay sections.\n"
   ]
  },
  {
   "cell_type": "markdown",
   "metadata": {},
   "source": [
    "# Feature Selection"
   ]
  },
  {
   "cell_type": "markdown",
   "metadata": {},
   "source": [
    "## In this task, the goal is to predict one's religious belief based on the following features:"
   ]
  },
  {
   "cell_type": "markdown",
   "metadata": {},
   "source": [
    "#8 Catgorical:\n",
    "diet(clean), \n",
    "drinks,\n",
    "etnicity(clean), \n",
    "education(final), \n",
    "status, \n",
    "drugs, \n",
    "smokes, \n",
    "orientation,\n",
    "job(clean)\n",
    "\n",
    "#2 Num:\n",
    "age, \n",
    "height\n",
    "\n",
    "$ Tagert:\n",
    "belief"
   ]
  },
  {
   "cell_type": "markdown",
   "metadata": {},
   "source": [
    "## Since the data transforming process is completed in previous taks, I will extract the OH-Encoded Feature Matrix (with target variable directly)"
   ]
  },
  {
   "cell_type": "code",
   "execution_count": 58,
   "metadata": {},
   "outputs": [],
   "source": [
    "\n",
    "import numpy as np\n",
    "import pandas as pd\n",
    "from collections import Counter\n",
    "from sklearn.linear_model import LogisticRegression\n",
    "from sklearn.model_selection import train_test_split\n",
    "import matplotlib.pyplot as plt\n",
    "\n",
    "%matplotlib inline"
   ]
  },
  {
   "cell_type": "code",
   "execution_count": 59,
   "metadata": {},
   "outputs": [],
   "source": [
    "# read csv file\n",
    "\n",
    "df = pd.read_csv('/Users/adhdtreamentii/Desktop/UChicago 2024/UChicago Winter 24/MACSS-30100/Final/data/encoded_cleanedcat_dataX.csv')"
   ]
  },
  {
   "cell_type": "markdown",
   "metadata": {},
   "source": [
    "### Basic dataset exploration"
   ]
  },
  {
   "cell_type": "code",
   "execution_count": 60,
   "metadata": {},
   "outputs": [
    {
     "name": "stdout",
     "output_type": "stream",
     "text": [
      "(16597, 74)\n"
     ]
    },
    {
     "data": {
      "text/html": [
       "<div>\n",
       "<style scoped>\n",
       "    .dataframe tbody tr th:only-of-type {\n",
       "        vertical-align: middle;\n",
       "    }\n",
       "\n",
       "    .dataframe tbody tr th {\n",
       "        vertical-align: top;\n",
       "    }\n",
       "\n",
       "    .dataframe thead th {\n",
       "        text-align: right;\n",
       "    }\n",
       "</style>\n",
       "<table border=\"1\" class=\"dataframe\">\n",
       "  <thead>\n",
       "    <tr style=\"text-align: right;\">\n",
       "      <th></th>\n",
       "      <th>Unnamed: 0</th>\n",
       "      <th>age</th>\n",
       "      <th>height</th>\n",
       "      <th>belief</th>\n",
       "      <th>diet_clean_anything</th>\n",
       "      <th>diet_clean_halal</th>\n",
       "      <th>diet_clean_kosher</th>\n",
       "      <th>diet_clean_other</th>\n",
       "      <th>diet_clean_unknown</th>\n",
       "      <th>diet_clean_vegan</th>\n",
       "      <th>...</th>\n",
       "      <th>job_clean_military</th>\n",
       "      <th>job_clean_other</th>\n",
       "      <th>job_clean_political</th>\n",
       "      <th>job_clean_rather not say</th>\n",
       "      <th>job_clean_retired</th>\n",
       "      <th>job_clean_sales</th>\n",
       "      <th>job_clean_science</th>\n",
       "      <th>job_clean_student</th>\n",
       "      <th>job_clean_transportation</th>\n",
       "      <th>job_clean_unemployed</th>\n",
       "    </tr>\n",
       "  </thead>\n",
       "  <tbody>\n",
       "    <tr>\n",
       "      <th>0</th>\n",
       "      <td>7</td>\n",
       "      <td>31</td>\n",
       "      <td>65.0</td>\n",
       "      <td>1</td>\n",
       "      <td>1.0</td>\n",
       "      <td>0.0</td>\n",
       "      <td>0.0</td>\n",
       "      <td>0.0</td>\n",
       "      <td>0.0</td>\n",
       "      <td>0.0</td>\n",
       "      <td>...</td>\n",
       "      <td>0.0</td>\n",
       "      <td>0.0</td>\n",
       "      <td>0.0</td>\n",
       "      <td>0.0</td>\n",
       "      <td>0.0</td>\n",
       "      <td>0.0</td>\n",
       "      <td>0.0</td>\n",
       "      <td>0.0</td>\n",
       "      <td>0.0</td>\n",
       "      <td>0.0</td>\n",
       "    </tr>\n",
       "    <tr>\n",
       "      <th>1</th>\n",
       "      <td>9</td>\n",
       "      <td>37</td>\n",
       "      <td>65.0</td>\n",
       "      <td>0</td>\n",
       "      <td>1.0</td>\n",
       "      <td>0.0</td>\n",
       "      <td>0.0</td>\n",
       "      <td>0.0</td>\n",
       "      <td>0.0</td>\n",
       "      <td>0.0</td>\n",
       "      <td>...</td>\n",
       "      <td>0.0</td>\n",
       "      <td>0.0</td>\n",
       "      <td>0.0</td>\n",
       "      <td>0.0</td>\n",
       "      <td>0.0</td>\n",
       "      <td>0.0</td>\n",
       "      <td>0.0</td>\n",
       "      <td>1.0</td>\n",
       "      <td>0.0</td>\n",
       "      <td>0.0</td>\n",
       "    </tr>\n",
       "    <tr>\n",
       "      <th>2</th>\n",
       "      <td>11</td>\n",
       "      <td>28</td>\n",
       "      <td>72.0</td>\n",
       "      <td>1</td>\n",
       "      <td>1.0</td>\n",
       "      <td>0.0</td>\n",
       "      <td>0.0</td>\n",
       "      <td>0.0</td>\n",
       "      <td>0.0</td>\n",
       "      <td>0.0</td>\n",
       "      <td>...</td>\n",
       "      <td>0.0</td>\n",
       "      <td>0.0</td>\n",
       "      <td>0.0</td>\n",
       "      <td>0.0</td>\n",
       "      <td>0.0</td>\n",
       "      <td>0.0</td>\n",
       "      <td>0.0</td>\n",
       "      <td>0.0</td>\n",
       "      <td>0.0</td>\n",
       "      <td>0.0</td>\n",
       "    </tr>\n",
       "    <tr>\n",
       "      <th>3</th>\n",
       "      <td>13</td>\n",
       "      <td>30</td>\n",
       "      <td>66.0</td>\n",
       "      <td>1</td>\n",
       "      <td>1.0</td>\n",
       "      <td>0.0</td>\n",
       "      <td>0.0</td>\n",
       "      <td>0.0</td>\n",
       "      <td>0.0</td>\n",
       "      <td>0.0</td>\n",
       "      <td>...</td>\n",
       "      <td>0.0</td>\n",
       "      <td>0.0</td>\n",
       "      <td>0.0</td>\n",
       "      <td>0.0</td>\n",
       "      <td>0.0</td>\n",
       "      <td>1.0</td>\n",
       "      <td>0.0</td>\n",
       "      <td>0.0</td>\n",
       "      <td>0.0</td>\n",
       "      <td>0.0</td>\n",
       "    </tr>\n",
       "    <tr>\n",
       "      <th>4</th>\n",
       "      <td>14</td>\n",
       "      <td>29</td>\n",
       "      <td>62.0</td>\n",
       "      <td>1</td>\n",
       "      <td>1.0</td>\n",
       "      <td>0.0</td>\n",
       "      <td>0.0</td>\n",
       "      <td>0.0</td>\n",
       "      <td>0.0</td>\n",
       "      <td>0.0</td>\n",
       "      <td>...</td>\n",
       "      <td>0.0</td>\n",
       "      <td>1.0</td>\n",
       "      <td>0.0</td>\n",
       "      <td>0.0</td>\n",
       "      <td>0.0</td>\n",
       "      <td>0.0</td>\n",
       "      <td>0.0</td>\n",
       "      <td>0.0</td>\n",
       "      <td>0.0</td>\n",
       "      <td>0.0</td>\n",
       "    </tr>\n",
       "  </tbody>\n",
       "</table>\n",
       "<p>5 rows × 74 columns</p>\n",
       "</div>"
      ],
      "text/plain": [
       "   Unnamed: 0  age  height  belief  diet_clean_anything  diet_clean_halal  \\\n",
       "0           7   31    65.0       1                  1.0               0.0   \n",
       "1           9   37    65.0       0                  1.0               0.0   \n",
       "2          11   28    72.0       1                  1.0               0.0   \n",
       "3          13   30    66.0       1                  1.0               0.0   \n",
       "4          14   29    62.0       1                  1.0               0.0   \n",
       "\n",
       "   diet_clean_kosher  diet_clean_other  diet_clean_unknown  diet_clean_vegan  \\\n",
       "0                0.0               0.0                 0.0               0.0   \n",
       "1                0.0               0.0                 0.0               0.0   \n",
       "2                0.0               0.0                 0.0               0.0   \n",
       "3                0.0               0.0                 0.0               0.0   \n",
       "4                0.0               0.0                 0.0               0.0   \n",
       "\n",
       "   ...  job_clean_military  job_clean_other  job_clean_political  \\\n",
       "0  ...                 0.0              0.0                  0.0   \n",
       "1  ...                 0.0              0.0                  0.0   \n",
       "2  ...                 0.0              0.0                  0.0   \n",
       "3  ...                 0.0              0.0                  0.0   \n",
       "4  ...                 0.0              1.0                  0.0   \n",
       "\n",
       "   job_clean_rather not say  job_clean_retired  job_clean_sales  \\\n",
       "0                       0.0                0.0              0.0   \n",
       "1                       0.0                0.0              0.0   \n",
       "2                       0.0                0.0              0.0   \n",
       "3                       0.0                0.0              1.0   \n",
       "4                       0.0                0.0              0.0   \n",
       "\n",
       "   job_clean_science  job_clean_student  job_clean_transportation  \\\n",
       "0                0.0                0.0                       0.0   \n",
       "1                0.0                1.0                       0.0   \n",
       "2                0.0                0.0                       0.0   \n",
       "3                0.0                0.0                       0.0   \n",
       "4                0.0                0.0                       0.0   \n",
       "\n",
       "   job_clean_unemployed  \n",
       "0                   0.0  \n",
       "1                   0.0  \n",
       "2                   0.0  \n",
       "3                   0.0  \n",
       "4                   0.0  \n",
       "\n",
       "[5 rows x 74 columns]"
      ]
     },
     "execution_count": 60,
     "metadata": {},
     "output_type": "execute_result"
    }
   ],
   "source": [
    "# display the dataset\n",
    "print(df.shape)\n",
    "df.head()"
   ]
  },
  {
   "cell_type": "code",
   "execution_count": 61,
   "metadata": {},
   "outputs": [],
   "source": [
    "# drop the original index column,  the 'Unnamed: 0' column\n",
    "df = df.drop(['Unnamed: 0'], axis=1)"
   ]
  },
  {
   "cell_type": "code",
   "execution_count": 62,
   "metadata": {},
   "outputs": [
    {
     "name": "stdout",
     "output_type": "stream",
     "text": [
      "(16597, 73)\n"
     ]
    },
    {
     "data": {
      "text/plain": [
       "Index(['age', 'height', 'belief', 'diet_clean_anything', 'diet_clean_halal',\n",
       "       'diet_clean_kosher', 'diet_clean_other', 'diet_clean_unknown',\n",
       "       'diet_clean_vegan', 'diet_clean_vegetarian', 'drinks_desperately',\n",
       "       'drinks_not at all', 'drinks_often', 'drinks_rarely', 'drinks_socially',\n",
       "       'drinks_very often', 'ethnicity_clean_asian', 'ethnicity_clean_black',\n",
       "       'ethnicity_clean_indian', 'ethnicity_clean_latin',\n",
       "       'ethnicity_clean_middle eastern', 'ethnicity_clean_multiethnic',\n",
       "       'ethnicity_clean_native american', 'ethnicity_clean_other',\n",
       "       'ethnicity_clean_pacific islander', 'ethnicity_clean_unknown',\n",
       "       'ethnicity_clean_white', 'education_final_college/university',\n",
       "       'education_final_high school', 'education_final_law school',\n",
       "       'education_final_masters program', 'education_final_med school',\n",
       "       'education_final_ph.d program', 'education_final_space camp',\n",
       "       'education_final_two-year college', 'education_final_unknown',\n",
       "       'status_available', 'status_married', 'status_seeing someone',\n",
       "       'status_single', 'status_unknown', 'drugs_never', 'drugs_often',\n",
       "       'drugs_sometimes', 'smokes_no', 'smokes_sometimes',\n",
       "       'smokes_trying to quit', 'smokes_when drinking', 'smokes_yes',\n",
       "       'orientation_bisexual', 'orientation_gay', 'orientation_straight',\n",
       "       'job_clean_artistic', 'job_clean_banking', 'job_clean_clerical',\n",
       "       'job_clean_computer', 'job_clean_construction', 'job_clean_education',\n",
       "       'job_clean_entertainment', 'job_clean_executive',\n",
       "       'job_clean_hospitality', 'job_clean_law', 'job_clean_medicine',\n",
       "       'job_clean_military', 'job_clean_other', 'job_clean_political',\n",
       "       'job_clean_rather not say', 'job_clean_retired', 'job_clean_sales',\n",
       "       'job_clean_science', 'job_clean_student', 'job_clean_transportation',\n",
       "       'job_clean_unemployed'],\n",
       "      dtype='object')"
      ]
     },
     "execution_count": 62,
     "metadata": {},
     "output_type": "execute_result"
    }
   ],
   "source": [
    "print(df.shape)\n",
    "df.columns"
   ]
  },
  {
   "cell_type": "code",
   "execution_count": 63,
   "metadata": {},
   "outputs": [
    {
     "name": "stdout",
     "output_type": "stream",
     "text": [
      "(16597, 72)\n"
     ]
    }
   ],
   "source": [
    "# First we need to identify the target variable and the feature set.\n",
    "\n",
    "# Check if the 'belief' column is in df_X\n",
    "if 'belief' in df.columns:\n",
    "    df_X = df.drop('belief', axis=1)\n",
    "\n",
    "# Update feature names\n",
    "feature_names = df_X.columns.to_list()\n",
    "\n",
    "print(df_X.shape)\n"
   ]
  },
  {
   "cell_type": "code",
   "execution_count": 64,
   "metadata": {},
   "outputs": [
    {
     "data": {
      "text/plain": [
       "(16597,)"
      ]
     },
     "execution_count": 64,
     "metadata": {},
     "output_type": "execute_result"
    }
   ],
   "source": [
    "# Create target variable\n",
    "target = 'belief'\n",
    "df_y = df[target]\n",
    "df_y.shape"
   ]
  },
  {
   "cell_type": "code",
   "execution_count": 65,
   "metadata": {},
   "outputs": [
    {
     "data": {
      "text/plain": [
       "((11617, 72), (4980, 72))"
      ]
     },
     "execution_count": 65,
     "metadata": {},
     "output_type": "execute_result"
    }
   ],
   "source": [
    "# Create split with Sklearn\n",
    "df_X_train, df_X_test, df_y_train, df_y_test  = train_test_split(df_X, df_y, test_size = 0.3,random_state = 42)\n",
    "\n",
    "# View the training and testing feature matrix \n",
    "df_X_train.shape, df_X_test.shape"
   ]
  },
  {
   "cell_type": "markdown",
   "metadata": {},
   "source": [
    "## Linear models for classification: LogisticRegression \n"
   ]
  },
  {
   "cell_type": "markdown",
   "metadata": {},
   "source": [
    "### For this binary classification task, Logistic Regression is generally preferred over linear models and polynomial regression due to several key reasons. \n",
    "### Firstly, Logistic Regression is specifically designed for binary classification, as it models the probability of a binary outcome using a logistic function, ensuring that the predicted values are sensibly confined between 0 and 1. This is crucial for binary classification tasks where the output is categorical (e.g.,theism/atheism). In contrast, linear models, which predict continuous values, are NOT naturally suited for predicting probabilities and require additional steps to threshold the output for classification. Polynomial regression, while capable of modeling more complex relationships than linear models, still suffers from the same limitation in a binary classification context. \n",
    "### Logistic Regression also offers a straightforward interpretation of the relationship between features and the probability of outcomes, which is less intuitive in polynomial models due to their complexity. Furthermore, Logistic Regression can be easily extended to handle multi-class classification problems, making it a better choice for classification tasks."
   ]
  },
  {
   "cell_type": "markdown",
   "metadata": {},
   "source": [
    "### Fit LogisticRegression models with different parameter settings\n",
    "- L1 VS L2 penalty\n",
    "- C values (inverse of regularization strength)"
   ]
  },
  {
   "cell_type": "code",
   "execution_count": 71,
   "metadata": {},
   "outputs": [],
   "source": [
    "clf = LogisticRegression(random_state=0, solver='liblinear', penalty='l1', C=1.0).fit(df_X_train, df_y_train)"
   ]
  },
  {
   "cell_type": "code",
   "execution_count": 73,
   "metadata": {},
   "outputs": [
    {
     "data": {
      "text/plain": [
       "0.7636222776964793"
      ]
     },
     "execution_count": 73,
     "metadata": {},
     "output_type": "execute_result"
    }
   ],
   "source": [
    "# training accuracy\n",
    "clf.score(df_X_train, df_y_train)"
   ]
  },
  {
   "cell_type": "code",
   "execution_count": 75,
   "metadata": {},
   "outputs": [
    {
     "data": {
      "text/plain": [
       "0.7602409638554217"
      ]
     },
     "execution_count": 75,
     "metadata": {},
     "output_type": "execute_result"
    }
   ],
   "source": [
    "# testing accuracy\n",
    "clf.score(df_X_test, df_y_test)"
   ]
  },
  {
   "cell_type": "markdown",
   "metadata": {},
   "source": [
    "### training accuracy and testing accuracy indicate that the model performance is pretty consistent, so the model is not overfitting"
   ]
  },
  {
   "cell_type": "code",
   "execution_count": 83,
   "metadata": {},
   "outputs": [
    {
     "data": {
      "text/plain": [
       "array([[0.117, 0.883],\n",
       "       [0.141, 0.859],\n",
       "       [0.202, 0.798]])"
      ]
     },
     "execution_count": 83,
     "metadata": {},
     "output_type": "execute_result"
    }
   ],
   "source": [
    "np.round(clf.predict_proba(df_X_test[:3]),3)"
   ]
  },
  {
   "cell_type": "code",
   "execution_count": 77,
   "metadata": {},
   "outputs": [
    {
     "name": "stdout",
     "output_type": "stream",
     "text": [
      "              precision    recall  f1-score   support\n",
      "\n",
      "           0       0.66      0.32      0.43      1416\n",
      "           1       0.78      0.93      0.85      3564\n",
      "\n",
      "    accuracy                           0.76      4980\n",
      "   macro avg       0.72      0.63      0.64      4980\n",
      "weighted avg       0.74      0.76      0.73      4980\n",
      "\n"
     ]
    }
   ],
   "source": [
    "# confusion matrix\n",
    "from sklearn.metrics import confusion_matrix\n",
    "y_pred = clf.predict(df_X_test)\n",
    "confusion_matrix(df_y_test, y_pred)\n",
    "\n",
    "# classification report\n",
    "from sklearn.metrics import classification_report\n",
    "print(classification_report(df_y_test, y_pred))\n",
    "\n",
    "\n"
   ]
  },
  {
   "cell_type": "code",
   "execution_count": 78,
   "metadata": {},
   "outputs": [
    {
     "data": {
      "text/plain": [
       "1    12029\n",
       "0     4568\n",
       "Name: belief, dtype: int64"
      ]
     },
     "execution_count": 78,
     "metadata": {},
     "output_type": "execute_result"
    }
   ],
   "source": [
    "df['belief'].value_counts()"
   ]
  },
  {
   "cell_type": "markdown",
   "metadata": {},
   "source": [
    "### The recall for classifying the 0-class (the minority class) is unusually low. This is a common issue in imbalanced datasets. The model, having been exposed to more instances of class 1, becomes better at identifying class 1 and less effective at recognizing class 0. As a result, even if the overall accuracy of the model seems high, its ability to correctly identify instances of the minority class (class 0) is compromised, leading to a low recall for that class."
   ]
  },
  {
   "cell_type": "code",
   "execution_count": 91,
   "metadata": {},
   "outputs": [
    {
     "data": {
      "text/plain": [
       "array(['age', 'height', 'diet_clean_anything', 'diet_clean_halal',\n",
       "       'diet_clean_kosher', 'diet_clean_other', 'diet_clean_unknown',\n",
       "       'diet_clean_vegan', 'diet_clean_vegetarian', 'drinks_desperately',\n",
       "       'drinks_not at all', 'drinks_often', 'drinks_rarely',\n",
       "       'drinks_socially', 'drinks_very often', 'ethnicity_clean_asian',\n",
       "       'ethnicity_clean_black', 'ethnicity_clean_indian',\n",
       "       'ethnicity_clean_latin', 'ethnicity_clean_middle eastern',\n",
       "       'ethnicity_clean_multiethnic', 'ethnicity_clean_native american',\n",
       "       'ethnicity_clean_other', 'ethnicity_clean_pacific islander',\n",
       "       'ethnicity_clean_unknown', 'ethnicity_clean_white',\n",
       "       'education_final_college/university',\n",
       "       'education_final_high school', 'education_final_law school',\n",
       "       'education_final_masters program', 'education_final_med school',\n",
       "       'education_final_ph.d program', 'education_final_space camp',\n",
       "       'education_final_two-year college', 'education_final_unknown',\n",
       "       'status_available', 'status_married', 'status_seeing someone',\n",
       "       'status_single', 'status_unknown', 'drugs_never', 'drugs_often',\n",
       "       'drugs_sometimes', 'smokes_no', 'smokes_sometimes',\n",
       "       'smokes_trying to quit', 'smokes_when drinking', 'smokes_yes',\n",
       "       'orientation_bisexual', 'orientation_gay', 'orientation_straight',\n",
       "       'job_clean_artistic', 'job_clean_banking', 'job_clean_clerical',\n",
       "       'job_clean_computer', 'job_clean_construction',\n",
       "       'job_clean_education', 'job_clean_entertainment',\n",
       "       'job_clean_executive', 'job_clean_hospitality', 'job_clean_law',\n",
       "       'job_clean_medicine', 'job_clean_military', 'job_clean_other',\n",
       "       'job_clean_political', 'job_clean_rather not say',\n",
       "       'job_clean_retired', 'job_clean_sales', 'job_clean_science',\n",
       "       'job_clean_student', 'job_clean_transportation',\n",
       "       'job_clean_unemployed'], dtype=object)"
      ]
     },
     "execution_count": 91,
     "metadata": {},
     "output_type": "execute_result"
    }
   ],
   "source": [
    "# features were used in training\n",
    "clf.feature_names_in_"
   ]
  },
  {
   "cell_type": "markdown",
   "metadata": {},
   "source": [
    "## the top-10 features with highest coefficients in each model "
   ]
  },
  {
   "cell_type": "code",
   "execution_count": 92,
   "metadata": {},
   "outputs": [
    {
     "data": {
      "text/html": [
       "<div>\n",
       "<style scoped>\n",
       "    .dataframe tbody tr th:only-of-type {\n",
       "        vertical-align: middle;\n",
       "    }\n",
       "\n",
       "    .dataframe tbody tr th {\n",
       "        vertical-align: top;\n",
       "    }\n",
       "\n",
       "    .dataframe thead th {\n",
       "        text-align: right;\n",
       "    }\n",
       "</style>\n",
       "<table border=\"1\" class=\"dataframe\">\n",
       "  <thead>\n",
       "    <tr style=\"text-align: right;\">\n",
       "      <th></th>\n",
       "      <th>features</th>\n",
       "      <th>coefficients</th>\n",
       "    </tr>\n",
       "  </thead>\n",
       "  <tbody>\n",
       "    <tr>\n",
       "      <th>23</th>\n",
       "      <td>ethnicity_clean_pacific islander</td>\n",
       "      <td>1.766</td>\n",
       "    </tr>\n",
       "    <tr>\n",
       "      <th>4</th>\n",
       "      <td>diet_clean_kosher</td>\n",
       "      <td>1.731</td>\n",
       "    </tr>\n",
       "    <tr>\n",
       "      <th>3</th>\n",
       "      <td>diet_clean_halal</td>\n",
       "      <td>1.414</td>\n",
       "    </tr>\n",
       "    <tr>\n",
       "      <th>16</th>\n",
       "      <td>ethnicity_clean_black</td>\n",
       "      <td>1.390</td>\n",
       "    </tr>\n",
       "    <tr>\n",
       "      <th>40</th>\n",
       "      <td>drugs_never</td>\n",
       "      <td>0.899</td>\n",
       "    </tr>\n",
       "    <tr>\n",
       "      <th>62</th>\n",
       "      <td>job_clean_military</td>\n",
       "      <td>0.820</td>\n",
       "    </tr>\n",
       "    <tr>\n",
       "      <th>67</th>\n",
       "      <td>job_clean_sales</td>\n",
       "      <td>0.705</td>\n",
       "    </tr>\n",
       "    <tr>\n",
       "      <th>52</th>\n",
       "      <td>job_clean_banking</td>\n",
       "      <td>0.649</td>\n",
       "    </tr>\n",
       "    <tr>\n",
       "      <th>38</th>\n",
       "      <td>status_single</td>\n",
       "      <td>0.587</td>\n",
       "    </tr>\n",
       "    <tr>\n",
       "      <th>27</th>\n",
       "      <td>education_final_high school</td>\n",
       "      <td>0.568</td>\n",
       "    </tr>\n",
       "  </tbody>\n",
       "</table>\n",
       "</div>"
      ],
      "text/plain": [
       "                            features  coefficients\n",
       "23  ethnicity_clean_pacific islander         1.766\n",
       "4                  diet_clean_kosher         1.731\n",
       "3                   diet_clean_halal         1.414\n",
       "16             ethnicity_clean_black         1.390\n",
       "40                       drugs_never         0.899\n",
       "62                job_clean_military         0.820\n",
       "67                   job_clean_sales         0.705\n",
       "52                 job_clean_banking         0.649\n",
       "38                     status_single         0.587\n",
       "27       education_final_high school         0.568"
      ]
     },
     "metadata": {},
     "output_type": "display_data"
    }
   ],
   "source": [
    "# ridge regression coefficients\n",
    "df_linear_coef = pd.DataFrame({'features':clf.feature_names_in_, 'coefficients':np.round(clf.coef_[0],3)})\n",
    "\n",
    "display(df_linear_coef.sort_values(['coefficients'], ascending=False).iloc[:10])"
   ]
  },
  {
   "cell_type": "markdown",
   "metadata": {},
   "source": [
    "## Compare model performance with different c values and different penalties"
   ]
  },
  {
   "cell_type": "code",
   "execution_count": 88,
   "metadata": {},
   "outputs": [],
   "source": [
    "import numpy as np\n",
    "\n",
    "def compare_c(X_train, y_train, X_test, y_test, p):\n",
    "    \"\"\"\n",
    "    X_train/test: 2D feature matrix of training/testing data\n",
    "    y_train/test: 1D array of training/testing labels\n",
    "    p: the penalty parameter setting in LogisticRegression\n",
    "    \n",
    "    return: \n",
    "        a list of classifiers fitted with different c values\n",
    "        a dataframe that is shown in the running example below\n",
    "    \"\"\"\n",
    "     \n",
    "    # set the model parameter c to different values and train the model \n",
    "    # for c in [0.001, 0.01, 0.1, 1, 10, 100]:\n",
    "    #    fit a LogisticRegression model with: the current c value, the given penalty p, set random_state=42, max_iter=1000, solver='liblinear', and use default setting for other parameters\n",
    "    #    test and record the model performance \n",
    "    #    get the statistical information about the model coefficients: \n",
    "    #        min: minimum coefficient\n",
    "    #        max: minimum coefficient\n",
    "    #        mean(abs(coef)): average over the absolute coefficient values\n",
    "    #        n_zero: number of coefficients equal to zero \n",
    "    \n",
    "    ### Your code starts from here \n",
    "    classifiers = []\n",
    "    metrics_df = pd.DataFrame()\n",
    "    \n",
    "\n",
    "    # L2 penalty shows a very similar performance to L1 penalty\n",
    "    for c in [0.001, 0.01, 0.1, 1, 10, 100]:\n",
    "        clf = LogisticRegression(random_state=42, max_iter=1000, solver='liblinear', penalty=p, C=c)\n",
    "        clf.fit(X_train, y_train)\n",
    "        score = clf.score(X_test, y_test)\n",
    "        coef_stats = {\n",
    "            'min': np.min(clf.coef_),\n",
    "            'max': np.max(clf.coef_),\n",
    "            'mean_abs_coef': np.mean(np.abs(clf.coef_)),\n",
    "            'n_zero': np.sum(clf.coef_ == 0)\n",
    "        }\n",
    "        classifiers.append(clf)\n",
    "        metrics_df = metrics_df.append(coef_stats, ignore_index=True)\n",
    "\n",
    "    return classifiers, metrics_df"
   ]
  },
  {
   "cell_type": "code",
   "execution_count": 95,
   "metadata": {},
   "outputs": [
    {
     "name": "stderr",
     "output_type": "stream",
     "text": [
      "/var/folders/sm/t07r9cb5347gwrxg17tf23th0000gn/T/ipykernel_45582/3898780944.py:41: FutureWarning: The frame.append method is deprecated and will be removed from pandas in a future version. Use pandas.concat instead.\n",
      "  metrics_df = metrics_df.append(coef_stats, ignore_index=True)\n",
      "/var/folders/sm/t07r9cb5347gwrxg17tf23th0000gn/T/ipykernel_45582/3898780944.py:41: FutureWarning: The frame.append method is deprecated and will be removed from pandas in a future version. Use pandas.concat instead.\n",
      "  metrics_df = metrics_df.append(coef_stats, ignore_index=True)\n",
      "/var/folders/sm/t07r9cb5347gwrxg17tf23th0000gn/T/ipykernel_45582/3898780944.py:41: FutureWarning: The frame.append method is deprecated and will be removed from pandas in a future version. Use pandas.concat instead.\n",
      "  metrics_df = metrics_df.append(coef_stats, ignore_index=True)\n",
      "/var/folders/sm/t07r9cb5347gwrxg17tf23th0000gn/T/ipykernel_45582/3898780944.py:41: FutureWarning: The frame.append method is deprecated and will be removed from pandas in a future version. Use pandas.concat instead.\n",
      "  metrics_df = metrics_df.append(coef_stats, ignore_index=True)\n",
      "/var/folders/sm/t07r9cb5347gwrxg17tf23th0000gn/T/ipykernel_45582/3898780944.py:41: FutureWarning: The frame.append method is deprecated and will be removed from pandas in a future version. Use pandas.concat instead.\n",
      "  metrics_df = metrics_df.append(coef_stats, ignore_index=True)\n",
      "/var/folders/sm/t07r9cb5347gwrxg17tf23th0000gn/T/ipykernel_45582/3898780944.py:41: FutureWarning: The frame.append method is deprecated and will be removed from pandas in a future version. Use pandas.concat instead.\n",
      "  metrics_df = metrics_df.append(coef_stats, ignore_index=True)\n"
     ]
    },
    {
     "data": {
      "text/html": [
       "<div>\n",
       "<style scoped>\n",
       "    .dataframe tbody tr th:only-of-type {\n",
       "        vertical-align: middle;\n",
       "    }\n",
       "\n",
       "    .dataframe tbody tr th {\n",
       "        vertical-align: top;\n",
       "    }\n",
       "\n",
       "    .dataframe thead th {\n",
       "        text-align: right;\n",
       "    }\n",
       "</style>\n",
       "<table border=\"1\" class=\"dataframe\">\n",
       "  <thead>\n",
       "    <tr style=\"text-align: right;\">\n",
       "      <th></th>\n",
       "      <th>min</th>\n",
       "      <th>max</th>\n",
       "      <th>mean_abs_coef</th>\n",
       "      <th>n_zero</th>\n",
       "    </tr>\n",
       "  </thead>\n",
       "  <tbody>\n",
       "    <tr>\n",
       "      <th>0</th>\n",
       "      <td>-0.239483</td>\n",
       "      <td>0.248829</td>\n",
       "      <td>0.042189</td>\n",
       "      <td>1.0</td>\n",
       "    </tr>\n",
       "    <tr>\n",
       "      <th>1</th>\n",
       "      <td>-0.550316</td>\n",
       "      <td>0.540476</td>\n",
       "      <td>0.137296</td>\n",
       "      <td>1.0</td>\n",
       "    </tr>\n",
       "    <tr>\n",
       "      <th>2</th>\n",
       "      <td>-0.750964</td>\n",
       "      <td>1.038546</td>\n",
       "      <td>0.266685</td>\n",
       "      <td>1.0</td>\n",
       "    </tr>\n",
       "    <tr>\n",
       "      <th>3</th>\n",
       "      <td>-0.823471</td>\n",
       "      <td>1.567333</td>\n",
       "      <td>0.381639</td>\n",
       "      <td>1.0</td>\n",
       "    </tr>\n",
       "    <tr>\n",
       "      <th>4</th>\n",
       "      <td>-0.877220</td>\n",
       "      <td>1.772696</td>\n",
       "      <td>0.410909</td>\n",
       "      <td>1.0</td>\n",
       "    </tr>\n",
       "    <tr>\n",
       "      <th>5</th>\n",
       "      <td>-0.882531</td>\n",
       "      <td>1.794914</td>\n",
       "      <td>0.414134</td>\n",
       "      <td>1.0</td>\n",
       "    </tr>\n",
       "  </tbody>\n",
       "</table>\n",
       "</div>"
      ],
      "text/plain": [
       "        min       max  mean_abs_coef  n_zero\n",
       "0 -0.239483  0.248829       0.042189     1.0\n",
       "1 -0.550316  0.540476       0.137296     1.0\n",
       "2 -0.750964  1.038546       0.266685     1.0\n",
       "3 -0.823471  1.567333       0.381639     1.0\n",
       "4 -0.877220  1.772696       0.410909     1.0\n",
       "5 -0.882531  1.794914       0.414134     1.0"
      ]
     },
     "execution_count": 95,
     "metadata": {},
     "output_type": "execute_result"
    }
   ],
   "source": [
    "# running example\n",
    "l2_clfs, c_effect_l2 = compare_c(df_X_train, df_y_train, df_X_test, df_y_test, p='l2')\n",
    "c_effect_l2"
   ]
  },
  {
   "cell_type": "code",
   "execution_count": 96,
   "metadata": {},
   "outputs": [
    {
     "name": "stdout",
     "output_type": "stream",
     "text": [
      "Model with C=0.001: Zero coefficients for features ['status_unknown']\n",
      "Model with C=0.01: Zero coefficients for features ['status_unknown']\n",
      "Model with C=0.1: Zero coefficients for features ['status_unknown']\n",
      "Model with C=1: Zero coefficients for features ['status_unknown']\n",
      "Model with C=10: Zero coefficients for features ['status_unknown']\n",
      "Model with C=100: Zero coefficients for features ['status_unknown']\n"
     ]
    }
   ],
   "source": [
    "# find the zero coefficients\n",
    "feature_names = df_X_train.columns\n",
    "\n",
    "for index, clf in enumerate(l2_clfs):\n",
    "    coefs = clf.coef_[0]  # binary classification, so find the coefficients for the positive class\n",
    "    zero_coefs_indices = np.where(coefs == 0)[0]\n",
    "    zero_coef_features = feature_names[zero_coefs_indices]\n",
    "    print(f\"Model with C={clf.C}: Zero coefficients for features {list(zero_coef_features)}\")\n"
   ]
  },
  {
   "cell_type": "code",
   "execution_count": 100,
   "metadata": {},
   "outputs": [
    {
     "name": "stdout",
     "output_type": "stream",
     "text": [
      "f-1: status_single\n",
      "f+1: drugs_never\n"
     ]
    }
   ],
   "source": [
    "\n",
    "feature_names = df_X.columns\n",
    "\n",
    "index_of_status_unknown = feature_names.get_loc('status_unknown')\n",
    "\n",
    "prev_feature = feature_names[index_of_status_unknown - 1] if index_of_status_unknown > 0 else None\n",
    "next_feature = feature_names[index_of_status_unknown + 1] if index_of_status_unknown < len(feature_names) - 1 else None\n",
    "\n",
    "print(f\"f-1: {prev_feature}\")\n",
    "print(f\"f+1: {next_feature}\")\n"
   ]
  },
  {
   "cell_type": "markdown",
   "metadata": {},
   "source": [
    "this makes sense, because the 'unknown status' of someone's relationship status indeed provide no useful information with their religious belief"
   ]
  },
  {
   "cell_type": "markdown",
   "metadata": {},
   "source": [
    "### As the value of C increases (which means a decrease in regularization strength), both the minimum and maximum values of the coefficients increase. This indicates that the model becomes more flexible, allowing the coefficients to take on larger values."
   ]
  },
  {
   "cell_type": "markdown",
   "metadata": {},
   "source": [
    "### The n_zero column shows the number of coefficients that are zero. In this example, in most cases, this value is 1, indicating that in most models, only one coefficient is zero. "
   ]
  },
  {
   "cell_type": "code",
   "execution_count": 90,
   "metadata": {},
   "outputs": [
    {
     "name": "stderr",
     "output_type": "stream",
     "text": [
      "/var/folders/sm/t07r9cb5347gwrxg17tf23th0000gn/T/ipykernel_45582/3898780944.py:41: FutureWarning: The frame.append method is deprecated and will be removed from pandas in a future version. Use pandas.concat instead.\n",
      "  metrics_df = metrics_df.append(coef_stats, ignore_index=True)\n",
      "/var/folders/sm/t07r9cb5347gwrxg17tf23th0000gn/T/ipykernel_45582/3898780944.py:41: FutureWarning: The frame.append method is deprecated and will be removed from pandas in a future version. Use pandas.concat instead.\n",
      "  metrics_df = metrics_df.append(coef_stats, ignore_index=True)\n",
      "/var/folders/sm/t07r9cb5347gwrxg17tf23th0000gn/T/ipykernel_45582/3898780944.py:41: FutureWarning: The frame.append method is deprecated and will be removed from pandas in a future version. Use pandas.concat instead.\n",
      "  metrics_df = metrics_df.append(coef_stats, ignore_index=True)\n",
      "/var/folders/sm/t07r9cb5347gwrxg17tf23th0000gn/T/ipykernel_45582/3898780944.py:41: FutureWarning: The frame.append method is deprecated and will be removed from pandas in a future version. Use pandas.concat instead.\n",
      "  metrics_df = metrics_df.append(coef_stats, ignore_index=True)\n",
      "/var/folders/sm/t07r9cb5347gwrxg17tf23th0000gn/T/ipykernel_45582/3898780944.py:41: FutureWarning: The frame.append method is deprecated and will be removed from pandas in a future version. Use pandas.concat instead.\n",
      "  metrics_df = metrics_df.append(coef_stats, ignore_index=True)\n",
      "/var/folders/sm/t07r9cb5347gwrxg17tf23th0000gn/T/ipykernel_45582/3898780944.py:41: FutureWarning: The frame.append method is deprecated and will be removed from pandas in a future version. Use pandas.concat instead.\n",
      "  metrics_df = metrics_df.append(coef_stats, ignore_index=True)\n"
     ]
    },
    {
     "data": {
      "text/html": [
       "<div>\n",
       "<style scoped>\n",
       "    .dataframe tbody tr th:only-of-type {\n",
       "        vertical-align: middle;\n",
       "    }\n",
       "\n",
       "    .dataframe tbody tr th {\n",
       "        vertical-align: top;\n",
       "    }\n",
       "\n",
       "    .dataframe thead th {\n",
       "        text-align: right;\n",
       "    }\n",
       "</style>\n",
       "<table border=\"1\" class=\"dataframe\">\n",
       "  <thead>\n",
       "    <tr style=\"text-align: right;\">\n",
       "      <th></th>\n",
       "      <th>min</th>\n",
       "      <th>max</th>\n",
       "      <th>mean_abs_coef</th>\n",
       "      <th>n_zero</th>\n",
       "    </tr>\n",
       "  </thead>\n",
       "  <tbody>\n",
       "    <tr>\n",
       "      <th>0</th>\n",
       "      <td>-0.000883</td>\n",
       "      <td>0.032196</td>\n",
       "      <td>0.000459</td>\n",
       "      <td>70.0</td>\n",
       "    </tr>\n",
       "    <tr>\n",
       "      <th>1</th>\n",
       "      <td>-0.519564</td>\n",
       "      <td>0.867740</td>\n",
       "      <td>0.039202</td>\n",
       "      <td>61.0</td>\n",
       "    </tr>\n",
       "    <tr>\n",
       "      <th>2</th>\n",
       "      <td>-0.764510</td>\n",
       "      <td>1.088151</td>\n",
       "      <td>0.168119</td>\n",
       "      <td>32.0</td>\n",
       "    </tr>\n",
       "    <tr>\n",
       "      <th>3</th>\n",
       "      <td>-0.734953</td>\n",
       "      <td>1.768495</td>\n",
       "      <td>0.330467</td>\n",
       "      <td>9.0</td>\n",
       "    </tr>\n",
       "    <tr>\n",
       "      <th>4</th>\n",
       "      <td>-0.693469</td>\n",
       "      <td>2.478376</td>\n",
       "      <td>0.454191</td>\n",
       "      <td>3.0</td>\n",
       "    </tr>\n",
       "    <tr>\n",
       "      <th>5</th>\n",
       "      <td>-0.530438</td>\n",
       "      <td>2.682176</td>\n",
       "      <td>0.683228</td>\n",
       "      <td>1.0</td>\n",
       "    </tr>\n",
       "  </tbody>\n",
       "</table>\n",
       "</div>"
      ],
      "text/plain": [
       "        min       max  mean_abs_coef  n_zero\n",
       "0 -0.000883  0.032196       0.000459    70.0\n",
       "1 -0.519564  0.867740       0.039202    61.0\n",
       "2 -0.764510  1.088151       0.168119    32.0\n",
       "3 -0.734953  1.768495       0.330467     9.0\n",
       "4 -0.693469  2.478376       0.454191     3.0\n",
       "5 -0.530438  2.682176       0.683228     1.0"
      ]
     },
     "execution_count": 90,
     "metadata": {},
     "output_type": "execute_result"
    }
   ],
   "source": [
    "# running example\n",
    "l2_clfs, c_effect_l2 = compare_c(df_X_train, df_y_train, df_X_test, df_y_test, p='l1')\n",
    "c_effect_l2"
   ]
  },
  {
   "cell_type": "markdown",
   "metadata": {},
   "source": [
    "### As the value of C increases, both the minimum and maximum values of the coefficients increase, consistent with the observations for L2 regularization. This indicates that as the regularization strength decreases, the model's coefficients are allowed to take on larger values.\n",
    "\n",
    "### The most significant change is observed in the n_zero column, which represents the number of coefficients that are zero. For smaller values of C (stronger regularization), more coefficients become zero. This is a typical characteristic of L1 regularization, which tends to produce sparse models, aiding in feature selection."
   ]
  },
  {
   "cell_type": "code",
   "execution_count": 103,
   "metadata": {},
   "outputs": [
    {
     "data": {
      "text/html": [
       "<div>\n",
       "<style scoped>\n",
       "    .dataframe tbody tr th:only-of-type {\n",
       "        vertical-align: middle;\n",
       "    }\n",
       "\n",
       "    .dataframe tbody tr th {\n",
       "        vertical-align: top;\n",
       "    }\n",
       "\n",
       "    .dataframe thead th {\n",
       "        text-align: right;\n",
       "    }\n",
       "</style>\n",
       "<table border=\"1\" class=\"dataframe\">\n",
       "  <thead>\n",
       "    <tr style=\"text-align: right;\">\n",
       "      <th></th>\n",
       "      <th>C</th>\n",
       "      <th>Coefficient</th>\n",
       "      <th>Feature</th>\n",
       "    </tr>\n",
       "  </thead>\n",
       "  <tbody>\n",
       "    <tr>\n",
       "      <th>0</th>\n",
       "      <td>0.001</td>\n",
       "      <td>0.248829</td>\n",
       "      <td>drugs_never</td>\n",
       "    </tr>\n",
       "    <tr>\n",
       "      <th>1</th>\n",
       "      <td>0.001</td>\n",
       "      <td>-0.239483</td>\n",
       "      <td>ethnicity_clean_white</td>\n",
       "    </tr>\n",
       "    <tr>\n",
       "      <th>2</th>\n",
       "      <td>0.001</td>\n",
       "      <td>-0.205076</td>\n",
       "      <td>drugs_sometimes</td>\n",
       "    </tr>\n",
       "    <tr>\n",
       "      <th>3</th>\n",
       "      <td>0.010</td>\n",
       "      <td>-0.550316</td>\n",
       "      <td>job_clean_computer</td>\n",
       "    </tr>\n",
       "    <tr>\n",
       "      <th>4</th>\n",
       "      <td>0.010</td>\n",
       "      <td>-0.541969</td>\n",
       "      <td>ethnicity_clean_white</td>\n",
       "    </tr>\n",
       "    <tr>\n",
       "      <th>5</th>\n",
       "      <td>0.010</td>\n",
       "      <td>0.540476</td>\n",
       "      <td>drugs_never</td>\n",
       "    </tr>\n",
       "    <tr>\n",
       "      <th>6</th>\n",
       "      <td>0.100</td>\n",
       "      <td>1.038546</td>\n",
       "      <td>ethnicity_clean_black</td>\n",
       "    </tr>\n",
       "    <tr>\n",
       "      <th>7</th>\n",
       "      <td>0.100</td>\n",
       "      <td>0.853255</td>\n",
       "      <td>drugs_never</td>\n",
       "    </tr>\n",
       "    <tr>\n",
       "      <th>8</th>\n",
       "      <td>0.100</td>\n",
       "      <td>0.802451</td>\n",
       "      <td>ethnicity_clean_pacific islander</td>\n",
       "    </tr>\n",
       "    <tr>\n",
       "      <th>9</th>\n",
       "      <td>1.000</td>\n",
       "      <td>1.567333</td>\n",
       "      <td>ethnicity_clean_pacific islander</td>\n",
       "    </tr>\n",
       "    <tr>\n",
       "      <th>10</th>\n",
       "      <td>1.000</td>\n",
       "      <td>1.479832</td>\n",
       "      <td>diet_clean_kosher</td>\n",
       "    </tr>\n",
       "    <tr>\n",
       "      <th>11</th>\n",
       "      <td>1.000</td>\n",
       "      <td>1.296093</td>\n",
       "      <td>ethnicity_clean_black</td>\n",
       "    </tr>\n",
       "    <tr>\n",
       "      <th>12</th>\n",
       "      <td>10.000</td>\n",
       "      <td>1.772696</td>\n",
       "      <td>ethnicity_clean_pacific islander</td>\n",
       "    </tr>\n",
       "    <tr>\n",
       "      <th>13</th>\n",
       "      <td>10.000</td>\n",
       "      <td>1.672790</td>\n",
       "      <td>diet_clean_kosher</td>\n",
       "    </tr>\n",
       "    <tr>\n",
       "      <th>14</th>\n",
       "      <td>10.000</td>\n",
       "      <td>1.338783</td>\n",
       "      <td>ethnicity_clean_black</td>\n",
       "    </tr>\n",
       "    <tr>\n",
       "      <th>15</th>\n",
       "      <td>100.000</td>\n",
       "      <td>1.794914</td>\n",
       "      <td>ethnicity_clean_pacific islander</td>\n",
       "    </tr>\n",
       "    <tr>\n",
       "      <th>16</th>\n",
       "      <td>100.000</td>\n",
       "      <td>1.693192</td>\n",
       "      <td>diet_clean_kosher</td>\n",
       "    </tr>\n",
       "    <tr>\n",
       "      <th>17</th>\n",
       "      <td>100.000</td>\n",
       "      <td>1.348146</td>\n",
       "      <td>diet_clean_halal</td>\n",
       "    </tr>\n",
       "  </tbody>\n",
       "</table>\n",
       "</div>"
      ],
      "text/plain": [
       "          C  Coefficient                           Feature\n",
       "0     0.001     0.248829                       drugs_never\n",
       "1     0.001    -0.239483             ethnicity_clean_white\n",
       "2     0.001    -0.205076                   drugs_sometimes\n",
       "3     0.010    -0.550316                job_clean_computer\n",
       "4     0.010    -0.541969             ethnicity_clean_white\n",
       "5     0.010     0.540476                       drugs_never\n",
       "6     0.100     1.038546             ethnicity_clean_black\n",
       "7     0.100     0.853255                       drugs_never\n",
       "8     0.100     0.802451  ethnicity_clean_pacific islander\n",
       "9     1.000     1.567333  ethnicity_clean_pacific islander\n",
       "10    1.000     1.479832                 diet_clean_kosher\n",
       "11    1.000     1.296093             ethnicity_clean_black\n",
       "12   10.000     1.772696  ethnicity_clean_pacific islander\n",
       "13   10.000     1.672790                 diet_clean_kosher\n",
       "14   10.000     1.338783             ethnicity_clean_black\n",
       "15  100.000     1.794914  ethnicity_clean_pacific islander\n",
       "16  100.000     1.693192                 diet_clean_kosher\n",
       "17  100.000     1.348146                  diet_clean_halal"
      ]
     },
     "execution_count": 103,
     "metadata": {},
     "output_type": "execute_result"
    }
   ],
   "source": [
    "feature_names = df_X_train.columns\n",
    "top_coefs = []\n",
    "\n",
    "for clf in l2_clfs:\n",
    "    # get the coefficients\n",
    "    coefs = clf.coef_[0]\n",
    "    abs_coefs = np.abs(coefs)\n",
    "\n",
    "    # find the top 3 coefficients in absolute values\n",
    "    top_indices = np.argsort(-abs_coefs)[:3]\n",
    "    top_coef_values = coefs[top_indices]\n",
    "    top_features = feature_names[top_indices]\n",
    "\n",
    "    # df for top coefficients\n",
    "    for i in range(3):\n",
    "        top_coefs.append({\n",
    "            'C': clf.C,\n",
    "            'Coefficient': top_coef_values[i],\n",
    "            'Feature': top_features[i]\n",
    "        })\n",
    "\n",
    "top_coefs_df = pd.DataFrame(top_coefs)\n",
    "\n",
    "top_coefs_df\n"
   ]
  },
  {
   "cell_type": "markdown",
   "metadata": {},
   "source": [
    "### The result of top coefs provides further evidences for my intial assumptions in EDA:\n",
    "- the usages of drug is strongly associated with one's religous belief\n",
    "\n",
    "### Other features (ethicity, diet habits)also play important roles in predicting belief, which are reasonable."
   ]
  }
 ],
 "metadata": {
  "kernelspec": {
   "display_name": "aidi",
   "language": "python",
   "name": "python3"
  },
  "language_info": {
   "codemirror_mode": {
    "name": "ipython",
    "version": 3
   },
   "file_extension": ".py",
   "mimetype": "text/x-python",
   "name": "python",
   "nbconvert_exporter": "python",
   "pygments_lexer": "ipython3",
   "version": "3.9.18"
  },
  "orig_nbformat": 4
 },
 "nbformat": 4,
 "nbformat_minor": 2
}
