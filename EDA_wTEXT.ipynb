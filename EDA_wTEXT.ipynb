{
 "cells": [
  {
   "cell_type": "markdown",
   "metadata": {},
   "source": [
    "### Aidi Li / Xiaotong Cui/ Muhua Huang\n",
    "### Exploratory data analysis\n",
    "\n",
    "There are 5 parts in this notebook. \n",
    "\n",
    "\n",
    "- **Part-1: Data overview**\n",
    "    > check the #samples, #attributes <br>\n",
    "    > attribute types <br>\n",
    "    \n",
    "- **Part-2: Data cleaning**\n",
    "    > organize attributes into appripriate data types (e.g., numerical, categorical, datatime, text, image, ...) <br>\n",
    "    > missing value and outlier detection <br>\n",
    "    \n",
    "- **Part-3: Data transformation**\n",
    "    > normalize numerical data <br>\n",
    "    > transform text data: tokenization, stemming, and lemmatization <br>\n",
    "    \n",
    "- **Part-4: Feature engineering**\n",
    "    > encode categorical data <br>\n",
    "    > convert DataTime data <br>\n",
    "    > text feature representation <br>\n",
    "\n",
    "- **Part-5: Additional analysis**\n",
    "    > create new features <br>\n",
    "    > colinearty check <br>"
   ]
  },
  {
   "cell_type": "code",
   "execution_count": 333,
   "metadata": {},
   "outputs": [],
   "source": [
    "import numpy as np\n",
    "import pandas as pd\n",
    "import matplotlib.pyplot as plt\n",
    "import seaborn as sns"
   ]
  },
  {
   "cell_type": "code",
   "execution_count": 334,
   "metadata": {},
   "outputs": [
    {
     "data": {
      "text/plain": [
       "(59946, 31)"
      ]
     },
     "execution_count": 334,
     "metadata": {},
     "output_type": "execute_result"
    }
   ],
   "source": [
    "# OkCupid is a mobile dating app.\n",
    "# It sets itself apart from other dating apps by making use of a pre computed compatibility score,\n",
    "# calculated by optional questions the users may choose to answer.\n",
    "\n",
    "#In this dataset, there are 60k records containing structured information such as age, sex, orientation \n",
    "# as well as text data from open ended descriptions.\n",
    "#I'm also interested in the text of the profile, which is the \"essay\" parts \n",
    "\n",
    "\n",
    "f_loc = \"/Users/adhdtreamentii/Desktop/UChicago 2024/UChicago Winter 24/MACSS-30100/Final/data/raw_okcupid_profiles.csv\"\n",
    "\n",
    "okc_df = pd.read_csv(f_loc)\n",
    "\n",
    "\n",
    "\n",
    "# check the shape of the data frame: row: #samples (short for number of samples), column: #attributes (short for number of attributes)\n",
    "okc_df.shape\n",
    "\n",
    "# 59946 samples, 31 attributes/features"
   ]
  },
  {
   "cell_type": "code",
   "execution_count": 335,
   "metadata": {},
   "outputs": [
    {
     "data": {
      "text/html": [
       "<div>\n",
       "<style scoped>\n",
       "    .dataframe tbody tr th:only-of-type {\n",
       "        vertical-align: middle;\n",
       "    }\n",
       "\n",
       "    .dataframe tbody tr th {\n",
       "        vertical-align: top;\n",
       "    }\n",
       "\n",
       "    .dataframe thead th {\n",
       "        text-align: right;\n",
       "    }\n",
       "</style>\n",
       "<table border=\"1\" class=\"dataframe\">\n",
       "  <thead>\n",
       "    <tr style=\"text-align: right;\">\n",
       "      <th></th>\n",
       "      <th>age</th>\n",
       "      <th>status</th>\n",
       "      <th>sex</th>\n",
       "      <th>orientation</th>\n",
       "      <th>body_type</th>\n",
       "      <th>diet</th>\n",
       "      <th>drinks</th>\n",
       "      <th>drugs</th>\n",
       "      <th>education</th>\n",
       "      <th>ethnicity</th>\n",
       "      <th>...</th>\n",
       "      <th>essay0</th>\n",
       "      <th>essay1</th>\n",
       "      <th>essay2</th>\n",
       "      <th>essay3</th>\n",
       "      <th>essay4</th>\n",
       "      <th>essay5</th>\n",
       "      <th>essay6</th>\n",
       "      <th>essay7</th>\n",
       "      <th>essay8</th>\n",
       "      <th>essay9</th>\n",
       "    </tr>\n",
       "  </thead>\n",
       "  <tbody>\n",
       "    <tr>\n",
       "      <th>0</th>\n",
       "      <td>22</td>\n",
       "      <td>single</td>\n",
       "      <td>m</td>\n",
       "      <td>straight</td>\n",
       "      <td>a little extra</td>\n",
       "      <td>strictly anything</td>\n",
       "      <td>socially</td>\n",
       "      <td>never</td>\n",
       "      <td>working on college/university</td>\n",
       "      <td>asian, white</td>\n",
       "      <td>...</td>\n",
       "      <td>about me:  i would love to think that i was so...</td>\n",
       "      <td>currently working as an international agent fo...</td>\n",
       "      <td>making people laugh. ranting about a good salt...</td>\n",
       "      <td>the way i look. i am a six foot half asian, ha...</td>\n",
       "      <td>books: absurdistan, the republic, of mice and ...</td>\n",
       "      <td>food. water. cell phone. shelter.</td>\n",
       "      <td>duality and humorous things</td>\n",
       "      <td>trying to find someone to hang out with. i am ...</td>\n",
       "      <td>i am new to california and looking for someone...</td>\n",
       "      <td>you want to be swept off your feet! you are ti...</td>\n",
       "    </tr>\n",
       "    <tr>\n",
       "      <th>1</th>\n",
       "      <td>35</td>\n",
       "      <td>single</td>\n",
       "      <td>m</td>\n",
       "      <td>straight</td>\n",
       "      <td>average</td>\n",
       "      <td>mostly other</td>\n",
       "      <td>often</td>\n",
       "      <td>sometimes</td>\n",
       "      <td>working on space camp</td>\n",
       "      <td>white</td>\n",
       "      <td>...</td>\n",
       "      <td>i am a chef: this is what that means. 1. i am ...</td>\n",
       "      <td>dedicating everyday to being an unbelievable b...</td>\n",
       "      <td>being silly. having ridiculous amonts of fun w...</td>\n",
       "      <td>NaN</td>\n",
       "      <td>i am die hard christopher moore fan. i don't r...</td>\n",
       "      <td>delicious porkness in all of its glories. my b...</td>\n",
       "      <td>NaN</td>\n",
       "      <td>NaN</td>\n",
       "      <td>i am very open and will share just about anyth...</td>\n",
       "      <td>NaN</td>\n",
       "    </tr>\n",
       "    <tr>\n",
       "      <th>2</th>\n",
       "      <td>38</td>\n",
       "      <td>available</td>\n",
       "      <td>m</td>\n",
       "      <td>straight</td>\n",
       "      <td>thin</td>\n",
       "      <td>anything</td>\n",
       "      <td>socially</td>\n",
       "      <td>NaN</td>\n",
       "      <td>graduated from masters program</td>\n",
       "      <td>NaN</td>\n",
       "      <td>...</td>\n",
       "      <td>i'm not ashamed of much, but writing public te...</td>\n",
       "      <td>i make nerdy software for musicians, artists, ...</td>\n",
       "      <td>improvising in different contexts. alternating...</td>\n",
       "      <td>my large jaw and large glasses are the physica...</td>\n",
       "      <td>okay this is where the cultural matrix gets so...</td>\n",
       "      <td>movement conversation creation contemplation t...</td>\n",
       "      <td>NaN</td>\n",
       "      <td>viewing. listening. dancing. talking. drinking...</td>\n",
       "      <td>when i was five years old, i was known as \"the...</td>\n",
       "      <td>you are bright, open, intense, silly, ironic, ...</td>\n",
       "    </tr>\n",
       "    <tr>\n",
       "      <th>3</th>\n",
       "      <td>23</td>\n",
       "      <td>single</td>\n",
       "      <td>m</td>\n",
       "      <td>straight</td>\n",
       "      <td>thin</td>\n",
       "      <td>vegetarian</td>\n",
       "      <td>socially</td>\n",
       "      <td>NaN</td>\n",
       "      <td>working on college/university</td>\n",
       "      <td>white</td>\n",
       "      <td>...</td>\n",
       "      <td>i work in a library and go to school. . .</td>\n",
       "      <td>reading things written by old dead people</td>\n",
       "      <td>playing synthesizers and organizing books acco...</td>\n",
       "      <td>socially awkward but i do my best</td>\n",
       "      <td>bataille, celine, beckett. . . lynch, jarmusch...</td>\n",
       "      <td>NaN</td>\n",
       "      <td>cats and german philosophy</td>\n",
       "      <td>NaN</td>\n",
       "      <td>NaN</td>\n",
       "      <td>you feel so inclined.</td>\n",
       "    </tr>\n",
       "    <tr>\n",
       "      <th>4</th>\n",
       "      <td>29</td>\n",
       "      <td>single</td>\n",
       "      <td>m</td>\n",
       "      <td>straight</td>\n",
       "      <td>athletic</td>\n",
       "      <td>NaN</td>\n",
       "      <td>socially</td>\n",
       "      <td>never</td>\n",
       "      <td>graduated from college/university</td>\n",
       "      <td>asian, black, other</td>\n",
       "      <td>...</td>\n",
       "      <td>hey how's it going? currently vague on the pro...</td>\n",
       "      <td>work work work work + play</td>\n",
       "      <td>creating imagery to look at: http://bagsbrown....</td>\n",
       "      <td>i smile a lot and my inquisitive nature</td>\n",
       "      <td>music: bands, rappers, musicians at the moment...</td>\n",
       "      <td>NaN</td>\n",
       "      <td>NaN</td>\n",
       "      <td>NaN</td>\n",
       "      <td>NaN</td>\n",
       "      <td>NaN</td>\n",
       "    </tr>\n",
       "  </tbody>\n",
       "</table>\n",
       "<p>5 rows × 31 columns</p>\n",
       "</div>"
      ],
      "text/plain": [
       "   age     status sex orientation       body_type               diet  \\\n",
       "0   22     single   m    straight  a little extra  strictly anything   \n",
       "1   35     single   m    straight         average       mostly other   \n",
       "2   38  available   m    straight            thin           anything   \n",
       "3   23     single   m    straight            thin         vegetarian   \n",
       "4   29     single   m    straight        athletic                NaN   \n",
       "\n",
       "     drinks      drugs                          education  \\\n",
       "0  socially      never      working on college/university   \n",
       "1     often  sometimes              working on space camp   \n",
       "2  socially        NaN     graduated from masters program   \n",
       "3  socially        NaN      working on college/university   \n",
       "4  socially      never  graduated from college/university   \n",
       "\n",
       "             ethnicity  ...  \\\n",
       "0         asian, white  ...   \n",
       "1                white  ...   \n",
       "2                  NaN  ...   \n",
       "3                white  ...   \n",
       "4  asian, black, other  ...   \n",
       "\n",
       "                                              essay0  \\\n",
       "0  about me:  i would love to think that i was so...   \n",
       "1  i am a chef: this is what that means. 1. i am ...   \n",
       "2  i'm not ashamed of much, but writing public te...   \n",
       "3          i work in a library and go to school. . .   \n",
       "4  hey how's it going? currently vague on the pro...   \n",
       "\n",
       "                                              essay1  \\\n",
       "0  currently working as an international agent fo...   \n",
       "1  dedicating everyday to being an unbelievable b...   \n",
       "2  i make nerdy software for musicians, artists, ...   \n",
       "3          reading things written by old dead people   \n",
       "4                         work work work work + play   \n",
       "\n",
       "                                              essay2  \\\n",
       "0  making people laugh. ranting about a good salt...   \n",
       "1  being silly. having ridiculous amonts of fun w...   \n",
       "2  improvising in different contexts. alternating...   \n",
       "3  playing synthesizers and organizing books acco...   \n",
       "4  creating imagery to look at: http://bagsbrown....   \n",
       "\n",
       "                                              essay3  \\\n",
       "0  the way i look. i am a six foot half asian, ha...   \n",
       "1                                                NaN   \n",
       "2  my large jaw and large glasses are the physica...   \n",
       "3                  socially awkward but i do my best   \n",
       "4            i smile a lot and my inquisitive nature   \n",
       "\n",
       "                                              essay4  \\\n",
       "0  books: absurdistan, the republic, of mice and ...   \n",
       "1  i am die hard christopher moore fan. i don't r...   \n",
       "2  okay this is where the cultural matrix gets so...   \n",
       "3  bataille, celine, beckett. . . lynch, jarmusch...   \n",
       "4  music: bands, rappers, musicians at the moment...   \n",
       "\n",
       "                                              essay5  \\\n",
       "0                  food. water. cell phone. shelter.   \n",
       "1  delicious porkness in all of its glories. my b...   \n",
       "2  movement conversation creation contemplation t...   \n",
       "3                                                NaN   \n",
       "4                                                NaN   \n",
       "\n",
       "                        essay6  \\\n",
       "0  duality and humorous things   \n",
       "1                          NaN   \n",
       "2                          NaN   \n",
       "3   cats and german philosophy   \n",
       "4                          NaN   \n",
       "\n",
       "                                              essay7  \\\n",
       "0  trying to find someone to hang out with. i am ...   \n",
       "1                                                NaN   \n",
       "2  viewing. listening. dancing. talking. drinking...   \n",
       "3                                                NaN   \n",
       "4                                                NaN   \n",
       "\n",
       "                                              essay8  \\\n",
       "0  i am new to california and looking for someone...   \n",
       "1  i am very open and will share just about anyth...   \n",
       "2  when i was five years old, i was known as \"the...   \n",
       "3                                                NaN   \n",
       "4                                                NaN   \n",
       "\n",
       "                                              essay9  \n",
       "0  you want to be swept off your feet! you are ti...  \n",
       "1                                                NaN  \n",
       "2  you are bright, open, intense, silly, ironic, ...  \n",
       "3                              you feel so inclined.  \n",
       "4                                                NaN  \n",
       "\n",
       "[5 rows x 31 columns]"
      ]
     },
     "execution_count": 335,
     "metadata": {},
     "output_type": "execute_result"
    }
   ],
   "source": [
    "# get an overview of the top-n rows/samples\n",
    "okc_df.head()"
   ]
  },
  {
   "cell_type": "markdown",
   "metadata": {},
   "source": [
    "### Process the text/string"
   ]
  },
  {
   "cell_type": "code",
   "execution_count": 336,
   "metadata": {},
   "outputs": [
    {
     "name": "stdout",
     "output_type": "stream",
     "text": [
      "Index(['age', 'status', 'sex', 'orientation', 'body_type', 'diet', 'drinks',\n",
      "       'drugs', 'education', 'ethnicity', 'height', 'income', 'job',\n",
      "       'last_online', 'location', 'offspring', 'pets', 'religion', 'sign',\n",
      "       'smokes', 'speaks', 'My self summary', 'What I’m doing with my life',\n",
      "       'I’m really good at', 'The first thing people usually notice about me',\n",
      "       'Favorite books, movies, show, music, and food',\n",
      "       'The six things I could never do without',\n",
      "       'I spend a lot of time thinking about',\n",
      "       'On a typical Friday night I am',\n",
      "       'The most private thing I am willing to admit',\n",
      "       'You should message me if…'],\n",
      "      dtype='object')\n"
     ]
    }
   ],
   "source": [
    "# Accoridng to the output, we have 31 columns in the data\n",
    "# I interested the 10 self description responses, which are the following columns: essay0 - essay9\n",
    "# So I need to give more meaningful names to these columns, based on the topic of the data\n",
    "\n",
    "column_mapping = {\n",
    "    'essay0': 'My self summary',\n",
    "    'essay1': 'What I’m doing with my life',\n",
    "    'essay2': 'I’m really good at',\n",
    "    'essay3': 'The first thing people usually notice about me',\n",
    "    'essay4': 'Favorite books, movies, show, music, and food',\n",
    "    'essay5': 'The six things I could never do without',\n",
    "    'essay6': 'I spend a lot of time thinking about',\n",
    "    'essay7': 'On a typical Friday night I am',\n",
    "    'essay8': 'The most private thing I am willing to admit',\n",
    "    'essay9': 'You should message me if…'\n",
    "}\n",
    "\n",
    "okc_df.rename(columns=column_mapping, inplace=True)\n",
    "\n",
    "\n",
    "print(okc_df.columns)"
   ]
  },
  {
   "cell_type": "code",
   "execution_count": 337,
   "metadata": {},
   "outputs": [
    {
     "name": "stdout",
     "output_type": "stream",
     "text": [
      "0    about me:  i would love to think that i was so...\n",
      "1    i am a chef: this is what that means. 1. i am ...\n",
      "2    i'm not ashamed of much, but writing public te...\n",
      "3    i work in a library and go to school. . . read...\n",
      "4    hey how's it going? currently vague on the pro...\n",
      "Name: merged_profile, dtype: object\n",
      "\n",
      "\n",
      "0\n"
     ]
    }
   ],
   "source": [
    "##　We want to merge all the self description responses into one column, so we can do the analysis on the whole text\n",
    "\n",
    "columns_to_merge = ['My self summary', 'What I’m doing with my life',\n",
    "       'I’m really good at', 'The first thing people usually notice about me',\n",
    "       'Favorite books, movies, show, music, and food',\n",
    "       'The six things I could never do without',\n",
    "       'I spend a lot of time thinking about',\n",
    "       'On a typical Friday night I am',\n",
    "       'The most private thing I am willing to admit',\n",
    "       'You should message me if…']\n",
    "\n",
    "\n",
    "# fill null values with empty string\n",
    "okc_df[columns_to_merge] = okc_df[columns_to_merge].fillna('')\n",
    "okc_df['merged_profile'] = okc_df[columns_to_merge].apply(lambda x: ' '.join(x), axis=1)\n",
    "\n",
    "\n",
    "print(okc_df['merged_profile'].head())\n",
    "print('\\n')\n",
    "# Check if there is any null value in the merged column\n",
    "# If there is any null value, fill it with empty string\n",
    "print(okc_df['merged_profile'].isna().sum())"
   ]
  },
  {
   "cell_type": "code",
   "execution_count": 338,
   "metadata": {},
   "outputs": [
    {
     "name": "stdout",
     "output_type": "stream",
     "text": [
      "Number of rows where 'merged_profile' only contains empty strings: 2124\n",
      "New number of NaNs in 'merged_profile': 2124\n"
     ]
    }
   ],
   "source": [
    "# But we still need to check if there is any empty string in the merged column and convert it to null value\n",
    "# This is for the next filtering step\n",
    "only_empty_strings_count = okc_df['merged_profile'].apply(lambda x: x.strip() == '').sum()\n",
    "\n",
    "print(f\"Number of rows where 'merged_profile' only contains empty strings: {only_empty_strings_count}\")\n",
    "\n",
    "okc_df.loc[okc_df['merged_profile'].apply(lambda x: x.strip() == ''), 'merged_profile'] = np.nan\n",
    "\n",
    "new_nan_count = okc_df['merged_profile'].isna().sum()\n",
    "\n",
    "print(f\"New number of NaNs in 'merged_profile': {new_nan_count}\")"
   ]
  },
  {
   "cell_type": "code",
   "execution_count": 339,
   "metadata": {},
   "outputs": [
    {
     "data": {
      "text/plain": [
       "age                                                 int64\n",
       "status                                             object\n",
       "sex                                                object\n",
       "orientation                                        object\n",
       "body_type                                          object\n",
       "diet                                               object\n",
       "drinks                                             object\n",
       "drugs                                              object\n",
       "education                                          object\n",
       "ethnicity                                          object\n",
       "height                                            float64\n",
       "income                                              int64\n",
       "job                                                object\n",
       "last_online                                        object\n",
       "location                                           object\n",
       "offspring                                          object\n",
       "pets                                               object\n",
       "religion                                           object\n",
       "sign                                               object\n",
       "smokes                                             object\n",
       "speaks                                             object\n",
       "My self summary                                    object\n",
       "What I’m doing with my life                        object\n",
       "I’m really good at                                 object\n",
       "The first thing people usually notice about me     object\n",
       "Favorite books, movies, show, music, and food      object\n",
       "The six things I could never do without            object\n",
       "I spend a lot of time thinking about               object\n",
       "On a typical Friday night I am                     object\n",
       "The most private thing I am willing to admit       object\n",
       "You should message me if…                          object\n",
       "merged_profile                                     object\n",
       "dtype: object"
      ]
     },
     "execution_count": 339,
     "metadata": {},
     "output_type": "execute_result"
    }
   ],
   "source": [
    "# check the data types: columns with mixed types are stored with the object dtype.\n",
    "okc_df.dtypes "
   ]
  },
  {
   "cell_type": "markdown",
   "metadata": {},
   "source": [
    "### income, age, height (quantitative variables)\n",
    "### data cleaning and transformation\n",
    "### check if there's outliers"
   ]
  },
  {
   "cell_type": "code",
   "execution_count": 340,
   "metadata": {},
   "outputs": [
    {
     "data": {
      "text/plain": [
       "-1          48442\n",
       " 20000       2952\n",
       " 100000      1621\n",
       " 80000       1111\n",
       " 30000       1048\n",
       " 40000       1005\n",
       " 50000        975\n",
       " 60000        736\n",
       " 70000        707\n",
       " 150000       631\n",
       " 1000000      521\n",
       " 250000       149\n",
       " 500000        48\n",
       "Name: income, dtype: int64"
      ]
     },
     "execution_count": 340,
     "metadata": {},
     "output_type": "execute_result"
    }
   ],
   "source": [
    "okc_df.income.value_counts()\n",
    "\n",
    "# -1 means the user prefers not to say\n",
    "# It turns out, majority of users don't provide their earnings. \n",
    "# Which I find appropriate since this shouldn't be a criteria to choose a partner."
   ]
  },
  {
   "cell_type": "code",
   "execution_count": 341,
   "metadata": {},
   "outputs": [
    {
     "name": "stdout",
     "output_type": "stream",
     "text": [
      "Minimum age in data set 18\n",
      "Maximum age in data set 110\n",
      "\n",
      "\n",
      "Minimum height in data set 1.0\n",
      "Maximum height in data set 95.0\n"
     ]
    }
   ],
   "source": [
    "print('Minimum age in data set {}'.format(okc_df.age.min()))\n",
    "print('Maximum age in data set {}'.format(okc_df.age.max()))\n",
    "print(\"\\n\")\n",
    "print('Minimum height in data set {}'.format(okc_df.height.min()))\n",
    "print('Maximum height in data set {}'.format(okc_df.height.max()))"
   ]
  },
  {
   "cell_type": "code",
   "execution_count": 342,
   "metadata": {},
   "outputs": [
    {
     "data": {
      "image/png": "[encoded data removed]",
      "text/plain": [
       "<Figure size 640x480 with 1 Axes>"
      ]
     },
     "metadata": {},
     "output_type": "display_data"
    }
   ],
   "source": [
    "# Visualize the distribution\n",
    "plt.hist(okc_df['height'].dropna(), bins=20)\n",
    "plt.xlabel('Height')\n",
    "plt.ylabel('Frequency')\n",
    "plt.title('Distribution of Heights in dating profiles')\n",
    "plt.show()"
   ]
  },
  {
   "cell_type": "code",
   "execution_count": 343,
   "metadata": {},
   "outputs": [
    {
     "name": "stdout",
     "output_type": "stream",
     "text": [
      "27\n"
     ]
    }
   ],
   "source": [
    "print(len(okc_df[okc_df['height']<50]))"
   ]
  },
  {
   "cell_type": "code",
   "execution_count": 344,
   "metadata": {},
   "outputs": [
    {
     "data": {
      "image/png": "[encoded data removed]",
      "text/plain": [
       "<Figure size 640x480 with 1 Axes>"
      ]
     },
     "metadata": {},
     "output_type": "display_data"
    }
   ],
   "source": [
    "plt.hist(okc_df['age'].dropna(), bins=20) \n",
    "plt.xlabel('Age')\n",
    "plt.ylabel('Frequency')\n",
    "plt.title('Distribution of Ages in okc_df')\n",
    "plt.show()\n",
    "\n",
    "# the minimum age is 18, which is the minimum age to use the app"
   ]
  },
  {
   "cell_type": "markdown",
   "metadata": {},
   "source": [
    "# "
   ]
  },
  {
   "cell_type": "code",
   "execution_count": 345,
   "metadata": {},
   "outputs": [
    {
     "name": "stdout",
     "output_type": "stream",
     "text": [
      "26.0 37.0 9.5 53.5\n"
     ]
    }
   ],
   "source": [
    "Q1 = okc_df['age'].quantile(0.25)\n",
    "Q3 = okc_df['age'].quantile(0.75)\n",
    "IQR = Q3 - Q1\n",
    "lower_thresh = Q1 - 1.5*IQR\n",
    "upper_thresh = Q3 + 1.5*IQR\n",
    "print(Q1, Q3, lower_thresh, upper_thresh)"
   ]
  },
  {
   "cell_type": "code",
   "execution_count": 346,
   "metadata": {},
   "outputs": [
    {
     "name": "stdout",
     "output_type": "stream",
     "text": [
      "66.0 71.0 58.5 78.5\n"
     ]
    }
   ],
   "source": [
    "Q1 = okc_df['height'].quantile(0.25)\n",
    "Q3 = okc_df['height'].quantile(0.75)\n",
    "IQR = Q3 - Q1\n",
    "lower_thresh = Q1 - 1.5*IQR\n",
    "upper_thresh = Q3 + 1.5*IQR\n",
    "print(Q1, Q3, lower_thresh, upper_thresh)"
   ]
  },
  {
   "cell_type": "code",
   "execution_count": 347,
   "metadata": {},
   "outputs": [],
   "source": [
    "# There are 27 users having height less than 50 inches \n",
    "# I will remove these users from the data set\n",
    "# and \n",
    "# height below 50\n",
    "# height above 78\n",
    "# age older than 85 years old"
   ]
  },
  {
   "cell_type": "code",
   "execution_count": 348,
   "metadata": {},
   "outputs": [
    {
     "name": "stdout",
     "output_type": "stream",
     "text": [
      "before: (59946, 32)\n",
      "after: (59619, 32)\n"
     ]
    }
   ],
   "source": [
    "# clean up the outliers \n",
    "print(f'before: {okc_df.shape}')\n",
    "\n",
    "okc_df = okc_df[(okc_df['age']<85) & (okc_df['height']<78) & (okc_df['height']>50)]\n",
    "\n",
    "print(f'after: {okc_df.shape}')"
   ]
  },
  {
   "cell_type": "code",
   "execution_count": 349,
   "metadata": {},
   "outputs": [
    {
     "data": {
      "text/plain": [
       "(59619, 32)"
      ]
     },
     "execution_count": 349,
     "metadata": {},
     "output_type": "execute_result"
    }
   ],
   "source": [
    "okc_df.shape"
   ]
  },
  {
   "cell_type": "markdown",
   "metadata": {},
   "source": [
    "Distribution of Age and Height after removing extreme values"
   ]
  },
  {
   "cell_type": "code",
   "execution_count": 350,
   "metadata": {},
   "outputs": [
    {
     "name": "stderr",
     "output_type": "stream",
     "text": [
      "/var/folders/sm/t07r9cb5347gwrxg17tf23th0000gn/T/ipykernel_74943/807900815.py:4: FutureWarning: \n",
      "\n",
      "Passing `palette` without assigning `hue` is deprecated and will be removed in v0.14.0. Assign the `x` variable to `hue` and set `legend=False` for the same effect.\n",
      "\n",
      "  ax[0] = sns.violinplot(ax = ax[0], y = 'age', x='sex', data=okc_df, palette='Set1')\n"
     ]
    },
    {
     "name": "stderr",
     "output_type": "stream",
     "text": [
      "/var/folders/sm/t07r9cb5347gwrxg17tf23th0000gn/T/ipykernel_74943/807900815.py:5: FutureWarning: \n",
      "\n",
      "Passing `palette` without assigning `hue` is deprecated and will be removed in v0.14.0. Assign the `y` variable to `hue` and set `legend=False` for the same effect.\n",
      "\n",
      "  ax[1] = sns.violinplot(ax = ax[1], x = 'height', y= 'sex',data=okc_df, palette='Set1')\n"
     ]
    },
    {
     "data": {
      "image/png": "[encoded data removed]",
      "text/plain": [
       "<Figure size 1500x800 with 2 Axes>"
      ]
     },
     "metadata": {},
     "output_type": "display_data"
    }
   ],
   "source": [
    "sns.set(style = 'whitegrid')\n",
    "f, ax = plt.subplots(1, 2, figsize=(15,8))\n",
    "labels = ['males', 'females']\n",
    "ax[0] = sns.violinplot(ax = ax[0], y = 'age', x='sex', data=okc_df, palette='Set1')\n",
    "ax[1] = sns.violinplot(ax = ax[1], x = 'height', y= 'sex',data=okc_df, palette='Set1')\n",
    "ax[0].set_title(\"Distribution of Age Among Male and Female Users of OKCupid Portal\")\n",
    "ax[1].set_title(\"Distribution of Height Among Male and Female Users of OKCupit Portal\")\n",
    "ax[0].set_xticks(range(2))\n",
    "ax[0].set_xticklabels(labels)\n",
    "ax[1].set_yticks(range(2))\n",
    "ax[1].set_yticklabels(labels)\n",
    "plt.show()"
   ]
  },
  {
   "cell_type": "code",
   "execution_count": 351,
   "metadata": {},
   "outputs": [
    {
     "data": {
      "image/png": "[encoded data removed]",
      "text/plain": [
       "<Figure size 1000x600 with 1 Axes>"
      ]
     },
     "metadata": {},
     "output_type": "display_data"
    }
   ],
   "source": [
    "plt.figure(figsize=(10,6))\n",
    "sns.histplot(data = okc_df, x='height', bins = 20, hue='sex', palette='Set1')\n",
    "plt.show()"
   ]
  },
  {
   "cell_type": "code",
   "execution_count": 352,
   "metadata": {},
   "outputs": [
    {
     "name": "stdout",
     "output_type": "stream",
     "text": [
      "average age of portal users is: \n",
      "sex\n",
      "f    32.819125\n",
      "m    32.020577\n",
      "Name: age, dtype: float64\n",
      "median:30.0\n"
     ]
    }
   ],
   "source": [
    "averages = okc_df.groupby('sex').age.mean()\n",
    "print(\"average age of portal users is: \")\n",
    "print(averages)\n",
    "print('median:' + str(okc_df.age.median()))"
   ]
  },
  {
   "cell_type": "code",
   "execution_count": 353,
   "metadata": {},
   "outputs": [],
   "source": [
    "# The average age of users is roughly equal across genders, at about 32 years.\n",
    "# However, a closer examination reveals that the average age for females is slightly higher.\n",
    "# The age distribution is right-skewed, indicating a larger number of users younger than the average age.\n",
    "# The median age is approximately 30, as indicated by the white dot in the violin plot.\n",
    "# For height, the median value is around 65 inches for women and about 70 inches for men."
   ]
  },
  {
   "cell_type": "markdown",
   "metadata": {},
   "source": [
    "### education(cat) cleaning and visualization"
   ]
  },
  {
   "cell_type": "code",
   "execution_count": 354,
   "metadata": {},
   "outputs": [
    {
     "data": {
      "text/plain": [
       "from college/university    23848\n",
       "masters program            10887\n",
       "on college/university       5679\n",
       "two-year college            3001\n",
       "ph.d program                2393\n",
       "high school                 1693\n",
       "space camp                  1661\n",
       "law school                  1421\n",
       "of college/university        986\n",
       "college/university           795\n",
       "med school                   679\n",
       "Name: education_clean, dtype: int64"
      ]
     },
     "execution_count": 354,
     "metadata": {},
     "output_type": "execute_result"
    }
   ],
   "source": [
    "#we will take two last words since they usually describe education, but we might need to clean this even more \n",
    "okc_df['education_clean'] =okc_df.education.str.split().str[-2:].str.join(' ')\n",
    "okc_df.education_clean.value_counts()"
   ]
  },
  {
   "cell_type": "code",
   "execution_count": 355,
   "metadata": {},
   "outputs": [
    {
     "data": {
      "image/png": "[encoded data removed]",
      "text/plain": [
       "<Figure size 640x480 with 1 Axes>"
      ]
     },
     "metadata": {},
     "output_type": "display_data"
    }
   ],
   "source": [
    "e = {'from college/university': 'college/university', 'masters program': 'masters program', 'on college/university': 'college/university', 'two-year college': 'two-year college', 'ph.d program': 'ph.d program', 'high school':'high school', 'space camp': 'space camp', 'law school': 'law school', 'of college/university': 'college/university', 'college/university':'college/university', 'med school': 'med school'}\n",
    "\n",
    "okc_df['education_final'] = okc_df['education_clean'].map(e)\n",
    "sns.countplot(data = okc_df, y = 'education_final', hue='sex', palette='Set1')\n",
    "plt.xlabel('No. of Males and Females')\n",
    "plt.ylabel('Education Type')\n",
    "plt.show()"
   ]
  },
  {
   "cell_type": "markdown",
   "metadata": {},
   "source": [
    "religions (cat) "
   ]
  },
  {
   "cell_type": "code",
   "execution_count": 356,
   "metadata": {},
   "outputs": [
    {
     "data": {
      "text/plain": [
       "agnosticism                                   2714\n",
       "other                                         2680\n",
       "agnosticism but not too serious about it      2626\n",
       "agnosticism and laughing about it             2477\n",
       "catholicism but not too serious about it      2310\n",
       "atheism                                       2162\n",
       "other and laughing about it                   2100\n",
       "atheism and laughing about it                 2059\n",
       "christianity                                  1945\n",
       "christianity but not too serious about it     1942\n",
       "other but not too serious about it            1545\n",
       "judaism but not too serious about it          1515\n",
       "atheism but not too serious about it          1313\n",
       "catholicism                                   1058\n",
       "christianity and somewhat serious about it     923\n",
       "other and somewhat serious about it            840\n",
       "atheism and somewhat serious about it          839\n",
       "catholicism and laughing about it              724\n",
       "judaism and laughing about it                  679\n",
       "buddhism but not too serious about it          646\n",
       "agnosticism and somewhat serious about it      635\n",
       "judaism                                        612\n",
       "christianity and very serious about it         569\n",
       "atheism and very serious about it              565\n",
       "catholicism and somewhat serious about it      544\n",
       "other and very serious about it                524\n",
       "buddhism and laughing about it                 465\n",
       "buddhism                                       401\n",
       "christianity and laughing about it             372\n",
       "buddhism and somewhat serious about it         356\n",
       "agnosticism and very serious about it          314\n",
       "judaism and somewhat serious about it          264\n",
       "hinduism but not too serious about it          226\n",
       "hinduism                                       106\n",
       "catholicism and very serious about it          102\n",
       "buddhism and very serious about it              69\n",
       "hinduism and somewhat serious about it          58\n",
       "islam                                           47\n",
       "hinduism and laughing about it                  44\n",
       "islam but not too serious about it              40\n",
       "judaism and very serious about it               22\n",
       "islam and somewhat serious about it             21\n",
       "islam and laughing about it                     15\n",
       "hinduism and very serious about it              14\n",
       "islam and very serious about it                 12\n",
       "Name: religion, dtype: int64"
      ]
     },
     "execution_count": 356,
     "metadata": {},
     "output_type": "execute_result"
    }
   ],
   "source": [
    "# We want to sort the religion column into 3 categories: atheist and theists，other\n",
    "\n",
    "okc_df['religion'].value_counts()"
   ]
  },
  {
   "cell_type": "code",
   "execution_count": 357,
   "metadata": {},
   "outputs": [
    {
     "name": "stdout",
     "output_type": "stream",
     "text": [
      "{nan, 'catholicism but not too serious about it', 'catholicism and laughing about it', 'islam', 'islam and somewhat serious about it', 'buddhism and laughing about it', 'agnosticism', 'hinduism but not too serious about it', 'catholicism', 'judaism and laughing about it', 'other and somewhat serious about it', 'hinduism and very serious about it', 'buddhism', 'judaism and very serious about it', 'buddhism and somewhat serious about it', 'christianity and very serious about it', 'judaism and somewhat serious about it', 'atheism and somewhat serious about it', 'judaism but not too serious about it', 'other and very serious about it', 'agnosticism and very serious about it', 'other', 'atheism and laughing about it', 'catholicism and somewhat serious about it', 'other but not too serious about it', 'other and laughing about it', 'catholicism and very serious about it', 'atheism and very serious about it', 'islam and very serious about it', 'atheism but not too serious about it', 'hinduism and laughing about it', 'agnosticism and somewhat serious about it', 'buddhism but not too serious about it', 'christianity and laughing about it', 'agnosticism and laughing about it', 'buddhism and very serious about it', 'islam and laughing about it', 'christianity', 'christianity and somewhat serious about it', 'atheism', 'islam but not too serious about it', 'hinduism', 'agnosticism but not too serious about it', 'christianity but not too serious about it', 'hinduism and somewhat serious about it', 'judaism'}\n",
      "There are 46 religions。\n"
     ]
    }
   ],
   "source": [
    "# get the unique values of religion\n",
    "religion_values = set(okc_df['religion'])\n",
    "\n",
    "# print the unique values of religion\n",
    "print(religion_values)\n",
    "print(f\"There are {len(religion_values)} religions。\")\n",
    "\n",
    "\n",
    "# 5(1 non degree specified, 4 degrees specified) * 9  religion values = 36, nan = 37, + 9 religion values = 46\n"
   ]
  },
  {
   "cell_type": "code",
   "execution_count": 358,
   "metadata": {},
   "outputs": [
    {
     "name": "stderr",
     "output_type": "stream",
     "text": [
      "/var/folders/sm/t07r9cb5347gwrxg17tf23th0000gn/T/ipykernel_74943/4196711166.py:19: UserWarning: This pattern is interpreted as a regular expression, and has match groups. To actually get the groups, use str.extract.\n",
      "  count = okc_df['religion'].str.contains(pattern, na=False, regex=True).sum()\n"
     ]
    },
    {
     "name": "stdout",
     "output_type": "stream",
     "text": [
      "agnosticism:\n",
      "  very serious about it: 314\n",
      "  somewhat serious about it: 635\n",
      "  not too serious about it: 2626\n",
      "  laughing about it: 2477\n",
      "  no degree specified: 2714\n",
      "  total: 8766\n",
      "other:\n",
      "  very serious about it: 524\n",
      "  somewhat serious about it: 840\n",
      "  not too serious about it: 1545\n",
      "  laughing about it: 2100\n",
      "  no degree specified: 2680\n",
      "  total: 7689\n",
      "catholicism:\n",
      "  very serious about it: 102\n",
      "  somewhat serious about it: 544\n",
      "  not too serious about it: 2310\n",
      "  laughing about it: 724\n",
      "  no degree specified: 1058\n",
      "  total: 4738\n",
      "atheism:\n",
      "  very serious about it: 565\n",
      "  somewhat serious about it: 839\n",
      "  not too serious about it: 1313\n",
      "  laughing about it: 2059\n",
      "  no degree specified: 2162\n",
      "  total: 6938\n",
      "christianity:\n",
      "  very serious about it: 569\n",
      "  somewhat serious about it: 923\n",
      "  not too serious about it: 1942\n",
      "  laughing about it: 372\n",
      "  no degree specified: 1945\n",
      "  total: 5751\n",
      "judaism:\n",
      "  very serious about it: 22\n",
      "  somewhat serious about it: 264\n",
      "  not too serious about it: 1515\n",
      "  laughing about it: 679\n",
      "  no degree specified: 612\n",
      "  total: 3092\n",
      "buddhism:\n",
      "  very serious about it: 69\n",
      "  somewhat serious about it: 356\n",
      "  not too serious about it: 646\n",
      "  laughing about it: 465\n",
      "  no degree specified: 401\n",
      "  total: 1937\n",
      "hinduism:\n",
      "  very serious about it: 14\n",
      "  somewhat serious about it: 58\n",
      "  not too serious about it: 226\n",
      "  laughing about it: 44\n",
      "  no degree specified: 106\n",
      "  total: 448\n",
      "islam:\n",
      "  very serious about it: 12\n",
      "  somewhat serious about it: 21\n",
      "  not too serious about it: 40\n",
      "  laughing about it: 15\n",
      "  no degree specified: 47\n",
      "  total: 135\n",
      "nan: 20125\n",
      "sum: 59619\n"
     ]
    }
   ],
   "source": [
    "# Major religions\n",
    "religions = ['agnosticism', 'other', 'catholicism', 'atheism', 'christianity', 'judaism', 'buddhism', 'hinduism', 'islam']\n",
    "\n",
    "# degrees of seriousness\n",
    "degrees = ['very serious about it', 'somewhat serious about it', 'not too serious about it', 'laughing about it', 'no degree specified']\n",
    "\n",
    "\n",
    "religion_counts = {religion: {degree: 0 for degree in degrees} for religion in religions}\n",
    "\n",
    "for religion in religions:\n",
    "    for degree in degrees:\n",
    "        if degree == 'no degree specified':\n",
    "            # calculate the number of users with no degree of seriousness specified\n",
    "            pattern = f'^{religion}$'\n",
    "        else:\n",
    "            # calculate the number of users with the specified degree of seriousness\n",
    "            pattern = f'{religion}( and| but)? {degree}'\n",
    "\n",
    "        count = okc_df['religion'].str.contains(pattern, na=False, regex=True).sum()\n",
    "        religion_counts[religion][degree] = count\n",
    "\n",
    "    # calculate the total count for each religion\n",
    "    religion_counts[religion]['total'] = sum(religion_counts[religion].values())\n",
    "\n",
    "\n",
    "nan_count = okc_df['religion'].isna().sum()\n",
    "total_count = sum([counts['total'] for counts in religion_counts.values()]) + nan_count\n",
    "\n",
    "\n",
    "for religion, counts in religion_counts.items():\n",
    "    print(f\"{religion}:\")\n",
    "    for degree, count in counts.items():\n",
    "        print(f\"  {degree}: {count}\")\n",
    "print(f\"nan: {nan_count}\")\n",
    "print(f\"sum: {total_count}\")\n"
   ]
  },
  {
   "cell_type": "code",
   "execution_count": 359,
   "metadata": {},
   "outputs": [
    {
     "name": "stdout",
     "output_type": "stream",
     "text": [
      "agnosticism     8766\n",
      "other           7689\n",
      "atheism         6938\n",
      "christianity    5751\n",
      "catholicism     4738\n",
      "judaism         3092\n",
      "buddhism        1937\n",
      "hinduism         448\n",
      "islam            135\n",
      "Name: cleaned_religion, dtype: int64\n",
      "Total is: 39494\n"
     ]
    }
   ],
   "source": [
    "# define the major religions\n",
    "religions = ['agnosticism', 'other', 'catholicism', 'atheism', 'christianity', 'judaism', 'buddhism', 'hinduism', 'islam']\n",
    "\n",
    "# function to extract the religion category\n",
    "def extract_religion_category(religion_str):\n",
    "    if pd.isna(religion_str):\n",
    "        return None  # For NaN \n",
    "    for religion in religions:\n",
    "        if religion in religion_str:\n",
    "            return religion\n",
    "    return religion_str  \n",
    "\n",
    "# a new column to store the cleaned religion\n",
    "okc_df['cleaned_religion'] = okc_df['religion'].apply(extract_religion_category)\n",
    "\n",
    "religion_counts = okc_df['cleaned_religion'].value_counts()\n",
    "\n",
    "\n",
    "print(religion_counts)\n",
    "\n",
    "\n",
    "total_count = religion_counts.sum()\n",
    "print(f\"Total is: {total_count}\")\n"
   ]
  },
  {
   "cell_type": "code",
   "execution_count": 360,
   "metadata": {},
   "outputs": [
    {
     "name": "stdout",
     "output_type": "stream",
     "text": [
      "2.0    12163\n",
      "0.0    11725\n",
      "1.0     8935\n",
      "3.0     4480\n",
      "4.0     2191\n",
      "Name: seriousness_degree, dtype: int64\n",
      "Total seriousness count is: 39494\n"
     ]
    }
   ],
   "source": [
    "# define the seriousness degrees\n",
    "def map_seriousness(religion_str):\n",
    "    if pd.isna(religion_str):\n",
    "        return None  \n",
    "    seriousness_mapping = {\n",
    "        'very serious about it': 4,\n",
    "        'somewhat serious about it': 3,\n",
    "        'not too serious about it': 2,\n",
    "        'laughing about it': 1,\n",
    "        'no degree specified': 0\n",
    "    }\n",
    "    for degree, value in seriousness_mapping.items():\n",
    "        if degree in religion_str:\n",
    "            return value\n",
    "    return 0  # 0 for no degree specified\n",
    "\n",
    "# a new column to store the seriousness degree\n",
    "okc_df['seriousness_degree'] = okc_df['religion'].apply(map_seriousness)\n",
    "\n",
    "\n",
    "seriousness_counts = okc_df['seriousness_degree'].value_counts()\n",
    "print(seriousness_counts)\n",
    "\n",
    "\n",
    "total_seriousness_count = seriousness_counts.sum()\n",
    "print(f\"Total seriousness count is: {total_seriousness_count}\")\n"
   ]
  },
  {
   "cell_type": "code",
   "execution_count": 361,
   "metadata": {},
   "outputs": [
    {
     "name": "stdout",
     "output_type": "stream",
     "text": [
      "                                   religion cleaned_religion  \\\n",
      "0     agnosticism and very serious about it      agnosticism   \n",
      "1  agnosticism but not too serious about it      agnosticism   \n",
      "2                                       NaN             None   \n",
      "3                                       NaN             None   \n",
      "4                                       NaN             None   \n",
      "\n",
      "   seriousness_degree  \n",
      "0                 4.0  \n",
      "1                 2.0  \n",
      "2                 NaN  \n",
      "3                 NaN  \n",
      "4                 NaN  \n"
     ]
    }
   ],
   "source": [
    "# let's take a look\n",
    "# great, it transformed into a numeric column\n",
    "print(okc_df[['religion', 'cleaned_religion', 'seriousness_degree']].head())"
   ]
  },
  {
   "cell_type": "code",
   "execution_count": 362,
   "metadata": {},
   "outputs": [
    {
     "data": {
      "image/png": "[encoded data removed]",
      "text/plain": [
       "<Figure size 1000x800 with 1 Axes>"
      ]
     },
     "metadata": {},
     "output_type": "display_data"
    }
   ],
   "source": [
    "# calculate the percentage of users with their religion specified\n",
    "religion_counts = okc_df['cleaned_religion'].value_counts()\n",
    "\n",
    "\n",
    "labels = religion_counts.index\n",
    "sizes = religion_counts.values\n",
    "\n",
    "# in order to highlight the small proportions, we can set a small \"explode\" value for each section\n",
    "explode = [0.1 if size / sum(sizes) < 0.05 else 0 for size in sizes]\n",
    "\n",
    "plt.figure(figsize=(10, 8))\n",
    "plt.pie(sizes, explode=explode, labels=labels, autopct='%1.1f%%', startangle=140)\n",
    "\n",
    "\n",
    "plt.legend(title=\"Religions\", loc=\"center left\", bbox_to_anchor=(1, 0, 0.5, 1))\n",
    "\n",
    "plt.show()"
   ]
  },
  {
   "cell_type": "code",
   "execution_count": 363,
   "metadata": {},
   "outputs": [],
   "source": [
    "# define belief categories\n",
    "def classify_belief(religion):\n",
    "    if pd.isna(religion) or religion == 'nan':\n",
    "        return None\n",
    "    elif religion == 'atheism':\n",
    "        return 'atheism'\n",
    "    elif religion in 'other':\n",
    "        return 'other'\n",
    "    elif religion in 'agnosticism':\n",
    "        return 'agnosticism'\n",
    "    else:\n",
    "        return 'theism' # all other religions are theism,e.g. christianity, judaism, buddhism, hinduism, islam"
   ]
  },
  {
   "cell_type": "code",
   "execution_count": 364,
   "metadata": {},
   "outputs": [
    {
     "name": "stdout",
     "output_type": "stream",
     "text": [
      "      cleaned_religion       belief\n",
      "59936          atheism      atheism\n",
      "59937          judaism       theism\n",
      "59938            other        other\n",
      "59939             None         None\n",
      "59940      agnosticism  agnosticism\n",
      "59941      catholicism       theism\n",
      "59942      agnosticism  agnosticism\n",
      "59943     christianity       theism\n",
      "59944      agnosticism  agnosticism\n",
      "59945      catholicism       theism\n"
     ]
    }
   ],
   "source": [
    "okc_df['belief'] = okc_df['cleaned_religion'].apply(classify_belief)\n",
    "\n",
    "print(okc_df[['cleaned_religion', 'belief']].tail(10))"
   ]
  },
  {
   "cell_type": "code",
   "execution_count": 365,
   "metadata": {},
   "outputs": [
    {
     "data": {
      "image/png": "[encoded data removed]",
      "text/plain": [
       "<Figure size 1000x800 with 1 Axes>"
      ]
     },
     "metadata": {},
     "output_type": "display_data"
    }
   ],
   "source": [
    "# visualize the belief counts\n",
    "belief_counts = okc_df['belief'].value_counts()\n",
    "\n",
    "labels = belief_counts.index\n",
    "sizes = belief_counts.values\n",
    "\n",
    "plt.figure(figsize=(10, 8))\n",
    "plt.pie(sizes, labels=labels, autopct='%1.1f%%', startangle=140)\n",
    "\n",
    "plt.legend(title=\"Beliefs\", loc=\"center left\", bbox_to_anchor=(1, 0, 0.5, 1))\n",
    "\n",
    "plt.show()\n"
   ]
  },
  {
   "cell_type": "code",
   "execution_count": 366,
   "metadata": {},
   "outputs": [],
   "source": [
    "# we can see that the majority of users are theists, followed by atheists and agnostics\n",
    "# but it's still unclear that 'other' means what\n",
    "# I will consider to drop this value"
   ]
  },
  {
   "cell_type": "markdown",
   "metadata": {},
   "source": [
    "### Explore the correlation between orientation and belief"
   ]
  },
  {
   "cell_type": "code",
   "execution_count": 367,
   "metadata": {},
   "outputs": [
    {
     "data": {
      "image/png": "[encoded data removed]",
      "text/plain": [
       "<Figure size 640x480 with 1 Axes>"
      ]
     },
     "metadata": {},
     "output_type": "display_data"
    }
   ],
   "source": [
    "theist_df = okc_df[okc_df['belief'] == 'theism']\n",
    "\n",
    "orientation_counts = theist_df['orientation'].value_counts()\n",
    "\n",
    "sns.barplot(x=orientation_counts.index, y=orientation_counts.values)\n",
    "plt.title('Theist Users by Sexual Orientation')\n",
    "plt.xlabel('Sexual Orientation')\n",
    "plt.ylabel('Number of Users')\n",
    "plt.show()"
   ]
  },
  {
   "cell_type": "code",
   "execution_count": 368,
   "metadata": {},
   "outputs": [
    {
     "data": {
      "image/png": "[encoded data removed]",
      "text/plain": [
       "<Figure size 640x480 with 1 Axes>"
      ]
     },
     "metadata": {},
     "output_type": "display_data"
    }
   ],
   "source": [
    "atheism_df = okc_df[okc_df['belief'] == 'atheism']\n",
    "\n",
    "orientation_counts = atheism_df['orientation'].value_counts()\n",
    "\n",
    "sns.barplot(x=orientation_counts.index, y=orientation_counts.values)\n",
    "plt.title('Atheist Users by Sexual Orientation')\n",
    "plt.xlabel('Sexual Orientation')\n",
    "plt.ylabel('Number of Users')\n",
    "plt.show()"
   ]
  },
  {
   "cell_type": "code",
   "execution_count": 369,
   "metadata": {},
   "outputs": [],
   "source": [
    "# Cannot tell much from the above two plots"
   ]
  },
  {
   "cell_type": "markdown",
   "metadata": {},
   "source": [
    "### Let's take a look at the seriousness' role in refelcting one's SO"
   ]
  },
  {
   "cell_type": "code",
   "execution_count": 370,
   "metadata": {},
   "outputs": [
    {
     "data": {
      "image/png": "[encoded data removed]",
      "text/plain": [
       "<Figure size 640x480 with 1 Axes>"
      ]
     },
     "metadata": {},
     "output_type": "display_data"
    }
   ],
   "source": [
    "serious_atheism_df = okc_df[(okc_df['belief'] == 'atheism') & (okc_df['seriousness_degree'] == 4)]\n",
    "\n",
    "orientation_counts = serious_atheism_df['orientation'].value_counts()\n",
    "\n",
    "sns.barplot(x=orientation_counts.index, y=orientation_counts.values)\n",
    "plt.title('Serious Atheist Users by Sexual Orientation')\n",
    "plt.xlabel('Sexual Orientation')\n",
    "plt.ylabel('Number of Users')\n",
    "plt.show()"
   ]
  },
  {
   "cell_type": "code",
   "execution_count": 371,
   "metadata": {},
   "outputs": [
    {
     "data": {
      "image/png": "[encoded data removed]",
      "text/plain": [
       "<Figure size 640x480 with 1 Axes>"
      ]
     },
     "metadata": {},
     "output_type": "display_data"
    }
   ],
   "source": [
    "serious_atheism_df = okc_df[(okc_df['belief'] == 'theism') & (okc_df['seriousness_degree'] == 4)]\n",
    "\n",
    "orientation_counts = serious_atheism_df['orientation'].value_counts()\n",
    "\n",
    "sns.barplot(x=orientation_counts.index, y=orientation_counts.values)\n",
    "plt.title('Serious Theist Users by Sexual Orientation')\n",
    "plt.xlabel('Sexual Orientation')\n",
    "plt.ylabel('Number of Users')\n",
    "plt.show()"
   ]
  },
  {
   "cell_type": "code",
   "execution_count": 372,
   "metadata": {},
   "outputs": [],
   "source": [
    "# it seems like the degree of seriousness of one's religion somewhat refelct the sexual orientation of the users"
   ]
  },
  {
   "cell_type": "markdown",
   "metadata": {},
   "source": [
    "### Data cleaning"
   ]
  },
  {
   "cell_type": "markdown",
   "metadata": {},
   "source": [
    "#### check data type"
   ]
  },
  {
   "cell_type": "code",
   "execution_count": 373,
   "metadata": {},
   "outputs": [
    {
     "data": {
      "text/plain": [
       "age                                                 int64\n",
       "status                                             object\n",
       "sex                                                object\n",
       "orientation                                        object\n",
       "body_type                                          object\n",
       "diet                                               object\n",
       "drinks                                             object\n",
       "drugs                                              object\n",
       "education                                          object\n",
       "ethnicity                                          object\n",
       "height                                            float64\n",
       "income                                              int64\n",
       "job                                                object\n",
       "last_online                                        object\n",
       "location                                           object\n",
       "offspring                                          object\n",
       "pets                                               object\n",
       "religion                                           object\n",
       "sign                                               object\n",
       "smokes                                             object\n",
       "speaks                                             object\n",
       "My self summary                                    object\n",
       "What I’m doing with my life                        object\n",
       "I’m really good at                                 object\n",
       "The first thing people usually notice about me     object\n",
       "Favorite books, movies, show, music, and food      object\n",
       "The six things I could never do without            object\n",
       "I spend a lot of time thinking about               object\n",
       "On a typical Friday night I am                     object\n",
       "The most private thing I am willing to admit       object\n",
       "You should message me if…                          object\n",
       "merged_profile                                     object\n",
       "education_clean                                    object\n",
       "education_final                                    object\n",
       "cleaned_religion                                   object\n",
       "seriousness_degree                                float64\n",
       "belief                                             object\n",
       "dtype: object"
      ]
     },
     "execution_count": 373,
     "metadata": {},
     "output_type": "execute_result"
    }
   ],
   "source": [
    "# check the data types: columns with mixed types are stored with the object dtype.\n",
    "okc_df.dtypes "
   ]
  },
  {
   "cell_type": "markdown",
   "metadata": {},
   "source": [
    "#### organize columns into different data types\n",
    "The .dtype attribute shows that the current data type for each column is \"object\", this is either because the column contains missing values or because it contains values of different types.   \n",
    "\n",
    "We will organize the columns into the following common data types based on the observation (decide the data type based on its values):\n",
    "- Categorical: \n",
    "    > status, sex, orientation, body_type, diet, drinks, drugs, education, ethnicity, job, location, offspring, pets, religion, sign, smokes, speaks, education_clean(new), education_final(new), cleaned_religion(new), belief(new)<br>\n",
    "- Numerical: \n",
    "    > age, height, income, seriousness_degree(new) <br>\n",
    "- DateTime: \n",
    "    > last_online <br>\n",
    "- String/Text: \n",
    "    > My self summary, What I’m doing with my life, I’m really good at, The first thing people usually notice about me, Favorite books, movies, show, music, and food, The six things I could never do without, I spend a lot of time thinking about, On a typical Friday night I am, The most private thing I am willing to admit, You should message me if…, merged_profile(new) <br>\n",
    "\n",
    "In the following part, I will: \n",
    "- convert the original data into the organized data type \n",
    "- check missing values\n",
    "- do data processing for the converted data"
   ]
  },
  {
   "cell_type": "markdown",
   "metadata": {},
   "source": [
    "#### process categorical data"
   ]
  },
  {
   "cell_type": "code",
   "execution_count": 374,
   "metadata": {},
   "outputs": [
    {
     "data": {
      "text/html": [
       "<div>\n",
       "<style scoped>\n",
       "    .dataframe tbody tr th:only-of-type {\n",
       "        vertical-align: middle;\n",
       "    }\n",
       "\n",
       "    .dataframe tbody tr th {\n",
       "        vertical-align: top;\n",
       "    }\n",
       "\n",
       "    .dataframe thead th {\n",
       "        text-align: right;\n",
       "    }\n",
       "</style>\n",
       "<table border=\"1\" class=\"dataframe\">\n",
       "  <thead>\n",
       "    <tr style=\"text-align: right;\">\n",
       "      <th></th>\n",
       "      <th>status</th>\n",
       "      <th>sex</th>\n",
       "      <th>orientation</th>\n",
       "      <th>body_type</th>\n",
       "      <th>diet</th>\n",
       "      <th>drinks</th>\n",
       "      <th>drugs</th>\n",
       "      <th>education</th>\n",
       "      <th>ethnicity</th>\n",
       "      <th>job</th>\n",
       "      <th>...</th>\n",
       "      <th>offspring</th>\n",
       "      <th>pets</th>\n",
       "      <th>religion</th>\n",
       "      <th>sign</th>\n",
       "      <th>smokes</th>\n",
       "      <th>speaks</th>\n",
       "      <th>education_clean</th>\n",
       "      <th>education_final</th>\n",
       "      <th>cleaned_religion</th>\n",
       "      <th>belief</th>\n",
       "    </tr>\n",
       "  </thead>\n",
       "  <tbody>\n",
       "    <tr>\n",
       "      <th>0</th>\n",
       "      <td>single</td>\n",
       "      <td>m</td>\n",
       "      <td>straight</td>\n",
       "      <td>a little extra</td>\n",
       "      <td>strictly anything</td>\n",
       "      <td>socially</td>\n",
       "      <td>never</td>\n",
       "      <td>working on college/university</td>\n",
       "      <td>asian, white</td>\n",
       "      <td>transportation</td>\n",
       "      <td>...</td>\n",
       "      <td>doesn't have kids, but might want them</td>\n",
       "      <td>likes dogs and likes cats</td>\n",
       "      <td>agnosticism and very serious about it</td>\n",
       "      <td>gemini</td>\n",
       "      <td>sometimes</td>\n",
       "      <td>english</td>\n",
       "      <td>on college/university</td>\n",
       "      <td>college/university</td>\n",
       "      <td>agnosticism</td>\n",
       "      <td>agnosticism</td>\n",
       "    </tr>\n",
       "    <tr>\n",
       "      <th>1</th>\n",
       "      <td>single</td>\n",
       "      <td>m</td>\n",
       "      <td>straight</td>\n",
       "      <td>average</td>\n",
       "      <td>mostly other</td>\n",
       "      <td>often</td>\n",
       "      <td>sometimes</td>\n",
       "      <td>working on space camp</td>\n",
       "      <td>white</td>\n",
       "      <td>hospitality / travel</td>\n",
       "      <td>...</td>\n",
       "      <td>doesn't have kids, but might want them</td>\n",
       "      <td>likes dogs and likes cats</td>\n",
       "      <td>agnosticism but not too serious about it</td>\n",
       "      <td>cancer</td>\n",
       "      <td>no</td>\n",
       "      <td>english (fluently), spanish (poorly), french (...</td>\n",
       "      <td>space camp</td>\n",
       "      <td>space camp</td>\n",
       "      <td>agnosticism</td>\n",
       "      <td>agnosticism</td>\n",
       "    </tr>\n",
       "    <tr>\n",
       "      <th>2</th>\n",
       "      <td>available</td>\n",
       "      <td>m</td>\n",
       "      <td>straight</td>\n",
       "      <td>thin</td>\n",
       "      <td>anything</td>\n",
       "      <td>socially</td>\n",
       "      <td>NaN</td>\n",
       "      <td>graduated from masters program</td>\n",
       "      <td>NaN</td>\n",
       "      <td>NaN</td>\n",
       "      <td>...</td>\n",
       "      <td>NaN</td>\n",
       "      <td>has cats</td>\n",
       "      <td>NaN</td>\n",
       "      <td>pisces but it doesn&amp;rsquo;t matter</td>\n",
       "      <td>no</td>\n",
       "      <td>english, french, c++</td>\n",
       "      <td>masters program</td>\n",
       "      <td>masters program</td>\n",
       "      <td>NaN</td>\n",
       "      <td>NaN</td>\n",
       "    </tr>\n",
       "    <tr>\n",
       "      <th>3</th>\n",
       "      <td>single</td>\n",
       "      <td>m</td>\n",
       "      <td>straight</td>\n",
       "      <td>thin</td>\n",
       "      <td>vegetarian</td>\n",
       "      <td>socially</td>\n",
       "      <td>NaN</td>\n",
       "      <td>working on college/university</td>\n",
       "      <td>white</td>\n",
       "      <td>student</td>\n",
       "      <td>...</td>\n",
       "      <td>doesn't want kids</td>\n",
       "      <td>likes cats</td>\n",
       "      <td>NaN</td>\n",
       "      <td>pisces</td>\n",
       "      <td>no</td>\n",
       "      <td>english, german (poorly)</td>\n",
       "      <td>on college/university</td>\n",
       "      <td>college/university</td>\n",
       "      <td>NaN</td>\n",
       "      <td>NaN</td>\n",
       "    </tr>\n",
       "    <tr>\n",
       "      <th>4</th>\n",
       "      <td>single</td>\n",
       "      <td>m</td>\n",
       "      <td>straight</td>\n",
       "      <td>athletic</td>\n",
       "      <td>NaN</td>\n",
       "      <td>socially</td>\n",
       "      <td>never</td>\n",
       "      <td>graduated from college/university</td>\n",
       "      <td>asian, black, other</td>\n",
       "      <td>artistic / musical / writer</td>\n",
       "      <td>...</td>\n",
       "      <td>NaN</td>\n",
       "      <td>likes dogs and likes cats</td>\n",
       "      <td>NaN</td>\n",
       "      <td>aquarius</td>\n",
       "      <td>no</td>\n",
       "      <td>english</td>\n",
       "      <td>from college/university</td>\n",
       "      <td>college/university</td>\n",
       "      <td>NaN</td>\n",
       "      <td>NaN</td>\n",
       "    </tr>\n",
       "    <tr>\n",
       "      <th>...</th>\n",
       "      <td>...</td>\n",
       "      <td>...</td>\n",
       "      <td>...</td>\n",
       "      <td>...</td>\n",
       "      <td>...</td>\n",
       "      <td>...</td>\n",
       "      <td>...</td>\n",
       "      <td>...</td>\n",
       "      <td>...</td>\n",
       "      <td>...</td>\n",
       "      <td>...</td>\n",
       "      <td>...</td>\n",
       "      <td>...</td>\n",
       "      <td>...</td>\n",
       "      <td>...</td>\n",
       "      <td>...</td>\n",
       "      <td>...</td>\n",
       "      <td>...</td>\n",
       "      <td>...</td>\n",
       "      <td>...</td>\n",
       "      <td>...</td>\n",
       "    </tr>\n",
       "    <tr>\n",
       "      <th>59941</th>\n",
       "      <td>single</td>\n",
       "      <td>f</td>\n",
       "      <td>straight</td>\n",
       "      <td>NaN</td>\n",
       "      <td>NaN</td>\n",
       "      <td>socially</td>\n",
       "      <td>never</td>\n",
       "      <td>graduated from college/university</td>\n",
       "      <td>NaN</td>\n",
       "      <td>sales / marketing / biz dev</td>\n",
       "      <td>...</td>\n",
       "      <td>has kids</td>\n",
       "      <td>has dogs</td>\n",
       "      <td>catholicism but not too serious about it</td>\n",
       "      <td>cancer and it&amp;rsquo;s fun to think about</td>\n",
       "      <td>no</td>\n",
       "      <td>english</td>\n",
       "      <td>from college/university</td>\n",
       "      <td>college/university</td>\n",
       "      <td>catholicism</td>\n",
       "      <td>theism</td>\n",
       "    </tr>\n",
       "    <tr>\n",
       "      <th>59942</th>\n",
       "      <td>single</td>\n",
       "      <td>m</td>\n",
       "      <td>straight</td>\n",
       "      <td>fit</td>\n",
       "      <td>mostly anything</td>\n",
       "      <td>often</td>\n",
       "      <td>sometimes</td>\n",
       "      <td>working on college/university</td>\n",
       "      <td>white, other</td>\n",
       "      <td>entertainment / media</td>\n",
       "      <td>...</td>\n",
       "      <td>doesn't have kids</td>\n",
       "      <td>likes dogs and likes cats</td>\n",
       "      <td>agnosticism</td>\n",
       "      <td>leo but it doesn&amp;rsquo;t matter</td>\n",
       "      <td>no</td>\n",
       "      <td>english (fluently)</td>\n",
       "      <td>on college/university</td>\n",
       "      <td>college/university</td>\n",
       "      <td>agnosticism</td>\n",
       "      <td>agnosticism</td>\n",
       "    </tr>\n",
       "    <tr>\n",
       "      <th>59943</th>\n",
       "      <td>single</td>\n",
       "      <td>m</td>\n",
       "      <td>straight</td>\n",
       "      <td>average</td>\n",
       "      <td>mostly anything</td>\n",
       "      <td>not at all</td>\n",
       "      <td>never</td>\n",
       "      <td>graduated from masters program</td>\n",
       "      <td>asian</td>\n",
       "      <td>construction / craftsmanship</td>\n",
       "      <td>...</td>\n",
       "      <td>doesn't have kids</td>\n",
       "      <td>NaN</td>\n",
       "      <td>christianity but not too serious about it</td>\n",
       "      <td>sagittarius but it doesn&amp;rsquo;t matter</td>\n",
       "      <td>no</td>\n",
       "      <td>english (fluently)</td>\n",
       "      <td>masters program</td>\n",
       "      <td>masters program</td>\n",
       "      <td>christianity</td>\n",
       "      <td>theism</td>\n",
       "    </tr>\n",
       "    <tr>\n",
       "      <th>59944</th>\n",
       "      <td>single</td>\n",
       "      <td>m</td>\n",
       "      <td>straight</td>\n",
       "      <td>athletic</td>\n",
       "      <td>mostly anything</td>\n",
       "      <td>socially</td>\n",
       "      <td>often</td>\n",
       "      <td>working on college/university</td>\n",
       "      <td>asian, black</td>\n",
       "      <td>medicine / health</td>\n",
       "      <td>...</td>\n",
       "      <td>doesn't have kids, but wants them</td>\n",
       "      <td>likes dogs and likes cats</td>\n",
       "      <td>agnosticism but not too serious about it</td>\n",
       "      <td>leo and it&amp;rsquo;s fun to think about</td>\n",
       "      <td>trying to quit</td>\n",
       "      <td>english (fluently), spanish (poorly), chinese ...</td>\n",
       "      <td>on college/university</td>\n",
       "      <td>college/university</td>\n",
       "      <td>agnosticism</td>\n",
       "      <td>agnosticism</td>\n",
       "    </tr>\n",
       "    <tr>\n",
       "      <th>59945</th>\n",
       "      <td>single</td>\n",
       "      <td>m</td>\n",
       "      <td>gay</td>\n",
       "      <td>average</td>\n",
       "      <td>NaN</td>\n",
       "      <td>socially</td>\n",
       "      <td>NaN</td>\n",
       "      <td>graduated from masters program</td>\n",
       "      <td>white</td>\n",
       "      <td>medicine / health</td>\n",
       "      <td>...</td>\n",
       "      <td>NaN</td>\n",
       "      <td>likes dogs and likes cats</td>\n",
       "      <td>catholicism and laughing about it</td>\n",
       "      <td>gemini and it&amp;rsquo;s fun to think about</td>\n",
       "      <td>sometimes</td>\n",
       "      <td>english</td>\n",
       "      <td>masters program</td>\n",
       "      <td>masters program</td>\n",
       "      <td>catholicism</td>\n",
       "      <td>theism</td>\n",
       "    </tr>\n",
       "  </tbody>\n",
       "</table>\n",
       "<p>59619 rows × 21 columns</p>\n",
       "</div>"
      ],
      "text/plain": [
       "          status sex orientation       body_type               diet  \\\n",
       "0         single   m    straight  a little extra  strictly anything   \n",
       "1         single   m    straight         average       mostly other   \n",
       "2      available   m    straight            thin           anything   \n",
       "3         single   m    straight            thin         vegetarian   \n",
       "4         single   m    straight        athletic                NaN   \n",
       "...          ...  ..         ...             ...                ...   \n",
       "59941     single   f    straight             NaN                NaN   \n",
       "59942     single   m    straight             fit    mostly anything   \n",
       "59943     single   m    straight         average    mostly anything   \n",
       "59944     single   m    straight        athletic    mostly anything   \n",
       "59945     single   m         gay         average                NaN   \n",
       "\n",
       "           drinks      drugs                          education  \\\n",
       "0        socially      never      working on college/university   \n",
       "1           often  sometimes              working on space camp   \n",
       "2        socially        NaN     graduated from masters program   \n",
       "3        socially        NaN      working on college/university   \n",
       "4        socially      never  graduated from college/university   \n",
       "...           ...        ...                                ...   \n",
       "59941    socially      never  graduated from college/university   \n",
       "59942       often  sometimes      working on college/university   \n",
       "59943  not at all      never     graduated from masters program   \n",
       "59944    socially      often      working on college/university   \n",
       "59945    socially        NaN     graduated from masters program   \n",
       "\n",
       "                 ethnicity                           job  ...  \\\n",
       "0             asian, white                transportation  ...   \n",
       "1                    white          hospitality / travel  ...   \n",
       "2                      NaN                           NaN  ...   \n",
       "3                    white                       student  ...   \n",
       "4      asian, black, other   artistic / musical / writer  ...   \n",
       "...                    ...                           ...  ...   \n",
       "59941                  NaN   sales / marketing / biz dev  ...   \n",
       "59942         white, other         entertainment / media  ...   \n",
       "59943                asian  construction / craftsmanship  ...   \n",
       "59944         asian, black             medicine / health  ...   \n",
       "59945                white             medicine / health  ...   \n",
       "\n",
       "                                    offspring                       pets  \\\n",
       "0      doesn't have kids, but might want them  likes dogs and likes cats   \n",
       "1      doesn't have kids, but might want them  likes dogs and likes cats   \n",
       "2                                         NaN                   has cats   \n",
       "3                           doesn't want kids                 likes cats   \n",
       "4                                         NaN  likes dogs and likes cats   \n",
       "...                                       ...                        ...   \n",
       "59941                                has kids                   has dogs   \n",
       "59942                       doesn't have kids  likes dogs and likes cats   \n",
       "59943                       doesn't have kids                        NaN   \n",
       "59944       doesn't have kids, but wants them  likes dogs and likes cats   \n",
       "59945                                     NaN  likes dogs and likes cats   \n",
       "\n",
       "                                        religion  \\\n",
       "0          agnosticism and very serious about it   \n",
       "1       agnosticism but not too serious about it   \n",
       "2                                            NaN   \n",
       "3                                            NaN   \n",
       "4                                            NaN   \n",
       "...                                          ...   \n",
       "59941   catholicism but not too serious about it   \n",
       "59942                                agnosticism   \n",
       "59943  christianity but not too serious about it   \n",
       "59944   agnosticism but not too serious about it   \n",
       "59945          catholicism and laughing about it   \n",
       "\n",
       "                                           sign          smokes  \\\n",
       "0                                        gemini       sometimes   \n",
       "1                                        cancer              no   \n",
       "2            pisces but it doesn&rsquo;t matter              no   \n",
       "3                                        pisces              no   \n",
       "4                                      aquarius              no   \n",
       "...                                         ...             ...   \n",
       "59941  cancer and it&rsquo;s fun to think about              no   \n",
       "59942           leo but it doesn&rsquo;t matter              no   \n",
       "59943   sagittarius but it doesn&rsquo;t matter              no   \n",
       "59944     leo and it&rsquo;s fun to think about  trying to quit   \n",
       "59945  gemini and it&rsquo;s fun to think about       sometimes   \n",
       "\n",
       "                                                  speaks  \\\n",
       "0                                                english   \n",
       "1      english (fluently), spanish (poorly), french (...   \n",
       "2                                   english, french, c++   \n",
       "3                               english, german (poorly)   \n",
       "4                                                english   \n",
       "...                                                  ...   \n",
       "59941                                            english   \n",
       "59942                                 english (fluently)   \n",
       "59943                                 english (fluently)   \n",
       "59944  english (fluently), spanish (poorly), chinese ...   \n",
       "59945                                            english   \n",
       "\n",
       "               education_clean     education_final cleaned_religion  \\\n",
       "0        on college/university  college/university      agnosticism   \n",
       "1                   space camp          space camp      agnosticism   \n",
       "2              masters program     masters program              NaN   \n",
       "3        on college/university  college/university              NaN   \n",
       "4      from college/university  college/university              NaN   \n",
       "...                        ...                 ...              ...   \n",
       "59941  from college/university  college/university      catholicism   \n",
       "59942    on college/university  college/university      agnosticism   \n",
       "59943          masters program     masters program     christianity   \n",
       "59944    on college/university  college/university      agnosticism   \n",
       "59945          masters program     masters program      catholicism   \n",
       "\n",
       "            belief  \n",
       "0      agnosticism  \n",
       "1      agnosticism  \n",
       "2              NaN  \n",
       "3              NaN  \n",
       "4              NaN  \n",
       "...            ...  \n",
       "59941       theism  \n",
       "59942  agnosticism  \n",
       "59943       theism  \n",
       "59944  agnosticism  \n",
       "59945       theism  \n",
       "\n",
       "[59619 rows x 21 columns]"
      ]
     },
     "execution_count": 374,
     "metadata": {},
     "output_type": "execute_result"
    }
   ],
   "source": [
    "categorical_cols = ['status', 'sex', 'orientation', 'body_type', 'diet', 'drinks', 'drugs', 'education', 'ethnicity', 'job', 'location', 'offspring', 'pets', 'religion', 'sign', 'smokes', 'speaks', 'education_clean', 'education_final', 'cleaned_religion', 'belief']\n",
    "\n",
    "okc_df[categorical_cols] = okc_df[categorical_cols].astype('category')\n",
    "\n",
    "okc_df[categorical_cols]"
   ]
  },
  {
   "cell_type": "code",
   "execution_count": 375,
   "metadata": {},
   "outputs": [
    {
     "data": {
      "text/plain": [
       "status              category\n",
       "sex                 category\n",
       "orientation         category\n",
       "body_type           category\n",
       "diet                category\n",
       "drinks              category\n",
       "drugs               category\n",
       "education           category\n",
       "ethnicity           category\n",
       "job                 category\n",
       "location            category\n",
       "offspring           category\n",
       "pets                category\n",
       "religion            category\n",
       "sign                category\n",
       "smokes              category\n",
       "speaks              category\n",
       "education_clean     category\n",
       "education_final     category\n",
       "cleaned_religion    category\n",
       "belief              category\n",
       "dtype: object"
      ]
     },
     "execution_count": 375,
     "metadata": {},
     "output_type": "execute_result"
    }
   ],
   "source": [
    "# the following columns now all have the categorical data types\n",
    "okc_df[categorical_cols].dtypes"
   ]
  },
  {
   "cell_type": "code",
   "execution_count": 376,
   "metadata": {},
   "outputs": [],
   "source": [
    "# age, height, income as numeric data types\n",
    "# age and height are integers, income is float\n",
    "# it's already in the correct data type"
   ]
  },
  {
   "cell_type": "code",
   "execution_count": 377,
   "metadata": {},
   "outputs": [],
   "source": [
    "# to date time\n",
    "# okc_df['last_online'] = pd.to_datetime(okc_df['last_online'])\n",
    "# nevermind, this column is useless"
   ]
  },
  {
   "cell_type": "code",
   "execution_count": 378,
   "metadata": {},
   "outputs": [],
   "source": [
    "# the others are all text data, which are stored with the object dtype"
   ]
  },
  {
   "cell_type": "markdown",
   "metadata": {},
   "source": [
    "#### check missing values"
   ]
  },
  {
   "cell_type": "code",
   "execution_count": 379,
   "metadata": {},
   "outputs": [
    {
     "data": {
      "text/html": [
       "<div>\n",
       "<style scoped>\n",
       "    .dataframe tbody tr th:only-of-type {\n",
       "        vertical-align: middle;\n",
       "    }\n",
       "\n",
       "    .dataframe tbody tr th {\n",
       "        vertical-align: top;\n",
       "    }\n",
       "\n",
       "    .dataframe thead th {\n",
       "        text-align: right;\n",
       "    }\n",
       "</style>\n",
       "<table border=\"1\" class=\"dataframe\">\n",
       "  <thead>\n",
       "    <tr style=\"text-align: right;\">\n",
       "      <th></th>\n",
       "      <th>Features</th>\n",
       "      <th>Zero_Values</th>\n",
       "      <th>Colum_Description</th>\n",
       "    </tr>\n",
       "  </thead>\n",
       "  <tbody>\n",
       "    <tr>\n",
       "      <th>0</th>\n",
       "      <td>age</td>\n",
       "      <td>0</td>\n",
       "      <td>age of user</td>\n",
       "    </tr>\n",
       "    <tr>\n",
       "      <th>1</th>\n",
       "      <td>status</td>\n",
       "      <td>0</td>\n",
       "      <td>relationship status</td>\n",
       "    </tr>\n",
       "    <tr>\n",
       "      <th>2</th>\n",
       "      <td>sex</td>\n",
       "      <td>0</td>\n",
       "      <td>gender</td>\n",
       "    </tr>\n",
       "    <tr>\n",
       "      <th>3</th>\n",
       "      <td>orientation</td>\n",
       "      <td>0</td>\n",
       "      <td>sexual orientation</td>\n",
       "    </tr>\n",
       "    <tr>\n",
       "      <th>4</th>\n",
       "      <td>body_type</td>\n",
       "      <td>5265</td>\n",
       "      <td>body type of user</td>\n",
       "    </tr>\n",
       "    <tr>\n",
       "      <th>5</th>\n",
       "      <td>diet</td>\n",
       "      <td>24258</td>\n",
       "      <td>dietary information</td>\n",
       "    </tr>\n",
       "    <tr>\n",
       "      <th>6</th>\n",
       "      <td>drinks</td>\n",
       "      <td>2947</td>\n",
       "      <td>alcohol consumption</td>\n",
       "    </tr>\n",
       "    <tr>\n",
       "      <th>7</th>\n",
       "      <td>drugs</td>\n",
       "      <td>14004</td>\n",
       "      <td>drug usage</td>\n",
       "    </tr>\n",
       "    <tr>\n",
       "      <th>8</th>\n",
       "      <td>education</td>\n",
       "      <td>6576</td>\n",
       "      <td>educational attainment</td>\n",
       "    </tr>\n",
       "    <tr>\n",
       "      <th>9</th>\n",
       "      <td>ethnicity</td>\n",
       "      <td>5635</td>\n",
       "      <td>ethnic backgrounds</td>\n",
       "    </tr>\n",
       "    <tr>\n",
       "      <th>10</th>\n",
       "      <td>height</td>\n",
       "      <td>0</td>\n",
       "      <td>height of user</td>\n",
       "    </tr>\n",
       "    <tr>\n",
       "      <th>11</th>\n",
       "      <td>income</td>\n",
       "      <td>0</td>\n",
       "      <td>income of user</td>\n",
       "    </tr>\n",
       "    <tr>\n",
       "      <th>12</th>\n",
       "      <td>job</td>\n",
       "      <td>8147</td>\n",
       "      <td>employment description</td>\n",
       "    </tr>\n",
       "    <tr>\n",
       "      <th>13</th>\n",
       "      <td>last_online</td>\n",
       "      <td>0</td>\n",
       "      <td>last login</td>\n",
       "    </tr>\n",
       "    <tr>\n",
       "      <th>14</th>\n",
       "      <td>location</td>\n",
       "      <td>0</td>\n",
       "      <td>user locations</td>\n",
       "    </tr>\n",
       "    <tr>\n",
       "      <th>15</th>\n",
       "      <td>offspring</td>\n",
       "      <td>35366</td>\n",
       "      <td>children status</td>\n",
       "    </tr>\n",
       "    <tr>\n",
       "      <th>16</th>\n",
       "      <td>pets</td>\n",
       "      <td>19807</td>\n",
       "      <td>pet preferences</td>\n",
       "    </tr>\n",
       "    <tr>\n",
       "      <th>17</th>\n",
       "      <td>religion</td>\n",
       "      <td>20125</td>\n",
       "      <td>religious background</td>\n",
       "    </tr>\n",
       "    <tr>\n",
       "      <th>18</th>\n",
       "      <td>sign</td>\n",
       "      <td>10979</td>\n",
       "      <td>astrological symbol</td>\n",
       "    </tr>\n",
       "    <tr>\n",
       "      <th>19</th>\n",
       "      <td>smokes</td>\n",
       "      <td>5468</td>\n",
       "      <td>smoking consumption</td>\n",
       "    </tr>\n",
       "    <tr>\n",
       "      <th>20</th>\n",
       "      <td>speaks</td>\n",
       "      <td>50</td>\n",
       "      <td>language spoken</td>\n",
       "    </tr>\n",
       "    <tr>\n",
       "      <th>21</th>\n",
       "      <td>My self summary</td>\n",
       "      <td>0</td>\n",
       "      <td>My self summary</td>\n",
       "    </tr>\n",
       "    <tr>\n",
       "      <th>22</th>\n",
       "      <td>What I’m doing with my life</td>\n",
       "      <td>0</td>\n",
       "      <td>What I’m doing with my life</td>\n",
       "    </tr>\n",
       "    <tr>\n",
       "      <th>23</th>\n",
       "      <td>I’m really good at</td>\n",
       "      <td>0</td>\n",
       "      <td>I’m really good at</td>\n",
       "    </tr>\n",
       "    <tr>\n",
       "      <th>24</th>\n",
       "      <td>The first thing people usually notice about me</td>\n",
       "      <td>0</td>\n",
       "      <td>The first thing people usually notice about me</td>\n",
       "    </tr>\n",
       "    <tr>\n",
       "      <th>25</th>\n",
       "      <td>Favorite books, movies, show, music, and food</td>\n",
       "      <td>0</td>\n",
       "      <td>Favorite books, movies, show, music, and food</td>\n",
       "    </tr>\n",
       "    <tr>\n",
       "      <th>26</th>\n",
       "      <td>The six things I could never do without</td>\n",
       "      <td>0</td>\n",
       "      <td>The six things I could never do without</td>\n",
       "    </tr>\n",
       "    <tr>\n",
       "      <th>27</th>\n",
       "      <td>I spend a lot of time thinking about</td>\n",
       "      <td>0</td>\n",
       "      <td>I spend a lot of time thinking about</td>\n",
       "    </tr>\n",
       "    <tr>\n",
       "      <th>28</th>\n",
       "      <td>On a typical Friday night I am</td>\n",
       "      <td>0</td>\n",
       "      <td>On a typical Friday night I am</td>\n",
       "    </tr>\n",
       "    <tr>\n",
       "      <th>29</th>\n",
       "      <td>The most private thing I am willing to admit</td>\n",
       "      <td>0</td>\n",
       "      <td>The most private thing I am willing to admit</td>\n",
       "    </tr>\n",
       "    <tr>\n",
       "      <th>30</th>\n",
       "      <td>You should message me if…</td>\n",
       "      <td>0</td>\n",
       "      <td>You should message me if…</td>\n",
       "    </tr>\n",
       "    <tr>\n",
       "      <th>31</th>\n",
       "      <td>merged_profile</td>\n",
       "      <td>2102</td>\n",
       "      <td>Combined text from all essay sections</td>\n",
       "    </tr>\n",
       "    <tr>\n",
       "      <th>32</th>\n",
       "      <td>education_clean</td>\n",
       "      <td>6576</td>\n",
       "      <td>Cleaned and simplified education information</td>\n",
       "    </tr>\n",
       "    <tr>\n",
       "      <th>33</th>\n",
       "      <td>education_final</td>\n",
       "      <td>6576</td>\n",
       "      <td>Finalized education information after processing</td>\n",
       "    </tr>\n",
       "    <tr>\n",
       "      <th>34</th>\n",
       "      <td>cleaned_religion</td>\n",
       "      <td>20125</td>\n",
       "      <td>Cleaned version of religious background</td>\n",
       "    </tr>\n",
       "    <tr>\n",
       "      <th>35</th>\n",
       "      <td>seriousness_degree</td>\n",
       "      <td>20125</td>\n",
       "      <td>Degree of seriousness about religion</td>\n",
       "    </tr>\n",
       "    <tr>\n",
       "      <th>36</th>\n",
       "      <td>belief</td>\n",
       "      <td>20125</td>\n",
       "      <td>General belief category based on religion</td>\n",
       "    </tr>\n",
       "  </tbody>\n",
       "</table>\n",
       "</div>"
      ],
      "text/plain": [
       "                                          Features  Zero_Values  \\\n",
       "0                                              age            0   \n",
       "1                                           status            0   \n",
       "2                                              sex            0   \n",
       "3                                      orientation            0   \n",
       "4                                        body_type         5265   \n",
       "5                                             diet        24258   \n",
       "6                                           drinks         2947   \n",
       "7                                            drugs        14004   \n",
       "8                                        education         6576   \n",
       "9                                        ethnicity         5635   \n",
       "10                                          height            0   \n",
       "11                                          income            0   \n",
       "12                                             job         8147   \n",
       "13                                     last_online            0   \n",
       "14                                        location            0   \n",
       "15                                       offspring        35366   \n",
       "16                                            pets        19807   \n",
       "17                                        religion        20125   \n",
       "18                                            sign        10979   \n",
       "19                                          smokes         5468   \n",
       "20                                          speaks           50   \n",
       "21                                 My self summary            0   \n",
       "22                     What I’m doing with my life            0   \n",
       "23                              I’m really good at            0   \n",
       "24  The first thing people usually notice about me            0   \n",
       "25   Favorite books, movies, show, music, and food            0   \n",
       "26         The six things I could never do without            0   \n",
       "27            I spend a lot of time thinking about            0   \n",
       "28                  On a typical Friday night I am            0   \n",
       "29    The most private thing I am willing to admit            0   \n",
       "30                       You should message me if…            0   \n",
       "31                                  merged_profile         2102   \n",
       "32                                 education_clean         6576   \n",
       "33                                 education_final         6576   \n",
       "34                                cleaned_religion        20125   \n",
       "35                              seriousness_degree        20125   \n",
       "36                                          belief        20125   \n",
       "\n",
       "                                   Colum_Description  \n",
       "0                                        age of user  \n",
       "1                                relationship status  \n",
       "2                                             gender  \n",
       "3                                 sexual orientation  \n",
       "4                                  body type of user  \n",
       "5                                dietary information  \n",
       "6                                alcohol consumption  \n",
       "7                                         drug usage  \n",
       "8                             educational attainment  \n",
       "9                                 ethnic backgrounds  \n",
       "10                                    height of user  \n",
       "11                                    income of user  \n",
       "12                            employment description  \n",
       "13                                        last login  \n",
       "14                                    user locations  \n",
       "15                                   children status  \n",
       "16                                   pet preferences  \n",
       "17                              religious background  \n",
       "18                               astrological symbol  \n",
       "19                               smoking consumption  \n",
       "20                                   language spoken  \n",
       "21                                   My self summary  \n",
       "22                       What I’m doing with my life  \n",
       "23                                I’m really good at  \n",
       "24    The first thing people usually notice about me  \n",
       "25     Favorite books, movies, show, music, and food  \n",
       "26           The six things I could never do without  \n",
       "27              I spend a lot of time thinking about  \n",
       "28                    On a typical Friday night I am  \n",
       "29      The most private thing I am willing to admit  \n",
       "30                         You should message me if…  \n",
       "31             Combined text from all essay sections  \n",
       "32      Cleaned and simplified education information  \n",
       "33  Finalized education information after processing  \n",
       "34           Cleaned version of religious background  \n",
       "35              Degree of seriousness about religion  \n",
       "36         General belief category based on religion  "
      ]
     },
     "execution_count": 379,
     "metadata": {},
     "output_type": "execute_result"
    }
   ],
   "source": [
    "null_sum = okc_df.isnull().sum().reset_index()\n",
    "descriptions = [\n",
    "    'age of user',  # age\n",
    "    'relationship status',  # status\n",
    "    'gender',  # sex\n",
    "    'sexual orientation',  # orientation\n",
    "    'body type of user',  # body_type\n",
    "    'dietary information',  # diet\n",
    "    'alcohol consumption',  # drinks\n",
    "    'drug usage',  # drugs\n",
    "    'educational attainment',  # education\n",
    "    'ethnic backgrounds',  # ethnicity\n",
    "    'height of user',  # height\n",
    "    'income of user',  # income\n",
    "    'employment description',  # job\n",
    "    'last login',  # last_online\n",
    "    'user locations',  # location\n",
    "    'children status',  # offspring\n",
    "    'pet preferences',  # pets\n",
    "    'religious background',  # religion\n",
    "    'astrological symbol',  # sign\n",
    "    'smoking consumption',  # smokes\n",
    "    'language spoken',  # speaks\n",
    "    'My self summary',  # My self summary\n",
    "    'What I’m doing with my life',  # What I’m doing with my life\n",
    "    'I’m really good at',  # I’m really good at\n",
    "    'The first thing people usually notice about me',  # The first thing people usually notice about me\n",
    "    'Favorite books, movies, show, music, and food',  # Favorite books, movies, show, music, and food\n",
    "    'The six things I could never do without',  # The six things I could never do without\n",
    "    'I spend a lot of time thinking about',  # I spend a lot of time thinking about\n",
    "    'On a typical Friday night I am',  # On a typical Friday night I am\n",
    "    'The most private thing I am willing to admit',  # The most private thing I am willing to admit\n",
    "    'You should message me if…',  # You should message me if…\n",
    "    'Combined text from all essay sections',  # merged_profile\n",
    "    'Cleaned and simplified education information',  # education_clean\n",
    "    'Finalized education information after processing',  # education_final\n",
    "    'Cleaned version of religious background',  # cleaned_religion\n",
    "    'Degree of seriousness about religion',  # seriousness_degree\n",
    "    'General belief category based on religion'  # belief\n",
    "]\n",
    "\n",
    "\n",
    "data = {'Features': okc_df.columns, 'Zero_Values': null_sum [0], 'Colum_Description': descriptions}\n",
    "\n",
    "empty_check_df = pd.DataFrame(data)\n",
    "empty_check_df\n"
   ]
  },
  {
   "cell_type": "code",
   "execution_count": 380,
   "metadata": {},
   "outputs": [],
   "source": [
    "# we will come back to cleaning null data later"
   ]
  },
  {
   "cell_type": "code",
   "execution_count": 381,
   "metadata": {},
   "outputs": [
    {
     "data": {
      "text/plain": [
       "age                                                  int64\n",
       "status                                            category\n",
       "sex                                               category\n",
       "orientation                                       category\n",
       "body_type                                         category\n",
       "diet                                              category\n",
       "drinks                                            category\n",
       "drugs                                             category\n",
       "education                                         category\n",
       "ethnicity                                         category\n",
       "height                                             float64\n",
       "income                                               int64\n",
       "job                                               category\n",
       "last_online                                         object\n",
       "location                                          category\n",
       "offspring                                         category\n",
       "pets                                              category\n",
       "religion                                          category\n",
       "sign                                              category\n",
       "smokes                                            category\n",
       "speaks                                            category\n",
       "My self summary                                     object\n",
       "What I’m doing with my life                         object\n",
       "I’m really good at                                  object\n",
       "The first thing people usually notice about me      object\n",
       "Favorite books, movies, show, music, and food       object\n",
       "The six things I could never do without             object\n",
       "I spend a lot of time thinking about                object\n",
       "On a typical Friday night I am                      object\n",
       "The most private thing I am willing to admit        object\n",
       "You should message me if…                           object\n",
       "merged_profile                                      object\n",
       "education_clean                                   category\n",
       "education_final                                   category\n",
       "cleaned_religion                                  category\n",
       "seriousness_degree                                 float64\n",
       "belief                                            category\n",
       "dtype: object"
      ]
     },
     "execution_count": 381,
     "metadata": {},
     "output_type": "execute_result"
    }
   ],
   "source": [
    "# check the data type\n",
    "okc_df.dtypes"
   ]
  },
  {
   "cell_type": "code",
   "execution_count": 382,
   "metadata": {},
   "outputs": [
    {
     "name": "stdout",
     "output_type": "stream",
     "text": [
      "Value counts for status:\n",
      "single            55398\n",
      "seeing someone     2049\n",
      "available          1854\n",
      "married             308\n",
      "unknown              10\n",
      "Name: status, dtype: int64\n",
      "\n",
      "\n",
      "Value counts for sex:\n",
      "m    35525\n",
      "f    24094\n",
      "Name: sex, dtype: int64\n",
      "\n",
      "\n",
      "Value counts for orientation:\n",
      "straight    51312\n",
      "gay          5554\n",
      "bisexual     2753\n",
      "Name: orientation, dtype: int64\n",
      "\n",
      "\n",
      "Value counts for body_type:\n",
      "average           14589\n",
      "fit               12661\n",
      "athletic          11727\n",
      "thin               4691\n",
      "curvy              3920\n",
      "a little extra     2612\n",
      "skinny             1767\n",
      "full figured       1006\n",
      "overweight          437\n",
      "jacked              408\n",
      "used up             340\n",
      "rather not say      196\n",
      "Name: body_type, dtype: int64\n",
      "\n",
      "\n",
      "Value counts for diet:\n",
      "mostly anything        16502\n",
      "anything                6159\n",
      "strictly anything       5073\n",
      "mostly vegetarian       3431\n",
      "mostly other             998\n",
      "strictly vegetarian      869\n",
      "vegetarian               664\n",
      "strictly other           447\n",
      "mostly vegan             337\n",
      "other                    329\n",
      "strictly vegan           228\n",
      "vegan                    135\n",
      "mostly kosher             84\n",
      "mostly halal              47\n",
      "strictly halal            18\n",
      "strictly kosher           18\n",
      "halal                     11\n",
      "kosher                    11\n",
      "Name: diet, dtype: int64\n",
      "\n",
      "\n",
      "Value counts for drinks:\n",
      "socially       41584\n",
      "rarely          5934\n",
      "often           5138\n",
      "not at all      3241\n",
      "very often       462\n",
      "desperately      313\n",
      "Name: drinks, dtype: int64\n",
      "\n",
      "\n",
      "Value counts for drugs:\n",
      "never        37537\n",
      "sometimes     7682\n",
      "often          396\n",
      "Name: drugs, dtype: int64\n",
      "\n",
      "\n",
      "Value counts for education:\n",
      "graduated from college/university    23848\n",
      "graduated from masters program        8935\n",
      "working on college/university         5679\n",
      "working on masters program            1678\n",
      "graduated from two-year college       1527\n",
      "graduated from high school            1410\n",
      "graduated from ph.d program           1262\n",
      "graduated from law school             1117\n",
      "working on two-year college           1067\n",
      "dropped out of college/university      986\n",
      "working on ph.d program                980\n",
      "college/university                     795\n",
      "graduated from space camp              652\n",
      "dropped out of space camp              514\n",
      "graduated from med school              444\n",
      "working on space camp                  439\n",
      "working on law school                  268\n",
      "two-year college                       220\n",
      "working on med school                  212\n",
      "dropped out of two-year college        187\n",
      "dropped out of masters program         140\n",
      "masters program                        134\n",
      "dropped out of ph.d program            125\n",
      "dropped out of high school             101\n",
      "high school                             95\n",
      "working on high school                  87\n",
      "space camp                              56\n",
      "ph.d program                            26\n",
      "law school                              19\n",
      "dropped out of law school               17\n",
      "dropped out of med school               12\n",
      "med school                              11\n",
      "Name: education, dtype: int64\n",
      "\n",
      "\n",
      "Value counts for ethnicity:\n",
      "white                                                                                        32647\n",
      "asian                                                                                         6128\n",
      "hispanic / latin                                                                              2810\n",
      "black                                                                                         1991\n",
      "other                                                                                         1692\n",
      "                                                                                             ...  \n",
      "asian, native american, pacific islander, hispanic / latin, white, other                         1\n",
      "middle eastern, native american                                                                  1\n",
      "black, native american, pacific islander, white, other                                           1\n",
      "black, native american, pacific islander, other                                                  1\n",
      "asian, middle eastern, black, native american, indian, pacific islander, hispanic / latin        1\n",
      "Name: ethnicity, Length: 215, dtype: int64\n",
      "\n",
      "\n",
      "Value counts for job:\n",
      "other                                7547\n",
      "student                              4847\n",
      "science / tech / engineering         4825\n",
      "computer / hardware / software       4675\n",
      "artistic / musical / writer          4419\n",
      "sales / marketing / biz dev          4373\n",
      "medicine / health                    3670\n",
      "education / academia                 3495\n",
      "executive / management               2360\n",
      "banking / financial / real estate    2261\n",
      "entertainment / media                2232\n",
      "law / legal services                 1374\n",
      "hospitality / travel                 1361\n",
      "construction / craftsmanship         1015\n",
      "clerical / administrative             805\n",
      "political / government                701\n",
      "rather not say                        432\n",
      "transportation                        362\n",
      "unemployed                            270\n",
      "retired                               248\n",
      "military                              200\n",
      "Name: job, dtype: int64\n",
      "\n",
      "\n",
      "Value counts for location:\n",
      "san francisco, california    30912\n",
      "oakland, california           7174\n",
      "berkeley, california          4187\n",
      "san mateo, california         1319\n",
      "palo alto, california         1062\n",
      "                             ...  \n",
      "nevada city, california          1\n",
      "murfreesboro, tennessee          1\n",
      "muir beach, california           1\n",
      "cork, ireland                    1\n",
      "milpitas, california             1\n",
      "Name: location, Length: 197, dtype: int64\n",
      "\n",
      "\n",
      "Value counts for offspring:\n",
      "doesn't have kids                          7522\n",
      "doesn't have kids, but might want them     3849\n",
      "doesn't have kids, but wants them          3551\n",
      "doesn't want kids                          2910\n",
      "has a kid                                  1875\n",
      "has kids                                   1869\n",
      "doesn't have kids, and doesn't want any    1123\n",
      "has kids, but doesn't want more             441\n",
      "has a kid, but doesn't want more            274\n",
      "has a kid, and might want more              229\n",
      "wants kids                                  224\n",
      "might want kids                             181\n",
      "has kids, and might want more               114\n",
      "has a kid, and wants more                    70\n",
      "has kids, and wants more                     21\n",
      "Name: offspring, dtype: int64\n",
      "\n",
      "\n",
      "Value counts for pets:\n",
      "likes dogs and likes cats          14725\n",
      "likes dogs                          7194\n",
      "likes dogs and has cats             4293\n",
      "has dogs                            4119\n",
      "has dogs and likes cats             2322\n",
      "likes dogs and dislikes cats        2020\n",
      "has dogs and has cats               1466\n",
      "has cats                            1398\n",
      "likes cats                          1057\n",
      "has dogs and dislikes cats           548\n",
      "dislikes dogs and likes cats         233\n",
      "dislikes dogs and dislikes cats      191\n",
      "dislikes cats                        122\n",
      "dislikes dogs and has cats            81\n",
      "dislikes dogs                         43\n",
      "Name: pets, dtype: int64\n",
      "\n",
      "\n",
      "Value counts for religion:\n",
      "agnosticism                                   2714\n",
      "other                                         2680\n",
      "agnosticism but not too serious about it      2626\n",
      "agnosticism and laughing about it             2477\n",
      "catholicism but not too serious about it      2310\n",
      "atheism                                       2162\n",
      "other and laughing about it                   2100\n",
      "atheism and laughing about it                 2059\n",
      "christianity                                  1945\n",
      "christianity but not too serious about it     1942\n",
      "other but not too serious about it            1545\n",
      "judaism but not too serious about it          1515\n",
      "atheism but not too serious about it          1313\n",
      "catholicism                                   1058\n",
      "christianity and somewhat serious about it     923\n",
      "other and somewhat serious about it            840\n",
      "atheism and somewhat serious about it          839\n",
      "catholicism and laughing about it              724\n",
      "judaism and laughing about it                  679\n",
      "buddhism but not too serious about it          646\n",
      "agnosticism and somewhat serious about it      635\n",
      "judaism                                        612\n",
      "christianity and very serious about it         569\n",
      "atheism and very serious about it              565\n",
      "catholicism and somewhat serious about it      544\n",
      "other and very serious about it                524\n",
      "buddhism and laughing about it                 465\n",
      "buddhism                                       401\n",
      "christianity and laughing about it             372\n",
      "buddhism and somewhat serious about it         356\n",
      "agnosticism and very serious about it          314\n",
      "judaism and somewhat serious about it          264\n",
      "hinduism but not too serious about it          226\n",
      "hinduism                                       106\n",
      "catholicism and very serious about it          102\n",
      "buddhism and very serious about it              69\n",
      "hinduism and somewhat serious about it          58\n",
      "islam                                           47\n",
      "hinduism and laughing about it                  44\n",
      "islam but not too serious about it              40\n",
      "judaism and very serious about it               22\n",
      "islam and somewhat serious about it             21\n",
      "islam and laughing about it                     15\n",
      "hinduism and very serious about it              14\n",
      "islam and very serious about it                 12\n",
      "Name: religion, dtype: int64\n",
      "\n",
      "\n",
      "Value counts for sign:\n",
      "gemini and it&rsquo;s fun to think about         1777\n",
      "scorpio and it&rsquo;s fun to think about        1765\n",
      "leo and it&rsquo;s fun to think about            1686\n",
      "libra and it&rsquo;s fun to think about          1640\n",
      "taurus and it&rsquo;s fun to think about         1635\n",
      "cancer and it&rsquo;s fun to think about         1592\n",
      "pisces and it&rsquo;s fun to think about         1588\n",
      "sagittarius and it&rsquo;s fun to think about    1576\n",
      "virgo and it&rsquo;s fun to think about          1570\n",
      "aries and it&rsquo;s fun to think about          1565\n",
      "aquarius and it&rsquo;s fun to think about       1500\n",
      "virgo but it doesn&rsquo;t matter                1484\n",
      "leo but it doesn&rsquo;t matter                  1453\n",
      "cancer but it doesn&rsquo;t matter               1443\n",
      "gemini but it doesn&rsquo;t matter               1443\n",
      "taurus but it doesn&rsquo;t matter               1441\n",
      "libra but it doesn&rsquo;t matter                1399\n",
      "aquarius but it doesn&rsquo;t matter             1398\n",
      "capricorn and it&rsquo;s fun to think about      1370\n",
      "sagittarius but it doesn&rsquo;t matter          1364\n",
      "aries but it doesn&rsquo;t matter                1363\n",
      "capricorn but it doesn&rsquo;t matter            1313\n",
      "pisces but it doesn&rsquo;t matter               1292\n",
      "scorpio but it doesn&rsquo;t matter              1256\n",
      "leo                                              1157\n",
      "libra                                            1094\n",
      "cancer                                           1088\n",
      "virgo                                            1023\n",
      "scorpio                                          1013\n",
      "gemini                                           1005\n",
      "taurus                                            993\n",
      "aries                                             992\n",
      "pisces                                            984\n",
      "aquarius                                          949\n",
      "sagittarius                                       933\n",
      "capricorn                                         829\n",
      "scorpio and it matters a lot                       77\n",
      "leo and it matters a lot                           66\n",
      "cancer and it matters a lot                        62\n",
      "gemini and it matters a lot                        62\n",
      "pisces and it matters a lot                        61\n",
      "aquarius and it matters a lot                      60\n",
      "libra and it matters a lot                         52\n",
      "taurus and it matters a lot                        48\n",
      "aries and it matters a lot                         47\n",
      "sagittarius and it matters a lot                   46\n",
      "capricorn and it matters a lot                     45\n",
      "virgo and it matters a lot                         41\n",
      "Name: sign, dtype: int64\n",
      "\n",
      "\n",
      "Value counts for smokes:\n",
      "no                43684\n",
      "sometimes          3762\n",
      "when drinking      3023\n",
      "yes                2213\n",
      "trying to quit     1469\n",
      "Name: smokes, dtype: int64\n",
      "\n",
      "\n",
      "Value counts for speaks:\n",
      "english                                                                          21702\n",
      "english (fluently)                                                                6583\n",
      "english (fluently), spanish (poorly)                                              2042\n",
      "english (fluently), spanish (okay)                                                1909\n",
      "english (fluently), spanish (fluently)                                            1287\n",
      "                                                                                 ...  \n",
      "english (fluently), japanese (fluently), french (fluently)                           1\n",
      "english (fluently), japanese (fluently), chinese (poorly), spanish (okay)            1\n",
      "english (fluently), japanese (fluently), chinese (poorly), korean (okay)             1\n",
      "english (fluently), japanese (fluently), chinese (poorly), italian (poorly)          1\n",
      "portuguese (fluently), italian (okay), english (fluently), spanish (fluently)        1\n",
      "Name: speaks, Length: 7601, dtype: int64\n",
      "\n",
      "\n",
      "Value counts for education_clean:\n",
      "from college/university    23848\n",
      "masters program            10887\n",
      "on college/university       5679\n",
      "two-year college            3001\n",
      "ph.d program                2393\n",
      "high school                 1693\n",
      "space camp                  1661\n",
      "law school                  1421\n",
      "of college/university        986\n",
      "college/university           795\n",
      "med school                   679\n",
      "Name: education_clean, dtype: int64\n",
      "\n",
      "\n",
      "Value counts for education_final:\n",
      "college/university    31308\n",
      "masters program       10887\n",
      "two-year college       3001\n",
      "ph.d program           2393\n",
      "high school            1693\n",
      "space camp             1661\n",
      "law school             1421\n",
      "med school              679\n",
      "Name: education_final, dtype: int64\n",
      "\n",
      "\n",
      "Value counts for cleaned_religion:\n",
      "agnosticism     8766\n",
      "other           7689\n",
      "atheism         6938\n",
      "christianity    5751\n",
      "catholicism     4738\n",
      "judaism         3092\n",
      "buddhism        1937\n",
      "hinduism         448\n",
      "islam            135\n",
      "Name: cleaned_religion, dtype: int64\n",
      "\n",
      "\n",
      "Value counts for belief:\n",
      "theism         16101\n",
      "agnosticism     8766\n",
      "other           7689\n",
      "atheism         6938\n",
      "Name: belief, dtype: int64\n",
      "\n",
      "\n"
     ]
    }
   ],
   "source": [
    "# it's seem like the cat variable is highly structured and the outliers are not very obvious\n",
    "# some var not very useful, I will consider to drop them\n",
    "# but it does no harm to leave them there for now\n",
    "for col in categorical_cols:\n",
    "    print(f\"Value counts for {col}:\")\n",
    "    print(okc_df[col].value_counts())\n",
    "    print(\"\\n\") "
   ]
  },
  {
   "cell_type": "code",
   "execution_count": 383,
   "metadata": {},
   "outputs": [
    {
     "name": "stdout",
     "output_type": "stream",
     "text": [
      "Number of rows where at least one of 'belief' or 'merged_profile' is missing: 21235\n"
     ]
    }
   ],
   "source": [
    "# howver, I like to discover the co-existence of belief and their merged profile\n",
    "# so the dropping criteria is to drop the rows where either belief or merged_profile is missing\n",
    "\n",
    "# Calculate the number of rows where at least one of 'belief' or 'merged_profile' is missing\n",
    "at_least_one_empty_count = okc_df[(okc_df['belief'].isna()) | (okc_df['merged_profile'].isna())].shape[0]\n",
    "\n",
    "print(f\"Number of rows where at least one of 'belief' or 'merged_profile' is missing: {at_least_one_empty_count}\")\n"
   ]
  },
  {
   "cell_type": "code",
   "execution_count": 384,
   "metadata": {},
   "outputs": [
    {
     "name": "stdout",
     "output_type": "stream",
     "text": [
      "Original count: 59619\n",
      "New count: 23039\n"
     ]
    }
   ],
   "source": [
    "original_count = len(okc_df)\n",
    "\n",
    "\n",
    "# filtered the dataset to only include theism and atheism\n",
    "df_filtered = okc_df[okc_df['belief'].isin(['theism', 'atheism'])].copy()\n",
    "\n",
    "# belief as binary variable. 0: atheism, 1: theism\n",
    "df_filtered['belief'] = df_filtered['belief'].map({'theism': 1, 'atheism': 0})\n",
    "\n",
    "\n",
    "new_count = len(df_filtered)\n",
    "\n",
    "\n",
    "print(f\"Original count: {original_count}\")\n",
    "print(f\"New count: {new_count}\")"
   ]
  },
  {
   "cell_type": "code",
   "execution_count": 385,
   "metadata": {},
   "outputs": [
    {
     "data": {
      "text/plain": [
       "Index(['age', 'status', 'sex', 'orientation', 'body_type', 'diet', 'drinks',\n",
       "       'drugs', 'education', 'ethnicity', 'height', 'income', 'job',\n",
       "       'last_online', 'location', 'offspring', 'pets', 'religion', 'sign',\n",
       "       'smokes', 'speaks', 'My self summary', 'What I’m doing with my life',\n",
       "       'I’m really good at', 'The first thing people usually notice about me',\n",
       "       'Favorite books, movies, show, music, and food',\n",
       "       'The six things I could never do without',\n",
       "       'I spend a lot of time thinking about',\n",
       "       'On a typical Friday night I am',\n",
       "       'The most private thing I am willing to admit',\n",
       "       'You should message me if…', 'merged_profile', 'education_clean',\n",
       "       'education_final', 'cleaned_religion', 'seriousness_degree', 'belief'],\n",
       "      dtype='object')"
      ]
     },
     "execution_count": 385,
     "metadata": {},
     "output_type": "execute_result"
    }
   ],
   "source": [
    "df_filtered.columns"
   ]
  },
  {
   "cell_type": "code",
   "execution_count": 386,
   "metadata": {},
   "outputs": [
    {
     "data": {
      "text/plain": [
       "(23039, 37)"
      ]
     },
     "execution_count": 386,
     "metadata": {},
     "output_type": "execute_result"
    }
   ],
   "source": [
    "df_filtered.shape"
   ]
  },
  {
   "cell_type": "markdown",
   "metadata": {},
   "source": [
    "## Explore target variable\n",
    "\n",
    "Target variable: belief\n",
    "\n",
    "The aim here is to better understand our target and verify its integrity. We will look at some summary statistics, empirical distribution and missing values."
   ]
  },
  {
   "cell_type": "code",
   "execution_count": 387,
   "metadata": {},
   "outputs": [
    {
     "data": {
      "text/plain": [
       "1.0    16101\n",
       "0.0     6938\n",
       "Name: belief, dtype: int64"
      ]
     },
     "execution_count": 387,
     "metadata": {},
     "output_type": "execute_result"
    }
   ],
   "source": [
    "df_filtered['belief'].value_counts()"
   ]
  },
  {
   "cell_type": "code",
   "execution_count": 388,
   "metadata": {},
   "outputs": [
    {
     "name": "stdout",
     "output_type": "stream",
     "text": [
      "count    23039.000000\n",
      "mean         0.698858\n",
      "std          0.458764\n",
      "min          0.000000\n",
      "25%          0.000000\n",
      "50%          1.000000\n",
      "75%          1.000000\n",
      "max          1.000000\n",
      "Name: belief, dtype: float64\n",
      "\n",
      "Number of missing values: 0\n",
      "Proportion of missing values: 0.0000\n"
     ]
    }
   ],
   "source": [
    "print(df_filtered.belief.describe()) # summary statistics\n",
    "print()\n",
    "print(\"Number of missing values: {}\".format(df_filtered.belief.isna().sum())) \n",
    "print(\"Proportion of missing values: {:.4f}\".format(df_filtered.belief.isna().sum()/len(df_filtered)))"
   ]
  },
  {
   "cell_type": "code",
   "execution_count": 389,
   "metadata": {},
   "outputs": [
    {
     "data": {
      "image/png": "[encoded data removed]",
      "text/plain": [
       "<Figure size 640x480 with 1 Axes>"
      ]
     },
     "metadata": {},
     "output_type": "display_data"
    }
   ],
   "source": [
    "# Plot histogram of the target variable, 0 is atheism and 1 is theism\n",
    "df_filtered.belief.value_counts().plot(kind='bar');"
   ]
  },
  {
   "cell_type": "markdown",
   "metadata": {},
   "source": [
    "According to this plot, we observe that this dataset contains more theism than atheism. "
   ]
  },
  {
   "cell_type": "markdown",
   "metadata": {},
   "source": [
    "We also want to make sure that filtered user at least have something in text bio."
   ]
  },
  {
   "cell_type": "code",
   "execution_count": 390,
   "metadata": {},
   "outputs": [
    {
     "data": {
      "text/plain": [
       "(23039, 37)"
      ]
     },
     "execution_count": 390,
     "metadata": {},
     "output_type": "execute_result"
    }
   ],
   "source": [
    "df_filtered.shape"
   ]
  },
  {
   "cell_type": "code",
   "execution_count": 391,
   "metadata": {},
   "outputs": [
    {
     "name": "stdout",
     "output_type": "stream",
     "text": [
      "NaN values count: 730\n",
      "Empty string values count: 0\n",
      "'None' values count: 0\n",
      "'NA' values count: 0\n"
     ]
    }
   ],
   "source": [
    "# check missing values in the merged_profile column\n",
    "nan_count = df_filtered['merged_profile'].isna().sum()\n",
    "print(f\"NaN values count: {nan_count}\")\n",
    "\n",
    "empty_string_count = (df_filtered['merged_profile'] == '').sum()\n",
    "print(f\"Empty string values count: {empty_string_count}\")\n",
    "\n",
    "none_count = (df_filtered['merged_profile'] == 'None').sum()\n",
    "na_count = (df_filtered['merged_profile'] == 'NA').sum()\n",
    "print(f\"'None' values count: {none_count}\")\n",
    "print(f\"'NA' values count: {na_count}\")\n"
   ]
  },
  {
   "cell_type": "code",
   "execution_count": 392,
   "metadata": {},
   "outputs": [],
   "source": [
    "df_filtered = df_filtered[df_filtered['merged_profile'].notna()]"
   ]
  },
  {
   "cell_type": "code",
   "execution_count": 393,
   "metadata": {},
   "outputs": [
    {
     "name": "stdout",
     "output_type": "stream",
     "text": [
      "NaN values count: 0\n"
     ]
    },
    {
     "data": {
      "text/plain": [
       "(22309, 37)"
      ]
     },
     "execution_count": 393,
     "metadata": {},
     "output_type": "execute_result"
    }
   ],
   "source": [
    "# check missing values in the merged_profile column\n",
    "nan_count = df_filtered['merged_profile'].isna().sum()\n",
    "print(f\"NaN values count: {nan_count}\")\n",
    "\n",
    "df_filtered.shape"
   ]
  },
  {
   "cell_type": "markdown",
   "metadata": {},
   "source": [
    "### Feature Engineering"
   ]
  },
  {
   "cell_type": "markdown",
   "metadata": {},
   "source": [
    "#### Text transformation \n",
    "- tokenization, stemming, lemmatization"
   ]
  },
  {
   "cell_type": "code",
   "execution_count": 394,
   "metadata": {},
   "outputs": [
    {
     "name": "stderr",
     "output_type": "stream",
     "text": [
      "[nltk_data] Downloading package punkt to\n",
      "[nltk_data]     /Users/adhdtreamentii/nltk_data...\n",
      "[nltk_data]   Package punkt is already up-to-date!\n",
      "[nltk_data] Downloading package stopwords to\n",
      "[nltk_data]     /Users/adhdtreamentii/nltk_data...\n",
      "[nltk_data]   Package stopwords is already up-to-date!\n",
      "[nltk_data] Downloading package wordnet to\n",
      "[nltk_data]     /Users/adhdtreamentii/nltk_data...\n",
      "[nltk_data]   Package wordnet is already up-to-date!\n"
     ]
    },
    {
     "data": {
      "text/plain": [
       "True"
      ]
     },
     "execution_count": 394,
     "metadata": {},
     "output_type": "execute_result"
    }
   ],
   "source": [
    "import nltk\n",
    "from nltk.tokenize import word_tokenize\n",
    "from nltk.corpus import stopwords\n",
    "from nltk.stem import WordNetLemmatizer\n",
    "import string\n",
    "nltk.download('punkt')\n",
    "nltk.download('stopwords')\n",
    "nltk.download('wordnet')"
   ]
  },
  {
   "cell_type": "code",
   "execution_count": 395,
   "metadata": {},
   "outputs": [],
   "source": [
    "def tokenize_and_normalize(text):\n",
    "    # tokenize\n",
    "    tokens = word_tokenize(text)\n",
    "\n",
    "    # punctuation removal\n",
    "    tokens = [word for word in tokens if word.isalpha()]\n",
    "\n",
    "    # lowercase\n",
    "    tokens = [word.lower() for word in tokens]\n",
    "\n",
    "    # stop words removal\n",
    "    stop_words = set(stopwords.words('english'))\n",
    "    tokens = [word for word in tokens if word not in stop_words]\n",
    "\n",
    "    # lemmatization\n",
    "    lemmatizer = WordNetLemmatizer()\n",
    "    tokens = [lemmatizer.lemmatize(word) for word in tokens]\n",
    "\n",
    "    return tokens"
   ]
  },
  {
   "cell_type": "code",
   "execution_count": 396,
   "metadata": {},
   "outputs": [],
   "source": [
    "df_filtered['tokenized_normalized_profile'] = df_filtered['merged_profile'].apply(tokenize_and_normalize)"
   ]
  },
  {
   "cell_type": "code",
   "execution_count": 397,
   "metadata": {},
   "outputs": [
    {
     "data": {
      "text/plain": [
       "5        [australian, living, san, francisco, hold, spe...\n",
       "7        [writing, meeting, new, people, spending, time...\n",
       "8        [oh, goodness, moment, job, nice, find, one, c...\n",
       "9        [name, jake, creative, guy, look, others, easy...\n",
       "11       [born, wisconsin, grew, iowa, moved, californi...\n",
       "                               ...                        \n",
       "59936                                  [infectious, laugh]\n",
       "59937    [cautious, photo, cautious, dude, internal, de...\n",
       "59941    [vibrant, expressive, caring, optimist, love, ...\n",
       "59943    [hello, enjoy, traveling, watching, movie, han...\n",
       "59945    [odd, little, enemy, status, someone, make, se...\n",
       "Name: tokenized_normalized_profile, Length: 22309, dtype: object"
      ]
     },
     "execution_count": 397,
     "metadata": {},
     "output_type": "execute_result"
    }
   ],
   "source": [
    "df_filtered['tokenized_normalized_profile']"
   ]
  },
  {
   "cell_type": "code",
   "execution_count": 398,
   "metadata": {},
   "outputs": [],
   "source": [
    "#import wordcloud\n",
    "# visualize the most common words in the profiles"
   ]
  },
  {
   "cell_type": "code",
   "execution_count": 399,
   "metadata": {},
   "outputs": [],
   "source": [
    "#wc = wordcloud.WordCloud(background_color=\"white\", max_words=500, width= 1000, height = 1000, mode ='RGBA', scale=.5).generate(' '.join(okc_df['tokenized_normalized_profile'].sum()))\n",
    "#plt.imshow(wc)\n",
    "#plt.axis(\"off\")\n",
    "#plt.savefig(\"okc_word_cloud.pdf\", format = 'pdf')\n",
    "#plt.show()\n"
   ]
  },
  {
   "cell_type": "code",
   "execution_count": 400,
   "metadata": {},
   "outputs": [],
   "source": [
    "# Moreover, I don't really need the transformed date column anymore because it won't be used in the analysis\n",
    "# So I'm going to skip for this part"
   ]
  },
  {
   "cell_type": "markdown",
   "metadata": {},
   "source": [
    "# Data Cleaning 2(2/26/24)"
   ]
  },
  {
   "cell_type": "markdown",
   "metadata": {},
   "source": [
    "# Goals\n",
    "\n",
    "1) Implement and fine-tune a decision tree classifier to predict an indivudal's religion status\n",
    "\n",
    "2) Use the structure of the decision tree to better understand the relationship between the personal information and religion beliefs\n",
    "\n",
    "3) Understand the pros and cons of decision trees\n",
    "\n",
    "4) Implement a random forest classifier and compare the results with those of the decision tree classifier\n",
    "\n",
    "5) Implement a decision tree regressor and briefly compare it with the decision tree classifier\n",
    "\n",
    "# Data Overview\n",
    "\n",
    "## Target Variable:\n",
    "- belief: category, the religious belief status of the individual, used to classify Atheism(0) and Theism(1).\n",
    "\n",
    "## Continuous/Numeric Variables:\n",
    "- age: int64, the age of the user.\n",
    "- height: float64, the height of the user in centimeters.\n",
    "- income: int64, the income of the user.\n",
    "- seriousness_degree: float64, the degree of seriousness about religion. (0 = unspecified ,1-4 = not serious to very serious)\n",
    "\n",
    "## Categorical Variables:\n",
    "- status: category, relationship status.\n",
    "- sex: category, gender.\n",
    "- orientation: category, sexual orientation.\n",
    "- body_type: category, body type.\n",
    "- diet: category, dietary habits.\n",
    "- drinks: category, alcohol consumption habits.\n",
    "- drugs: category, drug usage.\n",
    "- education: category, educational attainment.\n",
    "- ethnicity: category, ethnic background.\n",
    "- job: category, employment description.\n",
    "- location: category, user location.\n",
    "- offspring: category, children status.\n",
    "- pets: category, pet preferences.\n",
    "- religion: category, religious background.\n",
    "- sign: category, astrological symbol.\n",
    "- smokes: category, smoking consumption.\n",
    "- speaks: category, language spoken.\n",
    "- education_clean: category, cleaned and simplified education information.\n",
    "- education_final: category, finalized education information after processing.\n",
    "- cleaned_religion: category, cleaned version of religious background.\n",
    "\n",
    "## Text Variables:\n",
    "- My self summary: object, a summary written by the user about themselves.\n",
    "- What I’m doing with my life: object, user's description of their current life status.\n",
    "- I’m really good at: object, what the user describes as their strengths.\n",
    "- The first thing people usually notice about me: object, what the user thinks people notice about them first.\n",
    "- Favorite books, movies, show, music, and food: object, user's favorites in books, movies, shows, music, and food.\n",
    "- The six things I could never do without: object, things the user considers essential in their life.\n",
    "- I spend a lot of time thinking about: object, topics the user often thinks about.\n",
    "- On a typical Friday night I am: object, user's typical activities on a Friday night.\n",
    "- The most private thing I am willing to admit: object, something personal the user is willing to share.\n",
    "- You should message me if…: object, user's criteria for others to contact them.\n",
    "- merged_profile: object, combined text from all essay sections.\n"
   ]
  },
  {
   "cell_type": "code",
   "execution_count": 401,
   "metadata": {},
   "outputs": [],
   "source": [
    "# machine learning and visualization libraries\n",
    "import os\n",
    "import numpy as np\n",
    "import pandas as pd\n",
    "\n",
    "from sklearn import tree\n",
    "from sklearn.ensemble import RandomForestClassifier\n",
    "from sklearn.model_selection import train_test_split\n",
    "from sklearn.preprocessing import OneHotEncoder\n",
    "\n",
    "import seaborn as sns\n",
    "import graphviz\n",
    "import matplotlib.pyplot as plt\n",
    "%matplotlib inline"
   ]
  },
  {
   "cell_type": "code",
   "execution_count": 402,
   "metadata": {},
   "outputs": [
    {
     "data": {
      "text/plain": [
       "(22309, 38)"
      ]
     },
     "execution_count": 402,
     "metadata": {},
     "output_type": "execute_result"
    }
   ],
   "source": [
    "df_filtered.shape"
   ]
  },
  {
   "cell_type": "code",
   "execution_count": 403,
   "metadata": {},
   "outputs": [
    {
     "data": {
      "text/plain": [
       "1.0    15519\n",
       "0.0     6790\n",
       "Name: belief, dtype: int64"
      ]
     },
     "execution_count": 403,
     "metadata": {},
     "output_type": "execute_result"
    }
   ],
   "source": [
    "# There are 2 type of beliefs in the dataset\n",
    "df_filtered.belief.value_counts()"
   ]
  },
  {
   "cell_type": "code",
   "execution_count": 404,
   "metadata": {},
   "outputs": [
    {
     "name": "stdout",
     "output_type": "stream",
     "text": [
      "Index(['age', 'status', 'sex', 'orientation', 'body_type', 'diet', 'drinks',\n",
      "       'drugs', 'education', 'ethnicity', 'height', 'income', 'job',\n",
      "       'last_online', 'location', 'offspring', 'pets', 'religion', 'sign',\n",
      "       'smokes', 'speaks', 'My self summary', 'What I’m doing with my life',\n",
      "       'I’m really good at', 'The first thing people usually notice about me',\n",
      "       'Favorite books, movies, show, music, and food',\n",
      "       'The six things I could never do without',\n",
      "       'I spend a lot of time thinking about',\n",
      "       'On a typical Friday night I am',\n",
      "       'The most private thing I am willing to admit',\n",
      "       'You should message me if…', 'merged_profile', 'education_clean',\n",
      "       'education_final', 'cleaned_religion', 'seriousness_degree', 'belief',\n",
      "       'tokenized_normalized_profile'],\n",
      "      dtype='object')\n"
     ]
    }
   ],
   "source": [
    "# View variables\n",
    "print(df_filtered.columns)"
   ]
  },
  {
   "cell_type": "markdown",
   "metadata": {},
   "source": [
    "## Explore target variable\n",
    "\n",
    "Target variable: belief\n",
    "\n",
    "The aim here is to better understand our target and verify its integrity. We will look at some summary statistics, empirical distribution and missing values."
   ]
  },
  {
   "cell_type": "code",
   "execution_count": 405,
   "metadata": {},
   "outputs": [],
   "source": [
    "# first, we will drop the columns that are not useful for our analysis (text data)\n",
    "# And original version of education column ('education','education_clean')\n",
    "columns_to_drop = [\n",
    "    'education',\n",
    "    'education_clean'\n",
    "]\n",
    "\n",
    "df_filtered = df_filtered.drop(columns=columns_to_drop)\n"
   ]
  },
  {
   "cell_type": "code",
   "execution_count": 406,
   "metadata": {},
   "outputs": [
    {
     "name": "stdout",
     "output_type": "stream",
     "text": [
      "columns WITH Missing values: 12\n",
      "columns WITHOUT Missing values: 24\n"
     ]
    }
   ],
   "source": [
    "\n",
    "missing_values_count = df_filtered.isna().sum()\n",
    "\n",
    "\n",
    "columns_with_missing_values = missing_values_count[missing_values_count > 0].index\n",
    "columns_without_missing_values = missing_values_count[missing_values_count == 0].index\n",
    "\n",
    "num_columns_with_missing_values = len(columns_with_missing_values)\n",
    "num_columns_without_missing_values = len(columns_without_missing_values)\n",
    "\n",
    "print(f\"columns WITH Missing values: {num_columns_with_missing_values}\")\n",
    "print(f\"columns WITHOUT Missing values: {num_columns_without_missing_values}\")\n"
   ]
  },
  {
   "cell_type": "code",
   "execution_count": 407,
   "metadata": {},
   "outputs": [
    {
     "data": {
      "text/plain": [
       "body_type          0.075306\n",
       "diet               0.370299\n",
       "drinks             0.024250\n",
       "drugs              0.192792\n",
       "ethnicity          0.062531\n",
       "job                0.085660\n",
       "offspring          0.548164\n",
       "pets               0.283518\n",
       "sign               0.141333\n",
       "smokes             0.053028\n",
       "speaks             0.000538\n",
       "education_final    0.067282\n",
       "dtype: float64"
      ]
     },
     "execution_count": 407,
     "metadata": {},
     "output_type": "execute_result"
    }
   ],
   "source": [
    "# Check missing values\n",
    "null_share = df_filtered.isna().sum()/len(df_filtered)\n",
    "null_share[null_share>0]"
   ]
  },
  {
   "cell_type": "code",
   "execution_count": 408,
   "metadata": {},
   "outputs": [
    {
     "name": "stdout",
     "output_type": "stream",
     "text": [
      "college/university    12069\n",
      "masters program        4260\n",
      "unknown                1501\n",
      "two-year college       1279\n",
      "ph.d program           1027\n",
      "high school             756\n",
      "law school              585\n",
      "space camp              562\n",
      "med school              270\n",
      "Name: education_final, dtype: int64\n"
     ]
    }
   ],
   "source": [
    "if df_filtered['education_final'].dtype.name == 'category':\n",
    "    df_filtered['education_final'] = df_filtered['education_final'].cat.add_categories('unknown')\n",
    "\n",
    "# replace missing values with unknown\n",
    "df_filtered['education_final'] = df_filtered['education_final'].fillna('unknown')\n",
    "\n",
    "print(df_filtered['education_final'].value_counts())\n"
   ]
  },
  {
   "cell_type": "code",
   "execution_count": 409,
   "metadata": {},
   "outputs": [
    {
     "name": "stdout",
     "output_type": "stream",
     "text": [
      "anything      11101\n",
      "unknown        8261\n",
      "vegetarian     1866\n",
      "other           677\n",
      "vegan           287\n",
      "kosher           71\n",
      "halal            46\n",
      "Name: diet_clean, dtype: int64\n"
     ]
    }
   ],
   "source": [
    "# diet as categorical variable\n",
    "if df_filtered['diet'].dtype.name == 'category':\n",
    "    # add 'unknown' to the categories\n",
    "    df_filtered['diet'] = df_filtered['diet'].cat.add_categories('unknown')\n",
    "\n",
    "# use 'unknown' to fill the missing values\n",
    "df_filtered['diet'] = df_filtered['diet'].fillna('unknown')\n",
    "\n",
    "# create'diet_clean' column\n",
    "df_filtered['diet_clean'] = df_filtered['diet'].str.split().str[-1]\n",
    "\n",
    "\n",
    "print(df_filtered['diet_clean'].value_counts())\n"
   ]
  },
  {
   "cell_type": "code",
   "execution_count": 410,
   "metadata": {},
   "outputs": [
    {
     "data": {
      "text/plain": [
       "white               12559\n",
       "multiethnic          4040\n",
       "asian                2227\n",
       "latin                1239\n",
       "black                 869\n",
       "other                 533\n",
       "indian                486\n",
       "pacific islander      215\n",
       "middle eastern        120\n",
       "native american        21\n",
       "Name: ethnicity_clean, dtype: int64"
      ]
     },
     "execution_count": 410,
     "metadata": {},
     "output_type": "execute_result"
    }
   ],
   "source": [
    "# ehthnicity is a categorical variable, we will replace missing values with unknown\n",
    "\n",
    "ethnicity_map = {'asian': 'asian', 'white':'white', 'black':'black', 'hispanic / latin': 'latin', 'native american': 'native american', 'other':'other', 'pacific islander':'pacific islander', 'middle eastern': 'middle eastern', 'indian': 'indian', 'unknown':'unknown'}\n",
    "df_filtered['ethnicity_clean'] = df_filtered.ethnicity.map(ethnicity_map).fillna('multiethnic')\n",
    "df_filtered.ethnicity_clean.value_counts()"
   ]
  },
  {
   "cell_type": "code",
   "execution_count": 411,
   "metadata": {},
   "outputs": [
    {
     "data": {
      "text/plain": [
       "other             2804\n",
       "student           2118\n",
       "computer          2012\n",
       "science           1974\n",
       "sales             1779\n",
       "medicine          1466\n",
       "artistic          1439\n",
       "education         1418\n",
       "executive          945\n",
       "banking            924\n",
       "entertainment      823\n",
       "law                562\n",
       "hospitality        449\n",
       "construction       375\n",
       "clerical           356\n",
       "political          309\n",
       "rather not say     156\n",
       "transportation     150\n",
       "unemployed         116\n",
       "military           113\n",
       "retired            110\n",
       "Name: job_clean, dtype: int64"
      ]
     },
     "execution_count": 411,
     "metadata": {},
     "output_type": "execute_result"
    }
   ],
   "source": [
    "df_filtered['job_clean'] = df_filtered.job.str.split(' /').str[0]\n",
    "df_filtered.job_clean.value_counts()"
   ]
  },
  {
   "cell_type": "code",
   "execution_count": 412,
   "metadata": {},
   "outputs": [
    {
     "data": {
      "text/plain": [
       "Index(['age', 'status', 'sex', 'orientation', 'body_type', 'diet', 'drinks',\n",
       "       'drugs', 'ethnicity', 'height', 'income', 'job', 'last_online',\n",
       "       'location', 'offspring', 'pets', 'religion', 'sign', 'smokes', 'speaks',\n",
       "       'My self summary', 'What I’m doing with my life', 'I’m really good at',\n",
       "       'The first thing people usually notice about me',\n",
       "       'Favorite books, movies, show, music, and food',\n",
       "       'The six things I could never do without',\n",
       "       'I spend a lot of time thinking about',\n",
       "       'On a typical Friday night I am',\n",
       "       'The most private thing I am willing to admit',\n",
       "       'You should message me if…', 'merged_profile', 'education_final',\n",
       "       'cleaned_religion', 'seriousness_degree', 'belief',\n",
       "       'tokenized_normalized_profile', 'diet_clean', 'ethnicity_clean',\n",
       "       'job_clean'],\n",
       "      dtype='object')"
      ]
     },
     "execution_count": 412,
     "metadata": {},
     "output_type": "execute_result"
    }
   ],
   "source": [
    "df_filtered.columns"
   ]
  },
  {
   "cell_type": "code",
   "execution_count": 413,
   "metadata": {},
   "outputs": [
    {
     "data": {
      "text/plain": [
       "body_type    0.075306\n",
       "drinks       0.024250\n",
       "drugs        0.192792\n",
       "ethnicity    0.062531\n",
       "job          0.085660\n",
       "offspring    0.548164\n",
       "pets         0.283518\n",
       "sign         0.141333\n",
       "smokes       0.053028\n",
       "speaks       0.000538\n",
       "job_clean    0.085660\n",
       "dtype: float64"
      ]
     },
     "execution_count": 413,
     "metadata": {},
     "output_type": "execute_result"
    }
   ],
   "source": [
    "# Check missing values\n",
    "null_share = df_filtered.isna().sum()/len(df_filtered)\n",
    "null_share[null_share>0]"
   ]
  },
  {
   "cell_type": "markdown",
   "metadata": {},
   "source": [
    "In this task, the goal is to predict one's religious belief based on the following features:\n",
    "\n",
    "#8 Catgorical:\n",
    "diet(clean), \n",
    "drinks,\n",
    "etnicity(clean), \n",
    "education(final), \n",
    "status, \n",
    "drugs, \n",
    "smokes, \n",
    "orientation,\n",
    "job(clean)\n",
    "\n",
    "#2 Num:\n",
    "age, \n",
    "height\n",
    "\n",
    "$ Tagert:\n",
    "belief"
   ]
  },
  {
   "cell_type": "markdown",
   "metadata": {},
   "source": [
    "Using the prior knowledge of the features (described in the data overview), let's first encode the **categorical features**"
   ]
  },
  {
   "cell_type": "code",
   "execution_count": 414,
   "metadata": {},
   "outputs": [
    {
     "data": {
      "text/plain": [
       "Index(['age', 'status', 'sex', 'orientation', 'body_type', 'diet', 'drinks',\n",
       "       'drugs', 'ethnicity', 'height', 'income', 'job', 'last_online',\n",
       "       'location', 'offspring', 'pets', 'religion', 'sign', 'smokes', 'speaks',\n",
       "       'My self summary', 'What I’m doing with my life', 'I’m really good at',\n",
       "       'The first thing people usually notice about me',\n",
       "       'Favorite books, movies, show, music, and food',\n",
       "       'The six things I could never do without',\n",
       "       'I spend a lot of time thinking about',\n",
       "       'On a typical Friday night I am',\n",
       "       'The most private thing I am willing to admit',\n",
       "       'You should message me if…', 'merged_profile', 'education_final',\n",
       "       'cleaned_religion', 'seriousness_degree', 'belief',\n",
       "       'tokenized_normalized_profile', 'diet_clean', 'ethnicity_clean',\n",
       "       'job_clean'],\n",
       "      dtype='object')"
      ]
     },
     "execution_count": 414,
     "metadata": {},
     "output_type": "execute_result"
    }
   ],
   "source": [
    "df_filtered.columns"
   ]
  },
  {
   "cell_type": "code",
   "execution_count": 415,
   "metadata": {},
   "outputs": [
    {
     "data": {
      "text/html": [
       "<div>\n",
       "<style scoped>\n",
       "    .dataframe tbody tr th:only-of-type {\n",
       "        vertical-align: middle;\n",
       "    }\n",
       "\n",
       "    .dataframe tbody tr th {\n",
       "        vertical-align: top;\n",
       "    }\n",
       "\n",
       "    .dataframe thead th {\n",
       "        text-align: right;\n",
       "    }\n",
       "</style>\n",
       "<table border=\"1\" class=\"dataframe\">\n",
       "  <thead>\n",
       "    <tr style=\"text-align: right;\">\n",
       "      <th></th>\n",
       "      <th>age</th>\n",
       "      <th>status</th>\n",
       "      <th>sex</th>\n",
       "      <th>orientation</th>\n",
       "      <th>body_type</th>\n",
       "      <th>diet</th>\n",
       "      <th>drinks</th>\n",
       "      <th>drugs</th>\n",
       "      <th>ethnicity</th>\n",
       "      <th>height</th>\n",
       "      <th>...</th>\n",
       "      <th>You should message me if…</th>\n",
       "      <th>merged_profile</th>\n",
       "      <th>education_final</th>\n",
       "      <th>cleaned_religion</th>\n",
       "      <th>seriousness_degree</th>\n",
       "      <th>belief</th>\n",
       "      <th>tokenized_normalized_profile</th>\n",
       "      <th>diet_clean</th>\n",
       "      <th>ethnicity_clean</th>\n",
       "      <th>job_clean</th>\n",
       "    </tr>\n",
       "  </thead>\n",
       "  <tbody>\n",
       "    <tr>\n",
       "      <th>5</th>\n",
       "      <td>29</td>\n",
       "      <td>single</td>\n",
       "      <td>m</td>\n",
       "      <td>straight</td>\n",
       "      <td>average</td>\n",
       "      <td>mostly anything</td>\n",
       "      <td>socially</td>\n",
       "      <td>NaN</td>\n",
       "      <td>white</td>\n",
       "      <td>67.0</td>\n",
       "      <td>...</td>\n",
       "      <td>you're awesome.</td>\n",
       "      <td>i'm an australian living in san francisco, but...</td>\n",
       "      <td>college/university</td>\n",
       "      <td>atheism</td>\n",
       "      <td>0.0</td>\n",
       "      <td>0.0</td>\n",
       "      <td>[australian, living, san, francisco, hold, spe...</td>\n",
       "      <td>anything</td>\n",
       "      <td>white</td>\n",
       "      <td>computer</td>\n",
       "    </tr>\n",
       "    <tr>\n",
       "      <th>7</th>\n",
       "      <td>31</td>\n",
       "      <td>single</td>\n",
       "      <td>f</td>\n",
       "      <td>straight</td>\n",
       "      <td>average</td>\n",
       "      <td>mostly anything</td>\n",
       "      <td>socially</td>\n",
       "      <td>never</td>\n",
       "      <td>white</td>\n",
       "      <td>65.0</td>\n",
       "      <td>...</td>\n",
       "      <td></td>\n",
       "      <td>writing. meeting new people, spending time wi...</td>\n",
       "      <td>college/university</td>\n",
       "      <td>christianity</td>\n",
       "      <td>0.0</td>\n",
       "      <td>1.0</td>\n",
       "      <td>[writing, meeting, new, people, spending, time...</td>\n",
       "      <td>anything</td>\n",
       "      <td>white</td>\n",
       "      <td>artistic</td>\n",
       "    </tr>\n",
       "    <tr>\n",
       "      <th>8</th>\n",
       "      <td>24</td>\n",
       "      <td>single</td>\n",
       "      <td>f</td>\n",
       "      <td>straight</td>\n",
       "      <td>NaN</td>\n",
       "      <td>strictly anything</td>\n",
       "      <td>socially</td>\n",
       "      <td>NaN</td>\n",
       "      <td>white</td>\n",
       "      <td>67.0</td>\n",
       "      <td>...</td>\n",
       "      <td>http://www.youtube.com/watch?v=4dxbwzuwsxk let...</td>\n",
       "      <td>oh goodness. at the moment i have 4 jobs, so ...</td>\n",
       "      <td>college/university</td>\n",
       "      <td>christianity</td>\n",
       "      <td>2.0</td>\n",
       "      <td>1.0</td>\n",
       "      <td>[oh, goodness, moment, job, nice, find, one, c...</td>\n",
       "      <td>anything</td>\n",
       "      <td>white</td>\n",
       "      <td>NaN</td>\n",
       "    </tr>\n",
       "    <tr>\n",
       "      <th>9</th>\n",
       "      <td>37</td>\n",
       "      <td>single</td>\n",
       "      <td>m</td>\n",
       "      <td>straight</td>\n",
       "      <td>athletic</td>\n",
       "      <td>mostly anything</td>\n",
       "      <td>not at all</td>\n",
       "      <td>never</td>\n",
       "      <td>white</td>\n",
       "      <td>65.0</td>\n",
       "      <td>...</td>\n",
       "      <td>you can rock the bells</td>\n",
       "      <td>my names jake. i'm a creative guy and i look f...</td>\n",
       "      <td>two-year college</td>\n",
       "      <td>atheism</td>\n",
       "      <td>1.0</td>\n",
       "      <td>0.0</td>\n",
       "      <td>[name, jake, creative, guy, look, others, easy...</td>\n",
       "      <td>anything</td>\n",
       "      <td>white</td>\n",
       "      <td>student</td>\n",
       "    </tr>\n",
       "    <tr>\n",
       "      <th>11</th>\n",
       "      <td>28</td>\n",
       "      <td>seeing someone</td>\n",
       "      <td>m</td>\n",
       "      <td>straight</td>\n",
       "      <td>average</td>\n",
       "      <td>mostly anything</td>\n",
       "      <td>socially</td>\n",
       "      <td>never</td>\n",
       "      <td>white</td>\n",
       "      <td>72.0</td>\n",
       "      <td>...</td>\n",
       "      <td>if you know who you are, who you want, where y...</td>\n",
       "      <td>i was born in wisconsin, grew up in iowa, and ...</td>\n",
       "      <td>college/university</td>\n",
       "      <td>christianity</td>\n",
       "      <td>4.0</td>\n",
       "      <td>1.0</td>\n",
       "      <td>[born, wisconsin, grew, iowa, moved, californi...</td>\n",
       "      <td>anything</td>\n",
       "      <td>white</td>\n",
       "      <td>banking</td>\n",
       "    </tr>\n",
       "    <tr>\n",
       "      <th>...</th>\n",
       "      <td>...</td>\n",
       "      <td>...</td>\n",
       "      <td>...</td>\n",
       "      <td>...</td>\n",
       "      <td>...</td>\n",
       "      <td>...</td>\n",
       "      <td>...</td>\n",
       "      <td>...</td>\n",
       "      <td>...</td>\n",
       "      <td>...</td>\n",
       "      <td>...</td>\n",
       "      <td>...</td>\n",
       "      <td>...</td>\n",
       "      <td>...</td>\n",
       "      <td>...</td>\n",
       "      <td>...</td>\n",
       "      <td>...</td>\n",
       "      <td>...</td>\n",
       "      <td>...</td>\n",
       "      <td>...</td>\n",
       "      <td>...</td>\n",
       "    </tr>\n",
       "    <tr>\n",
       "      <th>59936</th>\n",
       "      <td>25</td>\n",
       "      <td>single</td>\n",
       "      <td>f</td>\n",
       "      <td>straight</td>\n",
       "      <td>average</td>\n",
       "      <td>mostly anything</td>\n",
       "      <td>socially</td>\n",
       "      <td>never</td>\n",
       "      <td>asian</td>\n",
       "      <td>61.0</td>\n",
       "      <td>...</td>\n",
       "      <td></td>\n",
       "      <td>my infectious laugh :)</td>\n",
       "      <td>college/university</td>\n",
       "      <td>atheism</td>\n",
       "      <td>0.0</td>\n",
       "      <td>0.0</td>\n",
       "      <td>[infectious, laugh]</td>\n",
       "      <td>anything</td>\n",
       "      <td>asian</td>\n",
       "      <td>other</td>\n",
       "    </tr>\n",
       "    <tr>\n",
       "      <th>59937</th>\n",
       "      <td>32</td>\n",
       "      <td>single</td>\n",
       "      <td>m</td>\n",
       "      <td>bisexual</td>\n",
       "      <td>thin</td>\n",
       "      <td>anything</td>\n",
       "      <td>socially</td>\n",
       "      <td>NaN</td>\n",
       "      <td>white</td>\n",
       "      <td>69.0</td>\n",
       "      <td>...</td>\n",
       "      <td>you don't know what it's all about...</td>\n",
       "      <td>a cautious photo for a cautious dude (i'm havi...</td>\n",
       "      <td>masters program</td>\n",
       "      <td>judaism</td>\n",
       "      <td>1.0</td>\n",
       "      <td>1.0</td>\n",
       "      <td>[cautious, photo, cautious, dude, internal, de...</td>\n",
       "      <td>anything</td>\n",
       "      <td>white</td>\n",
       "      <td>education</td>\n",
       "    </tr>\n",
       "    <tr>\n",
       "      <th>59941</th>\n",
       "      <td>59</td>\n",
       "      <td>single</td>\n",
       "      <td>f</td>\n",
       "      <td>straight</td>\n",
       "      <td>NaN</td>\n",
       "      <td>unknown</td>\n",
       "      <td>socially</td>\n",
       "      <td>never</td>\n",
       "      <td>NaN</td>\n",
       "      <td>62.0</td>\n",
       "      <td>...</td>\n",
       "      <td>you are seeking a long term connection of shar...</td>\n",
       "      <td>vibrant, expressive, caring optimist. i love b...</td>\n",
       "      <td>college/university</td>\n",
       "      <td>catholicism</td>\n",
       "      <td>2.0</td>\n",
       "      <td>1.0</td>\n",
       "      <td>[vibrant, expressive, caring, optimist, love, ...</td>\n",
       "      <td>unknown</td>\n",
       "      <td>multiethnic</td>\n",
       "      <td>sales</td>\n",
       "    </tr>\n",
       "    <tr>\n",
       "      <th>59943</th>\n",
       "      <td>42</td>\n",
       "      <td>single</td>\n",
       "      <td>m</td>\n",
       "      <td>straight</td>\n",
       "      <td>average</td>\n",
       "      <td>mostly anything</td>\n",
       "      <td>not at all</td>\n",
       "      <td>never</td>\n",
       "      <td>asian</td>\n",
       "      <td>71.0</td>\n",
       "      <td>...</td>\n",
       "      <td>we have similar interests.</td>\n",
       "      <td>hello! i enjoy traveling, watching movies, and...</td>\n",
       "      <td>masters program</td>\n",
       "      <td>christianity</td>\n",
       "      <td>2.0</td>\n",
       "      <td>1.0</td>\n",
       "      <td>[hello, enjoy, traveling, watching, movie, han...</td>\n",
       "      <td>anything</td>\n",
       "      <td>asian</td>\n",
       "      <td>construction</td>\n",
       "    </tr>\n",
       "    <tr>\n",
       "      <th>59945</th>\n",
       "      <td>39</td>\n",
       "      <td>single</td>\n",
       "      <td>m</td>\n",
       "      <td>gay</td>\n",
       "      <td>average</td>\n",
       "      <td>unknown</td>\n",
       "      <td>socially</td>\n",
       "      <td>NaN</td>\n",
       "      <td>white</td>\n",
       "      <td>68.0</td>\n",
       "      <td>...</td>\n",
       "      <td>if you have a back-bone, an opinion, a sense o...</td>\n",
       "      <td>is it odd that having a little \"enemy\" status ...</td>\n",
       "      <td>masters program</td>\n",
       "      <td>catholicism</td>\n",
       "      <td>1.0</td>\n",
       "      <td>1.0</td>\n",
       "      <td>[odd, little, enemy, status, someone, make, se...</td>\n",
       "      <td>unknown</td>\n",
       "      <td>white</td>\n",
       "      <td>medicine</td>\n",
       "    </tr>\n",
       "  </tbody>\n",
       "</table>\n",
       "<p>22309 rows × 39 columns</p>\n",
       "</div>"
      ],
      "text/plain": [
       "       age          status sex orientation body_type               diet  \\\n",
       "5       29          single   m    straight   average    mostly anything   \n",
       "7       31          single   f    straight   average    mostly anything   \n",
       "8       24          single   f    straight       NaN  strictly anything   \n",
       "9       37          single   m    straight  athletic    mostly anything   \n",
       "11      28  seeing someone   m    straight   average    mostly anything   \n",
       "...    ...             ...  ..         ...       ...                ...   \n",
       "59936   25          single   f    straight   average    mostly anything   \n",
       "59937   32          single   m    bisexual      thin           anything   \n",
       "59941   59          single   f    straight       NaN            unknown   \n",
       "59943   42          single   m    straight   average    mostly anything   \n",
       "59945   39          single   m         gay   average            unknown   \n",
       "\n",
       "           drinks  drugs ethnicity  height  ...  \\\n",
       "5        socially    NaN     white    67.0  ...   \n",
       "7        socially  never     white    65.0  ...   \n",
       "8        socially    NaN     white    67.0  ...   \n",
       "9      not at all  never     white    65.0  ...   \n",
       "11       socially  never     white    72.0  ...   \n",
       "...           ...    ...       ...     ...  ...   \n",
       "59936    socially  never     asian    61.0  ...   \n",
       "59937    socially    NaN     white    69.0  ...   \n",
       "59941    socially  never       NaN    62.0  ...   \n",
       "59943  not at all  never     asian    71.0  ...   \n",
       "59945    socially    NaN     white    68.0  ...   \n",
       "\n",
       "                               You should message me if…  \\\n",
       "5                                        you're awesome.   \n",
       "7                                                          \n",
       "8      http://www.youtube.com/watch?v=4dxbwzuwsxk let...   \n",
       "9                                 you can rock the bells   \n",
       "11     if you know who you are, who you want, where y...   \n",
       "...                                                  ...   \n",
       "59936                                                      \n",
       "59937              you don't know what it's all about...   \n",
       "59941  you are seeking a long term connection of shar...   \n",
       "59943                         we have similar interests.   \n",
       "59945  if you have a back-bone, an opinion, a sense o...   \n",
       "\n",
       "                                          merged_profile     education_final  \\\n",
       "5      i'm an australian living in san francisco, but...  college/university   \n",
       "7       writing. meeting new people, spending time wi...  college/university   \n",
       "8       oh goodness. at the moment i have 4 jobs, so ...  college/university   \n",
       "9      my names jake. i'm a creative guy and i look f...    two-year college   \n",
       "11     i was born in wisconsin, grew up in iowa, and ...  college/university   \n",
       "...                                                  ...                 ...   \n",
       "59936                       my infectious laugh :)        college/university   \n",
       "59937  a cautious photo for a cautious dude (i'm havi...     masters program   \n",
       "59941  vibrant, expressive, caring optimist. i love b...  college/university   \n",
       "59943  hello! i enjoy traveling, watching movies, and...     masters program   \n",
       "59945  is it odd that having a little \"enemy\" status ...     masters program   \n",
       "\n",
       "      cleaned_religion seriousness_degree belief  \\\n",
       "5              atheism                0.0    0.0   \n",
       "7         christianity                0.0    1.0   \n",
       "8         christianity                2.0    1.0   \n",
       "9              atheism                1.0    0.0   \n",
       "11        christianity                4.0    1.0   \n",
       "...                ...                ...    ...   \n",
       "59936          atheism                0.0    0.0   \n",
       "59937          judaism                1.0    1.0   \n",
       "59941      catholicism                2.0    1.0   \n",
       "59943     christianity                2.0    1.0   \n",
       "59945      catholicism                1.0    1.0   \n",
       "\n",
       "                            tokenized_normalized_profile diet_clean  \\\n",
       "5      [australian, living, san, francisco, hold, spe...   anything   \n",
       "7      [writing, meeting, new, people, spending, time...   anything   \n",
       "8      [oh, goodness, moment, job, nice, find, one, c...   anything   \n",
       "9      [name, jake, creative, guy, look, others, easy...   anything   \n",
       "11     [born, wisconsin, grew, iowa, moved, californi...   anything   \n",
       "...                                                  ...        ...   \n",
       "59936                                [infectious, laugh]   anything   \n",
       "59937  [cautious, photo, cautious, dude, internal, de...   anything   \n",
       "59941  [vibrant, expressive, caring, optimist, love, ...    unknown   \n",
       "59943  [hello, enjoy, traveling, watching, movie, han...   anything   \n",
       "59945  [odd, little, enemy, status, someone, make, se...    unknown   \n",
       "\n",
       "      ethnicity_clean     job_clean  \n",
       "5               white      computer  \n",
       "7               white      artistic  \n",
       "8               white           NaN  \n",
       "9               white       student  \n",
       "11              white       banking  \n",
       "...               ...           ...  \n",
       "59936           asian         other  \n",
       "59937           white     education  \n",
       "59941     multiethnic         sales  \n",
       "59943           asian  construction  \n",
       "59945           white      medicine  \n",
       "\n",
       "[22309 rows x 39 columns]"
      ]
     },
     "execution_count": 415,
     "metadata": {},
     "output_type": "execute_result"
    }
   ],
   "source": [
    "df_filtered"
   ]
  },
  {
   "cell_type": "code",
   "execution_count": 416,
   "metadata": {},
   "outputs": [
    {
     "data": {
      "text/plain": [
       "body_type    0.075306\n",
       "drinks       0.024250\n",
       "drugs        0.192792\n",
       "ethnicity    0.062531\n",
       "job          0.085660\n",
       "offspring    0.548164\n",
       "pets         0.283518\n",
       "sign         0.141333\n",
       "smokes       0.053028\n",
       "speaks       0.000538\n",
       "job_clean    0.085660\n",
       "dtype: float64"
      ]
     },
     "execution_count": 416,
     "metadata": {},
     "output_type": "execute_result"
    }
   ],
   "source": [
    "# Check missing values\n",
    "null_share = df_filtered.isna().sum()/len(df_filtered)\n",
    "null_share[null_share>0]\n",
    "\n",
    "#drinks, drugs, smokes,job_clean"
   ]
  },
  {
   "cell_type": "code",
   "execution_count": 418,
   "metadata": {},
   "outputs": [
    {
     "name": "stdout",
     "output_type": "stream",
     "text": [
      "(16063, 23)\n"
     ]
    },
    {
     "data": {
      "text/plain": [
       "age                                               0\n",
       "height                                            0\n",
       "education_final                                   0\n",
       "status                                            0\n",
       "ethnicity_clean                                   0\n",
       "diet_clean                                        0\n",
       "drinks                                            0\n",
       "job_clean                                         0\n",
       "drugs                                             0\n",
       "smokes                                            0\n",
       "orientation                                       0\n",
       "My self summary                                   0\n",
       "What I’m doing with my life                       0\n",
       "I’m really good at                                0\n",
       "The first thing people usually notice about me    0\n",
       "Favorite books, movies, show, music, and food     0\n",
       "The six things I could never do without           0\n",
       "I spend a lot of time thinking about              0\n",
       "On a typical Friday night I am                    0\n",
       "The most private thing I am willing to admit      0\n",
       "You should message me if…                         0\n",
       "merged_profile                                    0\n",
       "belief                                            0\n",
       "dtype: int64"
      ]
     },
     "execution_count": 418,
     "metadata": {},
     "output_type": "execute_result"
    }
   ],
   "source": [
    "df_w_text =['age','height', 'education_final', 'status', 'ethnicity_clean', 'diet_clean', 'drinks', 'job_clean', 'drugs', 'smokes','orientation',\n",
    "            'My self summary', 'What I’m doing with my life', 'I’m really good at',\n",
    "       'The first thing people usually notice about me',\n",
    "       'Favorite books, movies, show, music, and food',\n",
    "       'The six things I could never do without',\n",
    "       'I spend a lot of time thinking about',\n",
    "       'On a typical Friday night I am',\n",
    "       'The most private thing I am willing to admit',\n",
    "       'You should message me if…', 'merged_profile'\n",
    "        , 'belief' ]\n",
    "df = df_filtered[df_w_text].dropna(subset = ['job_clean', 'drugs', 'smokes', 'drinks', 'belief'])\n",
    "print(df.shape)\n",
    "\n",
    "# Now we have a new df to work with\n",
    "df.isna().sum()"
   ]
  },
  {
   "cell_type": "code",
   "execution_count": 419,
   "metadata": {},
   "outputs": [
    {
     "name": "stdout",
     "output_type": "stream",
     "text": [
      "age                                                  int64\n",
      "height                                             float64\n",
      "education_final                                   category\n",
      "status                                            category\n",
      "ethnicity_clean                                     object\n",
      "diet_clean                                          object\n",
      "drinks                                            category\n",
      "job_clean                                           object\n",
      "drugs                                             category\n",
      "smokes                                            category\n",
      "orientation                                       category\n",
      "My self summary                                     object\n",
      "What I’m doing with my life                         object\n",
      "I’m really good at                                  object\n",
      "The first thing people usually notice about me      object\n",
      "Favorite books, movies, show, music, and food       object\n",
      "The six things I could never do without             object\n",
      "I spend a lot of time thinking about                object\n",
      "On a typical Friday night I am                      object\n",
      "The most private thing I am willing to admit        object\n",
      "You should message me if…                           object\n",
      "merged_profile                                      object\n",
      "belief                                             float64\n",
      "dtype: object\n"
     ]
    }
   ],
   "source": [
    "print(df.dtypes)\n"
   ]
  },
  {
   "cell_type": "code",
   "execution_count": 421,
   "metadata": {},
   "outputs": [],
   "source": [
    "# save the cleaned data\n",
    "#df.to_csv('/Users/adhdtreamentii/Desktop/UChicago 2024/UChicago Winter 24/MACS-60000 Content Analysis/my_data/clenaedWtext_okc_226.csv', index = False)"
   ]
  }
 ],
 "metadata": {
  "kernelspec": {
   "display_name": "aidi",
   "language": "python",
   "name": "python3"
  },
  "language_info": {
   "codemirror_mode": {
    "name": "ipython",
    "version": 3
   },
   "file_extension": ".py",
   "mimetype": "text/x-python",
   "name": "python",
   "nbconvert_exporter": "python",
   "pygments_lexer": "ipython3",
   "version": "3.9.18"
  },
  "orig_nbformat": 4
 },
 "nbformat": 4,
 "nbformat_minor": 2
}
