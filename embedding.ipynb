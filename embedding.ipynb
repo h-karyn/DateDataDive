{
 "cells": [
  {
   "cell_type": "markdown",
   "source": [
    "# Using Embedding to Study the Latent Space of the Dating Profiles"
   ],
   "metadata": {
    "collapsed": false
   },
   "id": "15796fdef2f87dfd"
  },
  {
   "cell_type": "markdown",
   "source": [
    "## Data Preprocessing"
   ],
   "metadata": {
    "collapsed": false
   },
   "id": "e70c7d9ac41cb62d"
  },
  {
   "cell_type": "code",
   "outputs": [
    {
     "data": {
      "text/plain": "   age  status sex orientation       body_type               diet    drinks  \\\n0   22  single   m    straight  a little extra  strictly anything  socially   \n1   35  single   m    straight         average       mostly other     often   \n2   29  single   m    straight         average    mostly anything  socially   \n3   31  single   f    straight         average    mostly anything  socially   \n4   24  single   f    straight             NaN  strictly anything  socially   \n\n       drugs                          education     ethnicity  ...  \\\n0      never      working on college/university  asian, white  ...   \n1  sometimes              working on space camp         white  ...   \n2        NaN  graduated from college/university         white  ...   \n3      never  graduated from college/university         white  ...   \n4        NaN  graduated from college/university         white  ...   \n\n       Favorite books, movies, show, music, and food  \\\n0  books: absurdistan, the republic, of mice and ...   \n1  i am die hard christopher moore fan. i don't r...   \n2  books: to kill a mockingbird, lord of the ring...   \n3  i like: alphabetized lists, aquariums, autobio...   \n4  i am always willing to try new foods and am no...   \n\n             The six things I could never do without  \\\n0                  food. water. cell phone. shelter.   \n1  delicious porkness in all of its glories. my b...   \n2  like everyone else, i love my friends and fami...   \n3  friends, family, notebook/pen, books, music, t...   \n4  sports/my softball glove coffee. because nobod...   \n\n                I spend a lot of time thinking about  \\\n0                        duality and humorous things   \n1                                                NaN   \n2  what my contribution to the world is going to ...   \n3                   things that amuse and inspire me   \n4                                                NaN   \n\n                      On a typical Friday night I am  \\\n0  trying to find someone to hang out with. i am ...   \n1                                                NaN   \n2                               out with my friends!   \n3  out and about or relaxing at home with a good ...   \n4  in or out... drinking with friends, maybe a ba...   \n\n        The most private thing I am willing to admit  \\\n0  i am new to california and looking for someone...   \n1  i am very open and will share just about anyth...   \n2  i cried on my first day at school because a bi...   \n3                                                NaN   \n4  potential friends/lovers/people who come in co...   \n\n                           You should message me if…  \\\n0  you want to be swept off your feet! you are ti...   \n1                                                NaN   \n2                                    you're awesome.   \n3                                                NaN   \n4  http://www.youtube.com/watch?v=4dxbwzuwsxk let...   \n\n                                      merged_profile cleaned_religion  \\\n0  about me:  i would love to think that i was so...      agnosticism   \n1  i am a chef: this is what that means. 1. i am ...      agnosticism   \n2  i'm an australian living in san francisco, but...          atheism   \n3   writing. meeting new people, spending time wi...     christianity   \n4   oh goodness. at the moment i have 4 jobs, so ...     christianity   \n\n  seriousness_degree       belief  \n0                4.0  agnosticism  \n1                2.0  agnosticism  \n2                0.0      atheism  \n3                0.0       theism  \n4                2.0       theism  \n\n[5 rows x 33 columns]",
      "text/html": "<div>\n<style scoped>\n    .dataframe tbody tr th:only-of-type {\n        vertical-align: middle;\n    }\n\n    .dataframe tbody tr th {\n        vertical-align: top;\n    }\n\n    .dataframe thead th {\n        text-align: right;\n    }\n</style>\n<table border=\"1\" class=\"dataframe\">\n  <thead>\n    <tr style=\"text-align: right;\">\n      <th></th>\n      <th>age</th>\n      <th>status</th>\n      <th>sex</th>\n      <th>orientation</th>\n      <th>body_type</th>\n      <th>diet</th>\n      <th>drinks</th>\n      <th>drugs</th>\n      <th>education</th>\n      <th>ethnicity</th>\n      <th>...</th>\n      <th>Favorite books, movies, show, music, and food</th>\n      <th>The six things I could never do without</th>\n      <th>I spend a lot of time thinking about</th>\n      <th>On a typical Friday night I am</th>\n      <th>The most private thing I am willing to admit</th>\n      <th>You should message me if…</th>\n      <th>merged_profile</th>\n      <th>cleaned_religion</th>\n      <th>seriousness_degree</th>\n      <th>belief</th>\n    </tr>\n  </thead>\n  <tbody>\n    <tr>\n      <th>0</th>\n      <td>22</td>\n      <td>single</td>\n      <td>m</td>\n      <td>straight</td>\n      <td>a little extra</td>\n      <td>strictly anything</td>\n      <td>socially</td>\n      <td>never</td>\n      <td>working on college/university</td>\n      <td>asian, white</td>\n      <td>...</td>\n      <td>books: absurdistan, the republic, of mice and ...</td>\n      <td>food. water. cell phone. shelter.</td>\n      <td>duality and humorous things</td>\n      <td>trying to find someone to hang out with. i am ...</td>\n      <td>i am new to california and looking for someone...</td>\n      <td>you want to be swept off your feet! you are ti...</td>\n      <td>about me:  i would love to think that i was so...</td>\n      <td>agnosticism</td>\n      <td>4.0</td>\n      <td>agnosticism</td>\n    </tr>\n    <tr>\n      <th>1</th>\n      <td>35</td>\n      <td>single</td>\n      <td>m</td>\n      <td>straight</td>\n      <td>average</td>\n      <td>mostly other</td>\n      <td>often</td>\n      <td>sometimes</td>\n      <td>working on space camp</td>\n      <td>white</td>\n      <td>...</td>\n      <td>i am die hard christopher moore fan. i don't r...</td>\n      <td>delicious porkness in all of its glories. my b...</td>\n      <td>NaN</td>\n      <td>NaN</td>\n      <td>i am very open and will share just about anyth...</td>\n      <td>NaN</td>\n      <td>i am a chef: this is what that means. 1. i am ...</td>\n      <td>agnosticism</td>\n      <td>2.0</td>\n      <td>agnosticism</td>\n    </tr>\n    <tr>\n      <th>2</th>\n      <td>29</td>\n      <td>single</td>\n      <td>m</td>\n      <td>straight</td>\n      <td>average</td>\n      <td>mostly anything</td>\n      <td>socially</td>\n      <td>NaN</td>\n      <td>graduated from college/university</td>\n      <td>white</td>\n      <td>...</td>\n      <td>books: to kill a mockingbird, lord of the ring...</td>\n      <td>like everyone else, i love my friends and fami...</td>\n      <td>what my contribution to the world is going to ...</td>\n      <td>out with my friends!</td>\n      <td>i cried on my first day at school because a bi...</td>\n      <td>you're awesome.</td>\n      <td>i'm an australian living in san francisco, but...</td>\n      <td>atheism</td>\n      <td>0.0</td>\n      <td>atheism</td>\n    </tr>\n    <tr>\n      <th>3</th>\n      <td>31</td>\n      <td>single</td>\n      <td>f</td>\n      <td>straight</td>\n      <td>average</td>\n      <td>mostly anything</td>\n      <td>socially</td>\n      <td>never</td>\n      <td>graduated from college/university</td>\n      <td>white</td>\n      <td>...</td>\n      <td>i like: alphabetized lists, aquariums, autobio...</td>\n      <td>friends, family, notebook/pen, books, music, t...</td>\n      <td>things that amuse and inspire me</td>\n      <td>out and about or relaxing at home with a good ...</td>\n      <td>NaN</td>\n      <td>NaN</td>\n      <td>writing. meeting new people, spending time wi...</td>\n      <td>christianity</td>\n      <td>0.0</td>\n      <td>theism</td>\n    </tr>\n    <tr>\n      <th>4</th>\n      <td>24</td>\n      <td>single</td>\n      <td>f</td>\n      <td>straight</td>\n      <td>NaN</td>\n      <td>strictly anything</td>\n      <td>socially</td>\n      <td>NaN</td>\n      <td>graduated from college/university</td>\n      <td>white</td>\n      <td>...</td>\n      <td>i am always willing to try new foods and am no...</td>\n      <td>sports/my softball glove coffee. because nobod...</td>\n      <td>NaN</td>\n      <td>in or out... drinking with friends, maybe a ba...</td>\n      <td>potential friends/lovers/people who come in co...</td>\n      <td>http://www.youtube.com/watch?v=4dxbwzuwsxk let...</td>\n      <td>oh goodness. at the moment i have 4 jobs, so ...</td>\n      <td>christianity</td>\n      <td>2.0</td>\n      <td>theism</td>\n    </tr>\n  </tbody>\n</table>\n<p>5 rows × 33 columns</p>\n</div>"
     },
     "execution_count": 1,
     "metadata": {},
     "output_type": "execute_result"
    }
   ],
   "source": [
    "import os\n",
    "import pandas as pd\n",
    "import numpy as np\n",
    "\n",
    "# load cleaned_okc.csv\n",
    "df = pd.read_csv('cleaned_okc.csv')\n",
    "\n",
    "# preview the data\n",
    "df.head()"
   ],
   "metadata": {
    "collapsed": false,
    "ExecuteTime": {
     "end_time": "2024-02-29T06:51:39.467429Z",
     "start_time": "2024-02-29T06:51:37.452087Z"
    }
   },
   "id": "f8cc518f8540a22a",
   "execution_count": 1
  },
  {
   "cell_type": "code",
   "outputs": [
    {
     "data": {
      "text/plain": "cleaned_religion\natheism         554\nchristianity    543\nother           508\nagnosticism     311\ncatholicism      93\nbuddhism         66\njudaism          20\nhinduism         14\nislam            11\nName: count, dtype: int64"
     },
     "execution_count": 2,
     "metadata": {},
     "output_type": "execute_result"
    }
   ],
   "source": [
    "# get individuals whose seriousness_degree is 4.0 \n",
    "serious_df = df[df.seriousness_degree == 4.0]\n",
    "\n",
    "serious_df.columns = serious_df.columns.str.replace('[^\\w\\s]', '', regex=True)\n",
    "\n",
    "# see the number of beliefs in serious_df\n",
    "serious_df.cleaned_religion.value_counts()"
   ],
   "metadata": {
    "collapsed": false,
    "ExecuteTime": {
     "end_time": "2024-02-29T06:51:39.474359Z",
     "start_time": "2024-02-29T06:51:39.466723Z"
    }
   },
   "id": "1bf695753547350a",
   "execution_count": 2
  },
  {
   "cell_type": "code",
   "outputs": [
    {
     "data": {
      "text/plain": "    age          status sex orientation       body_type               diet  \\\n0    22          single   m    straight  a little extra  strictly anything   \n6    28  seeing someone   m    straight         average    mostly anything   \n46   31          single   f    bisexual         average  strictly anything   \n48   35          single   m    straight        athletic    mostly anything   \n59   29          single   m    straight             fit    mostly anything   \n\n      drinks      drugs                          education  \\\n0   socially      never      working on college/university   \n6   socially      never  graduated from college/university   \n46  socially        NaN                                NaN   \n48  socially  sometimes          graduated from space camp   \n59  socially  sometimes  graduated from college/university   \n\n                 ethnicity  ...  \\\n0             asian, white  ...   \n6                    white  ...   \n46   middle eastern, other  ...   \n48  native american, white  ...   \n59                   white  ...   \n\n            favorite_books_movies_show_music_and_food  \\\n0   books: absurdistan, the republic, of mice and ...   \n6   books = yes. avid reader. moves = eternal suns...   \n46  \"wings of desire\" (german film by wim wenders)...   \n48                                                NaN   \n59  -books: anything joseph campbell - osho - terr...   \n\n              the_six_things_i_could_never_do_without  \\\n0                   food. water. cell phone. shelter.   \n6   guitar - even if i don't play it all the time,...   \n46  i can do without.  i value: 1. my hands. 2. ot...   \n48  my camera, aviation, amazing food, touch, lear...   \n59                                   invalid question   \n\n                 i_spend_a_lot_of_time_thinking_about  \\\n0                         duality and humorous things   \n6   a little bit of everything. but mostly social ...   \n46                i rarely think, it's over-rated ; )   \n48  travel, food, photography, sensual fun, aviati...   \n59                                          the world   \n\n                       on_a_typical_friday_night_i_am  \\\n0   trying to find someone to hang out with. i am ...   \n6   hanging out with a small group of friends--sta...   \n46             the answer to each moment must be yes.   \n48  often working a party. lights, sound, managing...   \n59                                               out.   \n\n         the_most_private_thing_i_am_willing_to_admit  \\\n0   i am new to california and looking for someone...   \n6   i'm picky when it comes to dating. i know what...   \n46  i am an open book, i do not like secrets. if i...   \n48                                                NaN   \n59                                                 no   \n\n                             you_should_message_me_if  \\\n0   you want to be swept off your feet! you are ti...   \n6   if you know who you are, who you want, where y...   \n46                                you feel compelled.   \n48  you can make me laugh or turn me on. teach me ...   \n59                                    you're curious.   \n\n                                       merged_profile cleaned_religion  \\\n0   about me:  i would love to think that i was so...      agnosticism   \n6   i was born in wisconsin, grew up in iowa, and ...     christianity   \n46  i slept and dreamt that life was joy. i awoke ...            other   \n48  i'm an adventurer first, i take calculated ris...      agnosticism   \n59  my names josh, and i create art for a living. ...      agnosticism   \n\n   seriousness_degree       belief  \n0                 4.0  agnosticism  \n6                 4.0       theism  \n46                4.0        other  \n48                4.0  agnosticism  \n59                4.0  agnosticism  \n\n[5 rows x 33 columns]",
      "text/html": "<div>\n<style scoped>\n    .dataframe tbody tr th:only-of-type {\n        vertical-align: middle;\n    }\n\n    .dataframe tbody tr th {\n        vertical-align: top;\n    }\n\n    .dataframe thead th {\n        text-align: right;\n    }\n</style>\n<table border=\"1\" class=\"dataframe\">\n  <thead>\n    <tr style=\"text-align: right;\">\n      <th></th>\n      <th>age</th>\n      <th>status</th>\n      <th>sex</th>\n      <th>orientation</th>\n      <th>body_type</th>\n      <th>diet</th>\n      <th>drinks</th>\n      <th>drugs</th>\n      <th>education</th>\n      <th>ethnicity</th>\n      <th>...</th>\n      <th>favorite_books_movies_show_music_and_food</th>\n      <th>the_six_things_i_could_never_do_without</th>\n      <th>i_spend_a_lot_of_time_thinking_about</th>\n      <th>on_a_typical_friday_night_i_am</th>\n      <th>the_most_private_thing_i_am_willing_to_admit</th>\n      <th>you_should_message_me_if</th>\n      <th>merged_profile</th>\n      <th>cleaned_religion</th>\n      <th>seriousness_degree</th>\n      <th>belief</th>\n    </tr>\n  </thead>\n  <tbody>\n    <tr>\n      <th>0</th>\n      <td>22</td>\n      <td>single</td>\n      <td>m</td>\n      <td>straight</td>\n      <td>a little extra</td>\n      <td>strictly anything</td>\n      <td>socially</td>\n      <td>never</td>\n      <td>working on college/university</td>\n      <td>asian, white</td>\n      <td>...</td>\n      <td>books: absurdistan, the republic, of mice and ...</td>\n      <td>food. water. cell phone. shelter.</td>\n      <td>duality and humorous things</td>\n      <td>trying to find someone to hang out with. i am ...</td>\n      <td>i am new to california and looking for someone...</td>\n      <td>you want to be swept off your feet! you are ti...</td>\n      <td>about me:  i would love to think that i was so...</td>\n      <td>agnosticism</td>\n      <td>4.0</td>\n      <td>agnosticism</td>\n    </tr>\n    <tr>\n      <th>6</th>\n      <td>28</td>\n      <td>seeing someone</td>\n      <td>m</td>\n      <td>straight</td>\n      <td>average</td>\n      <td>mostly anything</td>\n      <td>socially</td>\n      <td>never</td>\n      <td>graduated from college/university</td>\n      <td>white</td>\n      <td>...</td>\n      <td>books = yes. avid reader. moves = eternal suns...</td>\n      <td>guitar - even if i don't play it all the time,...</td>\n      <td>a little bit of everything. but mostly social ...</td>\n      <td>hanging out with a small group of friends--sta...</td>\n      <td>i'm picky when it comes to dating. i know what...</td>\n      <td>if you know who you are, who you want, where y...</td>\n      <td>i was born in wisconsin, grew up in iowa, and ...</td>\n      <td>christianity</td>\n      <td>4.0</td>\n      <td>theism</td>\n    </tr>\n    <tr>\n      <th>46</th>\n      <td>31</td>\n      <td>single</td>\n      <td>f</td>\n      <td>bisexual</td>\n      <td>average</td>\n      <td>strictly anything</td>\n      <td>socially</td>\n      <td>NaN</td>\n      <td>NaN</td>\n      <td>middle eastern, other</td>\n      <td>...</td>\n      <td>\"wings of desire\" (german film by wim wenders)...</td>\n      <td>i can do without.  i value: 1. my hands. 2. ot...</td>\n      <td>i rarely think, it's over-rated ; )</td>\n      <td>the answer to each moment must be yes.</td>\n      <td>i am an open book, i do not like secrets. if i...</td>\n      <td>you feel compelled.</td>\n      <td>i slept and dreamt that life was joy. i awoke ...</td>\n      <td>other</td>\n      <td>4.0</td>\n      <td>other</td>\n    </tr>\n    <tr>\n      <th>48</th>\n      <td>35</td>\n      <td>single</td>\n      <td>m</td>\n      <td>straight</td>\n      <td>athletic</td>\n      <td>mostly anything</td>\n      <td>socially</td>\n      <td>sometimes</td>\n      <td>graduated from space camp</td>\n      <td>native american, white</td>\n      <td>...</td>\n      <td>NaN</td>\n      <td>my camera, aviation, amazing food, touch, lear...</td>\n      <td>travel, food, photography, sensual fun, aviati...</td>\n      <td>often working a party. lights, sound, managing...</td>\n      <td>NaN</td>\n      <td>you can make me laugh or turn me on. teach me ...</td>\n      <td>i'm an adventurer first, i take calculated ris...</td>\n      <td>agnosticism</td>\n      <td>4.0</td>\n      <td>agnosticism</td>\n    </tr>\n    <tr>\n      <th>59</th>\n      <td>29</td>\n      <td>single</td>\n      <td>m</td>\n      <td>straight</td>\n      <td>fit</td>\n      <td>mostly anything</td>\n      <td>socially</td>\n      <td>sometimes</td>\n      <td>graduated from college/university</td>\n      <td>white</td>\n      <td>...</td>\n      <td>-books: anything joseph campbell - osho - terr...</td>\n      <td>invalid question</td>\n      <td>the world</td>\n      <td>out.</td>\n      <td>no</td>\n      <td>you're curious.</td>\n      <td>my names josh, and i create art for a living. ...</td>\n      <td>agnosticism</td>\n      <td>4.0</td>\n      <td>agnosticism</td>\n    </tr>\n  </tbody>\n</table>\n<p>5 rows × 33 columns</p>\n</div>"
     },
     "execution_count": 3,
     "metadata": {},
     "output_type": "execute_result"
    }
   ],
   "source": [
    "# replace the space in the column name with underscore\n",
    "serious_df.columns = serious_df.columns.str.replace(' ', '_')\n",
    "\n",
    "# column names to lower case\n",
    "serious_df.columns = serious_df.columns.str.lower()\n",
    "\n",
    "# preview the data\n",
    "serious_df.head()"
   ],
   "metadata": {
    "collapsed": false,
    "ExecuteTime": {
     "end_time": "2024-02-29T06:51:39.486860Z",
     "start_time": "2024-02-29T06:51:39.479486Z"
    }
   },
   "id": "79065e5c150ca6d7",
   "execution_count": 3
  },
  {
   "cell_type": "code",
   "outputs": [],
   "source": [
    "# filter out NA entries in 'you_should_message_me_if...'\n",
    "serious_df = serious_df[serious_df.you_should_message_me_if.notna()]\n",
    "\n",
    "# filter out string with less than 25 characters (super short and careless responses)\n",
    "serious_df = serious_df[serious_df.you_should_message_me_if.str.len() > 30]"
   ],
   "metadata": {
    "collapsed": false,
    "ExecuteTime": {
     "end_time": "2024-02-29T06:51:39.496293Z",
     "start_time": "2024-02-29T06:51:39.482813Z"
    }
   },
   "id": "86bacf1b99d432c8",
   "execution_count": 4
  },
  {
   "cell_type": "code",
   "outputs": [
    {
     "data": {
      "text/plain": "       age          status sex orientation   body_type                 diet  \\\n12045   43          single   f    bisexual       curvy  strictly vegetarian   \n11967   25  seeing someone   m    bisexual         fit      mostly anything   \n38251   36          single   m         gay     average                  NaN   \n13700   27       available   f    bisexual       curvy             anything   \n5346    42       available   m    straight  overweight    strictly anything   \n...    ...             ...  ..         ...         ...                  ...   \n229     39          single   m    straight    athletic    strictly anything   \n29225   27          single   m    straight  overweight    mostly vegetarian   \n21604   33          single   m    straight        thin      mostly anything   \n5473    21          single   m    straight     average         mostly other   \n8143    23          single   m    straight         fit      mostly anything   \n\n           drinks      drugs                          education  \\\n12045      rarely        NaN  dropped out of college/university   \n11967    socially  sometimes            working on ph.d program   \n38251       often      never                                NaN   \n13700    socially  sometimes    dropped out of two-year college   \n5346        often  sometimes              working on space camp   \n...           ...        ...                                ...   \n229           NaN        NaN          graduated from space camp   \n29225  not at all      never     graduated from masters program   \n21604    socially      never     graduated from masters program   \n5473     socially      often         graduated from high school   \n8143     socially      never     graduated from masters program   \n\n                                      ethnicity  ...  \\\n12045                                     white  ...   \n11967                                     white  ...   \n38251                                     white  ...   \n13700  native american, hispanic / latin, white  ...   \n5346                                      white  ...   \n...                                         ...  ...   \n229                                       white  ...   \n29225                                     asian  ...   \n21604                            middle eastern  ...   \n5473               middle eastern, black, white  ...   \n8143                                      asian  ...   \n\n               favorite_books_movies_show_music_and_food  \\\n12045  authors: nabokov, pratchett, hunter s. thompso...   \n11967  i don't have the attention span to read books....   \n38251  books: invisible man, native son, harry potter...   \n13700  book: \"unlikely stories, mostly\" by alasdair g...   \n5346   books: i love any novel with a complex plot. t...   \n...                                                  ...   \n229    holy shit, it's data mining! fuck you, okc!  m...   \n29225  books  the dummy line enders game 3 mistakes o...   \n21604  i'm a typical guy when it comes to movies: sca...   \n5473   ihave a broad view.big taste.iloike all type o...   \n8143   john steinbeck is my fav writer.  the grapes o...   \n\n                 the_six_things_i_could_never_do_without  \\\n12045  1. books and kindle  2. camera(s)  3. iphone a...   \n11967  1. my laptop. not a day goes by when i don't u...   \n38251                                                NaN   \n13700  1. my iphone 2. mascara 3. red lipstick 4. the...   \n5346   i'm going to avoid the cop-out of mentioning f...   \n...                                                  ...   \n229    water. a nitrox atmosphere. cerebral cortex. m...   \n29225                                                NaN   \n21604  1) family and friends 2) music 3) passion (yes...   \n5473   computer. (in terms of career).weed. music.cho...   \n8143   family allah, god, bhagwan or whatever you wan...   \n\n                    i_spend_a_lot_of_time_thinking_about  \\\n12045  life. atheism. reasons to live. why i love the...   \n11967                                                NaN   \n38251                                                NaN   \n13700  ways to better support my kids and how i can g...   \n5346   how the world works. science fascinates me. po...   \n...                                                  ...   \n229              why riot grrls went extinct so quickly.   \n29225  about my family, friends and how can i make a ...   \n21604                         new business opportunities   \n5473   life. simple things. in and outside the box. t...   \n8143   *what the heck i want to accomplish with my li...   \n\n                          on_a_typical_friday_night_i_am  \\\n12045  reading a book, watching a movie or playing a ...   \n11967  possibly going up to san francisco. i wish i l...   \n38251                                                NaN   \n13700  either at a burlesque show (watching, not perf...   \n5346   on a typical kid night i'm cooking a nice dinn...   \n...                                                  ...   \n229    wishing i had someone as passionate and decade...   \n29225                                                NaN   \n21604  out with friends and sadly enough working...bu...   \n5473   in da hood trappin or at a party/kickbakk.or m...   \n8143   hanging out with friends and drink as much as ...   \n\n            the_most_private_thing_i_am_willing_to_admit  \\\n12045  life is very full of pain and nausea for me. i...   \n11967     i rode the short bus when i was in pre-school.   \n38251                                                NaN   \n13700  i don't have a lot of privacy. i guess...i dun...   \n5346   i once caused a cert advisory. also, it's been...   \n...                                                  ...   \n229    my 92-year-old grandma better like you, becaus...   \n29225                     i got enrolled on this app :-)   \n21604  i smoke....you may not think this is private, ...   \n5473                     my tounge kan work wonders. ;-)   \n8143                nooooooooo i am not going to tell :)   \n\n                                you_should_message_me_if  \\\n12045  if you want to be my friend who i can spend ti...   \n11967  you feel like it. i promise i won't bite. but ...   \n38251  you are younger, slim to athletic, smooth to s...   \n13700  you're good in the sack, can respect my marria...   \n5346   we're a 99% match. i'm willing to listen if we...   \n...                                                  ...   \n229    you've never attended: a) sacred heart cathedr...   \n29225  if you wanna have a good friend to have some g...   \n21604  you want to get to know me better....talk to y...   \n5473   your kinky,wett, and ready. dnt be shy ilike t...   \n8143          you are funny and love to make friends. :)   \n\n                                          merged_profile cleaned_religion  \\\n12045  june is turning out to be crazy because my new...          atheism   \n11967  well, i'm in a relationship now. i'm keeping m...          atheism   \n38251  i have a tempered, reasonable way of thinking....          atheism   \n13700  i'm an adult actress who has recently started ...          atheism   \n5346   i'm a 42-year-old divorced father of two boys ...          atheism   \n...                                                  ...              ...   \n229    \"essay?\" fat fucking chance.  playwright. phot...            islam   \n29225      books  the dummy line enders game 3 mistak...            islam   \n21604  ambitious and passionate about life. i like to...            islam   \n5473   i'm creative.i'm a picses.i'm from east oaklan...            islam   \n8143   what to tell about myself. :) i am an ipad dev...            islam   \n\n      seriousness_degree   belief  \n12045                4.0  atheism  \n11967                4.0  atheism  \n38251                4.0  atheism  \n13700                4.0  atheism  \n5346                 4.0  atheism  \n...                  ...      ...  \n229                  4.0   theism  \n29225                4.0   theism  \n21604                4.0   theism  \n5473                 4.0   theism  \n8143                 4.0   theism  \n\n[105 rows x 33 columns]",
      "text/html": "<div>\n<style scoped>\n    .dataframe tbody tr th:only-of-type {\n        vertical-align: middle;\n    }\n\n    .dataframe tbody tr th {\n        vertical-align: top;\n    }\n\n    .dataframe thead th {\n        text-align: right;\n    }\n</style>\n<table border=\"1\" class=\"dataframe\">\n  <thead>\n    <tr style=\"text-align: right;\">\n      <th></th>\n      <th>age</th>\n      <th>status</th>\n      <th>sex</th>\n      <th>orientation</th>\n      <th>body_type</th>\n      <th>diet</th>\n      <th>drinks</th>\n      <th>drugs</th>\n      <th>education</th>\n      <th>ethnicity</th>\n      <th>...</th>\n      <th>favorite_books_movies_show_music_and_food</th>\n      <th>the_six_things_i_could_never_do_without</th>\n      <th>i_spend_a_lot_of_time_thinking_about</th>\n      <th>on_a_typical_friday_night_i_am</th>\n      <th>the_most_private_thing_i_am_willing_to_admit</th>\n      <th>you_should_message_me_if</th>\n      <th>merged_profile</th>\n      <th>cleaned_religion</th>\n      <th>seriousness_degree</th>\n      <th>belief</th>\n    </tr>\n  </thead>\n  <tbody>\n    <tr>\n      <th>12045</th>\n      <td>43</td>\n      <td>single</td>\n      <td>f</td>\n      <td>bisexual</td>\n      <td>curvy</td>\n      <td>strictly vegetarian</td>\n      <td>rarely</td>\n      <td>NaN</td>\n      <td>dropped out of college/university</td>\n      <td>white</td>\n      <td>...</td>\n      <td>authors: nabokov, pratchett, hunter s. thompso...</td>\n      <td>1. books and kindle  2. camera(s)  3. iphone a...</td>\n      <td>life. atheism. reasons to live. why i love the...</td>\n      <td>reading a book, watching a movie or playing a ...</td>\n      <td>life is very full of pain and nausea for me. i...</td>\n      <td>if you want to be my friend who i can spend ti...</td>\n      <td>june is turning out to be crazy because my new...</td>\n      <td>atheism</td>\n      <td>4.0</td>\n      <td>atheism</td>\n    </tr>\n    <tr>\n      <th>11967</th>\n      <td>25</td>\n      <td>seeing someone</td>\n      <td>m</td>\n      <td>bisexual</td>\n      <td>fit</td>\n      <td>mostly anything</td>\n      <td>socially</td>\n      <td>sometimes</td>\n      <td>working on ph.d program</td>\n      <td>white</td>\n      <td>...</td>\n      <td>i don't have the attention span to read books....</td>\n      <td>1. my laptop. not a day goes by when i don't u...</td>\n      <td>NaN</td>\n      <td>possibly going up to san francisco. i wish i l...</td>\n      <td>i rode the short bus when i was in pre-school.</td>\n      <td>you feel like it. i promise i won't bite. but ...</td>\n      <td>well, i'm in a relationship now. i'm keeping m...</td>\n      <td>atheism</td>\n      <td>4.0</td>\n      <td>atheism</td>\n    </tr>\n    <tr>\n      <th>38251</th>\n      <td>36</td>\n      <td>single</td>\n      <td>m</td>\n      <td>gay</td>\n      <td>average</td>\n      <td>NaN</td>\n      <td>often</td>\n      <td>never</td>\n      <td>NaN</td>\n      <td>white</td>\n      <td>...</td>\n      <td>books: invisible man, native son, harry potter...</td>\n      <td>NaN</td>\n      <td>NaN</td>\n      <td>NaN</td>\n      <td>NaN</td>\n      <td>you are younger, slim to athletic, smooth to s...</td>\n      <td>i have a tempered, reasonable way of thinking....</td>\n      <td>atheism</td>\n      <td>4.0</td>\n      <td>atheism</td>\n    </tr>\n    <tr>\n      <th>13700</th>\n      <td>27</td>\n      <td>available</td>\n      <td>f</td>\n      <td>bisexual</td>\n      <td>curvy</td>\n      <td>anything</td>\n      <td>socially</td>\n      <td>sometimes</td>\n      <td>dropped out of two-year college</td>\n      <td>native american, hispanic / latin, white</td>\n      <td>...</td>\n      <td>book: \"unlikely stories, mostly\" by alasdair g...</td>\n      <td>1. my iphone 2. mascara 3. red lipstick 4. the...</td>\n      <td>ways to better support my kids and how i can g...</td>\n      <td>either at a burlesque show (watching, not perf...</td>\n      <td>i don't have a lot of privacy. i guess...i dun...</td>\n      <td>you're good in the sack, can respect my marria...</td>\n      <td>i'm an adult actress who has recently started ...</td>\n      <td>atheism</td>\n      <td>4.0</td>\n      <td>atheism</td>\n    </tr>\n    <tr>\n      <th>5346</th>\n      <td>42</td>\n      <td>available</td>\n      <td>m</td>\n      <td>straight</td>\n      <td>overweight</td>\n      <td>strictly anything</td>\n      <td>often</td>\n      <td>sometimes</td>\n      <td>working on space camp</td>\n      <td>white</td>\n      <td>...</td>\n      <td>books: i love any novel with a complex plot. t...</td>\n      <td>i'm going to avoid the cop-out of mentioning f...</td>\n      <td>how the world works. science fascinates me. po...</td>\n      <td>on a typical kid night i'm cooking a nice dinn...</td>\n      <td>i once caused a cert advisory. also, it's been...</td>\n      <td>we're a 99% match. i'm willing to listen if we...</td>\n      <td>i'm a 42-year-old divorced father of two boys ...</td>\n      <td>atheism</td>\n      <td>4.0</td>\n      <td>atheism</td>\n    </tr>\n    <tr>\n      <th>...</th>\n      <td>...</td>\n      <td>...</td>\n      <td>...</td>\n      <td>...</td>\n      <td>...</td>\n      <td>...</td>\n      <td>...</td>\n      <td>...</td>\n      <td>...</td>\n      <td>...</td>\n      <td>...</td>\n      <td>...</td>\n      <td>...</td>\n      <td>...</td>\n      <td>...</td>\n      <td>...</td>\n      <td>...</td>\n      <td>...</td>\n      <td>...</td>\n      <td>...</td>\n      <td>...</td>\n    </tr>\n    <tr>\n      <th>229</th>\n      <td>39</td>\n      <td>single</td>\n      <td>m</td>\n      <td>straight</td>\n      <td>athletic</td>\n      <td>strictly anything</td>\n      <td>NaN</td>\n      <td>NaN</td>\n      <td>graduated from space camp</td>\n      <td>white</td>\n      <td>...</td>\n      <td>holy shit, it's data mining! fuck you, okc!  m...</td>\n      <td>water. a nitrox atmosphere. cerebral cortex. m...</td>\n      <td>why riot grrls went extinct so quickly.</td>\n      <td>wishing i had someone as passionate and decade...</td>\n      <td>my 92-year-old grandma better like you, becaus...</td>\n      <td>you've never attended: a) sacred heart cathedr...</td>\n      <td>\"essay?\" fat fucking chance.  playwright. phot...</td>\n      <td>islam</td>\n      <td>4.0</td>\n      <td>theism</td>\n    </tr>\n    <tr>\n      <th>29225</th>\n      <td>27</td>\n      <td>single</td>\n      <td>m</td>\n      <td>straight</td>\n      <td>overweight</td>\n      <td>mostly vegetarian</td>\n      <td>not at all</td>\n      <td>never</td>\n      <td>graduated from masters program</td>\n      <td>asian</td>\n      <td>...</td>\n      <td>books  the dummy line enders game 3 mistakes o...</td>\n      <td>NaN</td>\n      <td>about my family, friends and how can i make a ...</td>\n      <td>NaN</td>\n      <td>i got enrolled on this app :-)</td>\n      <td>if you wanna have a good friend to have some g...</td>\n      <td>books  the dummy line enders game 3 mistak...</td>\n      <td>islam</td>\n      <td>4.0</td>\n      <td>theism</td>\n    </tr>\n    <tr>\n      <th>21604</th>\n      <td>33</td>\n      <td>single</td>\n      <td>m</td>\n      <td>straight</td>\n      <td>thin</td>\n      <td>mostly anything</td>\n      <td>socially</td>\n      <td>never</td>\n      <td>graduated from masters program</td>\n      <td>middle eastern</td>\n      <td>...</td>\n      <td>i'm a typical guy when it comes to movies: sca...</td>\n      <td>1) family and friends 2) music 3) passion (yes...</td>\n      <td>new business opportunities</td>\n      <td>out with friends and sadly enough working...bu...</td>\n      <td>i smoke....you may not think this is private, ...</td>\n      <td>you want to get to know me better....talk to y...</td>\n      <td>ambitious and passionate about life. i like to...</td>\n      <td>islam</td>\n      <td>4.0</td>\n      <td>theism</td>\n    </tr>\n    <tr>\n      <th>5473</th>\n      <td>21</td>\n      <td>single</td>\n      <td>m</td>\n      <td>straight</td>\n      <td>average</td>\n      <td>mostly other</td>\n      <td>socially</td>\n      <td>often</td>\n      <td>graduated from high school</td>\n      <td>middle eastern, black, white</td>\n      <td>...</td>\n      <td>ihave a broad view.big taste.iloike all type o...</td>\n      <td>computer. (in terms of career).weed. music.cho...</td>\n      <td>life. simple things. in and outside the box. t...</td>\n      <td>in da hood trappin or at a party/kickbakk.or m...</td>\n      <td>my tounge kan work wonders. ;-)</td>\n      <td>your kinky,wett, and ready. dnt be shy ilike t...</td>\n      <td>i'm creative.i'm a picses.i'm from east oaklan...</td>\n      <td>islam</td>\n      <td>4.0</td>\n      <td>theism</td>\n    </tr>\n    <tr>\n      <th>8143</th>\n      <td>23</td>\n      <td>single</td>\n      <td>m</td>\n      <td>straight</td>\n      <td>fit</td>\n      <td>mostly anything</td>\n      <td>socially</td>\n      <td>never</td>\n      <td>graduated from masters program</td>\n      <td>asian</td>\n      <td>...</td>\n      <td>john steinbeck is my fav writer.  the grapes o...</td>\n      <td>family allah, god, bhagwan or whatever you wan...</td>\n      <td>*what the heck i want to accomplish with my li...</td>\n      <td>hanging out with friends and drink as much as ...</td>\n      <td>nooooooooo i am not going to tell :)</td>\n      <td>you are funny and love to make friends. :)</td>\n      <td>what to tell about myself. :) i am an ipad dev...</td>\n      <td>islam</td>\n      <td>4.0</td>\n      <td>theism</td>\n    </tr>\n  </tbody>\n</table>\n<p>105 rows × 33 columns</p>\n</div>"
     },
     "execution_count": 5,
     "metadata": {},
     "output_type": "execute_result"
    }
   ],
   "source": [
    "from numpy.random import choice\n",
    "\n",
    "# List of religions to include, excluding 'other'\n",
    "religions = ['atheism', 'christianity', 'agnosticism', 'catholicism', 'buddhism', 'judaism', 'hinduism', 'islam']\n",
    "\n",
    "# Dictionary to hold the sampled individuals from each religion\n",
    "sampled_individuals = {}\n",
    "\n",
    "# Loop through each religion and sample individuals\n",
    "for religion in religions:\n",
    "    # Filter the dataset for the current religion\n",
    "    religion_data = serious_df[serious_df['cleaned_religion'] == religion]\n",
    "    \n",
    "    # Number of individuals to sample: 15 or the size of the group if it has fewer than 15 members\n",
    "    n_samples = min(15, len(religion_data))\n",
    "    \n",
    "    # Randomly sample individuals without replacement\n",
    "    sampled_individuals[religion] = religion_data.sample(n=n_samples, replace=False)\n",
    "\n",
    "# Combine all sampled individuals into a single DataFrame\n",
    "final_sample = pd.concat(sampled_individuals.values())\n",
    "\n",
    "final_sample"
   ],
   "metadata": {
    "collapsed": false,
    "ExecuteTime": {
     "end_time": "2024-02-29T06:51:39.561396Z",
     "start_time": "2024-02-29T06:51:39.488959Z"
    }
   },
   "id": "9e355e6c5858d355",
   "execution_count": 5
  },
  {
   "cell_type": "code",
   "outputs": [
    {
     "data": {
      "text/plain": "cleaned_religion\natheism         15\nchristianity    15\nagnosticism     15\ncatholicism     15\nbuddhism        15\njudaism         14\nhinduism        10\nislam            6\nName: count, dtype: int64"
     },
     "execution_count": 6,
     "metadata": {},
     "output_type": "execute_result"
    }
   ],
   "source": [
    "# check count \n",
    "final_sample.cleaned_religion.value_counts()"
   ],
   "metadata": {
    "collapsed": false,
    "ExecuteTime": {
     "end_time": "2024-02-29T06:51:39.561733Z",
     "start_time": "2024-02-29T06:51:39.503281Z"
    }
   },
   "id": "e5ac09c92020f0e6",
   "execution_count": 6
  },
  {
   "cell_type": "markdown",
   "source": [
    "## Apply embedding to the dating profiles"
   ],
   "metadata": {
    "collapsed": false
   },
   "id": "97401abc642f0ece"
  },
  {
   "cell_type": "code",
   "outputs": [],
   "source": [
    "api_key = os.getenv('OPENAI_API_KEY')"
   ],
   "metadata": {
    "collapsed": false,
    "ExecuteTime": {
     "end_time": "2024-02-29T06:51:39.594238Z",
     "start_time": "2024-02-29T06:51:39.505809Z"
    }
   },
   "id": "bb4e2f6ff15eb844",
   "execution_count": 7
  },
  {
   "cell_type": "code",
   "outputs": [],
   "source": [
    "from openai import OpenAI\n",
    "client = OpenAI()\n",
    "\n",
    "def get_embedding(text, model=\"text-embedding-3-large\"):\n",
    "   text = text.replace(\"\\n\", \" \")\n",
    "   return client.embeddings.create(input = [text], model=model).data[0].embedding"
   ],
   "metadata": {
    "collapsed": false,
    "ExecuteTime": {
     "end_time": "2024-02-29T06:51:39.721326Z",
     "start_time": "2024-02-29T06:51:39.508266Z"
    }
   },
   "id": "dd8131e6f2484ed1",
   "execution_count": 8
  },
  {
   "cell_type": "code",
   "outputs": [],
   "source": [
    "# apply the function to the final_sample\n",
    "final_sample['embedding'] = final_sample['you_should_message_me_if'].apply(get_embedding)"
   ],
   "metadata": {
    "collapsed": false,
    "ExecuteTime": {
     "end_time": "2024-02-29T06:52:12.452093Z",
     "start_time": "2024-02-29T06:51:39.719490Z"
    }
   },
   "id": "38f448f97b999402",
   "execution_count": 9
  },
  {
   "cell_type": "code",
   "outputs": [],
   "source": [
    "# save the final_sample to a csv file\n",
    "final_sample.to_csv('final_sample.csv', index=False)"
   ],
   "metadata": {
    "collapsed": false,
    "ExecuteTime": {
     "end_time": "2024-02-29T06:53:10.738723Z",
     "start_time": "2024-02-29T06:53:10.343428Z"
    }
   },
   "id": "3c711fd27609b192",
   "execution_count": 10
  },
  {
   "cell_type": "markdown",
   "source": [
    "## Embed a list of desriable traits"
   ],
   "metadata": {
    "collapsed": false
   },
   "id": "77518e290fc2b0e5"
  },
  {
   "cell_type": "code",
   "outputs": [],
   "source": [
    "# list of desirable traits\n",
    "trait_list = [\n",
    "    'Confidence',\n",
    "    'Kindness and Compassion',\n",
    "    'Sense of Humor',\n",
    "    'Intelligence and Education',\n",
    "    'Emotional Stability',\n",
    "    'Physical Attractiveness',\n",
    "    'Ambition and Passion',\n",
    "    'Compatibility and Shared Values',\n",
    "    'Communication Skills',\n",
    "    'Generosity and Charity',\n",
    "    'Spiritual Commitment and Shared Religious Practices',\n",
    "    'Moral Integrity and Respect for Tradition',\n",
    "    'Family Values',\n",
    "    'Patience and Forgiveness',\n",
    "    'Humility and Modesty',\n",
    "    'Openness to Growth',\n",
    "    'Purity and Chastity',\n",
    "    'High Social Status and Wealth',\n",
    "    'Masculinity',\n",
    "    'Femininity'\n",
    "]"
   ],
   "metadata": {
    "collapsed": false,
    "ExecuteTime": {
     "end_time": "2024-02-29T07:11:03.942541Z",
     "start_time": "2024-02-29T07:11:03.932742Z"
    }
   },
   "id": "1152f299bcc24322",
   "execution_count": 12
  },
  {
   "cell_type": "code",
   "outputs": [],
   "source": [
    "# apply the function to the trait_list\n",
    "trait_embeddings = [get_embedding(trait) for trait in trait_list]"
   ],
   "metadata": {
    "collapsed": false,
    "ExecuteTime": {
     "end_time": "2024-02-29T07:11:19.405813Z",
     "start_time": "2024-02-29T07:11:06.001226Z"
    }
   },
   "id": "e2f05dccc5a3c9e2",
   "execution_count": 13
  },
  {
   "cell_type": "code",
   "outputs": [],
   "source": [
    "# combine the trait_list and trait_embeddings into a dataframe\n",
    "trait_df = pd.DataFrame({'trait': trait_list, 'embedding': trait_embeddings})"
   ],
   "metadata": {
    "collapsed": false,
    "ExecuteTime": {
     "end_time": "2024-02-29T07:11:48.572307Z",
     "start_time": "2024-02-29T07:11:48.566762Z"
    }
   },
   "id": "4d839acf4867be4e",
   "execution_count": 14
  },
  {
   "cell_type": "code",
   "outputs": [],
   "source": [
    "# save the trait_df to a csv file\n",
    "trait_df.to_csv('trait_df.csv', index=False)"
   ],
   "metadata": {
    "collapsed": false,
    "ExecuteTime": {
     "end_time": "2024-02-29T07:12:04.417938Z",
     "start_time": "2024-02-29T07:12:04.337495Z"
    }
   },
   "id": "773bd8d2d43f22e0",
   "execution_count": 15
  }
 ],
 "metadata": {
  "kernelspec": {
   "display_name": "Python 3",
   "language": "python",
   "name": "python3"
  },
  "language_info": {
   "codemirror_mode": {
    "name": "ipython",
    "version": 2
   },
   "file_extension": ".py",
   "mimetype": "text/x-python",
   "name": "python",
   "nbconvert_exporter": "python",
   "pygments_lexer": "ipython2",
   "version": "2.7.6"
  }
 },
 "nbformat": 4,
 "nbformat_minor": 5
}
