{
 "cells": [
  {
   "cell_type": "markdown",
   "source": [
    "# User Profiling using DALL·E 3"
   ],
   "metadata": {
    "collapsed": false
   },
   "id": "cfb83b88ee9c1cc1"
  },
  {
   "cell_type": "code",
   "outputs": [
    {
     "data": {
      "text/plain": "   age  height sex     education_final          status ethnicity_clean  \\\n0   40      69   m        ph.d program          single           white   \n1   28      69   f  college/university          single           white   \n2   32      66   m     masters program          single           white   \n3   22      68   m    two-year college  seeing someone     multiethnic   \n4   45      67   m  college/university          single     multiethnic   \n5   21      69   m         high school          single     multiethnic   \n\n  diet_clean      drinks  job_clean  drugs smokes orientation  \\\n0    unknown    socially    science  never     no    straight   \n1   anything    socially      sales  never     no    straight   \n2    unknown    socially  political  never     no    straight   \n3   anything      rarely      other  never     no         gay   \n4   anything      rarely    science  never     no    straight   \n5    unknown  very often  political  often    yes    straight   \n\n                                     My self summary  \n0  enclosed you will find all the parts for your ...  \n1  i am a san francisco native that loves the cit...  \n2  i am a down-to-earth guy, born and raised in t...  \n3  very important: if you use marijuana or other ...  \n4  hello, my name is yuval. i moved to the bay ar...  \n5  baby, chad warden is all about the games! i lo...  ",
      "text/html": "<div>\n<style scoped>\n    .dataframe tbody tr th:only-of-type {\n        vertical-align: middle;\n    }\n\n    .dataframe tbody tr th {\n        vertical-align: top;\n    }\n\n    .dataframe thead th {\n        text-align: right;\n    }\n</style>\n<table border=\"1\" class=\"dataframe\">\n  <thead>\n    <tr style=\"text-align: right;\">\n      <th></th>\n      <th>age</th>\n      <th>height</th>\n      <th>sex</th>\n      <th>education_final</th>\n      <th>status</th>\n      <th>ethnicity_clean</th>\n      <th>diet_clean</th>\n      <th>drinks</th>\n      <th>job_clean</th>\n      <th>drugs</th>\n      <th>smokes</th>\n      <th>orientation</th>\n      <th>My self summary</th>\n    </tr>\n  </thead>\n  <tbody>\n    <tr>\n      <th>0</th>\n      <td>40</td>\n      <td>69</td>\n      <td>m</td>\n      <td>ph.d program</td>\n      <td>single</td>\n      <td>white</td>\n      <td>unknown</td>\n      <td>socially</td>\n      <td>science</td>\n      <td>never</td>\n      <td>no</td>\n      <td>straight</td>\n      <td>enclosed you will find all the parts for your ...</td>\n    </tr>\n    <tr>\n      <th>1</th>\n      <td>28</td>\n      <td>69</td>\n      <td>f</td>\n      <td>college/university</td>\n      <td>single</td>\n      <td>white</td>\n      <td>anything</td>\n      <td>socially</td>\n      <td>sales</td>\n      <td>never</td>\n      <td>no</td>\n      <td>straight</td>\n      <td>i am a san francisco native that loves the cit...</td>\n    </tr>\n    <tr>\n      <th>2</th>\n      <td>32</td>\n      <td>66</td>\n      <td>m</td>\n      <td>masters program</td>\n      <td>single</td>\n      <td>white</td>\n      <td>unknown</td>\n      <td>socially</td>\n      <td>political</td>\n      <td>never</td>\n      <td>no</td>\n      <td>straight</td>\n      <td>i am a down-to-earth guy, born and raised in t...</td>\n    </tr>\n    <tr>\n      <th>3</th>\n      <td>22</td>\n      <td>68</td>\n      <td>m</td>\n      <td>two-year college</td>\n      <td>seeing someone</td>\n      <td>multiethnic</td>\n      <td>anything</td>\n      <td>rarely</td>\n      <td>other</td>\n      <td>never</td>\n      <td>no</td>\n      <td>gay</td>\n      <td>very important: if you use marijuana or other ...</td>\n    </tr>\n    <tr>\n      <th>4</th>\n      <td>45</td>\n      <td>67</td>\n      <td>m</td>\n      <td>college/university</td>\n      <td>single</td>\n      <td>multiethnic</td>\n      <td>anything</td>\n      <td>rarely</td>\n      <td>science</td>\n      <td>never</td>\n      <td>no</td>\n      <td>straight</td>\n      <td>hello, my name is yuval. i moved to the bay ar...</td>\n    </tr>\n    <tr>\n      <th>5</th>\n      <td>21</td>\n      <td>69</td>\n      <td>m</td>\n      <td>high school</td>\n      <td>single</td>\n      <td>multiethnic</td>\n      <td>unknown</td>\n      <td>very often</td>\n      <td>political</td>\n      <td>often</td>\n      <td>yes</td>\n      <td>straight</td>\n      <td>baby, chad warden is all about the games! i lo...</td>\n    </tr>\n  </tbody>\n</table>\n</div>"
     },
     "execution_count": 1,
     "metadata": {},
     "output_type": "execute_result"
    }
   ],
   "source": [
    "import pandas as pd\n",
    "\n",
    "data = pd.read_csv('representative_essays.csv')\n",
    "\n",
    "new_columns = ['index'] + data.columns.tolist()[:-1]\n",
    "data.columns = new_columns\n",
    "# remove index column\n",
    "data = data.drop(columns=['index'])\n",
    "\n",
    "data.head(6)"
   ],
   "metadata": {
    "collapsed": false,
    "ExecuteTime": {
     "end_time": "2024-03-05T23:13:18.652914Z",
     "start_time": "2024-03-05T23:13:18.632452Z"
    }
   },
   "id": "399f4d7afc2128f3",
   "execution_count": 1
  },
  {
   "cell_type": "code",
   "outputs": [],
   "source": [
    "# convert to json\n",
    "json_objects = data.to_dict(orient='records')"
   ],
   "metadata": {
    "collapsed": false,
    "ExecuteTime": {
     "end_time": "2024-03-05T23:13:18.654813Z",
     "start_time": "2024-03-05T23:13:18.648238Z"
    }
   },
   "id": "8304eda5c40a1dfd",
   "execution_count": 2
  },
  {
   "cell_type": "code",
   "outputs": [],
   "source": [
    "json_objects[0]"
   ],
   "metadata": {
    "collapsed": false
   },
   "id": "6d89ebcf3a29cb6f"
  },
  {
   "cell_type": "code",
   "outputs": [
    {
     "data": {
      "text/plain": "{'age': 28,\n 'height': 69,\n 'sex': 'f',\n 'education_final': 'college/university',\n 'status': 'single',\n 'ethnicity_clean': 'white',\n 'diet_clean': 'anything',\n 'drinks': 'socially',\n 'job_clean': 'sales',\n 'drugs': 'never',\n 'smokes': 'no',\n 'orientation': 'straight',\n 'My self summary': 'i am a san francisco native that loves the city life. i am a social butterfly and am happiest when i am busy. once i was a wallflower, now i am super outgoing and talkative and have found my calling in pr. i enjoy exploring the city and everything it has to offer. from the nightlife to hiking the presidio or relaxing at golden gate park. i love to try new things and go to new places, especially around the world. i am a \"foodie\" that appreciates a well made meal. i enjoy wandering the ferry building farmers market and experimenting with fresh ingredients in my kitchen. i am very active and love to go snowboarding in tahoe in the winter and camping and water skiing in the summer. my home is the bay area and i wouldn\\'t want to live anywhere else, although once i thought about transplanting to new york. we have great mountains to hike and beaches to picnic at, my favorite one being stinson beach. i love wine tasting and spending a warm day in sonoma county. as far as nightlife goes i am a bar girl over being a club kid. i am an avid giants fan and love nothing better than going to a game on a nice day. i appreciate all types of music and love going to concerts, especially at shoreline in the summertime. i give back to my community by helping underprivileged kids in the hunters point/ bayview district. my current obsession is training for half dome by rock climbing at planet granite and going on long hikes around the bay. while i enjoy being active outdoors, i love nothing better than getting dressed up for a night out on the town. while the city may be my home for now, at some point in my life i would like to settle down in a quaint suburban town south of the city.'}"
     },
     "execution_count": 20,
     "metadata": {},
     "output_type": "execute_result"
    }
   ],
   "source": [
    "json_objects[1]"
   ],
   "metadata": {
    "collapsed": false,
    "ExecuteTime": {
     "end_time": "2024-03-05T23:36:23.020092Z",
     "start_time": "2024-03-05T23:36:23.013182Z"
    }
   },
   "id": "ddb6036897783d0e",
   "execution_count": 20
  },
  {
   "cell_type": "markdown",
   "source": [
    "## Image Generation "
   ],
   "metadata": {
    "collapsed": false
   },
   "id": "33d338bc8438f2bb"
  },
  {
   "cell_type": "code",
   "outputs": [],
   "source": [
    "from openai import OpenAI\n",
    "import webbrowser\n",
    "import os\n",
    "\n",
    "api_key = os.getenv('OPENAI_API_KEY')"
   ],
   "metadata": {
    "collapsed": false,
    "ExecuteTime": {
     "end_time": "2024-03-05T23:13:18.878146Z",
     "start_time": "2024-03-05T23:13:18.653607Z"
    }
   },
   "id": "3074a34a1f7a0555",
   "execution_count": 3
  },
  {
   "cell_type": "code",
   "outputs": [],
   "source": [
    "client = OpenAI()\n",
    "\n",
    "response = client.images.generate(\n",
    "  model=\"dall-e-3\",\n",
    "  prompt= f\"Below is one person's basic information and self introduction. Can you generate a close-up for this person that is suitable for their OkCupid profile? \"\n",
    "          f\"Rules: 1. Focus on specific, visually representable elements.\"\n",
    "          f\"2. Describe actions and scenarios rather than abstract concepts.\"\n",
    "          f\"3. Avoid ambiguous language that could be interpreted as including text. \\n\\n{json_objects[0]}\",\n",
    "  size=\"1024x1024\",\n",
    "  quality=\"standard\",\n",
    "  n=1,\n",
    ")"
   ],
   "metadata": {
    "collapsed": false,
    "ExecuteTime": {
     "end_time": "2024-03-05T23:45:20.339582Z",
     "start_time": "2024-03-05T23:45:01.111578Z"
    }
   },
   "id": "d6bb87e67e249288",
   "execution_count": 28
  },
  {
   "cell_type": "code",
   "outputs": [
    {
     "data": {
      "text/plain": "True"
     },
     "execution_count": 29,
     "metadata": {},
     "output_type": "execute_result"
    }
   ],
   "source": [
    "webbrowser.open(response.data[0].url)"
   ],
   "metadata": {
    "collapsed": false,
    "ExecuteTime": {
     "end_time": "2024-03-05T23:45:20.703431Z",
     "start_time": "2024-03-05T23:45:20.347251Z"
    }
   },
   "id": "f4e6ead5f61db15a",
   "execution_count": 29
  }
 ],
 "metadata": {
  "kernelspec": {
   "display_name": "Python 3",
   "language": "python",
   "name": "python3"
  },
  "language_info": {
   "codemirror_mode": {
    "name": "ipython",
    "version": 2
   },
   "file_extension": ".py",
   "mimetype": "text/x-python",
   "name": "python",
   "nbconvert_exporter": "python",
   "pygments_lexer": "ipython2",
   "version": "2.7.6"
  }
 },
 "nbformat": 4,
 "nbformat_minor": 5
}
